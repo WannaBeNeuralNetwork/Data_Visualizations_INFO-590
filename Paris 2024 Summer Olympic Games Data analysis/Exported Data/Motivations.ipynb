{
 "cells": [
  {
   "cell_type": "markdown",
   "metadata": {},
   "source": [
    "Country-Specific Success in Sports:\n",
    "\n",
    "Dataset: \"Country's Best Disciplines\"\n",
    "Visualization:\n",
    "Bar chart showing the top 5 disciplines by medal count for each country.\n",
    "Highlight dominant disciplines by medal types (Gold, Silver, Bronze)."
   ]
  },
  {
   "cell_type": "code",
   "execution_count": 37,
   "metadata": {},
   "outputs": [
    {
     "data": {
      "text/html": [
       "<div>\n",
       "<style scoped>\n",
       "    .dataframe tbody tr th:only-of-type {\n",
       "        vertical-align: middle;\n",
       "    }\n",
       "\n",
       "    .dataframe tbody tr th {\n",
       "        vertical-align: top;\n",
       "    }\n",
       "\n",
       "    .dataframe thead th {\n",
       "        text-align: right;\n",
       "    }\n",
       "</style>\n",
       "<table border=\"1\" class=\"dataframe\">\n",
       "  <thead>\n",
       "    <tr style=\"text-align: right;\">\n",
       "      <th></th>\n",
       "      <th>country</th>\n",
       "      <th>discipline</th>\n",
       "      <th>Gold_Medals</th>\n",
       "      <th>code</th>\n",
       "    </tr>\n",
       "  </thead>\n",
       "  <tbody>\n",
       "    <tr>\n",
       "      <th>0</th>\n",
       "      <td>AIN</td>\n",
       "      <td>Trampoline Gymnastics</td>\n",
       "      <td>1</td>\n",
       "      <td>AIN</td>\n",
       "    </tr>\n",
       "    <tr>\n",
       "      <th>1</th>\n",
       "      <td>AIN</td>\n",
       "      <td>Tennis</td>\n",
       "      <td>0</td>\n",
       "      <td>AIN</td>\n",
       "    </tr>\n",
       "    <tr>\n",
       "      <th>2</th>\n",
       "      <td>AIN</td>\n",
       "      <td>Weightlifting</td>\n",
       "      <td>0</td>\n",
       "      <td>AIN</td>\n",
       "    </tr>\n",
       "    <tr>\n",
       "      <th>3</th>\n",
       "      <td>AIN</td>\n",
       "      <td>Rowing</td>\n",
       "      <td>0</td>\n",
       "      <td>AIN</td>\n",
       "    </tr>\n",
       "    <tr>\n",
       "      <th>4</th>\n",
       "      <td>Albania</td>\n",
       "      <td>Wrestling</td>\n",
       "      <td>0</td>\n",
       "      <td>ALB</td>\n",
       "    </tr>\n",
       "    <tr>\n",
       "      <th>...</th>\n",
       "      <td>...</td>\n",
       "      <td>...</td>\n",
       "      <td>...</td>\n",
       "      <td>...</td>\n",
       "    </tr>\n",
       "    <tr>\n",
       "      <th>485</th>\n",
       "      <td>Uzbekistan</td>\n",
       "      <td>Taekwondo</td>\n",
       "      <td>1</td>\n",
       "      <td>UZB</td>\n",
       "    </tr>\n",
       "    <tr>\n",
       "      <th>486</th>\n",
       "      <td>Uzbekistan</td>\n",
       "      <td>Judo</td>\n",
       "      <td>1</td>\n",
       "      <td>UZB</td>\n",
       "    </tr>\n",
       "    <tr>\n",
       "      <th>487</th>\n",
       "      <td>Uzbekistan</td>\n",
       "      <td>Wrestling</td>\n",
       "      <td>1</td>\n",
       "      <td>UZB</td>\n",
       "    </tr>\n",
       "    <tr>\n",
       "      <th>488</th>\n",
       "      <td>Uzbekistan</td>\n",
       "      <td>Weightlifting</td>\n",
       "      <td>0</td>\n",
       "      <td>UZB</td>\n",
       "    </tr>\n",
       "    <tr>\n",
       "      <th>489</th>\n",
       "      <td>Zambia</td>\n",
       "      <td>Athletics</td>\n",
       "      <td>0</td>\n",
       "      <td>ZAM</td>\n",
       "    </tr>\n",
       "  </tbody>\n",
       "</table>\n",
       "<p>490 rows × 4 columns</p>\n",
       "</div>"
      ],
      "text/plain": [
       "        country             discipline  Gold_Medals code\n",
       "0           AIN  Trampoline Gymnastics            1  AIN\n",
       "1           AIN                 Tennis            0  AIN\n",
       "2           AIN          Weightlifting            0  AIN\n",
       "3           AIN                 Rowing            0  AIN\n",
       "4       Albania              Wrestling            0  ALB\n",
       "..          ...                    ...          ...  ...\n",
       "485  Uzbekistan              Taekwondo            1  UZB\n",
       "486  Uzbekistan                   Judo            1  UZB\n",
       "487  Uzbekistan              Wrestling            1  UZB\n",
       "488  Uzbekistan          Weightlifting            0  UZB\n",
       "489      Zambia              Athletics            0  ZAM\n",
       "\n",
       "[490 rows x 4 columns]"
      ]
     },
     "execution_count": 37,
     "metadata": {},
     "output_type": "execute_result"
    }
   ],
   "source": [
    "import pandas as pd\n",
    "import dash\n",
    "from dash import dcc, html, Input, Output\n",
    "import plotly.express as px\n",
    "\n",
    "# Load your datasets\n",
    "file_path = r\"C:\\Users\\sreev\\Data Visualization\\Olympics 2024\\Paris 2024 Summer Olympic Games Data analysis\\Exported Data\\Country's Best Disciplines.csv\"\n",
    "country_disciplines_df = pd.read_csv(file_path)\n",
    "\n",
    "nocs_path = r\"C:\\Users\\sreev\\Data Visualization\\Olympics 2024\\nocs.csv\"\n",
    "nocs_df = pd.read_csv(nocs_path)\n",
    "\n",
    "# Perform the join to add ISO Alpha-3 codes\n",
    "merged_df = pd.merge(\n",
    "    country_disciplines_df,\n",
    "    nocs_df[['country', 'code']],\n",
    "    on='country',\n",
    "    how='left'\n",
    ")\n",
    "\n",
    "# Drop unnecessary columns after the join\n",
    "# merged_df = merged_df.drop(columns=['country_long'])\n",
    "merged_df"
   ]
  },
  {
   "cell_type": "code",
   "execution_count": 38,
   "metadata": {},
   "outputs": [],
   "source": [
    "# Prepare the data for the map\n",
    "dominant_sports = merged_df.groupby(['country', 'discipline', 'code'], as_index=False)['Gold_Medals'].sum()"
   ]
  },
  {
   "cell_type": "code",
   "execution_count": 39,
   "metadata": {},
   "outputs": [
    {
     "name": "stdout",
     "output_type": "stream",
     "text": [
      "Dominant Sports Count:      country code  Dominant Sports Count\n",
      "0        AIN  AIN                      4\n",
      "1    Albania  ALB                      1\n",
      "2    Algeria  ALG                      3\n",
      "3  Argentina  ARG                      3\n",
      "4    Armenia  ARM                      3\n"
     ]
    },
    {
     "data": {
      "text/html": [
       "\n",
       "        <iframe\n",
       "            width=\"100%\"\n",
       "            height=\"650\"\n",
       "            src=\"http://127.0.0.1:8050/\"\n",
       "            frameborder=\"0\"\n",
       "            allowfullscreen\n",
       "            \n",
       "        ></iframe>\n",
       "        "
      ],
      "text/plain": [
       "<IPython.lib.display.IFrame at 0x2c330143910>"
      ]
     },
     "metadata": {},
     "output_type": "display_data"
    }
   ],
   "source": [
    "# Prepare the data: Count the number of dominant sports per country\n",
    "dominant_sports_count = merged_df.groupby(['country', 'code'], as_index=False)['discipline'].count()\n",
    "dominant_sports_count.rename(columns={'discipline': 'Dominant Sports Count'}, inplace=True)\n",
    "\n",
    "# Debugging - Check if data exists\n",
    "print(\"Dominant Sports Count:\", dominant_sports_count.head())\n",
    "\n",
    "# Create Dash app\n",
    "app = dash.Dash(__name__)\n",
    "\n",
    "app.layout = html.Div([\n",
    "    dcc.Graph(\n",
    "        id='world-map',\n",
    "        config={'scrollZoom': False},\n",
    "    ),\n",
    "    html.Hr(),\n",
    "    html.Div(id='country-table', children=[\n",
    "        html.H4(\"Click on a country to see its dominant sports\"),\n",
    "    ])\n",
    "])\n",
    "\n",
    "@app.callback(\n",
    "    [Output('world-map', 'figure'),\n",
    "     Output('country-table', 'children')],\n",
    "    [Input('world-map', 'clickData')]\n",
    ")\n",
    "def update_map_and_table(click_data):\n",
    "    # Build map\n",
    "    fig = px.choropleth(\n",
    "        dominant_sports_count,\n",
    "        locations='code',\n",
    "        color='Dominant Sports Count',\n",
    "        hover_name='country',\n",
    "        title=\"Number of Dominant Sports by Country\",\n",
    "        color_continuous_scale=px.colors.sequential.Plasma,\n",
    "        projection=\"natural earth\"\n",
    "    )\n",
    "    \n",
    "    # Debugging - Check click data\n",
    "    print(\"Click Data:\", click_data)\n",
    "\n",
    "    # Handle clickData\n",
    "    if click_data:\n",
    "        country_clicked = click_data['points'][0]['hovertext']\n",
    "        filtered_data = merged_df[merged_df['country'] == country_clicked]\n",
    "\n",
    "        # Debugging - Check filtered data\n",
    "        print(\"Filtered Data:\", filtered_data.head())\n",
    "\n",
    "        # Create a table for the clicked country\n",
    "        table = html.Table([\n",
    "            html.Thead(html.Tr([html.Th(\"Sport\"), html.Th(\"Gold Medals\")])),\n",
    "            html.Tbody([\n",
    "                html.Tr([html.Td(row['discipline']), html.Td(row['Gold_Medals'])])\n",
    "                for _, row in filtered_data.iterrows()\n",
    "            ])\n",
    "        ])\n",
    "        table_title = html.H4(f\"Dominant Sports for {country_clicked}\")\n",
    "        return fig, [table_title, table]\n",
    "    else:\n",
    "        return fig, [html.H4(\"Click on a country to see its dominant sports\")]\n",
    "\n",
    "# Run app\n",
    "if __name__ == '__main__':\n",
    "    app.run_server(debug=True)"
   ]
  },
  {
   "cell_type": "markdown",
   "metadata": {},
   "source": [
    "**Motivation Goals\n",
    "The goal is to analyze how demographic factors such as age and gender impact medal success.**"
   ]
  },
  {
   "cell_type": "code",
   "execution_count": 40,
   "metadata": {},
   "outputs": [
    {
     "data": {
      "application/vnd.plotly.v1+json": {
       "config": {
        "plotlyServerURL": "https://plot.ly"
       },
       "data": [
        {
         "alignmentgroup": "True",
         "boxpoints": "all",
         "hovertemplate": "Medal Type=%{x}<br>Age=%{y}<extra></extra>",
         "legendgroup": "Gold Medal",
         "marker": {
          "color": "#636efa"
         },
         "name": "Gold Medal",
         "notched": false,
         "offsetgroup": "Gold Medal",
         "orientation": "v",
         "showlegend": true,
         "type": "box",
         "x": [
          "Gold Medal",
          "Gold Medal",
          "Gold Medal",
          "Gold Medal",
          "Gold Medal",
          "Gold Medal",
          "Gold Medal",
          "Gold Medal",
          "Gold Medal",
          "Gold Medal",
          "Gold Medal",
          "Gold Medal",
          "Gold Medal",
          "Gold Medal",
          "Gold Medal",
          "Gold Medal",
          "Gold Medal",
          "Gold Medal",
          "Gold Medal",
          "Gold Medal",
          "Gold Medal",
          "Gold Medal",
          "Gold Medal",
          "Gold Medal",
          "Gold Medal",
          "Gold Medal",
          "Gold Medal",
          "Gold Medal",
          "Gold Medal",
          "Gold Medal",
          "Gold Medal",
          "Gold Medal",
          "Gold Medal",
          "Gold Medal",
          "Gold Medal",
          "Gold Medal",
          "Gold Medal",
          "Gold Medal",
          "Gold Medal",
          "Gold Medal",
          "Gold Medal",
          "Gold Medal",
          "Gold Medal",
          "Gold Medal",
          "Gold Medal",
          "Gold Medal",
          "Gold Medal",
          "Gold Medal",
          "Gold Medal",
          "Gold Medal",
          "Gold Medal",
          "Gold Medal",
          "Gold Medal",
          "Gold Medal",
          "Gold Medal",
          "Gold Medal",
          "Gold Medal",
          "Gold Medal",
          "Gold Medal",
          "Gold Medal",
          "Gold Medal",
          "Gold Medal",
          "Gold Medal",
          "Gold Medal",
          "Gold Medal",
          "Gold Medal",
          "Gold Medal",
          "Gold Medal",
          "Gold Medal",
          "Gold Medal",
          "Gold Medal",
          "Gold Medal",
          "Gold Medal",
          "Gold Medal",
          "Gold Medal",
          "Gold Medal",
          "Gold Medal",
          "Gold Medal",
          "Gold Medal",
          "Gold Medal",
          "Gold Medal",
          "Gold Medal",
          "Gold Medal",
          "Gold Medal",
          "Gold Medal",
          "Gold Medal",
          "Gold Medal",
          "Gold Medal",
          "Gold Medal",
          "Gold Medal",
          "Gold Medal",
          "Gold Medal",
          "Gold Medal",
          "Gold Medal",
          "Gold Medal",
          "Gold Medal",
          "Gold Medal",
          "Gold Medal",
          "Gold Medal",
          "Gold Medal",
          "Gold Medal",
          "Gold Medal",
          "Gold Medal",
          "Gold Medal",
          "Gold Medal",
          "Gold Medal",
          "Gold Medal",
          "Gold Medal",
          "Gold Medal",
          "Gold Medal",
          "Gold Medal",
          "Gold Medal",
          "Gold Medal",
          "Gold Medal",
          "Gold Medal",
          "Gold Medal",
          "Gold Medal",
          "Gold Medal",
          "Gold Medal",
          "Gold Medal",
          "Gold Medal",
          "Gold Medal",
          "Gold Medal",
          "Gold Medal",
          "Gold Medal",
          "Gold Medal",
          "Gold Medal",
          "Gold Medal",
          "Gold Medal",
          "Gold Medal",
          "Gold Medal",
          "Gold Medal",
          "Gold Medal",
          "Gold Medal",
          "Gold Medal",
          "Gold Medal",
          "Gold Medal",
          "Gold Medal",
          "Gold Medal",
          "Gold Medal",
          "Gold Medal",
          "Gold Medal",
          "Gold Medal",
          "Gold Medal",
          "Gold Medal",
          "Gold Medal",
          "Gold Medal",
          "Gold Medal",
          "Gold Medal",
          "Gold Medal",
          "Gold Medal",
          "Gold Medal",
          "Gold Medal",
          "Gold Medal",
          "Gold Medal",
          "Gold Medal",
          "Gold Medal",
          "Gold Medal",
          "Gold Medal",
          "Gold Medal",
          "Gold Medal",
          "Gold Medal",
          "Gold Medal",
          "Gold Medal",
          "Gold Medal",
          "Gold Medal",
          "Gold Medal",
          "Gold Medal",
          "Gold Medal",
          "Gold Medal",
          "Gold Medal",
          "Gold Medal",
          "Gold Medal",
          "Gold Medal",
          "Gold Medal",
          "Gold Medal",
          "Gold Medal",
          "Gold Medal",
          "Gold Medal",
          "Gold Medal",
          "Gold Medal",
          "Gold Medal",
          "Gold Medal",
          "Gold Medal",
          "Gold Medal",
          "Gold Medal",
          "Gold Medal",
          "Gold Medal",
          "Gold Medal",
          "Gold Medal",
          "Gold Medal",
          "Gold Medal",
          "Gold Medal",
          "Gold Medal",
          "Gold Medal",
          "Gold Medal",
          "Gold Medal",
          "Gold Medal",
          "Gold Medal",
          "Gold Medal",
          "Gold Medal",
          "Gold Medal",
          "Gold Medal",
          "Gold Medal",
          "Gold Medal",
          "Gold Medal",
          "Gold Medal",
          "Gold Medal",
          "Gold Medal",
          "Gold Medal",
          "Gold Medal",
          "Gold Medal",
          "Gold Medal",
          "Gold Medal",
          "Gold Medal",
          "Gold Medal",
          "Gold Medal",
          "Gold Medal",
          "Gold Medal",
          "Gold Medal",
          "Gold Medal",
          "Gold Medal",
          "Gold Medal",
          "Gold Medal",
          "Gold Medal",
          "Gold Medal",
          "Gold Medal",
          "Gold Medal",
          "Gold Medal",
          "Gold Medal",
          "Gold Medal",
          "Gold Medal",
          "Gold Medal",
          "Gold Medal",
          "Gold Medal",
          "Gold Medal",
          "Gold Medal",
          "Gold Medal",
          "Gold Medal",
          "Gold Medal",
          "Gold Medal",
          "Gold Medal",
          "Gold Medal",
          "Gold Medal",
          "Gold Medal",
          "Gold Medal",
          "Gold Medal",
          "Gold Medal",
          "Gold Medal",
          "Gold Medal",
          "Gold Medal",
          "Gold Medal",
          "Gold Medal",
          "Gold Medal",
          "Gold Medal",
          "Gold Medal",
          "Gold Medal",
          "Gold Medal",
          "Gold Medal",
          "Gold Medal",
          "Gold Medal",
          "Gold Medal",
          "Gold Medal",
          "Gold Medal",
          "Gold Medal",
          "Gold Medal",
          "Gold Medal",
          "Gold Medal",
          "Gold Medal",
          "Gold Medal",
          "Gold Medal",
          "Gold Medal",
          "Gold Medal",
          "Gold Medal",
          "Gold Medal",
          "Gold Medal",
          "Gold Medal",
          "Gold Medal",
          "Gold Medal",
          "Gold Medal",
          "Gold Medal",
          "Gold Medal",
          "Gold Medal",
          "Gold Medal",
          "Gold Medal",
          "Gold Medal",
          "Gold Medal",
          "Gold Medal",
          "Gold Medal",
          "Gold Medal",
          "Gold Medal",
          "Gold Medal",
          "Gold Medal",
          "Gold Medal",
          "Gold Medal",
          "Gold Medal",
          "Gold Medal",
          "Gold Medal",
          "Gold Medal",
          "Gold Medal",
          "Gold Medal",
          "Gold Medal",
          "Gold Medal",
          "Gold Medal",
          "Gold Medal",
          "Gold Medal",
          "Gold Medal",
          "Gold Medal",
          "Gold Medal",
          "Gold Medal",
          "Gold Medal",
          "Gold Medal",
          "Gold Medal",
          "Gold Medal",
          "Gold Medal",
          "Gold Medal",
          "Gold Medal",
          "Gold Medal",
          "Gold Medal",
          "Gold Medal",
          "Gold Medal",
          "Gold Medal",
          "Gold Medal",
          "Gold Medal",
          "Gold Medal",
          "Gold Medal",
          "Gold Medal",
          "Gold Medal",
          "Gold Medal",
          "Gold Medal",
          "Gold Medal",
          "Gold Medal",
          "Gold Medal",
          "Gold Medal",
          "Gold Medal",
          "Gold Medal",
          "Gold Medal",
          "Gold Medal",
          "Gold Medal",
          "Gold Medal",
          "Gold Medal",
          "Gold Medal",
          "Gold Medal",
          "Gold Medal",
          "Gold Medal",
          "Gold Medal",
          "Gold Medal",
          "Gold Medal",
          "Gold Medal",
          "Gold Medal",
          "Gold Medal",
          "Gold Medal",
          "Gold Medal",
          "Gold Medal",
          "Gold Medal",
          "Gold Medal",
          "Gold Medal",
          "Gold Medal",
          "Gold Medal",
          "Gold Medal",
          "Gold Medal",
          "Gold Medal",
          "Gold Medal",
          "Gold Medal",
          "Gold Medal",
          "Gold Medal",
          "Gold Medal",
          "Gold Medal",
          "Gold Medal",
          "Gold Medal",
          "Gold Medal",
          "Gold Medal",
          "Gold Medal",
          "Gold Medal",
          "Gold Medal",
          "Gold Medal",
          "Gold Medal",
          "Gold Medal",
          "Gold Medal",
          "Gold Medal",
          "Gold Medal",
          "Gold Medal",
          "Gold Medal",
          "Gold Medal",
          "Gold Medal",
          "Gold Medal",
          "Gold Medal",
          "Gold Medal",
          "Gold Medal",
          "Gold Medal",
          "Gold Medal",
          "Gold Medal",
          "Gold Medal",
          "Gold Medal",
          "Gold Medal",
          "Gold Medal",
          "Gold Medal",
          "Gold Medal",
          "Gold Medal",
          "Gold Medal",
          "Gold Medal",
          "Gold Medal",
          "Gold Medal",
          "Gold Medal",
          "Gold Medal",
          "Gold Medal",
          "Gold Medal",
          "Gold Medal",
          "Gold Medal",
          "Gold Medal",
          "Gold Medal",
          "Gold Medal",
          "Gold Medal",
          "Gold Medal",
          "Gold Medal",
          "Gold Medal",
          "Gold Medal",
          "Gold Medal",
          "Gold Medal",
          "Gold Medal",
          "Gold Medal",
          "Gold Medal",
          "Gold Medal",
          "Gold Medal",
          "Gold Medal",
          "Gold Medal",
          "Gold Medal",
          "Gold Medal",
          "Gold Medal",
          "Gold Medal",
          "Gold Medal",
          "Gold Medal",
          "Gold Medal",
          "Gold Medal",
          "Gold Medal",
          "Gold Medal",
          "Gold Medal",
          "Gold Medal",
          "Gold Medal",
          "Gold Medal",
          "Gold Medal",
          "Gold Medal",
          "Gold Medal",
          "Gold Medal",
          "Gold Medal",
          "Gold Medal",
          "Gold Medal",
          "Gold Medal",
          "Gold Medal",
          "Gold Medal",
          "Gold Medal",
          "Gold Medal",
          "Gold Medal",
          "Gold Medal",
          "Gold Medal",
          "Gold Medal",
          "Gold Medal",
          "Gold Medal",
          "Gold Medal",
          "Gold Medal",
          "Gold Medal",
          "Gold Medal",
          "Gold Medal",
          "Gold Medal",
          "Gold Medal",
          "Gold Medal",
          "Gold Medal",
          "Gold Medal",
          "Gold Medal",
          "Gold Medal",
          "Gold Medal",
          "Gold Medal",
          "Gold Medal",
          "Gold Medal",
          "Gold Medal",
          "Gold Medal",
          "Gold Medal",
          "Gold Medal",
          "Gold Medal",
          "Gold Medal",
          "Gold Medal",
          "Gold Medal",
          "Gold Medal",
          "Gold Medal",
          "Gold Medal",
          "Gold Medal",
          "Gold Medal",
          "Gold Medal",
          "Gold Medal",
          "Gold Medal",
          "Gold Medal",
          "Gold Medal",
          "Gold Medal",
          "Gold Medal",
          "Gold Medal",
          "Gold Medal",
          "Gold Medal",
          "Gold Medal",
          "Gold Medal",
          "Gold Medal",
          "Gold Medal",
          "Gold Medal",
          "Gold Medal",
          "Gold Medal",
          "Gold Medal",
          "Gold Medal",
          "Gold Medal",
          "Gold Medal",
          "Gold Medal",
          "Gold Medal",
          "Gold Medal",
          "Gold Medal",
          "Gold Medal",
          "Gold Medal",
          "Gold Medal",
          "Gold Medal",
          "Gold Medal",
          "Gold Medal",
          "Gold Medal",
          "Gold Medal",
          "Gold Medal",
          "Gold Medal",
          "Gold Medal",
          "Gold Medal",
          "Gold Medal",
          "Gold Medal",
          "Gold Medal",
          "Gold Medal",
          "Gold Medal",
          "Gold Medal",
          "Gold Medal",
          "Gold Medal",
          "Gold Medal",
          "Gold Medal",
          "Gold Medal",
          "Gold Medal",
          "Gold Medal",
          "Gold Medal",
          "Gold Medal",
          "Gold Medal",
          "Gold Medal",
          "Gold Medal",
          "Gold Medal",
          "Gold Medal",
          "Gold Medal",
          "Gold Medal",
          "Gold Medal",
          "Gold Medal",
          "Gold Medal",
          "Gold Medal",
          "Gold Medal",
          "Gold Medal",
          "Gold Medal",
          "Gold Medal",
          "Gold Medal",
          "Gold Medal",
          "Gold Medal",
          "Gold Medal",
          "Gold Medal",
          "Gold Medal",
          "Gold Medal",
          "Gold Medal",
          "Gold Medal",
          "Gold Medal",
          "Gold Medal",
          "Gold Medal",
          "Gold Medal",
          "Gold Medal",
          "Gold Medal",
          "Gold Medal",
          "Gold Medal",
          "Gold Medal",
          "Gold Medal",
          "Gold Medal",
          "Gold Medal",
          "Gold Medal",
          "Gold Medal",
          "Gold Medal",
          "Gold Medal",
          "Gold Medal",
          "Gold Medal",
          "Gold Medal",
          "Gold Medal",
          "Gold Medal",
          "Gold Medal",
          "Gold Medal",
          "Gold Medal",
          "Gold Medal",
          "Gold Medal",
          "Gold Medal",
          "Gold Medal",
          "Gold Medal",
          "Gold Medal",
          "Gold Medal",
          "Gold Medal",
          "Gold Medal",
          "Gold Medal",
          "Gold Medal",
          "Gold Medal",
          "Gold Medal",
          "Gold Medal",
          "Gold Medal",
          "Gold Medal",
          "Gold Medal",
          "Gold Medal",
          "Gold Medal",
          "Gold Medal",
          "Gold Medal",
          "Gold Medal",
          "Gold Medal",
          "Gold Medal",
          "Gold Medal",
          "Gold Medal",
          "Gold Medal",
          "Gold Medal",
          "Gold Medal",
          "Gold Medal",
          "Gold Medal",
          "Gold Medal",
          "Gold Medal",
          "Gold Medal",
          "Gold Medal",
          "Gold Medal",
          "Gold Medal",
          "Gold Medal",
          "Gold Medal",
          "Gold Medal",
          "Gold Medal",
          "Gold Medal",
          "Gold Medal",
          "Gold Medal",
          "Gold Medal",
          "Gold Medal",
          "Gold Medal",
          "Gold Medal",
          "Gold Medal",
          "Gold Medal",
          "Gold Medal",
          "Gold Medal",
          "Gold Medal",
          "Gold Medal",
          "Gold Medal",
          "Gold Medal",
          "Gold Medal",
          "Gold Medal",
          "Gold Medal",
          "Gold Medal",
          "Gold Medal",
          "Gold Medal",
          "Gold Medal",
          "Gold Medal",
          "Gold Medal",
          "Gold Medal",
          "Gold Medal",
          "Gold Medal",
          "Gold Medal",
          "Gold Medal",
          "Gold Medal",
          "Gold Medal",
          "Gold Medal",
          "Gold Medal",
          "Gold Medal",
          "Gold Medal",
          "Gold Medal",
          "Gold Medal",
          "Gold Medal",
          "Gold Medal",
          "Gold Medal",
          "Gold Medal",
          "Gold Medal",
          "Gold Medal",
          "Gold Medal",
          "Gold Medal",
          "Gold Medal",
          "Gold Medal",
          "Gold Medal",
          "Gold Medal",
          "Gold Medal",
          "Gold Medal",
          "Gold Medal",
          "Gold Medal",
          "Gold Medal",
          "Gold Medal",
          "Gold Medal",
          "Gold Medal",
          "Gold Medal",
          "Gold Medal",
          "Gold Medal",
          "Gold Medal",
          "Gold Medal",
          "Gold Medal",
          "Gold Medal",
          "Gold Medal",
          "Gold Medal",
          "Gold Medal",
          "Gold Medal",
          "Gold Medal",
          "Gold Medal",
          "Gold Medal",
          "Gold Medal",
          "Gold Medal",
          "Gold Medal",
          "Gold Medal",
          "Gold Medal",
          "Gold Medal",
          "Gold Medal",
          "Gold Medal",
          "Gold Medal",
          "Gold Medal",
          "Gold Medal",
          "Gold Medal",
          "Gold Medal",
          "Gold Medal",
          "Gold Medal",
          "Gold Medal",
          "Gold Medal",
          "Gold Medal",
          "Gold Medal",
          "Gold Medal",
          "Gold Medal",
          "Gold Medal",
          "Gold Medal",
          "Gold Medal",
          "Gold Medal",
          "Gold Medal",
          "Gold Medal",
          "Gold Medal",
          "Gold Medal",
          "Gold Medal",
          "Gold Medal",
          "Gold Medal",
          "Gold Medal",
          "Gold Medal",
          "Gold Medal",
          "Gold Medal",
          "Gold Medal",
          "Gold Medal",
          "Gold Medal",
          "Gold Medal",
          "Gold Medal",
          "Gold Medal",
          "Gold Medal",
          "Gold Medal",
          "Gold Medal",
          "Gold Medal",
          "Gold Medal",
          "Gold Medal",
          "Gold Medal",
          "Gold Medal",
          "Gold Medal",
          "Gold Medal",
          "Gold Medal",
          "Gold Medal"
         ],
         "x0": " ",
         "xaxis": "x",
         "y": [
          24,
          32,
          28,
          30,
          32,
          32,
          23,
          24,
          30,
          32,
          27,
          30,
          27,
          26,
          24,
          19,
          15,
          25,
          22,
          22,
          24,
          25,
          42,
          27,
          28,
          27,
          29,
          20,
          17,
          25,
          23,
          20,
          27,
          20,
          18,
          31,
          27,
          28,
          23,
          23,
          21,
          30,
          29,
          19,
          24,
          30,
          29,
          20,
          22,
          22,
          31,
          27,
          26,
          27,
          27,
          29,
          28,
          32,
          26,
          26,
          27,
          21,
          23,
          18,
          28,
          33,
          25,
          35,
          26,
          26,
          22,
          30,
          23,
          23,
          34,
          21,
          24,
          25,
          27,
          23,
          32,
          23,
          30,
          24,
          28,
          26,
          24,
          28,
          21,
          35,
          24,
          18,
          27,
          30,
          22,
          32,
          30,
          24,
          18,
          27,
          22,
          23,
          32,
          38,
          28,
          34,
          25,
          31,
          27,
          37,
          21,
          26,
          21,
          25,
          25,
          24,
          22,
          29,
          30,
          22,
          29,
          27,
          35,
          22,
          22,
          23,
          26,
          28,
          25,
          25,
          35,
          17,
          34,
          14,
          42,
          29,
          20,
          28,
          26,
          25,
          27,
          24,
          29,
          29,
          36,
          21,
          30,
          20,
          27,
          31,
          27,
          24,
          26,
          31,
          27,
          21,
          27,
          25,
          25,
          31,
          27,
          29,
          25,
          28,
          31,
          28,
          27,
          22,
          24,
          21,
          23,
          21,
          27,
          21,
          27,
          23,
          24,
          28,
          26,
          23,
          25,
          29,
          25,
          26,
          31,
          27,
          25,
          27,
          23,
          19,
          29,
          18,
          20,
          21,
          28,
          31,
          23,
          24,
          20,
          28,
          33,
          24,
          30,
          26,
          30,
          24,
          29,
          34,
          27,
          31,
          28,
          35,
          29,
          27,
          24,
          25,
          21,
          23,
          31,
          23,
          26,
          30,
          26,
          22,
          31,
          27,
          30,
          25,
          24,
          24,
          23,
          21,
          23,
          18,
          30,
          23,
          25,
          25,
          20,
          25,
          23,
          30,
          30,
          22,
          25,
          24,
          33,
          28,
          26,
          23,
          18,
          20,
          29,
          22,
          23,
          28,
          21,
          21,
          18,
          30,
          22,
          30,
          26,
          20,
          30,
          21,
          19,
          20,
          32,
          27,
          23,
          28,
          21,
          26,
          28,
          24,
          26,
          33,
          35,
          38,
          27,
          27,
          24,
          23,
          21,
          16,
          33,
          35,
          30,
          39,
          24,
          20,
          29,
          22,
          32,
          29,
          30,
          23,
          24,
          29,
          33,
          26,
          38,
          40,
          29,
          24,
          25,
          24,
          22,
          27,
          24,
          24,
          19,
          17,
          35,
          28,
          24,
          25,
          30,
          25,
          30,
          32,
          23,
          25,
          26,
          31,
          21,
          30,
          30,
          22,
          25,
          29,
          29,
          27,
          28,
          27,
          29,
          34,
          36,
          30,
          31,
          24,
          22,
          19,
          28,
          26,
          20,
          24,
          21,
          32,
          27,
          30,
          21,
          23,
          39,
          25,
          41,
          25,
          27,
          25,
          25,
          25,
          28,
          30,
          32,
          28,
          35,
          36,
          29,
          29,
          31,
          30,
          26,
          31,
          28,
          24,
          21,
          24,
          24,
          26,
          28,
          25,
          27,
          27,
          38,
          37,
          55,
          30,
          34,
          31,
          32,
          28,
          25,
          29,
          26,
          32,
          28,
          25,
          31,
          23,
          29,
          28,
          28,
          23,
          27,
          35,
          29,
          30,
          29,
          31,
          27,
          26,
          30,
          32,
          30,
          25,
          26,
          26,
          25,
          25,
          27,
          30,
          25,
          21,
          22,
          26,
          28,
          28,
          31,
          22,
          29,
          21,
          37,
          36,
          29,
          29,
          28,
          21,
          27,
          26,
          29,
          25,
          22,
          20,
          24,
          23,
          20,
          18,
          23,
          22,
          27,
          22,
          21,
          37,
          28,
          39,
          36,
          33,
          28,
          33,
          32,
          23,
          20,
          31,
          22,
          26,
          25,
          41,
          29,
          25,
          26,
          28,
          28,
          36,
          27,
          31,
          23,
          27,
          25,
          27,
          25,
          27,
          23,
          26,
          27,
          26,
          30,
          35,
          28,
          22,
          26,
          28,
          25,
          23,
          21,
          31,
          32,
          30,
          30,
          27,
          31,
          22,
          31,
          28,
          25,
          31,
          35,
          24,
          23,
          21,
          27,
          28,
          26,
          27,
          29,
          32,
          26,
          24,
          26,
          28,
          25,
          26,
          29,
          27,
          36,
          25,
          22,
          23,
          30,
          34,
          32,
          37,
          24,
          28,
          29,
          32,
          30,
          32,
          21,
          28,
          23,
          24,
          25,
          28,
          27,
          26,
          25,
          28,
          32,
          23,
          35,
          24,
          24,
          25,
          23,
          21,
          24,
          23,
          17,
          21,
          22,
          22,
          24,
          23,
          21,
          23,
          23,
          23,
          23,
          23,
          24,
          20,
          20,
          21,
          23,
          21,
          29,
          23,
          26,
          25,
          29,
          25,
          27,
          25,
          30,
          28,
          28,
          27,
          24,
          26,
          28,
          29,
          25,
          27,
          36,
          24,
          27,
          27,
          24,
          27,
          27,
          26,
          26,
          27,
          32,
          16,
          20,
          21,
          28,
          32,
          24,
          29,
          25,
          28,
          36,
          23,
          40,
          36,
          30,
          24,
          26,
          30,
          34,
          27,
          31,
          28,
          23,
          23,
          26,
          28,
          36,
          26,
          21,
          24,
          22,
          34,
          32,
          31,
          26,
          30,
          24,
          26,
          24,
          31,
          20,
          29,
          26,
          28,
          23,
          25,
          34,
          30,
          31,
          33,
          33,
          34,
          33,
          31,
          30,
          44,
          30,
          38,
          34,
          25,
          24,
          30,
          24,
          25,
          34,
          26,
          31,
          32,
          25,
          28,
          30,
          35,
          30,
          32,
          33,
          34,
          29,
          34,
          19,
          31,
          29,
          21,
          26,
          20,
          38,
          28,
          22,
          34,
          24,
          22,
          31,
          30,
          27,
          30,
          32,
          28,
          30,
          28,
          42,
          27,
          32,
          34,
          36,
          30,
          29,
          26,
          33,
          27,
          28,
          43,
          25,
          39,
          37,
          25,
          30,
          30,
          22,
          24,
          28,
          37,
          26,
          30,
          28,
          29,
          26,
          23,
          21,
          23,
          30,
          24,
          22,
          27,
          30,
          32,
          31,
          34,
          32,
          27,
          27,
          30,
          33,
          31,
          23,
          23,
          20,
          26,
          23,
          24,
          19
         ],
         "y0": " ",
         "yaxis": "y"
        },
        {
         "alignmentgroup": "True",
         "boxpoints": "all",
         "hovertemplate": "Medal Type=%{x}<br>Age=%{y}<extra></extra>",
         "legendgroup": "Silver Medal",
         "marker": {
          "color": "#EF553B"
         },
         "name": "Silver Medal",
         "notched": false,
         "offsetgroup": "Silver Medal",
         "orientation": "v",
         "showlegend": true,
         "type": "box",
         "x": [
          "Silver Medal",
          "Silver Medal",
          "Silver Medal",
          "Silver Medal",
          "Silver Medal",
          "Silver Medal",
          "Silver Medal",
          "Silver Medal",
          "Silver Medal",
          "Silver Medal",
          "Silver Medal",
          "Silver Medal",
          "Silver Medal",
          "Silver Medal",
          "Silver Medal",
          "Silver Medal",
          "Silver Medal",
          "Silver Medal",
          "Silver Medal",
          "Silver Medal",
          "Silver Medal",
          "Silver Medal",
          "Silver Medal",
          "Silver Medal",
          "Silver Medal",
          "Silver Medal",
          "Silver Medal",
          "Silver Medal",
          "Silver Medal",
          "Silver Medal",
          "Silver Medal",
          "Silver Medal",
          "Silver Medal",
          "Silver Medal",
          "Silver Medal",
          "Silver Medal",
          "Silver Medal",
          "Silver Medal",
          "Silver Medal",
          "Silver Medal",
          "Silver Medal",
          "Silver Medal",
          "Silver Medal",
          "Silver Medal",
          "Silver Medal",
          "Silver Medal",
          "Silver Medal",
          "Silver Medal",
          "Silver Medal",
          "Silver Medal",
          "Silver Medal",
          "Silver Medal",
          "Silver Medal",
          "Silver Medal",
          "Silver Medal",
          "Silver Medal",
          "Silver Medal",
          "Silver Medal",
          "Silver Medal",
          "Silver Medal",
          "Silver Medal",
          "Silver Medal",
          "Silver Medal",
          "Silver Medal",
          "Silver Medal",
          "Silver Medal",
          "Silver Medal",
          "Silver Medal",
          "Silver Medal",
          "Silver Medal",
          "Silver Medal",
          "Silver Medal",
          "Silver Medal",
          "Silver Medal",
          "Silver Medal",
          "Silver Medal",
          "Silver Medal",
          "Silver Medal",
          "Silver Medal",
          "Silver Medal",
          "Silver Medal",
          "Silver Medal",
          "Silver Medal",
          "Silver Medal",
          "Silver Medal",
          "Silver Medal",
          "Silver Medal",
          "Silver Medal",
          "Silver Medal",
          "Silver Medal",
          "Silver Medal",
          "Silver Medal",
          "Silver Medal",
          "Silver Medal",
          "Silver Medal",
          "Silver Medal",
          "Silver Medal",
          "Silver Medal",
          "Silver Medal",
          "Silver Medal",
          "Silver Medal",
          "Silver Medal",
          "Silver Medal",
          "Silver Medal",
          "Silver Medal",
          "Silver Medal",
          "Silver Medal",
          "Silver Medal",
          "Silver Medal",
          "Silver Medal",
          "Silver Medal",
          "Silver Medal",
          "Silver Medal",
          "Silver Medal",
          "Silver Medal",
          "Silver Medal",
          "Silver Medal",
          "Silver Medal",
          "Silver Medal",
          "Silver Medal",
          "Silver Medal",
          "Silver Medal",
          "Silver Medal",
          "Silver Medal",
          "Silver Medal",
          "Silver Medal",
          "Silver Medal",
          "Silver Medal",
          "Silver Medal",
          "Silver Medal",
          "Silver Medal",
          "Silver Medal",
          "Silver Medal",
          "Silver Medal",
          "Silver Medal",
          "Silver Medal",
          "Silver Medal",
          "Silver Medal",
          "Silver Medal",
          "Silver Medal",
          "Silver Medal",
          "Silver Medal",
          "Silver Medal",
          "Silver Medal",
          "Silver Medal",
          "Silver Medal",
          "Silver Medal",
          "Silver Medal",
          "Silver Medal",
          "Silver Medal",
          "Silver Medal",
          "Silver Medal",
          "Silver Medal",
          "Silver Medal",
          "Silver Medal",
          "Silver Medal",
          "Silver Medal",
          "Silver Medal",
          "Silver Medal",
          "Silver Medal",
          "Silver Medal",
          "Silver Medal",
          "Silver Medal",
          "Silver Medal",
          "Silver Medal",
          "Silver Medal",
          "Silver Medal",
          "Silver Medal",
          "Silver Medal",
          "Silver Medal",
          "Silver Medal",
          "Silver Medal",
          "Silver Medal",
          "Silver Medal",
          "Silver Medal",
          "Silver Medal",
          "Silver Medal",
          "Silver Medal",
          "Silver Medal",
          "Silver Medal",
          "Silver Medal",
          "Silver Medal",
          "Silver Medal",
          "Silver Medal",
          "Silver Medal",
          "Silver Medal",
          "Silver Medal",
          "Silver Medal",
          "Silver Medal",
          "Silver Medal",
          "Silver Medal",
          "Silver Medal",
          "Silver Medal",
          "Silver Medal",
          "Silver Medal",
          "Silver Medal",
          "Silver Medal",
          "Silver Medal",
          "Silver Medal",
          "Silver Medal",
          "Silver Medal",
          "Silver Medal",
          "Silver Medal",
          "Silver Medal",
          "Silver Medal",
          "Silver Medal",
          "Silver Medal",
          "Silver Medal",
          "Silver Medal",
          "Silver Medal",
          "Silver Medal",
          "Silver Medal",
          "Silver Medal",
          "Silver Medal",
          "Silver Medal",
          "Silver Medal",
          "Silver Medal",
          "Silver Medal",
          "Silver Medal",
          "Silver Medal",
          "Silver Medal",
          "Silver Medal",
          "Silver Medal",
          "Silver Medal",
          "Silver Medal",
          "Silver Medal",
          "Silver Medal",
          "Silver Medal",
          "Silver Medal",
          "Silver Medal",
          "Silver Medal",
          "Silver Medal",
          "Silver Medal",
          "Silver Medal",
          "Silver Medal",
          "Silver Medal",
          "Silver Medal",
          "Silver Medal",
          "Silver Medal",
          "Silver Medal",
          "Silver Medal",
          "Silver Medal",
          "Silver Medal",
          "Silver Medal",
          "Silver Medal",
          "Silver Medal",
          "Silver Medal",
          "Silver Medal",
          "Silver Medal",
          "Silver Medal",
          "Silver Medal",
          "Silver Medal",
          "Silver Medal",
          "Silver Medal",
          "Silver Medal",
          "Silver Medal",
          "Silver Medal",
          "Silver Medal",
          "Silver Medal",
          "Silver Medal",
          "Silver Medal",
          "Silver Medal",
          "Silver Medal",
          "Silver Medal",
          "Silver Medal",
          "Silver Medal",
          "Silver Medal",
          "Silver Medal",
          "Silver Medal",
          "Silver Medal",
          "Silver Medal",
          "Silver Medal",
          "Silver Medal",
          "Silver Medal",
          "Silver Medal",
          "Silver Medal",
          "Silver Medal",
          "Silver Medal",
          "Silver Medal",
          "Silver Medal",
          "Silver Medal",
          "Silver Medal",
          "Silver Medal",
          "Silver Medal",
          "Silver Medal",
          "Silver Medal",
          "Silver Medal",
          "Silver Medal",
          "Silver Medal",
          "Silver Medal",
          "Silver Medal",
          "Silver Medal",
          "Silver Medal",
          "Silver Medal",
          "Silver Medal",
          "Silver Medal",
          "Silver Medal",
          "Silver Medal",
          "Silver Medal",
          "Silver Medal",
          "Silver Medal",
          "Silver Medal",
          "Silver Medal",
          "Silver Medal",
          "Silver Medal",
          "Silver Medal",
          "Silver Medal",
          "Silver Medal",
          "Silver Medal",
          "Silver Medal",
          "Silver Medal",
          "Silver Medal",
          "Silver Medal",
          "Silver Medal",
          "Silver Medal",
          "Silver Medal",
          "Silver Medal",
          "Silver Medal",
          "Silver Medal",
          "Silver Medal",
          "Silver Medal",
          "Silver Medal",
          "Silver Medal",
          "Silver Medal",
          "Silver Medal",
          "Silver Medal",
          "Silver Medal",
          "Silver Medal",
          "Silver Medal",
          "Silver Medal",
          "Silver Medal",
          "Silver Medal",
          "Silver Medal",
          "Silver Medal",
          "Silver Medal",
          "Silver Medal",
          "Silver Medal",
          "Silver Medal",
          "Silver Medal",
          "Silver Medal",
          "Silver Medal",
          "Silver Medal",
          "Silver Medal",
          "Silver Medal",
          "Silver Medal",
          "Silver Medal",
          "Silver Medal",
          "Silver Medal",
          "Silver Medal",
          "Silver Medal",
          "Silver Medal",
          "Silver Medal",
          "Silver Medal",
          "Silver Medal",
          "Silver Medal",
          "Silver Medal",
          "Silver Medal",
          "Silver Medal",
          "Silver Medal",
          "Silver Medal",
          "Silver Medal",
          "Silver Medal",
          "Silver Medal",
          "Silver Medal",
          "Silver Medal",
          "Silver Medal",
          "Silver Medal",
          "Silver Medal",
          "Silver Medal",
          "Silver Medal",
          "Silver Medal",
          "Silver Medal",
          "Silver Medal",
          "Silver Medal",
          "Silver Medal",
          "Silver Medal",
          "Silver Medal",
          "Silver Medal",
          "Silver Medal",
          "Silver Medal",
          "Silver Medal",
          "Silver Medal",
          "Silver Medal",
          "Silver Medal",
          "Silver Medal",
          "Silver Medal",
          "Silver Medal",
          "Silver Medal",
          "Silver Medal",
          "Silver Medal",
          "Silver Medal",
          "Silver Medal",
          "Silver Medal",
          "Silver Medal",
          "Silver Medal",
          "Silver Medal",
          "Silver Medal",
          "Silver Medal",
          "Silver Medal",
          "Silver Medal",
          "Silver Medal",
          "Silver Medal",
          "Silver Medal",
          "Silver Medal",
          "Silver Medal",
          "Silver Medal",
          "Silver Medal",
          "Silver Medal",
          "Silver Medal",
          "Silver Medal",
          "Silver Medal",
          "Silver Medal",
          "Silver Medal",
          "Silver Medal",
          "Silver Medal",
          "Silver Medal",
          "Silver Medal",
          "Silver Medal",
          "Silver Medal",
          "Silver Medal",
          "Silver Medal",
          "Silver Medal",
          "Silver Medal",
          "Silver Medal",
          "Silver Medal",
          "Silver Medal",
          "Silver Medal",
          "Silver Medal",
          "Silver Medal",
          "Silver Medal",
          "Silver Medal",
          "Silver Medal",
          "Silver Medal",
          "Silver Medal",
          "Silver Medal",
          "Silver Medal",
          "Silver Medal",
          "Silver Medal",
          "Silver Medal",
          "Silver Medal",
          "Silver Medal",
          "Silver Medal",
          "Silver Medal",
          "Silver Medal",
          "Silver Medal",
          "Silver Medal",
          "Silver Medal",
          "Silver Medal",
          "Silver Medal",
          "Silver Medal",
          "Silver Medal",
          "Silver Medal",
          "Silver Medal",
          "Silver Medal",
          "Silver Medal",
          "Silver Medal",
          "Silver Medal",
          "Silver Medal",
          "Silver Medal",
          "Silver Medal",
          "Silver Medal",
          "Silver Medal",
          "Silver Medal",
          "Silver Medal",
          "Silver Medal",
          "Silver Medal",
          "Silver Medal",
          "Silver Medal",
          "Silver Medal",
          "Silver Medal",
          "Silver Medal",
          "Silver Medal",
          "Silver Medal",
          "Silver Medal",
          "Silver Medal",
          "Silver Medal",
          "Silver Medal",
          "Silver Medal",
          "Silver Medal",
          "Silver Medal",
          "Silver Medal",
          "Silver Medal",
          "Silver Medal",
          "Silver Medal",
          "Silver Medal",
          "Silver Medal",
          "Silver Medal",
          "Silver Medal",
          "Silver Medal",
          "Silver Medal",
          "Silver Medal",
          "Silver Medal",
          "Silver Medal",
          "Silver Medal",
          "Silver Medal",
          "Silver Medal",
          "Silver Medal",
          "Silver Medal",
          "Silver Medal",
          "Silver Medal",
          "Silver Medal",
          "Silver Medal",
          "Silver Medal",
          "Silver Medal",
          "Silver Medal",
          "Silver Medal",
          "Silver Medal",
          "Silver Medal",
          "Silver Medal",
          "Silver Medal",
          "Silver Medal",
          "Silver Medal",
          "Silver Medal",
          "Silver Medal",
          "Silver Medal",
          "Silver Medal",
          "Silver Medal",
          "Silver Medal",
          "Silver Medal",
          "Silver Medal",
          "Silver Medal",
          "Silver Medal",
          "Silver Medal",
          "Silver Medal",
          "Silver Medal",
          "Silver Medal",
          "Silver Medal",
          "Silver Medal",
          "Silver Medal",
          "Silver Medal",
          "Silver Medal",
          "Silver Medal",
          "Silver Medal",
          "Silver Medal",
          "Silver Medal",
          "Silver Medal",
          "Silver Medal",
          "Silver Medal",
          "Silver Medal",
          "Silver Medal",
          "Silver Medal",
          "Silver Medal",
          "Silver Medal",
          "Silver Medal",
          "Silver Medal",
          "Silver Medal",
          "Silver Medal",
          "Silver Medal",
          "Silver Medal",
          "Silver Medal",
          "Silver Medal",
          "Silver Medal",
          "Silver Medal",
          "Silver Medal",
          "Silver Medal",
          "Silver Medal",
          "Silver Medal",
          "Silver Medal",
          "Silver Medal",
          "Silver Medal",
          "Silver Medal",
          "Silver Medal",
          "Silver Medal",
          "Silver Medal",
          "Silver Medal",
          "Silver Medal",
          "Silver Medal",
          "Silver Medal",
          "Silver Medal",
          "Silver Medal",
          "Silver Medal",
          "Silver Medal",
          "Silver Medal",
          "Silver Medal",
          "Silver Medal",
          "Silver Medal",
          "Silver Medal",
          "Silver Medal",
          "Silver Medal",
          "Silver Medal",
          "Silver Medal",
          "Silver Medal",
          "Silver Medal",
          "Silver Medal",
          "Silver Medal",
          "Silver Medal",
          "Silver Medal",
          "Silver Medal",
          "Silver Medal",
          "Silver Medal",
          "Silver Medal",
          "Silver Medal",
          "Silver Medal",
          "Silver Medal",
          "Silver Medal",
          "Silver Medal",
          "Silver Medal",
          "Silver Medal",
          "Silver Medal",
          "Silver Medal",
          "Silver Medal",
          "Silver Medal",
          "Silver Medal",
          "Silver Medal",
          "Silver Medal",
          "Silver Medal",
          "Silver Medal",
          "Silver Medal",
          "Silver Medal",
          "Silver Medal",
          "Silver Medal",
          "Silver Medal",
          "Silver Medal",
          "Silver Medal",
          "Silver Medal",
          "Silver Medal",
          "Silver Medal",
          "Silver Medal",
          "Silver Medal",
          "Silver Medal",
          "Silver Medal",
          "Silver Medal",
          "Silver Medal",
          "Silver Medal",
          "Silver Medal",
          "Silver Medal",
          "Silver Medal",
          "Silver Medal",
          "Silver Medal",
          "Silver Medal",
          "Silver Medal",
          "Silver Medal",
          "Silver Medal",
          "Silver Medal",
          "Silver Medal",
          "Silver Medal",
          "Silver Medal",
          "Silver Medal",
          "Silver Medal",
          "Silver Medal",
          "Silver Medal",
          "Silver Medal",
          "Silver Medal",
          "Silver Medal",
          "Silver Medal",
          "Silver Medal",
          "Silver Medal",
          "Silver Medal",
          "Silver Medal",
          "Silver Medal",
          "Silver Medal",
          "Silver Medal",
          "Silver Medal",
          "Silver Medal",
          "Silver Medal",
          "Silver Medal",
          "Silver Medal",
          "Silver Medal",
          "Silver Medal",
          "Silver Medal",
          "Silver Medal",
          "Silver Medal",
          "Silver Medal",
          "Silver Medal",
          "Silver Medal",
          "Silver Medal",
          "Silver Medal",
          "Silver Medal",
          "Silver Medal",
          "Silver Medal",
          "Silver Medal",
          "Silver Medal",
          "Silver Medal",
          "Silver Medal",
          "Silver Medal",
          "Silver Medal",
          "Silver Medal",
          "Silver Medal",
          "Silver Medal",
          "Silver Medal",
          "Silver Medal",
          "Silver Medal",
          "Silver Medal",
          "Silver Medal",
          "Silver Medal",
          "Silver Medal",
          "Silver Medal",
          "Silver Medal",
          "Silver Medal",
          "Silver Medal",
          "Silver Medal",
          "Silver Medal",
          "Silver Medal",
          "Silver Medal",
          "Silver Medal",
          "Silver Medal",
          "Silver Medal",
          "Silver Medal",
          "Silver Medal",
          "Silver Medal",
          "Silver Medal",
          "Silver Medal",
          "Silver Medal",
          "Silver Medal",
          "Silver Medal",
          "Silver Medal",
          "Silver Medal",
          "Silver Medal",
          "Silver Medal",
          "Silver Medal",
          "Silver Medal",
          "Silver Medal",
          "Silver Medal",
          "Silver Medal",
          "Silver Medal",
          "Silver Medal",
          "Silver Medal",
          "Silver Medal",
          "Silver Medal",
          "Silver Medal",
          "Silver Medal",
          "Silver Medal",
          "Silver Medal",
          "Silver Medal",
          "Silver Medal",
          "Silver Medal",
          "Silver Medal",
          "Silver Medal",
          "Silver Medal",
          "Silver Medal",
          "Silver Medal",
          "Silver Medal",
          "Silver Medal",
          "Silver Medal",
          "Silver Medal",
          "Silver Medal",
          "Silver Medal",
          "Silver Medal",
          "Silver Medal",
          "Silver Medal",
          "Silver Medal",
          "Silver Medal",
          "Silver Medal",
          "Silver Medal",
          "Silver Medal",
          "Silver Medal",
          "Silver Medal",
          "Silver Medal",
          "Silver Medal",
          "Silver Medal",
          "Silver Medal",
          "Silver Medal",
          "Silver Medal",
          "Silver Medal",
          "Silver Medal",
          "Silver Medal",
          "Silver Medal",
          "Silver Medal",
          "Silver Medal"
         ],
         "x0": " ",
         "xaxis": "x",
         "y": [
          28,
          26,
          27,
          31,
          28,
          25,
          24,
          18,
          26,
          26,
          36,
          21,
          24,
          29,
          23,
          32,
          15,
          30,
          31,
          19,
          21,
          32,
          30,
          43,
          23,
          29,
          23,
          22,
          21,
          18,
          23,
          29,
          22,
          20,
          24,
          18,
          25,
          28,
          27,
          25,
          22,
          24,
          26,
          23,
          29,
          24,
          30,
          31,
          26,
          25,
          24,
          22,
          24,
          27,
          28,
          25,
          33,
          35,
          28,
          20,
          23,
          24,
          31,
          28,
          27,
          22,
          23,
          32,
          26,
          24,
          26,
          31,
          27,
          30,
          22,
          18,
          19,
          19,
          27,
          27,
          25,
          24,
          35,
          24,
          32,
          28,
          25,
          37,
          21,
          21,
          22,
          24,
          22,
          23,
          24,
          24,
          28,
          36,
          26,
          32,
          17,
          23,
          27,
          28,
          37,
          55,
          33,
          27,
          30,
          22,
          22,
          21,
          18,
          21,
          19,
          27,
          32,
          30,
          23,
          30,
          23,
          27,
          32,
          24,
          25,
          27,
          28,
          27,
          24,
          23,
          25,
          28,
          33,
          19,
          42,
          16,
          36,
          26,
          25,
          25,
          30,
          22,
          33,
          30,
          24,
          34,
          33,
          25,
          24,
          25,
          24,
          21,
          22,
          35,
          33,
          28,
          27,
          26,
          27,
          27,
          30,
          26,
          23,
          26,
          26,
          23,
          27,
          26,
          22,
          23,
          26,
          20,
          31,
          26,
          22,
          23,
          28,
          31,
          24,
          26,
          25,
          22,
          29,
          28,
          32,
          26,
          17,
          30,
          25,
          28,
          22,
          24,
          18,
          24,
          22,
          25,
          33,
          26,
          30,
          25,
          29,
          26,
          28,
          35,
          24,
          28,
          27,
          26,
          28,
          21,
          35,
          36,
          25,
          22,
          35,
          18,
          25,
          31,
          23,
          21,
          24,
          25,
          25,
          26,
          23,
          30,
          26,
          28,
          25,
          27,
          24,
          35,
          21,
          22,
          27,
          21,
          24,
          31,
          28,
          29,
          24,
          27,
          26,
          34,
          26,
          26,
          30,
          31,
          35,
          31,
          25,
          24,
          30,
          30,
          24,
          24,
          26,
          26,
          19,
          26,
          21,
          28,
          28,
          26,
          23,
          22,
          21,
          24,
          27,
          24,
          18,
          27,
          35,
          30,
          24,
          28,
          24,
          26,
          30,
          24,
          49,
          30,
          44,
          35,
          18,
          21,
          18,
          21,
          21,
          29,
          31,
          33,
          28,
          26,
          26,
          27,
          25,
          21,
          28,
          22,
          21,
          21,
          22,
          23,
          24,
          24,
          25,
          24,
          51,
          24,
          23,
          29,
          21,
          23,
          21,
          24,
          24,
          23,
          20,
          23,
          38,
          34,
          31,
          23,
          27,
          30,
          26,
          27,
          28,
          27,
          31,
          27,
          36,
          23,
          32,
          30,
          28,
          34,
          26,
          24,
          30,
          25,
          26,
          25,
          38,
          26,
          30,
          31,
          22,
          20,
          28,
          18,
          27,
          26,
          17,
          28,
          31,
          25,
          24,
          26,
          20,
          49,
          44,
          59,
          34,
          27,
          37,
          30,
          26,
          30,
          27,
          29,
          29,
          30,
          30,
          30,
          26,
          27,
          27,
          26,
          29,
          23,
          28,
          27,
          32,
          16,
          20,
          29,
          22,
          20,
          21,
          34,
          32,
          31,
          32,
          31,
          23,
          24,
          27,
          24,
          26,
          32,
          28,
          30,
          24,
          30,
          27,
          33,
          28,
          24,
          31,
          22,
          28,
          27,
          25,
          29,
          36,
          25,
          29,
          33,
          31,
          33,
          35,
          28,
          23,
          33,
          27,
          27,
          28,
          22,
          36,
          29,
          20,
          26,
          20,
          25,
          22,
          34,
          40,
          24,
          23,
          27,
          23,
          24,
          35,
          23,
          26,
          17,
          21,
          28,
          31,
          29,
          19,
          20,
          24,
          22,
          30,
          23,
          20,
          27,
          17,
          20,
          26,
          27,
          28,
          26,
          32,
          40,
          33,
          25,
          25,
          26,
          24,
          23,
          23,
          35,
          27,
          33,
          31,
          26,
          27,
          25,
          21,
          27,
          28,
          21,
          19,
          20,
          18,
          25,
          23,
          22,
          19,
          29,
          24,
          24,
          29,
          33,
          28,
          26,
          29,
          27,
          23,
          25,
          25,
          23,
          22,
          29,
          28,
          21,
          26,
          24,
          27,
          25,
          21,
          30,
          32,
          32,
          29,
          30,
          27,
          26,
          28,
          25,
          29,
          32,
          31,
          24,
          34,
          37,
          24,
          27,
          23,
          22,
          29,
          34,
          30,
          27,
          23,
          19,
          21,
          31,
          18,
          29,
          29,
          22,
          27,
          28,
          31,
          32,
          32,
          28,
          30,
          27,
          26,
          35,
          24,
          34,
          30,
          21,
          22,
          23,
          24,
          22,
          23,
          23,
          22,
          22,
          33,
          19,
          22,
          23,
          27,
          22,
          19,
          21,
          21,
          22,
          21,
          22,
          30,
          30,
          32,
          26,
          26,
          27,
          24,
          25,
          29,
          25,
          24,
          27,
          22,
          27,
          29,
          25,
          21,
          23,
          27,
          33,
          22,
          23,
          23,
          25,
          20,
          25,
          22,
          28,
          21,
          24,
          32,
          26,
          28,
          26,
          27,
          20,
          26,
          36,
          34,
          29,
          28,
          32,
          37,
          29,
          32,
          20,
          22,
          20,
          30,
          29,
          30,
          35,
          27,
          30,
          21,
          33,
          23,
          37,
          25,
          22,
          28,
          38,
          23,
          29,
          28,
          30,
          28,
          27,
          24,
          29,
          20,
          24,
          22,
          37,
          31,
          26,
          28,
          29,
          32,
          31,
          35,
          30,
          27,
          29,
          24,
          33,
          28,
          25,
          22,
          21,
          29,
          24,
          16,
          24,
          30,
          36,
          31,
          29,
          37,
          27,
          28,
          34,
          30,
          30,
          27,
          26,
          30,
          26,
          34,
          33,
          28,
          20,
          24,
          23,
          22,
          33,
          26,
          24,
          30,
          29,
          23,
          26,
          35,
          30,
          23,
          23,
          19,
          28,
          30,
          29,
          20,
          31,
          22,
          27,
          25,
          26,
          21,
          24,
          24,
          22,
          35,
          34,
          33,
          31,
          28,
          34,
          21,
          29,
          25,
          25,
          32,
          27,
          29,
          29,
          27,
          29,
          38,
          31,
          26,
          29,
          32,
          33,
          27,
          28,
          37,
          37,
          30,
          31,
          23,
          33,
          38,
          25,
          27,
          30,
          18,
          18,
          20,
          20,
          20
         ],
         "y0": " ",
         "yaxis": "y"
        },
        {
         "alignmentgroup": "True",
         "boxpoints": "all",
         "hovertemplate": "Medal Type=%{x}<br>Age=%{y}<extra></extra>",
         "legendgroup": "Bronze Medal",
         "marker": {
          "color": "#00cc96"
         },
         "name": "Bronze Medal",
         "notched": false,
         "offsetgroup": "Bronze Medal",
         "orientation": "v",
         "showlegend": true,
         "type": "box",
         "x": [
          "Bronze Medal",
          "Bronze Medal",
          "Bronze Medal",
          "Bronze Medal",
          "Bronze Medal",
          "Bronze Medal",
          "Bronze Medal",
          "Bronze Medal",
          "Bronze Medal",
          "Bronze Medal",
          "Bronze Medal",
          "Bronze Medal",
          "Bronze Medal",
          "Bronze Medal",
          "Bronze Medal",
          "Bronze Medal",
          "Bronze Medal",
          "Bronze Medal",
          "Bronze Medal",
          "Bronze Medal",
          "Bronze Medal",
          "Bronze Medal",
          "Bronze Medal",
          "Bronze Medal",
          "Bronze Medal",
          "Bronze Medal",
          "Bronze Medal",
          "Bronze Medal",
          "Bronze Medal",
          "Bronze Medal",
          "Bronze Medal",
          "Bronze Medal",
          "Bronze Medal",
          "Bronze Medal",
          "Bronze Medal",
          "Bronze Medal",
          "Bronze Medal",
          "Bronze Medal",
          "Bronze Medal",
          "Bronze Medal",
          "Bronze Medal",
          "Bronze Medal",
          "Bronze Medal",
          "Bronze Medal",
          "Bronze Medal",
          "Bronze Medal",
          "Bronze Medal",
          "Bronze Medal",
          "Bronze Medal",
          "Bronze Medal",
          "Bronze Medal",
          "Bronze Medal",
          "Bronze Medal",
          "Bronze Medal",
          "Bronze Medal",
          "Bronze Medal",
          "Bronze Medal",
          "Bronze Medal",
          "Bronze Medal",
          "Bronze Medal",
          "Bronze Medal",
          "Bronze Medal",
          "Bronze Medal",
          "Bronze Medal",
          "Bronze Medal",
          "Bronze Medal",
          "Bronze Medal",
          "Bronze Medal",
          "Bronze Medal",
          "Bronze Medal",
          "Bronze Medal",
          "Bronze Medal",
          "Bronze Medal",
          "Bronze Medal",
          "Bronze Medal",
          "Bronze Medal",
          "Bronze Medal",
          "Bronze Medal",
          "Bronze Medal",
          "Bronze Medal",
          "Bronze Medal",
          "Bronze Medal",
          "Bronze Medal",
          "Bronze Medal",
          "Bronze Medal",
          "Bronze Medal",
          "Bronze Medal",
          "Bronze Medal",
          "Bronze Medal",
          "Bronze Medal",
          "Bronze Medal",
          "Bronze Medal",
          "Bronze Medal",
          "Bronze Medal",
          "Bronze Medal",
          "Bronze Medal",
          "Bronze Medal",
          "Bronze Medal",
          "Bronze Medal",
          "Bronze Medal",
          "Bronze Medal",
          "Bronze Medal",
          "Bronze Medal",
          "Bronze Medal",
          "Bronze Medal",
          "Bronze Medal",
          "Bronze Medal",
          "Bronze Medal",
          "Bronze Medal",
          "Bronze Medal",
          "Bronze Medal",
          "Bronze Medal",
          "Bronze Medal",
          "Bronze Medal",
          "Bronze Medal",
          "Bronze Medal",
          "Bronze Medal",
          "Bronze Medal",
          "Bronze Medal",
          "Bronze Medal",
          "Bronze Medal",
          "Bronze Medal",
          "Bronze Medal",
          "Bronze Medal",
          "Bronze Medal",
          "Bronze Medal",
          "Bronze Medal",
          "Bronze Medal",
          "Bronze Medal",
          "Bronze Medal",
          "Bronze Medal",
          "Bronze Medal",
          "Bronze Medal",
          "Bronze Medal",
          "Bronze Medal",
          "Bronze Medal",
          "Bronze Medal",
          "Bronze Medal",
          "Bronze Medal",
          "Bronze Medal",
          "Bronze Medal",
          "Bronze Medal",
          "Bronze Medal",
          "Bronze Medal",
          "Bronze Medal",
          "Bronze Medal",
          "Bronze Medal",
          "Bronze Medal",
          "Bronze Medal",
          "Bronze Medal",
          "Bronze Medal",
          "Bronze Medal",
          "Bronze Medal",
          "Bronze Medal",
          "Bronze Medal",
          "Bronze Medal",
          "Bronze Medal",
          "Bronze Medal",
          "Bronze Medal",
          "Bronze Medal",
          "Bronze Medal",
          "Bronze Medal",
          "Bronze Medal",
          "Bronze Medal",
          "Bronze Medal",
          "Bronze Medal",
          "Bronze Medal",
          "Bronze Medal",
          "Bronze Medal",
          "Bronze Medal",
          "Bronze Medal",
          "Bronze Medal",
          "Bronze Medal",
          "Bronze Medal",
          "Bronze Medal",
          "Bronze Medal",
          "Bronze Medal",
          "Bronze Medal",
          "Bronze Medal",
          "Bronze Medal",
          "Bronze Medal",
          "Bronze Medal",
          "Bronze Medal",
          "Bronze Medal",
          "Bronze Medal",
          "Bronze Medal",
          "Bronze Medal",
          "Bronze Medal",
          "Bronze Medal",
          "Bronze Medal",
          "Bronze Medal",
          "Bronze Medal",
          "Bronze Medal",
          "Bronze Medal",
          "Bronze Medal",
          "Bronze Medal",
          "Bronze Medal",
          "Bronze Medal",
          "Bronze Medal",
          "Bronze Medal",
          "Bronze Medal",
          "Bronze Medal",
          "Bronze Medal",
          "Bronze Medal",
          "Bronze Medal",
          "Bronze Medal",
          "Bronze Medal",
          "Bronze Medal",
          "Bronze Medal",
          "Bronze Medal",
          "Bronze Medal",
          "Bronze Medal",
          "Bronze Medal",
          "Bronze Medal",
          "Bronze Medal",
          "Bronze Medal",
          "Bronze Medal",
          "Bronze Medal",
          "Bronze Medal",
          "Bronze Medal",
          "Bronze Medal",
          "Bronze Medal",
          "Bronze Medal",
          "Bronze Medal",
          "Bronze Medal",
          "Bronze Medal",
          "Bronze Medal",
          "Bronze Medal",
          "Bronze Medal",
          "Bronze Medal",
          "Bronze Medal",
          "Bronze Medal",
          "Bronze Medal",
          "Bronze Medal",
          "Bronze Medal",
          "Bronze Medal",
          "Bronze Medal",
          "Bronze Medal",
          "Bronze Medal",
          "Bronze Medal",
          "Bronze Medal",
          "Bronze Medal",
          "Bronze Medal",
          "Bronze Medal",
          "Bronze Medal",
          "Bronze Medal",
          "Bronze Medal",
          "Bronze Medal",
          "Bronze Medal",
          "Bronze Medal",
          "Bronze Medal",
          "Bronze Medal",
          "Bronze Medal",
          "Bronze Medal",
          "Bronze Medal",
          "Bronze Medal",
          "Bronze Medal",
          "Bronze Medal",
          "Bronze Medal",
          "Bronze Medal",
          "Bronze Medal",
          "Bronze Medal",
          "Bronze Medal",
          "Bronze Medal",
          "Bronze Medal",
          "Bronze Medal",
          "Bronze Medal",
          "Bronze Medal",
          "Bronze Medal",
          "Bronze Medal",
          "Bronze Medal",
          "Bronze Medal",
          "Bronze Medal",
          "Bronze Medal",
          "Bronze Medal",
          "Bronze Medal",
          "Bronze Medal",
          "Bronze Medal",
          "Bronze Medal",
          "Bronze Medal",
          "Bronze Medal",
          "Bronze Medal",
          "Bronze Medal",
          "Bronze Medal",
          "Bronze Medal",
          "Bronze Medal",
          "Bronze Medal",
          "Bronze Medal",
          "Bronze Medal",
          "Bronze Medal",
          "Bronze Medal",
          "Bronze Medal",
          "Bronze Medal",
          "Bronze Medal",
          "Bronze Medal",
          "Bronze Medal",
          "Bronze Medal",
          "Bronze Medal",
          "Bronze Medal",
          "Bronze Medal",
          "Bronze Medal",
          "Bronze Medal",
          "Bronze Medal",
          "Bronze Medal",
          "Bronze Medal",
          "Bronze Medal",
          "Bronze Medal",
          "Bronze Medal",
          "Bronze Medal",
          "Bronze Medal",
          "Bronze Medal",
          "Bronze Medal",
          "Bronze Medal",
          "Bronze Medal",
          "Bronze Medal",
          "Bronze Medal",
          "Bronze Medal",
          "Bronze Medal",
          "Bronze Medal",
          "Bronze Medal",
          "Bronze Medal",
          "Bronze Medal",
          "Bronze Medal",
          "Bronze Medal",
          "Bronze Medal",
          "Bronze Medal",
          "Bronze Medal",
          "Bronze Medal",
          "Bronze Medal",
          "Bronze Medal",
          "Bronze Medal",
          "Bronze Medal",
          "Bronze Medal",
          "Bronze Medal",
          "Bronze Medal",
          "Bronze Medal",
          "Bronze Medal",
          "Bronze Medal",
          "Bronze Medal",
          "Bronze Medal",
          "Bronze Medal",
          "Bronze Medal",
          "Bronze Medal",
          "Bronze Medal",
          "Bronze Medal",
          "Bronze Medal",
          "Bronze Medal",
          "Bronze Medal",
          "Bronze Medal",
          "Bronze Medal",
          "Bronze Medal",
          "Bronze Medal",
          "Bronze Medal",
          "Bronze Medal",
          "Bronze Medal",
          "Bronze Medal",
          "Bronze Medal",
          "Bronze Medal",
          "Bronze Medal",
          "Bronze Medal",
          "Bronze Medal",
          "Bronze Medal",
          "Bronze Medal",
          "Bronze Medal",
          "Bronze Medal",
          "Bronze Medal",
          "Bronze Medal",
          "Bronze Medal",
          "Bronze Medal",
          "Bronze Medal",
          "Bronze Medal",
          "Bronze Medal",
          "Bronze Medal",
          "Bronze Medal",
          "Bronze Medal",
          "Bronze Medal",
          "Bronze Medal",
          "Bronze Medal",
          "Bronze Medal",
          "Bronze Medal",
          "Bronze Medal",
          "Bronze Medal",
          "Bronze Medal",
          "Bronze Medal",
          "Bronze Medal",
          "Bronze Medal",
          "Bronze Medal",
          "Bronze Medal",
          "Bronze Medal",
          "Bronze Medal",
          "Bronze Medal",
          "Bronze Medal",
          "Bronze Medal",
          "Bronze Medal",
          "Bronze Medal",
          "Bronze Medal",
          "Bronze Medal",
          "Bronze Medal",
          "Bronze Medal",
          "Bronze Medal",
          "Bronze Medal",
          "Bronze Medal",
          "Bronze Medal",
          "Bronze Medal",
          "Bronze Medal",
          "Bronze Medal",
          "Bronze Medal",
          "Bronze Medal",
          "Bronze Medal",
          "Bronze Medal",
          "Bronze Medal",
          "Bronze Medal",
          "Bronze Medal",
          "Bronze Medal",
          "Bronze Medal",
          "Bronze Medal",
          "Bronze Medal",
          "Bronze Medal",
          "Bronze Medal",
          "Bronze Medal",
          "Bronze Medal",
          "Bronze Medal",
          "Bronze Medal",
          "Bronze Medal",
          "Bronze Medal",
          "Bronze Medal",
          "Bronze Medal",
          "Bronze Medal",
          "Bronze Medal",
          "Bronze Medal",
          "Bronze Medal",
          "Bronze Medal",
          "Bronze Medal",
          "Bronze Medal",
          "Bronze Medal",
          "Bronze Medal",
          "Bronze Medal",
          "Bronze Medal",
          "Bronze Medal",
          "Bronze Medal",
          "Bronze Medal",
          "Bronze Medal",
          "Bronze Medal",
          "Bronze Medal",
          "Bronze Medal",
          "Bronze Medal",
          "Bronze Medal",
          "Bronze Medal",
          "Bronze Medal",
          "Bronze Medal",
          "Bronze Medal",
          "Bronze Medal",
          "Bronze Medal",
          "Bronze Medal",
          "Bronze Medal",
          "Bronze Medal",
          "Bronze Medal",
          "Bronze Medal",
          "Bronze Medal",
          "Bronze Medal",
          "Bronze Medal",
          "Bronze Medal",
          "Bronze Medal",
          "Bronze Medal",
          "Bronze Medal",
          "Bronze Medal",
          "Bronze Medal",
          "Bronze Medal",
          "Bronze Medal",
          "Bronze Medal",
          "Bronze Medal",
          "Bronze Medal",
          "Bronze Medal",
          "Bronze Medal",
          "Bronze Medal",
          "Bronze Medal",
          "Bronze Medal",
          "Bronze Medal",
          "Bronze Medal",
          "Bronze Medal",
          "Bronze Medal",
          "Bronze Medal",
          "Bronze Medal",
          "Bronze Medal",
          "Bronze Medal",
          "Bronze Medal",
          "Bronze Medal",
          "Bronze Medal",
          "Bronze Medal",
          "Bronze Medal",
          "Bronze Medal",
          "Bronze Medal",
          "Bronze Medal",
          "Bronze Medal",
          "Bronze Medal",
          "Bronze Medal",
          "Bronze Medal",
          "Bronze Medal",
          "Bronze Medal",
          "Bronze Medal",
          "Bronze Medal",
          "Bronze Medal",
          "Bronze Medal",
          "Bronze Medal",
          "Bronze Medal",
          "Bronze Medal",
          "Bronze Medal",
          "Bronze Medal",
          "Bronze Medal",
          "Bronze Medal",
          "Bronze Medal",
          "Bronze Medal",
          "Bronze Medal",
          "Bronze Medal",
          "Bronze Medal",
          "Bronze Medal",
          "Bronze Medal",
          "Bronze Medal",
          "Bronze Medal",
          "Bronze Medal",
          "Bronze Medal",
          "Bronze Medal",
          "Bronze Medal",
          "Bronze Medal",
          "Bronze Medal",
          "Bronze Medal",
          "Bronze Medal",
          "Bronze Medal",
          "Bronze Medal",
          "Bronze Medal",
          "Bronze Medal",
          "Bronze Medal",
          "Bronze Medal",
          "Bronze Medal",
          "Bronze Medal",
          "Bronze Medal",
          "Bronze Medal",
          "Bronze Medal",
          "Bronze Medal",
          "Bronze Medal",
          "Bronze Medal",
          "Bronze Medal",
          "Bronze Medal",
          "Bronze Medal",
          "Bronze Medal",
          "Bronze Medal",
          "Bronze Medal",
          "Bronze Medal",
          "Bronze Medal",
          "Bronze Medal",
          "Bronze Medal",
          "Bronze Medal",
          "Bronze Medal",
          "Bronze Medal",
          "Bronze Medal",
          "Bronze Medal",
          "Bronze Medal",
          "Bronze Medal",
          "Bronze Medal",
          "Bronze Medal",
          "Bronze Medal",
          "Bronze Medal",
          "Bronze Medal",
          "Bronze Medal",
          "Bronze Medal",
          "Bronze Medal",
          "Bronze Medal",
          "Bronze Medal",
          "Bronze Medal",
          "Bronze Medal",
          "Bronze Medal",
          "Bronze Medal",
          "Bronze Medal",
          "Bronze Medal",
          "Bronze Medal",
          "Bronze Medal",
          "Bronze Medal",
          "Bronze Medal",
          "Bronze Medal",
          "Bronze Medal",
          "Bronze Medal",
          "Bronze Medal",
          "Bronze Medal",
          "Bronze Medal",
          "Bronze Medal",
          "Bronze Medal",
          "Bronze Medal",
          "Bronze Medal",
          "Bronze Medal",
          "Bronze Medal",
          "Bronze Medal",
          "Bronze Medal",
          "Bronze Medal",
          "Bronze Medal",
          "Bronze Medal",
          "Bronze Medal",
          "Bronze Medal",
          "Bronze Medal",
          "Bronze Medal",
          "Bronze Medal",
          "Bronze Medal",
          "Bronze Medal",
          "Bronze Medal",
          "Bronze Medal",
          "Bronze Medal",
          "Bronze Medal",
          "Bronze Medal",
          "Bronze Medal",
          "Bronze Medal",
          "Bronze Medal",
          "Bronze Medal",
          "Bronze Medal",
          "Bronze Medal",
          "Bronze Medal",
          "Bronze Medal",
          "Bronze Medal",
          "Bronze Medal",
          "Bronze Medal",
          "Bronze Medal",
          "Bronze Medal",
          "Bronze Medal",
          "Bronze Medal",
          "Bronze Medal",
          "Bronze Medal",
          "Bronze Medal",
          "Bronze Medal",
          "Bronze Medal",
          "Bronze Medal",
          "Bronze Medal",
          "Bronze Medal",
          "Bronze Medal",
          "Bronze Medal",
          "Bronze Medal",
          "Bronze Medal",
          "Bronze Medal",
          "Bronze Medal",
          "Bronze Medal",
          "Bronze Medal",
          "Bronze Medal",
          "Bronze Medal",
          "Bronze Medal",
          "Bronze Medal",
          "Bronze Medal",
          "Bronze Medal",
          "Bronze Medal",
          "Bronze Medal",
          "Bronze Medal",
          "Bronze Medal",
          "Bronze Medal",
          "Bronze Medal",
          "Bronze Medal",
          "Bronze Medal",
          "Bronze Medal",
          "Bronze Medal",
          "Bronze Medal",
          "Bronze Medal",
          "Bronze Medal",
          "Bronze Medal",
          "Bronze Medal",
          "Bronze Medal",
          "Bronze Medal",
          "Bronze Medal",
          "Bronze Medal",
          "Bronze Medal",
          "Bronze Medal",
          "Bronze Medal",
          "Bronze Medal",
          "Bronze Medal",
          "Bronze Medal",
          "Bronze Medal",
          "Bronze Medal",
          "Bronze Medal",
          "Bronze Medal",
          "Bronze Medal",
          "Bronze Medal",
          "Bronze Medal",
          "Bronze Medal",
          "Bronze Medal",
          "Bronze Medal",
          "Bronze Medal",
          "Bronze Medal",
          "Bronze Medal",
          "Bronze Medal",
          "Bronze Medal",
          "Bronze Medal",
          "Bronze Medal",
          "Bronze Medal",
          "Bronze Medal",
          "Bronze Medal",
          "Bronze Medal",
          "Bronze Medal",
          "Bronze Medal",
          "Bronze Medal",
          "Bronze Medal",
          "Bronze Medal",
          "Bronze Medal",
          "Bronze Medal",
          "Bronze Medal",
          "Bronze Medal",
          "Bronze Medal",
          "Bronze Medal",
          "Bronze Medal",
          "Bronze Medal",
          "Bronze Medal",
          "Bronze Medal",
          "Bronze Medal",
          "Bronze Medal",
          "Bronze Medal",
          "Bronze Medal",
          "Bronze Medal",
          "Bronze Medal",
          "Bronze Medal",
          "Bronze Medal",
          "Bronze Medal",
          "Bronze Medal",
          "Bronze Medal",
          "Bronze Medal",
          "Bronze Medal",
          "Bronze Medal",
          "Bronze Medal",
          "Bronze Medal",
          "Bronze Medal",
          "Bronze Medal",
          "Bronze Medal",
          "Bronze Medal",
          "Bronze Medal",
          "Bronze Medal",
          "Bronze Medal",
          "Bronze Medal",
          "Bronze Medal",
          "Bronze Medal",
          "Bronze Medal",
          "Bronze Medal",
          "Bronze Medal",
          "Bronze Medal",
          "Bronze Medal",
          "Bronze Medal",
          "Bronze Medal",
          "Bronze Medal",
          "Bronze Medal",
          "Bronze Medal",
          "Bronze Medal",
          "Bronze Medal",
          "Bronze Medal",
          "Bronze Medal",
          "Bronze Medal",
          "Bronze Medal",
          "Bronze Medal",
          "Bronze Medal",
          "Bronze Medal",
          "Bronze Medal",
          "Bronze Medal",
          "Bronze Medal",
          "Bronze Medal",
          "Bronze Medal",
          "Bronze Medal",
          "Bronze Medal",
          "Bronze Medal",
          "Bronze Medal",
          "Bronze Medal",
          "Bronze Medal",
          "Bronze Medal",
          "Bronze Medal",
          "Bronze Medal",
          "Bronze Medal",
          "Bronze Medal",
          "Bronze Medal",
          "Bronze Medal",
          "Bronze Medal",
          "Bronze Medal",
          "Bronze Medal",
          "Bronze Medal",
          "Bronze Medal",
          "Bronze Medal",
          "Bronze Medal",
          "Bronze Medal",
          "Bronze Medal",
          "Bronze Medal",
          "Bronze Medal",
          "Bronze Medal",
          "Bronze Medal",
          "Bronze Medal",
          "Bronze Medal",
          "Bronze Medal",
          "Bronze Medal",
          "Bronze Medal",
          "Bronze Medal",
          "Bronze Medal",
          "Bronze Medal",
          "Bronze Medal",
          "Bronze Medal",
          "Bronze Medal",
          "Bronze Medal",
          "Bronze Medal",
          "Bronze Medal",
          "Bronze Medal",
          "Bronze Medal",
          "Bronze Medal",
          "Bronze Medal",
          "Bronze Medal",
          "Bronze Medal",
          "Bronze Medal",
          "Bronze Medal",
          "Bronze Medal",
          "Bronze Medal",
          "Bronze Medal",
          "Bronze Medal",
          "Bronze Medal",
          "Bronze Medal"
         ],
         "x0": " ",
         "xaxis": "x",
         "y": [
          30,
          27,
          37,
          22,
          28,
          30,
          25,
          18,
          23,
          27,
          29,
          30,
          26,
          21,
          29,
          32,
          28,
          25,
          29,
          26,
          22,
          16,
          23,
          26,
          37,
          28,
          35,
          25,
          34,
          24,
          33,
          26,
          26,
          27,
          22,
          30,
          29,
          21,
          24,
          27,
          23,
          22,
          25,
          32,
          24,
          42,
          30,
          23,
          28,
          20,
          26,
          27,
          23,
          28,
          27,
          27,
          29,
          20,
          23,
          19,
          27,
          22,
          28,
          33,
          21,
          30,
          26,
          23,
          32,
          24,
          26,
          25,
          29,
          24,
          24,
          26,
          27,
          29,
          23,
          27,
          26,
          24,
          25,
          20,
          30,
          34,
          28,
          23,
          25,
          26,
          24,
          23,
          26,
          24,
          31,
          28,
          23,
          23,
          26,
          32,
          32,
          27,
          28,
          25,
          25,
          27,
          30,
          19,
          23,
          26,
          24,
          22,
          27,
          34,
          21,
          21,
          29,
          23,
          29,
          28,
          25,
          20,
          28,
          26,
          28,
          24,
          31,
          32,
          25,
          30,
          25,
          29,
          28,
          32,
          23,
          23,
          26,
          18,
          24,
          28,
          21,
          18,
          18,
          25,
          31,
          24,
          34,
          26,
          25,
          29,
          28,
          31,
          31,
          25,
          19,
          29,
          20,
          22,
          22,
          27,
          31,
          29,
          24,
          27,
          23,
          36,
          16,
          26,
          26,
          25,
          26,
          29,
          21,
          28,
          22,
          28,
          30,
          25,
          28,
          27,
          32,
          29,
          29,
          24,
          23,
          22,
          22,
          19,
          22,
          20,
          25,
          25,
          25,
          25,
          28,
          25,
          25,
          24,
          27,
          27,
          24,
          23,
          23,
          28,
          28,
          26,
          24,
          22,
          20,
          27,
          31,
          18,
          24,
          27,
          25,
          26,
          27,
          31,
          22,
          30,
          33,
          23,
          24,
          28,
          24,
          29,
          31,
          26,
          27,
          19,
          27,
          27,
          23,
          21,
          18,
          34,
          24,
          21,
          19,
          19,
          28,
          24,
          21,
          26,
          24,
          32,
          33,
          21,
          27,
          25,
          33,
          33,
          28,
          31,
          34,
          30,
          27,
          22,
          28,
          24,
          28,
          24,
          28,
          31,
          31,
          28,
          29,
          30,
          26,
          26,
          34,
          32,
          33,
          26,
          31,
          27,
          35,
          32,
          23,
          22,
          21,
          30,
          26,
          29,
          26,
          22,
          23,
          24,
          20,
          28,
          24,
          23,
          24,
          29,
          29,
          27,
          21,
          23,
          27,
          30,
          26,
          35,
          32,
          25,
          29,
          20,
          26,
          30,
          25,
          22,
          27,
          23,
          26,
          19,
          21,
          19,
          22,
          26,
          18,
          30,
          24,
          25,
          22,
          21,
          20,
          23,
          24,
          26,
          20,
          22,
          21,
          39,
          48,
          41,
          39,
          25,
          33,
          26,
          25,
          19,
          36,
          30,
          20,
          29,
          24,
          28,
          26,
          26,
          33,
          33,
          30,
          26,
          29,
          33,
          29,
          30,
          22,
          23,
          21,
          28,
          19,
          22,
          21,
          24,
          27,
          20,
          20,
          25,
          39,
          25,
          24,
          27,
          29,
          30,
          31,
          25,
          25,
          26,
          25,
          27,
          25,
          23,
          27,
          27,
          26,
          32,
          29,
          27,
          28,
          26,
          30,
          27,
          28,
          31,
          28,
          31,
          21,
          16,
          21,
          25,
          22,
          22,
          20,
          36,
          27,
          30,
          28,
          24,
          29,
          44,
          43,
          47,
          38,
          42,
          25,
          28,
          33,
          25,
          24,
          19,
          29,
          31,
          25,
          32,
          28,
          29,
          32,
          38,
          40,
          32,
          24,
          24,
          25,
          25,
          21,
          24,
          24,
          28,
          31,
          27,
          26,
          27,
          28,
          57,
          44,
          44,
          26,
          25,
          29,
          22,
          25,
          32,
          37,
          26,
          27,
          24,
          30,
          24,
          28,
          37,
          22,
          28,
          28,
          24,
          24,
          30,
          30,
          32,
          25,
          22,
          24,
          27,
          25,
          25,
          24,
          27,
          25,
          27,
          26,
          28,
          28,
          30,
          25,
          30,
          26,
          26,
          30,
          29,
          36,
          19,
          25,
          30,
          26,
          23,
          20,
          25,
          23,
          27,
          27,
          27,
          26,
          33,
          31,
          36,
          28,
          24,
          22,
          24,
          18,
          25,
          34,
          26,
          20,
          19,
          21,
          20,
          22,
          26,
          26,
          28,
          28,
          38,
          30,
          35,
          31,
          31,
          23,
          24,
          27,
          24,
          26,
          23,
          20,
          28,
          26,
          30,
          27,
          33,
          32,
          25,
          24,
          24,
          22,
          24,
          30,
          24,
          28,
          18,
          20,
          18,
          24,
          33,
          26,
          30,
          28,
          30,
          24,
          22,
          34,
          30,
          27,
          29,
          25,
          27,
          24,
          21,
          40,
          31,
          30,
          34,
          26,
          21,
          35,
          24,
          35,
          26,
          22,
          20,
          23,
          23,
          19,
          20,
          28,
          20,
          23,
          23,
          22,
          22,
          21,
          23,
          23,
          22,
          23,
          28,
          25,
          32,
          26,
          29,
          23,
          29,
          28,
          31,
          36,
          28,
          27,
          26,
          31,
          24,
          28,
          39,
          29,
          28,
          30,
          23,
          22,
          29,
          35,
          30,
          30,
          31,
          25,
          28,
          28,
          32,
          29,
          26,
          25,
          22,
          28,
          27,
          25,
          26,
          21,
          20,
          23,
          29,
          25,
          32,
          26,
          34,
          25,
          27,
          24,
          23,
          26,
          33,
          34,
          33,
          27,
          25,
          22,
          24,
          23,
          28,
          24,
          27,
          28,
          21,
          29,
          31,
          29,
          27,
          36,
          33,
          22,
          27,
          20,
          19,
          34,
          25,
          18,
          30,
          21,
          18,
          37,
          32,
          31,
          27,
          37,
          31,
          29,
          27,
          36,
          31,
          35,
          39,
          27,
          25,
          25,
          24,
          25,
          26,
          25,
          30,
          21,
          20,
          24,
          21,
          24,
          28,
          28,
          31,
          31,
          27,
          26,
          24,
          21,
          32,
          27,
          30,
          29,
          30,
          29,
          29,
          30,
          30,
          27,
          29,
          27,
          39,
          35,
          34,
          26,
          30,
          32,
          30,
          28,
          28,
          26,
          33,
          32,
          27,
          25,
          31,
          24,
          20,
          32,
          29,
          25,
          26,
          35,
          37,
          30,
          34,
          30,
          20,
          33,
          23,
          24,
          28,
          27,
          28,
          30,
          26,
          33,
          26,
          24,
          27,
          31,
          26,
          24,
          20,
          23,
          24,
          22,
          28,
          30,
          34,
          28,
          25,
          35,
          35,
          26,
          20,
          43,
          36,
          33,
          36,
          32,
          33,
          36,
          29,
          30,
          28,
          27,
          25,
          29,
          27,
          27,
          23,
          22,
          23,
          27,
          25,
          33,
          24,
          29,
          27,
          26,
          31,
          21,
          18,
          29,
          29,
          26,
          24,
          28,
          23,
          22
         ],
         "y0": " ",
         "yaxis": "y"
        }
       ],
       "layout": {
        "boxmode": "overlay",
        "legend": {
         "title": {
          "text": "Medal Type"
         },
         "tracegroupgap": 0
        },
        "showlegend": false,
        "template": {
         "data": {
          "bar": [
           {
            "error_x": {
             "color": "#2a3f5f"
            },
            "error_y": {
             "color": "#2a3f5f"
            },
            "marker": {
             "line": {
              "color": "#E5ECF6",
              "width": 0.5
             },
             "pattern": {
              "fillmode": "overlay",
              "size": 10,
              "solidity": 0.2
             }
            },
            "type": "bar"
           }
          ],
          "barpolar": [
           {
            "marker": {
             "line": {
              "color": "#E5ECF6",
              "width": 0.5
             },
             "pattern": {
              "fillmode": "overlay",
              "size": 10,
              "solidity": 0.2
             }
            },
            "type": "barpolar"
           }
          ],
          "carpet": [
           {
            "aaxis": {
             "endlinecolor": "#2a3f5f",
             "gridcolor": "white",
             "linecolor": "white",
             "minorgridcolor": "white",
             "startlinecolor": "#2a3f5f"
            },
            "baxis": {
             "endlinecolor": "#2a3f5f",
             "gridcolor": "white",
             "linecolor": "white",
             "minorgridcolor": "white",
             "startlinecolor": "#2a3f5f"
            },
            "type": "carpet"
           }
          ],
          "choropleth": [
           {
            "colorbar": {
             "outlinewidth": 0,
             "ticks": ""
            },
            "type": "choropleth"
           }
          ],
          "contour": [
           {
            "colorbar": {
             "outlinewidth": 0,
             "ticks": ""
            },
            "colorscale": [
             [
              0,
              "#0d0887"
             ],
             [
              0.1111111111111111,
              "#46039f"
             ],
             [
              0.2222222222222222,
              "#7201a8"
             ],
             [
              0.3333333333333333,
              "#9c179e"
             ],
             [
              0.4444444444444444,
              "#bd3786"
             ],
             [
              0.5555555555555556,
              "#d8576b"
             ],
             [
              0.6666666666666666,
              "#ed7953"
             ],
             [
              0.7777777777777778,
              "#fb9f3a"
             ],
             [
              0.8888888888888888,
              "#fdca26"
             ],
             [
              1,
              "#f0f921"
             ]
            ],
            "type": "contour"
           }
          ],
          "contourcarpet": [
           {
            "colorbar": {
             "outlinewidth": 0,
             "ticks": ""
            },
            "type": "contourcarpet"
           }
          ],
          "heatmap": [
           {
            "colorbar": {
             "outlinewidth": 0,
             "ticks": ""
            },
            "colorscale": [
             [
              0,
              "#0d0887"
             ],
             [
              0.1111111111111111,
              "#46039f"
             ],
             [
              0.2222222222222222,
              "#7201a8"
             ],
             [
              0.3333333333333333,
              "#9c179e"
             ],
             [
              0.4444444444444444,
              "#bd3786"
             ],
             [
              0.5555555555555556,
              "#d8576b"
             ],
             [
              0.6666666666666666,
              "#ed7953"
             ],
             [
              0.7777777777777778,
              "#fb9f3a"
             ],
             [
              0.8888888888888888,
              "#fdca26"
             ],
             [
              1,
              "#f0f921"
             ]
            ],
            "type": "heatmap"
           }
          ],
          "heatmapgl": [
           {
            "colorbar": {
             "outlinewidth": 0,
             "ticks": ""
            },
            "colorscale": [
             [
              0,
              "#0d0887"
             ],
             [
              0.1111111111111111,
              "#46039f"
             ],
             [
              0.2222222222222222,
              "#7201a8"
             ],
             [
              0.3333333333333333,
              "#9c179e"
             ],
             [
              0.4444444444444444,
              "#bd3786"
             ],
             [
              0.5555555555555556,
              "#d8576b"
             ],
             [
              0.6666666666666666,
              "#ed7953"
             ],
             [
              0.7777777777777778,
              "#fb9f3a"
             ],
             [
              0.8888888888888888,
              "#fdca26"
             ],
             [
              1,
              "#f0f921"
             ]
            ],
            "type": "heatmapgl"
           }
          ],
          "histogram": [
           {
            "marker": {
             "pattern": {
              "fillmode": "overlay",
              "size": 10,
              "solidity": 0.2
             }
            },
            "type": "histogram"
           }
          ],
          "histogram2d": [
           {
            "colorbar": {
             "outlinewidth": 0,
             "ticks": ""
            },
            "colorscale": [
             [
              0,
              "#0d0887"
             ],
             [
              0.1111111111111111,
              "#46039f"
             ],
             [
              0.2222222222222222,
              "#7201a8"
             ],
             [
              0.3333333333333333,
              "#9c179e"
             ],
             [
              0.4444444444444444,
              "#bd3786"
             ],
             [
              0.5555555555555556,
              "#d8576b"
             ],
             [
              0.6666666666666666,
              "#ed7953"
             ],
             [
              0.7777777777777778,
              "#fb9f3a"
             ],
             [
              0.8888888888888888,
              "#fdca26"
             ],
             [
              1,
              "#f0f921"
             ]
            ],
            "type": "histogram2d"
           }
          ],
          "histogram2dcontour": [
           {
            "colorbar": {
             "outlinewidth": 0,
             "ticks": ""
            },
            "colorscale": [
             [
              0,
              "#0d0887"
             ],
             [
              0.1111111111111111,
              "#46039f"
             ],
             [
              0.2222222222222222,
              "#7201a8"
             ],
             [
              0.3333333333333333,
              "#9c179e"
             ],
             [
              0.4444444444444444,
              "#bd3786"
             ],
             [
              0.5555555555555556,
              "#d8576b"
             ],
             [
              0.6666666666666666,
              "#ed7953"
             ],
             [
              0.7777777777777778,
              "#fb9f3a"
             ],
             [
              0.8888888888888888,
              "#fdca26"
             ],
             [
              1,
              "#f0f921"
             ]
            ],
            "type": "histogram2dcontour"
           }
          ],
          "mesh3d": [
           {
            "colorbar": {
             "outlinewidth": 0,
             "ticks": ""
            },
            "type": "mesh3d"
           }
          ],
          "parcoords": [
           {
            "line": {
             "colorbar": {
              "outlinewidth": 0,
              "ticks": ""
             }
            },
            "type": "parcoords"
           }
          ],
          "pie": [
           {
            "automargin": true,
            "type": "pie"
           }
          ],
          "scatter": [
           {
            "fillpattern": {
             "fillmode": "overlay",
             "size": 10,
             "solidity": 0.2
            },
            "type": "scatter"
           }
          ],
          "scatter3d": [
           {
            "line": {
             "colorbar": {
              "outlinewidth": 0,
              "ticks": ""
             }
            },
            "marker": {
             "colorbar": {
              "outlinewidth": 0,
              "ticks": ""
             }
            },
            "type": "scatter3d"
           }
          ],
          "scattercarpet": [
           {
            "marker": {
             "colorbar": {
              "outlinewidth": 0,
              "ticks": ""
             }
            },
            "type": "scattercarpet"
           }
          ],
          "scattergeo": [
           {
            "marker": {
             "colorbar": {
              "outlinewidth": 0,
              "ticks": ""
             }
            },
            "type": "scattergeo"
           }
          ],
          "scattergl": [
           {
            "marker": {
             "colorbar": {
              "outlinewidth": 0,
              "ticks": ""
             }
            },
            "type": "scattergl"
           }
          ],
          "scattermapbox": [
           {
            "marker": {
             "colorbar": {
              "outlinewidth": 0,
              "ticks": ""
             }
            },
            "type": "scattermapbox"
           }
          ],
          "scatterpolar": [
           {
            "marker": {
             "colorbar": {
              "outlinewidth": 0,
              "ticks": ""
             }
            },
            "type": "scatterpolar"
           }
          ],
          "scatterpolargl": [
           {
            "marker": {
             "colorbar": {
              "outlinewidth": 0,
              "ticks": ""
             }
            },
            "type": "scatterpolargl"
           }
          ],
          "scatterternary": [
           {
            "marker": {
             "colorbar": {
              "outlinewidth": 0,
              "ticks": ""
             }
            },
            "type": "scatterternary"
           }
          ],
          "surface": [
           {
            "colorbar": {
             "outlinewidth": 0,
             "ticks": ""
            },
            "colorscale": [
             [
              0,
              "#0d0887"
             ],
             [
              0.1111111111111111,
              "#46039f"
             ],
             [
              0.2222222222222222,
              "#7201a8"
             ],
             [
              0.3333333333333333,
              "#9c179e"
             ],
             [
              0.4444444444444444,
              "#bd3786"
             ],
             [
              0.5555555555555556,
              "#d8576b"
             ],
             [
              0.6666666666666666,
              "#ed7953"
             ],
             [
              0.7777777777777778,
              "#fb9f3a"
             ],
             [
              0.8888888888888888,
              "#fdca26"
             ],
             [
              1,
              "#f0f921"
             ]
            ],
            "type": "surface"
           }
          ],
          "table": [
           {
            "cells": {
             "fill": {
              "color": "#EBF0F8"
             },
             "line": {
              "color": "white"
             }
            },
            "header": {
             "fill": {
              "color": "#C8D4E3"
             },
             "line": {
              "color": "white"
             }
            },
            "type": "table"
           }
          ]
         },
         "layout": {
          "annotationdefaults": {
           "arrowcolor": "#2a3f5f",
           "arrowhead": 0,
           "arrowwidth": 1
          },
          "autotypenumbers": "strict",
          "coloraxis": {
           "colorbar": {
            "outlinewidth": 0,
            "ticks": ""
           }
          },
          "colorscale": {
           "diverging": [
            [
             0,
             "#8e0152"
            ],
            [
             0.1,
             "#c51b7d"
            ],
            [
             0.2,
             "#de77ae"
            ],
            [
             0.3,
             "#f1b6da"
            ],
            [
             0.4,
             "#fde0ef"
            ],
            [
             0.5,
             "#f7f7f7"
            ],
            [
             0.6,
             "#e6f5d0"
            ],
            [
             0.7,
             "#b8e186"
            ],
            [
             0.8,
             "#7fbc41"
            ],
            [
             0.9,
             "#4d9221"
            ],
            [
             1,
             "#276419"
            ]
           ],
           "sequential": [
            [
             0,
             "#0d0887"
            ],
            [
             0.1111111111111111,
             "#46039f"
            ],
            [
             0.2222222222222222,
             "#7201a8"
            ],
            [
             0.3333333333333333,
             "#9c179e"
            ],
            [
             0.4444444444444444,
             "#bd3786"
            ],
            [
             0.5555555555555556,
             "#d8576b"
            ],
            [
             0.6666666666666666,
             "#ed7953"
            ],
            [
             0.7777777777777778,
             "#fb9f3a"
            ],
            [
             0.8888888888888888,
             "#fdca26"
            ],
            [
             1,
             "#f0f921"
            ]
           ],
           "sequentialminus": [
            [
             0,
             "#0d0887"
            ],
            [
             0.1111111111111111,
             "#46039f"
            ],
            [
             0.2222222222222222,
             "#7201a8"
            ],
            [
             0.3333333333333333,
             "#9c179e"
            ],
            [
             0.4444444444444444,
             "#bd3786"
            ],
            [
             0.5555555555555556,
             "#d8576b"
            ],
            [
             0.6666666666666666,
             "#ed7953"
            ],
            [
             0.7777777777777778,
             "#fb9f3a"
            ],
            [
             0.8888888888888888,
             "#fdca26"
            ],
            [
             1,
             "#f0f921"
            ]
           ]
          },
          "colorway": [
           "#636efa",
           "#EF553B",
           "#00cc96",
           "#ab63fa",
           "#FFA15A",
           "#19d3f3",
           "#FF6692",
           "#B6E880",
           "#FF97FF",
           "#FECB52"
          ],
          "font": {
           "color": "#2a3f5f"
          },
          "geo": {
           "bgcolor": "white",
           "lakecolor": "white",
           "landcolor": "#E5ECF6",
           "showlakes": true,
           "showland": true,
           "subunitcolor": "white"
          },
          "hoverlabel": {
           "align": "left"
          },
          "hovermode": "closest",
          "mapbox": {
           "style": "light"
          },
          "paper_bgcolor": "white",
          "plot_bgcolor": "#E5ECF6",
          "polar": {
           "angularaxis": {
            "gridcolor": "white",
            "linecolor": "white",
            "ticks": ""
           },
           "bgcolor": "#E5ECF6",
           "radialaxis": {
            "gridcolor": "white",
            "linecolor": "white",
            "ticks": ""
           }
          },
          "scene": {
           "xaxis": {
            "backgroundcolor": "#E5ECF6",
            "gridcolor": "white",
            "gridwidth": 2,
            "linecolor": "white",
            "showbackground": true,
            "ticks": "",
            "zerolinecolor": "white"
           },
           "yaxis": {
            "backgroundcolor": "#E5ECF6",
            "gridcolor": "white",
            "gridwidth": 2,
            "linecolor": "white",
            "showbackground": true,
            "ticks": "",
            "zerolinecolor": "white"
           },
           "zaxis": {
            "backgroundcolor": "#E5ECF6",
            "gridcolor": "white",
            "gridwidth": 2,
            "linecolor": "white",
            "showbackground": true,
            "ticks": "",
            "zerolinecolor": "white"
           }
          },
          "shapedefaults": {
           "line": {
            "color": "#2a3f5f"
           }
          },
          "ternary": {
           "aaxis": {
            "gridcolor": "white",
            "linecolor": "white",
            "ticks": ""
           },
           "baxis": {
            "gridcolor": "white",
            "linecolor": "white",
            "ticks": ""
           },
           "bgcolor": "#E5ECF6",
           "caxis": {
            "gridcolor": "white",
            "linecolor": "white",
            "ticks": ""
           }
          },
          "title": {
           "x": 0.05
          },
          "xaxis": {
           "automargin": true,
           "gridcolor": "white",
           "linecolor": "white",
           "ticks": "",
           "title": {
            "standoff": 15
           },
           "zerolinecolor": "white",
           "zerolinewidth": 2
          },
          "yaxis": {
           "automargin": true,
           "gridcolor": "white",
           "linecolor": "white",
           "ticks": "",
           "title": {
            "standoff": 15
           },
           "zerolinecolor": "white",
           "zerolinewidth": 2
          }
         }
        },
        "title": {
         "text": "Age Distribution by Medal Type"
        },
        "xaxis": {
         "anchor": "y",
         "categoryarray": [
          "Gold Medal",
          "Silver Medal",
          "Bronze Medal"
         ],
         "categoryorder": "array",
         "domain": [
          0,
          1
         ],
         "title": {
          "text": "Medal Type"
         }
        },
        "yaxis": {
         "anchor": "x",
         "domain": [
          0,
          1
         ],
         "title": {
          "text": "Age"
         }
        }
       }
      }
     },
     "metadata": {},
     "output_type": "display_data"
    },
    {
     "data": {
      "application/vnd.plotly.v1+json": {
       "config": {
        "plotlyServerURL": "https://plot.ly"
       },
       "data": [
        {
         "alignmentgroup": "True",
         "hovertemplate": "Gender=Female<br>Medal Type=%{x}<br>Number of Medals=%{text}<extra></extra>",
         "legendgroup": "Female",
         "marker": {
          "color": "#636efa",
          "pattern": {
           "shape": ""
          }
         },
         "name": "Female",
         "offsetgroup": "Female",
         "orientation": "v",
         "showlegend": true,
         "text": [
          402,
          379,
          385
         ],
         "textposition": "outside",
         "type": "bar",
         "x": [
          "Bronze Medal",
          "Gold Medal",
          "Silver Medal"
         ],
         "xaxis": "x",
         "y": [
          402,
          379,
          385
         ],
         "yaxis": "y"
        },
        {
         "alignmentgroup": "True",
         "hovertemplate": "Gender=Male<br>Medal Type=%{x}<br>Number of Medals=%{text}<extra></extra>",
         "legendgroup": "Male",
         "marker": {
          "color": "#EF553B",
          "pattern": {
           "shape": ""
          }
         },
         "name": "Male",
         "offsetgroup": "Male",
         "orientation": "v",
         "showlegend": true,
         "text": [
          407,
          374,
          374
         ],
         "textposition": "outside",
         "type": "bar",
         "x": [
          "Bronze Medal",
          "Gold Medal",
          "Silver Medal"
         ],
         "xaxis": "x",
         "y": [
          407,
          374,
          374
         ],
         "yaxis": "y"
        }
       ],
       "layout": {
        "barmode": "group",
        "legend": {
         "title": {
          "text": "Gender"
         },
         "tracegroupgap": 0
        },
        "showlegend": true,
        "template": {
         "data": {
          "bar": [
           {
            "error_x": {
             "color": "#2a3f5f"
            },
            "error_y": {
             "color": "#2a3f5f"
            },
            "marker": {
             "line": {
              "color": "#E5ECF6",
              "width": 0.5
             },
             "pattern": {
              "fillmode": "overlay",
              "size": 10,
              "solidity": 0.2
             }
            },
            "type": "bar"
           }
          ],
          "barpolar": [
           {
            "marker": {
             "line": {
              "color": "#E5ECF6",
              "width": 0.5
             },
             "pattern": {
              "fillmode": "overlay",
              "size": 10,
              "solidity": 0.2
             }
            },
            "type": "barpolar"
           }
          ],
          "carpet": [
           {
            "aaxis": {
             "endlinecolor": "#2a3f5f",
             "gridcolor": "white",
             "linecolor": "white",
             "minorgridcolor": "white",
             "startlinecolor": "#2a3f5f"
            },
            "baxis": {
             "endlinecolor": "#2a3f5f",
             "gridcolor": "white",
             "linecolor": "white",
             "minorgridcolor": "white",
             "startlinecolor": "#2a3f5f"
            },
            "type": "carpet"
           }
          ],
          "choropleth": [
           {
            "colorbar": {
             "outlinewidth": 0,
             "ticks": ""
            },
            "type": "choropleth"
           }
          ],
          "contour": [
           {
            "colorbar": {
             "outlinewidth": 0,
             "ticks": ""
            },
            "colorscale": [
             [
              0,
              "#0d0887"
             ],
             [
              0.1111111111111111,
              "#46039f"
             ],
             [
              0.2222222222222222,
              "#7201a8"
             ],
             [
              0.3333333333333333,
              "#9c179e"
             ],
             [
              0.4444444444444444,
              "#bd3786"
             ],
             [
              0.5555555555555556,
              "#d8576b"
             ],
             [
              0.6666666666666666,
              "#ed7953"
             ],
             [
              0.7777777777777778,
              "#fb9f3a"
             ],
             [
              0.8888888888888888,
              "#fdca26"
             ],
             [
              1,
              "#f0f921"
             ]
            ],
            "type": "contour"
           }
          ],
          "contourcarpet": [
           {
            "colorbar": {
             "outlinewidth": 0,
             "ticks": ""
            },
            "type": "contourcarpet"
           }
          ],
          "heatmap": [
           {
            "colorbar": {
             "outlinewidth": 0,
             "ticks": ""
            },
            "colorscale": [
             [
              0,
              "#0d0887"
             ],
             [
              0.1111111111111111,
              "#46039f"
             ],
             [
              0.2222222222222222,
              "#7201a8"
             ],
             [
              0.3333333333333333,
              "#9c179e"
             ],
             [
              0.4444444444444444,
              "#bd3786"
             ],
             [
              0.5555555555555556,
              "#d8576b"
             ],
             [
              0.6666666666666666,
              "#ed7953"
             ],
             [
              0.7777777777777778,
              "#fb9f3a"
             ],
             [
              0.8888888888888888,
              "#fdca26"
             ],
             [
              1,
              "#f0f921"
             ]
            ],
            "type": "heatmap"
           }
          ],
          "heatmapgl": [
           {
            "colorbar": {
             "outlinewidth": 0,
             "ticks": ""
            },
            "colorscale": [
             [
              0,
              "#0d0887"
             ],
             [
              0.1111111111111111,
              "#46039f"
             ],
             [
              0.2222222222222222,
              "#7201a8"
             ],
             [
              0.3333333333333333,
              "#9c179e"
             ],
             [
              0.4444444444444444,
              "#bd3786"
             ],
             [
              0.5555555555555556,
              "#d8576b"
             ],
             [
              0.6666666666666666,
              "#ed7953"
             ],
             [
              0.7777777777777778,
              "#fb9f3a"
             ],
             [
              0.8888888888888888,
              "#fdca26"
             ],
             [
              1,
              "#f0f921"
             ]
            ],
            "type": "heatmapgl"
           }
          ],
          "histogram": [
           {
            "marker": {
             "pattern": {
              "fillmode": "overlay",
              "size": 10,
              "solidity": 0.2
             }
            },
            "type": "histogram"
           }
          ],
          "histogram2d": [
           {
            "colorbar": {
             "outlinewidth": 0,
             "ticks": ""
            },
            "colorscale": [
             [
              0,
              "#0d0887"
             ],
             [
              0.1111111111111111,
              "#46039f"
             ],
             [
              0.2222222222222222,
              "#7201a8"
             ],
             [
              0.3333333333333333,
              "#9c179e"
             ],
             [
              0.4444444444444444,
              "#bd3786"
             ],
             [
              0.5555555555555556,
              "#d8576b"
             ],
             [
              0.6666666666666666,
              "#ed7953"
             ],
             [
              0.7777777777777778,
              "#fb9f3a"
             ],
             [
              0.8888888888888888,
              "#fdca26"
             ],
             [
              1,
              "#f0f921"
             ]
            ],
            "type": "histogram2d"
           }
          ],
          "histogram2dcontour": [
           {
            "colorbar": {
             "outlinewidth": 0,
             "ticks": ""
            },
            "colorscale": [
             [
              0,
              "#0d0887"
             ],
             [
              0.1111111111111111,
              "#46039f"
             ],
             [
              0.2222222222222222,
              "#7201a8"
             ],
             [
              0.3333333333333333,
              "#9c179e"
             ],
             [
              0.4444444444444444,
              "#bd3786"
             ],
             [
              0.5555555555555556,
              "#d8576b"
             ],
             [
              0.6666666666666666,
              "#ed7953"
             ],
             [
              0.7777777777777778,
              "#fb9f3a"
             ],
             [
              0.8888888888888888,
              "#fdca26"
             ],
             [
              1,
              "#f0f921"
             ]
            ],
            "type": "histogram2dcontour"
           }
          ],
          "mesh3d": [
           {
            "colorbar": {
             "outlinewidth": 0,
             "ticks": ""
            },
            "type": "mesh3d"
           }
          ],
          "parcoords": [
           {
            "line": {
             "colorbar": {
              "outlinewidth": 0,
              "ticks": ""
             }
            },
            "type": "parcoords"
           }
          ],
          "pie": [
           {
            "automargin": true,
            "type": "pie"
           }
          ],
          "scatter": [
           {
            "fillpattern": {
             "fillmode": "overlay",
             "size": 10,
             "solidity": 0.2
            },
            "type": "scatter"
           }
          ],
          "scatter3d": [
           {
            "line": {
             "colorbar": {
              "outlinewidth": 0,
              "ticks": ""
             }
            },
            "marker": {
             "colorbar": {
              "outlinewidth": 0,
              "ticks": ""
             }
            },
            "type": "scatter3d"
           }
          ],
          "scattercarpet": [
           {
            "marker": {
             "colorbar": {
              "outlinewidth": 0,
              "ticks": ""
             }
            },
            "type": "scattercarpet"
           }
          ],
          "scattergeo": [
           {
            "marker": {
             "colorbar": {
              "outlinewidth": 0,
              "ticks": ""
             }
            },
            "type": "scattergeo"
           }
          ],
          "scattergl": [
           {
            "marker": {
             "colorbar": {
              "outlinewidth": 0,
              "ticks": ""
             }
            },
            "type": "scattergl"
           }
          ],
          "scattermapbox": [
           {
            "marker": {
             "colorbar": {
              "outlinewidth": 0,
              "ticks": ""
             }
            },
            "type": "scattermapbox"
           }
          ],
          "scatterpolar": [
           {
            "marker": {
             "colorbar": {
              "outlinewidth": 0,
              "ticks": ""
             }
            },
            "type": "scatterpolar"
           }
          ],
          "scatterpolargl": [
           {
            "marker": {
             "colorbar": {
              "outlinewidth": 0,
              "ticks": ""
             }
            },
            "type": "scatterpolargl"
           }
          ],
          "scatterternary": [
           {
            "marker": {
             "colorbar": {
              "outlinewidth": 0,
              "ticks": ""
             }
            },
            "type": "scatterternary"
           }
          ],
          "surface": [
           {
            "colorbar": {
             "outlinewidth": 0,
             "ticks": ""
            },
            "colorscale": [
             [
              0,
              "#0d0887"
             ],
             [
              0.1111111111111111,
              "#46039f"
             ],
             [
              0.2222222222222222,
              "#7201a8"
             ],
             [
              0.3333333333333333,
              "#9c179e"
             ],
             [
              0.4444444444444444,
              "#bd3786"
             ],
             [
              0.5555555555555556,
              "#d8576b"
             ],
             [
              0.6666666666666666,
              "#ed7953"
             ],
             [
              0.7777777777777778,
              "#fb9f3a"
             ],
             [
              0.8888888888888888,
              "#fdca26"
             ],
             [
              1,
              "#f0f921"
             ]
            ],
            "type": "surface"
           }
          ],
          "table": [
           {
            "cells": {
             "fill": {
              "color": "#EBF0F8"
             },
             "line": {
              "color": "white"
             }
            },
            "header": {
             "fill": {
              "color": "#C8D4E3"
             },
             "line": {
              "color": "white"
             }
            },
            "type": "table"
           }
          ]
         },
         "layout": {
          "annotationdefaults": {
           "arrowcolor": "#2a3f5f",
           "arrowhead": 0,
           "arrowwidth": 1
          },
          "autotypenumbers": "strict",
          "coloraxis": {
           "colorbar": {
            "outlinewidth": 0,
            "ticks": ""
           }
          },
          "colorscale": {
           "diverging": [
            [
             0,
             "#8e0152"
            ],
            [
             0.1,
             "#c51b7d"
            ],
            [
             0.2,
             "#de77ae"
            ],
            [
             0.3,
             "#f1b6da"
            ],
            [
             0.4,
             "#fde0ef"
            ],
            [
             0.5,
             "#f7f7f7"
            ],
            [
             0.6,
             "#e6f5d0"
            ],
            [
             0.7,
             "#b8e186"
            ],
            [
             0.8,
             "#7fbc41"
            ],
            [
             0.9,
             "#4d9221"
            ],
            [
             1,
             "#276419"
            ]
           ],
           "sequential": [
            [
             0,
             "#0d0887"
            ],
            [
             0.1111111111111111,
             "#46039f"
            ],
            [
             0.2222222222222222,
             "#7201a8"
            ],
            [
             0.3333333333333333,
             "#9c179e"
            ],
            [
             0.4444444444444444,
             "#bd3786"
            ],
            [
             0.5555555555555556,
             "#d8576b"
            ],
            [
             0.6666666666666666,
             "#ed7953"
            ],
            [
             0.7777777777777778,
             "#fb9f3a"
            ],
            [
             0.8888888888888888,
             "#fdca26"
            ],
            [
             1,
             "#f0f921"
            ]
           ],
           "sequentialminus": [
            [
             0,
             "#0d0887"
            ],
            [
             0.1111111111111111,
             "#46039f"
            ],
            [
             0.2222222222222222,
             "#7201a8"
            ],
            [
             0.3333333333333333,
             "#9c179e"
            ],
            [
             0.4444444444444444,
             "#bd3786"
            ],
            [
             0.5555555555555556,
             "#d8576b"
            ],
            [
             0.6666666666666666,
             "#ed7953"
            ],
            [
             0.7777777777777778,
             "#fb9f3a"
            ],
            [
             0.8888888888888888,
             "#fdca26"
            ],
            [
             1,
             "#f0f921"
            ]
           ]
          },
          "colorway": [
           "#636efa",
           "#EF553B",
           "#00cc96",
           "#ab63fa",
           "#FFA15A",
           "#19d3f3",
           "#FF6692",
           "#B6E880",
           "#FF97FF",
           "#FECB52"
          ],
          "font": {
           "color": "#2a3f5f"
          },
          "geo": {
           "bgcolor": "white",
           "lakecolor": "white",
           "landcolor": "#E5ECF6",
           "showlakes": true,
           "showland": true,
           "subunitcolor": "white"
          },
          "hoverlabel": {
           "align": "left"
          },
          "hovermode": "closest",
          "mapbox": {
           "style": "light"
          },
          "paper_bgcolor": "white",
          "plot_bgcolor": "#E5ECF6",
          "polar": {
           "angularaxis": {
            "gridcolor": "white",
            "linecolor": "white",
            "ticks": ""
           },
           "bgcolor": "#E5ECF6",
           "radialaxis": {
            "gridcolor": "white",
            "linecolor": "white",
            "ticks": ""
           }
          },
          "scene": {
           "xaxis": {
            "backgroundcolor": "#E5ECF6",
            "gridcolor": "white",
            "gridwidth": 2,
            "linecolor": "white",
            "showbackground": true,
            "ticks": "",
            "zerolinecolor": "white"
           },
           "yaxis": {
            "backgroundcolor": "#E5ECF6",
            "gridcolor": "white",
            "gridwidth": 2,
            "linecolor": "white",
            "showbackground": true,
            "ticks": "",
            "zerolinecolor": "white"
           },
           "zaxis": {
            "backgroundcolor": "#E5ECF6",
            "gridcolor": "white",
            "gridwidth": 2,
            "linecolor": "white",
            "showbackground": true,
            "ticks": "",
            "zerolinecolor": "white"
           }
          },
          "shapedefaults": {
           "line": {
            "color": "#2a3f5f"
           }
          },
          "ternary": {
           "aaxis": {
            "gridcolor": "white",
            "linecolor": "white",
            "ticks": ""
           },
           "baxis": {
            "gridcolor": "white",
            "linecolor": "white",
            "ticks": ""
           },
           "bgcolor": "#E5ECF6",
           "caxis": {
            "gridcolor": "white",
            "linecolor": "white",
            "ticks": ""
           }
          },
          "title": {
           "x": 0.05
          },
          "xaxis": {
           "automargin": true,
           "gridcolor": "white",
           "linecolor": "white",
           "ticks": "",
           "title": {
            "standoff": 15
           },
           "zerolinecolor": "white",
           "zerolinewidth": 2
          },
          "yaxis": {
           "automargin": true,
           "gridcolor": "white",
           "linecolor": "white",
           "ticks": "",
           "title": {
            "standoff": 15
           },
           "zerolinecolor": "white",
           "zerolinewidth": 2
          }
         }
        },
        "title": {
         "text": "Medal Distribution by Gender"
        },
        "xaxis": {
         "anchor": "y",
         "domain": [
          0,
          1
         ],
         "title": {
          "text": "Medal Type"
         }
        },
        "yaxis": {
         "anchor": "x",
         "domain": [
          0,
          1
         ],
         "title": {
          "text": "Number of Medals"
         }
        }
       }
      }
     },
     "metadata": {},
     "output_type": "display_data"
    }
   ],
   "source": [
    "import pandas as pd\n",
    "import plotly.express as px\n",
    "\n",
    "# Load datasets\n",
    "athletes_path = r\"C:\\Users\\sreev\\Data Visualization\\Olympics 2024\\athletes.csv\"\n",
    "athletes_df = pd.read_csv(athletes_path)\n",
    "\n",
    "# Convert birth_date to datetime and calculate age\n",
    "athletes_df['birth_date'] = pd.to_datetime(athletes_df['birth_date'], errors='coerce')\n",
    "athletes_df['age'] = 2024 - athletes_df['birth_date'].dt.year\n",
    "\n",
    "# Fill missing gender values\n",
    "athletes_df['gender'] = athletes_df['gender'].fillna('Unknown')\n",
    "\n",
    "medallists_path = r\"C:\\Users\\sreev\\Data Visualization\\Olympics 2024\\medallists.csv\"\n",
    "medallists_df = pd.read_csv(medallists_path)\n",
    "\n",
    "# Merge datasets with specified suffixes to avoid _x and _y\n",
    "athlete_medals_df = pd.merge(\n",
    "    medallists_df,\n",
    "    athletes_df,\n",
    "    left_on='name',\n",
    "    right_on='name',\n",
    "    how='inner',\n",
    "    suffixes=('_medallist', '_athlete')  # Rename overlapping columns\n",
    ")\n",
    "\n",
    "# Keep relevant columns, including 'age'\n",
    "athlete_medals_df = athlete_medals_df[[\n",
    "    'name', 'gender_medallist', 'medal_type', 'discipline', 'age'\n",
    "]]\n",
    "\n",
    "# Rename columns for clarity\n",
    "athlete_medals_df.rename(columns={\n",
    "    'gender_medallist': 'gender'\n",
    "}, inplace=True)\n",
    "\n",
    "athlete_medals_df.to_csv(\"athlete_medals_df.csv\", index=False)\n",
    "# Group data for analysis\n",
    "gender_medal_count = athlete_medals_df.groupby(['gender', 'medal_type'], as_index=False).size()\n",
    "age_medal_count = athlete_medals_df.groupby(['age', 'medal_type'], as_index=False).size()\n",
    "\n",
    "# Visualization 1: Medal Distribution by Gender\n",
    "fig_gender = px.bar(\n",
    "    gender_medal_count,\n",
    "    x='medal_type',\n",
    "    y='size',\n",
    "    color='gender',\n",
    "    title=\"Medal Distribution by Gender\",\n",
    "    labels={'size': 'Number of Medals', 'medal_type': 'Medal Type', 'gender': 'Gender'},\n",
    "    barmode='group',  # Group bars by gender\n",
    "    text='size'  # Show counts on bars\n",
    ")\n",
    "\n",
    "fig_gender.update_traces(textposition='outside')\n",
    "fig_gender.update_layout(\n",
    "    xaxis_title=\"Medal Type\",\n",
    "    yaxis_title=\"Number of Medals\",\n",
    "    legend_title=\"Gender\",\n",
    "    showlegend=True\n",
    ")\n",
    "fig_age = px.box(\n",
    "    athlete_medals_df,\n",
    "    x='medal_type',\n",
    "    y='age',\n",
    "    color='medal_type',\n",
    "    title=\"Age Distribution by Medal Type\",\n",
    "    labels={'age': 'Age', 'medal_type': 'Medal Type'},\n",
    "    points='all'  # Show individual data points\n",
    ")\n",
    "\n",
    "fig_age.update_layout(\n",
    "    xaxis_title=\"Medal Type\",\n",
    "    yaxis_title=\"Age\",\n",
    "    showlegend=False\n",
    ")\n",
    "\n",
    "fig_age.show()\n",
    "\n",
    "fig_gender.show()\n"
   ]
  },
  {
   "cell_type": "code",
   "execution_count": 41,
   "metadata": {},
   "outputs": [
    {
     "data": {
      "application/vnd.plotly.v1+json": {
       "config": {
        "plotlyServerURL": "https://plot.ly"
       },
       "data": [
        {
         "marker": {
          "color": "blue"
         },
         "name": "Male",
         "type": "bar",
         "x": [
          "Bronze Medal",
          "Gold Medal",
          "Silver Medal"
         ],
         "y": [
          407,
          374,
          374
         ]
        },
        {
         "marker": {
          "color": "orange"
         },
         "name": "Female",
         "type": "bar",
         "x": [
          "Bronze Medal",
          "Gold Medal",
          "Silver Medal"
         ],
         "y": [
          402,
          379,
          385
         ]
        },
        {
         "line": {
          "color": "green",
          "width": 2
         },
         "marker": {
          "size": 10
         },
         "mode": "lines+markers",
         "name": "Total",
         "type": "scatter",
         "x": [
          "Bronze Medal",
          "Gold Medal",
          "Silver Medal"
         ],
         "y": [
          809,
          753,
          759
         ]
        }
       ],
       "layout": {
        "barmode": "group",
        "legend": {
         "title": {
          "text": "Category"
         }
        },
        "template": {
         "data": {
          "bar": [
           {
            "error_x": {
             "color": "#2a3f5f"
            },
            "error_y": {
             "color": "#2a3f5f"
            },
            "marker": {
             "line": {
              "color": "#E5ECF6",
              "width": 0.5
             },
             "pattern": {
              "fillmode": "overlay",
              "size": 10,
              "solidity": 0.2
             }
            },
            "type": "bar"
           }
          ],
          "barpolar": [
           {
            "marker": {
             "line": {
              "color": "#E5ECF6",
              "width": 0.5
             },
             "pattern": {
              "fillmode": "overlay",
              "size": 10,
              "solidity": 0.2
             }
            },
            "type": "barpolar"
           }
          ],
          "carpet": [
           {
            "aaxis": {
             "endlinecolor": "#2a3f5f",
             "gridcolor": "white",
             "linecolor": "white",
             "minorgridcolor": "white",
             "startlinecolor": "#2a3f5f"
            },
            "baxis": {
             "endlinecolor": "#2a3f5f",
             "gridcolor": "white",
             "linecolor": "white",
             "minorgridcolor": "white",
             "startlinecolor": "#2a3f5f"
            },
            "type": "carpet"
           }
          ],
          "choropleth": [
           {
            "colorbar": {
             "outlinewidth": 0,
             "ticks": ""
            },
            "type": "choropleth"
           }
          ],
          "contour": [
           {
            "colorbar": {
             "outlinewidth": 0,
             "ticks": ""
            },
            "colorscale": [
             [
              0,
              "#0d0887"
             ],
             [
              0.1111111111111111,
              "#46039f"
             ],
             [
              0.2222222222222222,
              "#7201a8"
             ],
             [
              0.3333333333333333,
              "#9c179e"
             ],
             [
              0.4444444444444444,
              "#bd3786"
             ],
             [
              0.5555555555555556,
              "#d8576b"
             ],
             [
              0.6666666666666666,
              "#ed7953"
             ],
             [
              0.7777777777777778,
              "#fb9f3a"
             ],
             [
              0.8888888888888888,
              "#fdca26"
             ],
             [
              1,
              "#f0f921"
             ]
            ],
            "type": "contour"
           }
          ],
          "contourcarpet": [
           {
            "colorbar": {
             "outlinewidth": 0,
             "ticks": ""
            },
            "type": "contourcarpet"
           }
          ],
          "heatmap": [
           {
            "colorbar": {
             "outlinewidth": 0,
             "ticks": ""
            },
            "colorscale": [
             [
              0,
              "#0d0887"
             ],
             [
              0.1111111111111111,
              "#46039f"
             ],
             [
              0.2222222222222222,
              "#7201a8"
             ],
             [
              0.3333333333333333,
              "#9c179e"
             ],
             [
              0.4444444444444444,
              "#bd3786"
             ],
             [
              0.5555555555555556,
              "#d8576b"
             ],
             [
              0.6666666666666666,
              "#ed7953"
             ],
             [
              0.7777777777777778,
              "#fb9f3a"
             ],
             [
              0.8888888888888888,
              "#fdca26"
             ],
             [
              1,
              "#f0f921"
             ]
            ],
            "type": "heatmap"
           }
          ],
          "heatmapgl": [
           {
            "colorbar": {
             "outlinewidth": 0,
             "ticks": ""
            },
            "colorscale": [
             [
              0,
              "#0d0887"
             ],
             [
              0.1111111111111111,
              "#46039f"
             ],
             [
              0.2222222222222222,
              "#7201a8"
             ],
             [
              0.3333333333333333,
              "#9c179e"
             ],
             [
              0.4444444444444444,
              "#bd3786"
             ],
             [
              0.5555555555555556,
              "#d8576b"
             ],
             [
              0.6666666666666666,
              "#ed7953"
             ],
             [
              0.7777777777777778,
              "#fb9f3a"
             ],
             [
              0.8888888888888888,
              "#fdca26"
             ],
             [
              1,
              "#f0f921"
             ]
            ],
            "type": "heatmapgl"
           }
          ],
          "histogram": [
           {
            "marker": {
             "pattern": {
              "fillmode": "overlay",
              "size": 10,
              "solidity": 0.2
             }
            },
            "type": "histogram"
           }
          ],
          "histogram2d": [
           {
            "colorbar": {
             "outlinewidth": 0,
             "ticks": ""
            },
            "colorscale": [
             [
              0,
              "#0d0887"
             ],
             [
              0.1111111111111111,
              "#46039f"
             ],
             [
              0.2222222222222222,
              "#7201a8"
             ],
             [
              0.3333333333333333,
              "#9c179e"
             ],
             [
              0.4444444444444444,
              "#bd3786"
             ],
             [
              0.5555555555555556,
              "#d8576b"
             ],
             [
              0.6666666666666666,
              "#ed7953"
             ],
             [
              0.7777777777777778,
              "#fb9f3a"
             ],
             [
              0.8888888888888888,
              "#fdca26"
             ],
             [
              1,
              "#f0f921"
             ]
            ],
            "type": "histogram2d"
           }
          ],
          "histogram2dcontour": [
           {
            "colorbar": {
             "outlinewidth": 0,
             "ticks": ""
            },
            "colorscale": [
             [
              0,
              "#0d0887"
             ],
             [
              0.1111111111111111,
              "#46039f"
             ],
             [
              0.2222222222222222,
              "#7201a8"
             ],
             [
              0.3333333333333333,
              "#9c179e"
             ],
             [
              0.4444444444444444,
              "#bd3786"
             ],
             [
              0.5555555555555556,
              "#d8576b"
             ],
             [
              0.6666666666666666,
              "#ed7953"
             ],
             [
              0.7777777777777778,
              "#fb9f3a"
             ],
             [
              0.8888888888888888,
              "#fdca26"
             ],
             [
              1,
              "#f0f921"
             ]
            ],
            "type": "histogram2dcontour"
           }
          ],
          "mesh3d": [
           {
            "colorbar": {
             "outlinewidth": 0,
             "ticks": ""
            },
            "type": "mesh3d"
           }
          ],
          "parcoords": [
           {
            "line": {
             "colorbar": {
              "outlinewidth": 0,
              "ticks": ""
             }
            },
            "type": "parcoords"
           }
          ],
          "pie": [
           {
            "automargin": true,
            "type": "pie"
           }
          ],
          "scatter": [
           {
            "fillpattern": {
             "fillmode": "overlay",
             "size": 10,
             "solidity": 0.2
            },
            "type": "scatter"
           }
          ],
          "scatter3d": [
           {
            "line": {
             "colorbar": {
              "outlinewidth": 0,
              "ticks": ""
             }
            },
            "marker": {
             "colorbar": {
              "outlinewidth": 0,
              "ticks": ""
             }
            },
            "type": "scatter3d"
           }
          ],
          "scattercarpet": [
           {
            "marker": {
             "colorbar": {
              "outlinewidth": 0,
              "ticks": ""
             }
            },
            "type": "scattercarpet"
           }
          ],
          "scattergeo": [
           {
            "marker": {
             "colorbar": {
              "outlinewidth": 0,
              "ticks": ""
             }
            },
            "type": "scattergeo"
           }
          ],
          "scattergl": [
           {
            "marker": {
             "colorbar": {
              "outlinewidth": 0,
              "ticks": ""
             }
            },
            "type": "scattergl"
           }
          ],
          "scattermapbox": [
           {
            "marker": {
             "colorbar": {
              "outlinewidth": 0,
              "ticks": ""
             }
            },
            "type": "scattermapbox"
           }
          ],
          "scatterpolar": [
           {
            "marker": {
             "colorbar": {
              "outlinewidth": 0,
              "ticks": ""
             }
            },
            "type": "scatterpolar"
           }
          ],
          "scatterpolargl": [
           {
            "marker": {
             "colorbar": {
              "outlinewidth": 0,
              "ticks": ""
             }
            },
            "type": "scatterpolargl"
           }
          ],
          "scatterternary": [
           {
            "marker": {
             "colorbar": {
              "outlinewidth": 0,
              "ticks": ""
             }
            },
            "type": "scatterternary"
           }
          ],
          "surface": [
           {
            "colorbar": {
             "outlinewidth": 0,
             "ticks": ""
            },
            "colorscale": [
             [
              0,
              "#0d0887"
             ],
             [
              0.1111111111111111,
              "#46039f"
             ],
             [
              0.2222222222222222,
              "#7201a8"
             ],
             [
              0.3333333333333333,
              "#9c179e"
             ],
             [
              0.4444444444444444,
              "#bd3786"
             ],
             [
              0.5555555555555556,
              "#d8576b"
             ],
             [
              0.6666666666666666,
              "#ed7953"
             ],
             [
              0.7777777777777778,
              "#fb9f3a"
             ],
             [
              0.8888888888888888,
              "#fdca26"
             ],
             [
              1,
              "#f0f921"
             ]
            ],
            "type": "surface"
           }
          ],
          "table": [
           {
            "cells": {
             "fill": {
              "color": "#EBF0F8"
             },
             "line": {
              "color": "white"
             }
            },
            "header": {
             "fill": {
              "color": "#C8D4E3"
             },
             "line": {
              "color": "white"
             }
            },
            "type": "table"
           }
          ]
         },
         "layout": {
          "annotationdefaults": {
           "arrowcolor": "#2a3f5f",
           "arrowhead": 0,
           "arrowwidth": 1
          },
          "autotypenumbers": "strict",
          "coloraxis": {
           "colorbar": {
            "outlinewidth": 0,
            "ticks": ""
           }
          },
          "colorscale": {
           "diverging": [
            [
             0,
             "#8e0152"
            ],
            [
             0.1,
             "#c51b7d"
            ],
            [
             0.2,
             "#de77ae"
            ],
            [
             0.3,
             "#f1b6da"
            ],
            [
             0.4,
             "#fde0ef"
            ],
            [
             0.5,
             "#f7f7f7"
            ],
            [
             0.6,
             "#e6f5d0"
            ],
            [
             0.7,
             "#b8e186"
            ],
            [
             0.8,
             "#7fbc41"
            ],
            [
             0.9,
             "#4d9221"
            ],
            [
             1,
             "#276419"
            ]
           ],
           "sequential": [
            [
             0,
             "#0d0887"
            ],
            [
             0.1111111111111111,
             "#46039f"
            ],
            [
             0.2222222222222222,
             "#7201a8"
            ],
            [
             0.3333333333333333,
             "#9c179e"
            ],
            [
             0.4444444444444444,
             "#bd3786"
            ],
            [
             0.5555555555555556,
             "#d8576b"
            ],
            [
             0.6666666666666666,
             "#ed7953"
            ],
            [
             0.7777777777777778,
             "#fb9f3a"
            ],
            [
             0.8888888888888888,
             "#fdca26"
            ],
            [
             1,
             "#f0f921"
            ]
           ],
           "sequentialminus": [
            [
             0,
             "#0d0887"
            ],
            [
             0.1111111111111111,
             "#46039f"
            ],
            [
             0.2222222222222222,
             "#7201a8"
            ],
            [
             0.3333333333333333,
             "#9c179e"
            ],
            [
             0.4444444444444444,
             "#bd3786"
            ],
            [
             0.5555555555555556,
             "#d8576b"
            ],
            [
             0.6666666666666666,
             "#ed7953"
            ],
            [
             0.7777777777777778,
             "#fb9f3a"
            ],
            [
             0.8888888888888888,
             "#fdca26"
            ],
            [
             1,
             "#f0f921"
            ]
           ]
          },
          "colorway": [
           "#636efa",
           "#EF553B",
           "#00cc96",
           "#ab63fa",
           "#FFA15A",
           "#19d3f3",
           "#FF6692",
           "#B6E880",
           "#FF97FF",
           "#FECB52"
          ],
          "font": {
           "color": "#2a3f5f"
          },
          "geo": {
           "bgcolor": "white",
           "lakecolor": "white",
           "landcolor": "#E5ECF6",
           "showlakes": true,
           "showland": true,
           "subunitcolor": "white"
          },
          "hoverlabel": {
           "align": "left"
          },
          "hovermode": "closest",
          "mapbox": {
           "style": "light"
          },
          "paper_bgcolor": "white",
          "plot_bgcolor": "#E5ECF6",
          "polar": {
           "angularaxis": {
            "gridcolor": "white",
            "linecolor": "white",
            "ticks": ""
           },
           "bgcolor": "#E5ECF6",
           "radialaxis": {
            "gridcolor": "white",
            "linecolor": "white",
            "ticks": ""
           }
          },
          "scene": {
           "xaxis": {
            "backgroundcolor": "#E5ECF6",
            "gridcolor": "white",
            "gridwidth": 2,
            "linecolor": "white",
            "showbackground": true,
            "ticks": "",
            "zerolinecolor": "white"
           },
           "yaxis": {
            "backgroundcolor": "#E5ECF6",
            "gridcolor": "white",
            "gridwidth": 2,
            "linecolor": "white",
            "showbackground": true,
            "ticks": "",
            "zerolinecolor": "white"
           },
           "zaxis": {
            "backgroundcolor": "#E5ECF6",
            "gridcolor": "white",
            "gridwidth": 2,
            "linecolor": "white",
            "showbackground": true,
            "ticks": "",
            "zerolinecolor": "white"
           }
          },
          "shapedefaults": {
           "line": {
            "color": "#2a3f5f"
           }
          },
          "ternary": {
           "aaxis": {
            "gridcolor": "white",
            "linecolor": "white",
            "ticks": ""
           },
           "baxis": {
            "gridcolor": "white",
            "linecolor": "white",
            "ticks": ""
           },
           "bgcolor": "#E5ECF6",
           "caxis": {
            "gridcolor": "white",
            "linecolor": "white",
            "ticks": ""
           }
          },
          "title": {
           "x": 0.05
          },
          "xaxis": {
           "automargin": true,
           "gridcolor": "white",
           "linecolor": "white",
           "ticks": "",
           "title": {
            "standoff": 15
           },
           "zerolinecolor": "white",
           "zerolinewidth": 2
          },
          "yaxis": {
           "automargin": true,
           "gridcolor": "white",
           "linecolor": "white",
           "ticks": "",
           "title": {
            "standoff": 15
           },
           "zerolinecolor": "white",
           "zerolinewidth": 2
          }
         }
        },
        "title": {
         "text": "Medal Distribution by Gender and Type"
        },
        "xaxis": {
         "title": {
          "text": "Medal Type"
         }
        },
        "yaxis": {
         "title": {
          "text": "Number of Medals"
         }
        }
       }
      }
     },
     "metadata": {},
     "output_type": "display_data"
    }
   ],
   "source": [
    "import plotly.graph_objects as go\n",
    "\n",
    "# Prepare data\n",
    "gender_medal_pivot = gender_medal_count.pivot(index='medal_type', columns='gender', values='size').fillna(0)\n",
    "gender_medal_pivot['Total'] = gender_medal_pivot.sum(axis=1)\n",
    "\n",
    "# Create figure\n",
    "fig = go.Figure()\n",
    "\n",
    "# Add clustered columns for each gender\n",
    "fig.add_trace(go.Bar(\n",
    "    x=gender_medal_pivot.index,\n",
    "    y=gender_medal_pivot['Male'],\n",
    "    name='Male',\n",
    "    marker_color='blue'\n",
    "))\n",
    "fig.add_trace(go.Bar(\n",
    "    x=gender_medal_pivot.index,\n",
    "    y=gender_medal_pivot['Female'],\n",
    "    name='Female',\n",
    "    marker_color='orange'\n",
    "))\n",
    "\n",
    "# Add line for total medals\n",
    "fig.add_trace(go.Scatter(\n",
    "    x=gender_medal_pivot.index,\n",
    "    y=gender_medal_pivot['Total'],\n",
    "    name='Total',\n",
    "    mode='lines+markers',\n",
    "    line=dict(color='green', width=2),\n",
    "    marker=dict(size=10)\n",
    "))\n",
    "\n",
    "# Update layout\n",
    "fig.update_layout(\n",
    "    title=\"Medal Distribution by Gender and Type\",\n",
    "    xaxis_title=\"Medal Type\",\n",
    "    yaxis_title=\"Number of Medals\",\n",
    "    barmode='group',\n",
    "    legend_title=\"Category\",\n",
    "    template='plotly'\n",
    ")\n",
    "\n",
    "fig.show()\n"
   ]
  },
  {
   "cell_type": "code",
   "execution_count": 42,
   "metadata": {},
   "outputs": [
    {
     "name": "stderr",
     "output_type": "stream",
     "text": [
      "C:\\Users\\sreev\\AppData\\Local\\Temp\\ipykernel_45164\\1264632063.py:6: FutureWarning:\n",
      "\n",
      "The default of observed=False is deprecated and will be changed to True in a future version of pandas. Pass observed=False to retain current behavior or observed=True to adopt the future default and silence this warning.\n",
      "\n"
     ]
    },
    {
     "data": {
      "application/vnd.plotly.v1+json": {
       "config": {
        "plotlyServerURL": "https://plot.ly"
       },
       "data": [
        {
         "name": "Gold Medal",
         "type": "bar",
         "x": [
          "10-20",
          "20-30",
          "30-40",
          "40-50",
          "50-60"
         ],
         "y": [
          48,
          552,
          145,
          7,
          1
         ]
        },
        {
         "name": "Silver Medal",
         "type": "bar",
         "x": [
          "10-20",
          "20-30",
          "30-40",
          "40-50",
          "50-60"
         ],
         "y": [
          61,
          548,
          141,
          6,
          3
         ]
        },
        {
         "name": "Bronze Medal",
         "type": "bar",
         "x": [
          "10-20",
          "20-30",
          "30-40",
          "40-50",
          "50-60"
         ],
         "y": [
          62,
          593,
          143,
          10,
          1
         ]
        },
        {
         "line": {
          "color": "red",
          "width": 2
         },
         "marker": {
          "size": 10
         },
         "mode": "lines+markers",
         "name": "Total",
         "type": "scatter",
         "x": [
          "10-20",
          "20-30",
          "30-40",
          "40-50",
          "50-60"
         ],
         "y": [
          171,
          1693,
          429,
          23,
          5
         ]
        }
       ],
       "layout": {
        "barmode": "group",
        "legend": {
         "title": {
          "text": "Medal Type"
         }
        },
        "template": {
         "data": {
          "bar": [
           {
            "error_x": {
             "color": "#2a3f5f"
            },
            "error_y": {
             "color": "#2a3f5f"
            },
            "marker": {
             "line": {
              "color": "#E5ECF6",
              "width": 0.5
             },
             "pattern": {
              "fillmode": "overlay",
              "size": 10,
              "solidity": 0.2
             }
            },
            "type": "bar"
           }
          ],
          "barpolar": [
           {
            "marker": {
             "line": {
              "color": "#E5ECF6",
              "width": 0.5
             },
             "pattern": {
              "fillmode": "overlay",
              "size": 10,
              "solidity": 0.2
             }
            },
            "type": "barpolar"
           }
          ],
          "carpet": [
           {
            "aaxis": {
             "endlinecolor": "#2a3f5f",
             "gridcolor": "white",
             "linecolor": "white",
             "minorgridcolor": "white",
             "startlinecolor": "#2a3f5f"
            },
            "baxis": {
             "endlinecolor": "#2a3f5f",
             "gridcolor": "white",
             "linecolor": "white",
             "minorgridcolor": "white",
             "startlinecolor": "#2a3f5f"
            },
            "type": "carpet"
           }
          ],
          "choropleth": [
           {
            "colorbar": {
             "outlinewidth": 0,
             "ticks": ""
            },
            "type": "choropleth"
           }
          ],
          "contour": [
           {
            "colorbar": {
             "outlinewidth": 0,
             "ticks": ""
            },
            "colorscale": [
             [
              0,
              "#0d0887"
             ],
             [
              0.1111111111111111,
              "#46039f"
             ],
             [
              0.2222222222222222,
              "#7201a8"
             ],
             [
              0.3333333333333333,
              "#9c179e"
             ],
             [
              0.4444444444444444,
              "#bd3786"
             ],
             [
              0.5555555555555556,
              "#d8576b"
             ],
             [
              0.6666666666666666,
              "#ed7953"
             ],
             [
              0.7777777777777778,
              "#fb9f3a"
             ],
             [
              0.8888888888888888,
              "#fdca26"
             ],
             [
              1,
              "#f0f921"
             ]
            ],
            "type": "contour"
           }
          ],
          "contourcarpet": [
           {
            "colorbar": {
             "outlinewidth": 0,
             "ticks": ""
            },
            "type": "contourcarpet"
           }
          ],
          "heatmap": [
           {
            "colorbar": {
             "outlinewidth": 0,
             "ticks": ""
            },
            "colorscale": [
             [
              0,
              "#0d0887"
             ],
             [
              0.1111111111111111,
              "#46039f"
             ],
             [
              0.2222222222222222,
              "#7201a8"
             ],
             [
              0.3333333333333333,
              "#9c179e"
             ],
             [
              0.4444444444444444,
              "#bd3786"
             ],
             [
              0.5555555555555556,
              "#d8576b"
             ],
             [
              0.6666666666666666,
              "#ed7953"
             ],
             [
              0.7777777777777778,
              "#fb9f3a"
             ],
             [
              0.8888888888888888,
              "#fdca26"
             ],
             [
              1,
              "#f0f921"
             ]
            ],
            "type": "heatmap"
           }
          ],
          "heatmapgl": [
           {
            "colorbar": {
             "outlinewidth": 0,
             "ticks": ""
            },
            "colorscale": [
             [
              0,
              "#0d0887"
             ],
             [
              0.1111111111111111,
              "#46039f"
             ],
             [
              0.2222222222222222,
              "#7201a8"
             ],
             [
              0.3333333333333333,
              "#9c179e"
             ],
             [
              0.4444444444444444,
              "#bd3786"
             ],
             [
              0.5555555555555556,
              "#d8576b"
             ],
             [
              0.6666666666666666,
              "#ed7953"
             ],
             [
              0.7777777777777778,
              "#fb9f3a"
             ],
             [
              0.8888888888888888,
              "#fdca26"
             ],
             [
              1,
              "#f0f921"
             ]
            ],
            "type": "heatmapgl"
           }
          ],
          "histogram": [
           {
            "marker": {
             "pattern": {
              "fillmode": "overlay",
              "size": 10,
              "solidity": 0.2
             }
            },
            "type": "histogram"
           }
          ],
          "histogram2d": [
           {
            "colorbar": {
             "outlinewidth": 0,
             "ticks": ""
            },
            "colorscale": [
             [
              0,
              "#0d0887"
             ],
             [
              0.1111111111111111,
              "#46039f"
             ],
             [
              0.2222222222222222,
              "#7201a8"
             ],
             [
              0.3333333333333333,
              "#9c179e"
             ],
             [
              0.4444444444444444,
              "#bd3786"
             ],
             [
              0.5555555555555556,
              "#d8576b"
             ],
             [
              0.6666666666666666,
              "#ed7953"
             ],
             [
              0.7777777777777778,
              "#fb9f3a"
             ],
             [
              0.8888888888888888,
              "#fdca26"
             ],
             [
              1,
              "#f0f921"
             ]
            ],
            "type": "histogram2d"
           }
          ],
          "histogram2dcontour": [
           {
            "colorbar": {
             "outlinewidth": 0,
             "ticks": ""
            },
            "colorscale": [
             [
              0,
              "#0d0887"
             ],
             [
              0.1111111111111111,
              "#46039f"
             ],
             [
              0.2222222222222222,
              "#7201a8"
             ],
             [
              0.3333333333333333,
              "#9c179e"
             ],
             [
              0.4444444444444444,
              "#bd3786"
             ],
             [
              0.5555555555555556,
              "#d8576b"
             ],
             [
              0.6666666666666666,
              "#ed7953"
             ],
             [
              0.7777777777777778,
              "#fb9f3a"
             ],
             [
              0.8888888888888888,
              "#fdca26"
             ],
             [
              1,
              "#f0f921"
             ]
            ],
            "type": "histogram2dcontour"
           }
          ],
          "mesh3d": [
           {
            "colorbar": {
             "outlinewidth": 0,
             "ticks": ""
            },
            "type": "mesh3d"
           }
          ],
          "parcoords": [
           {
            "line": {
             "colorbar": {
              "outlinewidth": 0,
              "ticks": ""
             }
            },
            "type": "parcoords"
           }
          ],
          "pie": [
           {
            "automargin": true,
            "type": "pie"
           }
          ],
          "scatter": [
           {
            "fillpattern": {
             "fillmode": "overlay",
             "size": 10,
             "solidity": 0.2
            },
            "type": "scatter"
           }
          ],
          "scatter3d": [
           {
            "line": {
             "colorbar": {
              "outlinewidth": 0,
              "ticks": ""
             }
            },
            "marker": {
             "colorbar": {
              "outlinewidth": 0,
              "ticks": ""
             }
            },
            "type": "scatter3d"
           }
          ],
          "scattercarpet": [
           {
            "marker": {
             "colorbar": {
              "outlinewidth": 0,
              "ticks": ""
             }
            },
            "type": "scattercarpet"
           }
          ],
          "scattergeo": [
           {
            "marker": {
             "colorbar": {
              "outlinewidth": 0,
              "ticks": ""
             }
            },
            "type": "scattergeo"
           }
          ],
          "scattergl": [
           {
            "marker": {
             "colorbar": {
              "outlinewidth": 0,
              "ticks": ""
             }
            },
            "type": "scattergl"
           }
          ],
          "scattermapbox": [
           {
            "marker": {
             "colorbar": {
              "outlinewidth": 0,
              "ticks": ""
             }
            },
            "type": "scattermapbox"
           }
          ],
          "scatterpolar": [
           {
            "marker": {
             "colorbar": {
              "outlinewidth": 0,
              "ticks": ""
             }
            },
            "type": "scatterpolar"
           }
          ],
          "scatterpolargl": [
           {
            "marker": {
             "colorbar": {
              "outlinewidth": 0,
              "ticks": ""
             }
            },
            "type": "scatterpolargl"
           }
          ],
          "scatterternary": [
           {
            "marker": {
             "colorbar": {
              "outlinewidth": 0,
              "ticks": ""
             }
            },
            "type": "scatterternary"
           }
          ],
          "surface": [
           {
            "colorbar": {
             "outlinewidth": 0,
             "ticks": ""
            },
            "colorscale": [
             [
              0,
              "#0d0887"
             ],
             [
              0.1111111111111111,
              "#46039f"
             ],
             [
              0.2222222222222222,
              "#7201a8"
             ],
             [
              0.3333333333333333,
              "#9c179e"
             ],
             [
              0.4444444444444444,
              "#bd3786"
             ],
             [
              0.5555555555555556,
              "#d8576b"
             ],
             [
              0.6666666666666666,
              "#ed7953"
             ],
             [
              0.7777777777777778,
              "#fb9f3a"
             ],
             [
              0.8888888888888888,
              "#fdca26"
             ],
             [
              1,
              "#f0f921"
             ]
            ],
            "type": "surface"
           }
          ],
          "table": [
           {
            "cells": {
             "fill": {
              "color": "#EBF0F8"
             },
             "line": {
              "color": "white"
             }
            },
            "header": {
             "fill": {
              "color": "#C8D4E3"
             },
             "line": {
              "color": "white"
             }
            },
            "type": "table"
           }
          ]
         },
         "layout": {
          "annotationdefaults": {
           "arrowcolor": "#2a3f5f",
           "arrowhead": 0,
           "arrowwidth": 1
          },
          "autotypenumbers": "strict",
          "coloraxis": {
           "colorbar": {
            "outlinewidth": 0,
            "ticks": ""
           }
          },
          "colorscale": {
           "diverging": [
            [
             0,
             "#8e0152"
            ],
            [
             0.1,
             "#c51b7d"
            ],
            [
             0.2,
             "#de77ae"
            ],
            [
             0.3,
             "#f1b6da"
            ],
            [
             0.4,
             "#fde0ef"
            ],
            [
             0.5,
             "#f7f7f7"
            ],
            [
             0.6,
             "#e6f5d0"
            ],
            [
             0.7,
             "#b8e186"
            ],
            [
             0.8,
             "#7fbc41"
            ],
            [
             0.9,
             "#4d9221"
            ],
            [
             1,
             "#276419"
            ]
           ],
           "sequential": [
            [
             0,
             "#0d0887"
            ],
            [
             0.1111111111111111,
             "#46039f"
            ],
            [
             0.2222222222222222,
             "#7201a8"
            ],
            [
             0.3333333333333333,
             "#9c179e"
            ],
            [
             0.4444444444444444,
             "#bd3786"
            ],
            [
             0.5555555555555556,
             "#d8576b"
            ],
            [
             0.6666666666666666,
             "#ed7953"
            ],
            [
             0.7777777777777778,
             "#fb9f3a"
            ],
            [
             0.8888888888888888,
             "#fdca26"
            ],
            [
             1,
             "#f0f921"
            ]
           ],
           "sequentialminus": [
            [
             0,
             "#0d0887"
            ],
            [
             0.1111111111111111,
             "#46039f"
            ],
            [
             0.2222222222222222,
             "#7201a8"
            ],
            [
             0.3333333333333333,
             "#9c179e"
            ],
            [
             0.4444444444444444,
             "#bd3786"
            ],
            [
             0.5555555555555556,
             "#d8576b"
            ],
            [
             0.6666666666666666,
             "#ed7953"
            ],
            [
             0.7777777777777778,
             "#fb9f3a"
            ],
            [
             0.8888888888888888,
             "#fdca26"
            ],
            [
             1,
             "#f0f921"
            ]
           ]
          },
          "colorway": [
           "#636efa",
           "#EF553B",
           "#00cc96",
           "#ab63fa",
           "#FFA15A",
           "#19d3f3",
           "#FF6692",
           "#B6E880",
           "#FF97FF",
           "#FECB52"
          ],
          "font": {
           "color": "#2a3f5f"
          },
          "geo": {
           "bgcolor": "white",
           "lakecolor": "white",
           "landcolor": "#E5ECF6",
           "showlakes": true,
           "showland": true,
           "subunitcolor": "white"
          },
          "hoverlabel": {
           "align": "left"
          },
          "hovermode": "closest",
          "mapbox": {
           "style": "light"
          },
          "paper_bgcolor": "white",
          "plot_bgcolor": "#E5ECF6",
          "polar": {
           "angularaxis": {
            "gridcolor": "white",
            "linecolor": "white",
            "ticks": ""
           },
           "bgcolor": "#E5ECF6",
           "radialaxis": {
            "gridcolor": "white",
            "linecolor": "white",
            "ticks": ""
           }
          },
          "scene": {
           "xaxis": {
            "backgroundcolor": "#E5ECF6",
            "gridcolor": "white",
            "gridwidth": 2,
            "linecolor": "white",
            "showbackground": true,
            "ticks": "",
            "zerolinecolor": "white"
           },
           "yaxis": {
            "backgroundcolor": "#E5ECF6",
            "gridcolor": "white",
            "gridwidth": 2,
            "linecolor": "white",
            "showbackground": true,
            "ticks": "",
            "zerolinecolor": "white"
           },
           "zaxis": {
            "backgroundcolor": "#E5ECF6",
            "gridcolor": "white",
            "gridwidth": 2,
            "linecolor": "white",
            "showbackground": true,
            "ticks": "",
            "zerolinecolor": "white"
           }
          },
          "shapedefaults": {
           "line": {
            "color": "#2a3f5f"
           }
          },
          "ternary": {
           "aaxis": {
            "gridcolor": "white",
            "linecolor": "white",
            "ticks": ""
           },
           "baxis": {
            "gridcolor": "white",
            "linecolor": "white",
            "ticks": ""
           },
           "bgcolor": "#E5ECF6",
           "caxis": {
            "gridcolor": "white",
            "linecolor": "white",
            "ticks": ""
           }
          },
          "title": {
           "x": 0.05
          },
          "xaxis": {
           "automargin": true,
           "gridcolor": "white",
           "linecolor": "white",
           "ticks": "",
           "title": {
            "standoff": 15
           },
           "zerolinecolor": "white",
           "zerolinewidth": 2
          },
          "yaxis": {
           "automargin": true,
           "gridcolor": "white",
           "linecolor": "white",
           "ticks": "",
           "title": {
            "standoff": 15
           },
           "zerolinecolor": "white",
           "zerolinewidth": 2
          }
         }
        },
        "title": {
         "text": "Age Distribution of Medalists by Medal Type"
        },
        "xaxis": {
         "title": {
          "text": "Age Group"
         }
        },
        "yaxis": {
         "title": {
          "text": "Number of Medals"
         }
        }
       }
      }
     },
     "metadata": {},
     "output_type": "display_data"
    }
   ],
   "source": [
    "# Group by age ranges\n",
    "athlete_medals_df['age_group'] = pd.cut(\n",
    "    athlete_medals_df['age'], bins=[10, 20, 30, 40, 50, 60],\n",
    "    labels=['10-20', '20-30', '30-40', '40-50', '50-60'], include_lowest=True\n",
    ")\n",
    "age_medal_count = athlete_medals_df.groupby(['age_group', 'medal_type'], as_index=False).size()\n",
    "age_medal_pivot = age_medal_count.pivot(index='age_group', columns='medal_type', values='size').fillna(0)\n",
    "age_medal_pivot['Total'] = age_medal_pivot.sum(axis=1)\n",
    "\n",
    "# Create figure\n",
    "fig_age = go.Figure()\n",
    "\n",
    "# Add clustered columns for each medal type\n",
    "for medal_type in ['Gold Medal', 'Silver Medal', 'Bronze Medal']:\n",
    "    fig_age.add_trace(go.Bar(\n",
    "        x=age_medal_pivot.index,\n",
    "        y=age_medal_pivot[medal_type],\n",
    "        name=medal_type\n",
    "    ))\n",
    "\n",
    "# Add line for total medals\n",
    "fig_age.add_trace(go.Scatter(\n",
    "    x=age_medal_pivot.index,\n",
    "    y=age_medal_pivot['Total'],\n",
    "    name='Total',\n",
    "    mode='lines+markers',\n",
    "    line=dict(color='red', width=2),\n",
    "    marker=dict(size=10)\n",
    "))\n",
    "\n",
    "# Update layout\n",
    "fig_age.update_layout(\n",
    "    title=\"Age Distribution of Medalists by Medal Type\",\n",
    "    xaxis_title=\"Age Group\",\n",
    "    yaxis_title=\"Number of Medals\",\n",
    "    barmode='group',\n",
    "    legend_title=\"Medal Type\",\n",
    "    template='plotly'\n",
    ")\n",
    "\n",
    "fig_age.show()\n"
   ]
  },
  {
   "cell_type": "markdown",
   "metadata": {},
   "source": [
    "**Third Motivation**\n",
    "**Dataset: \"Medal Conversion Efficiency\"**\n",
    "\n",
    "Visualization Goal:\n",
    "\n",
    "Scatter Plot: Display medals won vs. athletes sent, labeled by country, to highlight conversion rates (i.e., medals per athlete sent).\n",
    "Objective:\n",
    "Identify countries with high efficiency in converting athlete participation into medals."
   ]
  },
  {
   "cell_type": "code",
   "execution_count": 43,
   "metadata": {},
   "outputs": [
    {
     "data": {
      "application/vnd.plotly.v1+json": {
       "config": {
        "plotlyServerURL": "https://plot.ly"
       },
       "data": [
        {
         "hovertemplate": "<b>%{hovertext}</b><br><br>Athletes Sent=%{x}<br>Total Medals Won=%{marker.color}<extra></extra>",
         "hovertext": [
          "AIN",
          "Albania",
          "Algeria",
          "Argentina",
          "Armenia",
          "Australia",
          "Austria",
          "Azerbaijan",
          "Bahrain",
          "Belgium",
          "Botswana",
          "Brazil",
          "Bulgaria",
          "Cabo Verde",
          "Canada",
          "Chile",
          "China",
          "Chinese Taipei",
          "Colombia",
          "Croatia",
          "Cuba",
          "Cyprus",
          "Czechia",
          "Côte d'Ivoire",
          "DPR Korea",
          "Denmark",
          "Dominica",
          "Dominican Republic",
          "EOR",
          "Ecuador",
          "Egypt",
          "Ethiopia",
          "Fiji",
          "France",
          "Georgia",
          "Germany",
          "Great Britain",
          "Greece",
          "Grenada",
          "Guatemala",
          "Hong Kong, China",
          "Hungary",
          "IR Iran",
          "India",
          "Indonesia",
          "Ireland",
          "Israel",
          "Italy",
          "Jamaica",
          "Japan",
          "Jordan",
          "Kazakhstan",
          "Kenya",
          "Korea",
          "Kosovo",
          "Kyrgyzstan",
          "Lithuania",
          "Malaysia",
          "Mexico",
          "Mongolia",
          "Morocco",
          "Netherlands",
          "New Zealand",
          "Norway",
          "Pakistan",
          "Panama",
          "Peru",
          "Philippines",
          "Poland",
          "Portugal",
          "Puerto Rico",
          "Qatar",
          "Republic of Moldova",
          "Romania",
          "Saint Lucia",
          "Serbia",
          "Singapore",
          "Slovakia",
          "Slovenia",
          "South Africa",
          "Spain",
          "Sweden",
          "Switzerland",
          "Tajikistan",
          "Thailand",
          "Tunisia",
          "Türkiye",
          "Uganda",
          "Ukraine",
          "United States",
          "Uzbekistan",
          "Zambia"
         ],
         "legendgroup": "",
         "marker": {
          "color": [
           6,
           2,
           3,
           19,
           4,
           121,
           6,
           7,
           4,
           8,
           7,
           67,
           6,
           1,
           55,
           2,
           157,
           8,
           4,
           20,
           9,
           1,
           9,
           1,
           8,
           42,
           1,
           3,
           1,
           6,
           3,
           4,
           14,
           187,
           7,
           108,
           158,
           10,
           2,
           2,
           4,
           25,
           12,
           22,
           2,
           9,
           6,
           80,
           6,
           82,
           1,
           8,
           11,
           58,
           2,
           6,
           7,
           3,
           8,
           1,
           20,
           114,
           49,
           23,
           1,
           1,
           1,
           4,
           28,
           5,
           2,
           1,
           4,
           21,
           2,
           29,
           1,
           1,
           3,
           22,
           81,
           16,
           10,
           3,
           6,
           3,
           11,
           2,
           14,
           327,
           13,
           1
          ],
          "coloraxis": "coloraxis",
          "size": [
           6,
           2,
           3,
           19,
           4,
           121,
           6,
           7,
           4,
           8,
           7,
           67,
           6,
           1,
           55,
           2,
           157,
           8,
           4,
           20,
           9,
           1,
           9,
           1,
           8,
           42,
           1,
           3,
           1,
           6,
           3,
           4,
           14,
           187,
           7,
           108,
           158,
           10,
           2,
           2,
           4,
           25,
           12,
           22,
           2,
           9,
           6,
           80,
           6,
           82,
           1,
           8,
           11,
           58,
           2,
           6,
           7,
           3,
           8,
           1,
           20,
           114,
           49,
           23,
           1,
           1,
           1,
           4,
           28,
           5,
           2,
           1,
           4,
           21,
           2,
           29,
           1,
           1,
           3,
           22,
           81,
           16,
           10,
           3,
           6,
           3,
           11,
           2,
           14,
           327,
           13,
           1
          ],
          "sizemode": "area",
          "sizeref": 0.8175,
          "symbol": "circle"
         },
         "mode": "markers",
         "name": "",
         "orientation": "v",
         "showlegend": false,
         "type": "scatter",
         "x": [
          32,
          8,
          46,
          143,
          15,
          475,
          84,
          48,
          14,
          177,
          14,
          290,
          46,
          7,
          332,
          48,
          398,
          60,
          88,
          73,
          61,
          15,
          111,
          13,
          14,
          131,
          4,
          59,
          37,
          40,
          157,
          33,
          36,
          601,
          28,
          457,
          343,
          100,
          6,
          16,
          34,
          177,
          41,
          112,
          29,
          143,
          89,
          397,
          65,
          431,
          12,
          79,
          74,
          147,
          9,
          16,
          51,
          26,
          108,
          32,
          61,
          290,
          208,
          109,
          7,
          8,
          26,
          22,
          226,
          75,
          51,
          13,
          26,
          96,
          4,
          114,
          23,
          28,
          95,
          141,
          401,
          125,
          137,
          14,
          52,
          26,
          101,
          25,
          141,
          619,
          88,
          31
         ],
         "xaxis": "x",
         "y": [
          6,
          2,
          3,
          19,
          4,
          121,
          6,
          7,
          4,
          8,
          7,
          67,
          6,
          1,
          55,
          2,
          157,
          8,
          4,
          20,
          9,
          1,
          9,
          1,
          8,
          42,
          1,
          3,
          1,
          6,
          3,
          4,
          14,
          187,
          7,
          108,
          158,
          10,
          2,
          2,
          4,
          25,
          12,
          22,
          2,
          9,
          6,
          80,
          6,
          82,
          1,
          8,
          11,
          58,
          2,
          6,
          7,
          3,
          8,
          1,
          20,
          114,
          49,
          23,
          1,
          1,
          1,
          4,
          28,
          5,
          2,
          1,
          4,
          21,
          2,
          29,
          1,
          1,
          3,
          22,
          81,
          16,
          10,
          3,
          6,
          3,
          11,
          2,
          14,
          327,
          13,
          1
         ],
         "yaxis": "y"
        }
       ],
       "layout": {
        "coloraxis": {
         "colorbar": {
          "title": {
           "text": "Total Medals Won"
          }
         },
         "colorscale": [
          [
           0,
           "#0d0887"
          ],
          [
           0.1111111111111111,
           "#46039f"
          ],
          [
           0.2222222222222222,
           "#7201a8"
          ],
          [
           0.3333333333333333,
           "#9c179e"
          ],
          [
           0.4444444444444444,
           "#bd3786"
          ],
          [
           0.5555555555555556,
           "#d8576b"
          ],
          [
           0.6666666666666666,
           "#ed7953"
          ],
          [
           0.7777777777777778,
           "#fb9f3a"
          ],
          [
           0.8888888888888888,
           "#fdca26"
          ],
          [
           1,
           "#f0f921"
          ]
         ]
        },
        "legend": {
         "itemsizing": "constant",
         "tracegroupgap": 0
        },
        "template": {
         "data": {
          "bar": [
           {
            "error_x": {
             "color": "#2a3f5f"
            },
            "error_y": {
             "color": "#2a3f5f"
            },
            "marker": {
             "line": {
              "color": "#E5ECF6",
              "width": 0.5
             },
             "pattern": {
              "fillmode": "overlay",
              "size": 10,
              "solidity": 0.2
             }
            },
            "type": "bar"
           }
          ],
          "barpolar": [
           {
            "marker": {
             "line": {
              "color": "#E5ECF6",
              "width": 0.5
             },
             "pattern": {
              "fillmode": "overlay",
              "size": 10,
              "solidity": 0.2
             }
            },
            "type": "barpolar"
           }
          ],
          "carpet": [
           {
            "aaxis": {
             "endlinecolor": "#2a3f5f",
             "gridcolor": "white",
             "linecolor": "white",
             "minorgridcolor": "white",
             "startlinecolor": "#2a3f5f"
            },
            "baxis": {
             "endlinecolor": "#2a3f5f",
             "gridcolor": "white",
             "linecolor": "white",
             "minorgridcolor": "white",
             "startlinecolor": "#2a3f5f"
            },
            "type": "carpet"
           }
          ],
          "choropleth": [
           {
            "colorbar": {
             "outlinewidth": 0,
             "ticks": ""
            },
            "type": "choropleth"
           }
          ],
          "contour": [
           {
            "colorbar": {
             "outlinewidth": 0,
             "ticks": ""
            },
            "colorscale": [
             [
              0,
              "#0d0887"
             ],
             [
              0.1111111111111111,
              "#46039f"
             ],
             [
              0.2222222222222222,
              "#7201a8"
             ],
             [
              0.3333333333333333,
              "#9c179e"
             ],
             [
              0.4444444444444444,
              "#bd3786"
             ],
             [
              0.5555555555555556,
              "#d8576b"
             ],
             [
              0.6666666666666666,
              "#ed7953"
             ],
             [
              0.7777777777777778,
              "#fb9f3a"
             ],
             [
              0.8888888888888888,
              "#fdca26"
             ],
             [
              1,
              "#f0f921"
             ]
            ],
            "type": "contour"
           }
          ],
          "contourcarpet": [
           {
            "colorbar": {
             "outlinewidth": 0,
             "ticks": ""
            },
            "type": "contourcarpet"
           }
          ],
          "heatmap": [
           {
            "colorbar": {
             "outlinewidth": 0,
             "ticks": ""
            },
            "colorscale": [
             [
              0,
              "#0d0887"
             ],
             [
              0.1111111111111111,
              "#46039f"
             ],
             [
              0.2222222222222222,
              "#7201a8"
             ],
             [
              0.3333333333333333,
              "#9c179e"
             ],
             [
              0.4444444444444444,
              "#bd3786"
             ],
             [
              0.5555555555555556,
              "#d8576b"
             ],
             [
              0.6666666666666666,
              "#ed7953"
             ],
             [
              0.7777777777777778,
              "#fb9f3a"
             ],
             [
              0.8888888888888888,
              "#fdca26"
             ],
             [
              1,
              "#f0f921"
             ]
            ],
            "type": "heatmap"
           }
          ],
          "heatmapgl": [
           {
            "colorbar": {
             "outlinewidth": 0,
             "ticks": ""
            },
            "colorscale": [
             [
              0,
              "#0d0887"
             ],
             [
              0.1111111111111111,
              "#46039f"
             ],
             [
              0.2222222222222222,
              "#7201a8"
             ],
             [
              0.3333333333333333,
              "#9c179e"
             ],
             [
              0.4444444444444444,
              "#bd3786"
             ],
             [
              0.5555555555555556,
              "#d8576b"
             ],
             [
              0.6666666666666666,
              "#ed7953"
             ],
             [
              0.7777777777777778,
              "#fb9f3a"
             ],
             [
              0.8888888888888888,
              "#fdca26"
             ],
             [
              1,
              "#f0f921"
             ]
            ],
            "type": "heatmapgl"
           }
          ],
          "histogram": [
           {
            "marker": {
             "pattern": {
              "fillmode": "overlay",
              "size": 10,
              "solidity": 0.2
             }
            },
            "type": "histogram"
           }
          ],
          "histogram2d": [
           {
            "colorbar": {
             "outlinewidth": 0,
             "ticks": ""
            },
            "colorscale": [
             [
              0,
              "#0d0887"
             ],
             [
              0.1111111111111111,
              "#46039f"
             ],
             [
              0.2222222222222222,
              "#7201a8"
             ],
             [
              0.3333333333333333,
              "#9c179e"
             ],
             [
              0.4444444444444444,
              "#bd3786"
             ],
             [
              0.5555555555555556,
              "#d8576b"
             ],
             [
              0.6666666666666666,
              "#ed7953"
             ],
             [
              0.7777777777777778,
              "#fb9f3a"
             ],
             [
              0.8888888888888888,
              "#fdca26"
             ],
             [
              1,
              "#f0f921"
             ]
            ],
            "type": "histogram2d"
           }
          ],
          "histogram2dcontour": [
           {
            "colorbar": {
             "outlinewidth": 0,
             "ticks": ""
            },
            "colorscale": [
             [
              0,
              "#0d0887"
             ],
             [
              0.1111111111111111,
              "#46039f"
             ],
             [
              0.2222222222222222,
              "#7201a8"
             ],
             [
              0.3333333333333333,
              "#9c179e"
             ],
             [
              0.4444444444444444,
              "#bd3786"
             ],
             [
              0.5555555555555556,
              "#d8576b"
             ],
             [
              0.6666666666666666,
              "#ed7953"
             ],
             [
              0.7777777777777778,
              "#fb9f3a"
             ],
             [
              0.8888888888888888,
              "#fdca26"
             ],
             [
              1,
              "#f0f921"
             ]
            ],
            "type": "histogram2dcontour"
           }
          ],
          "mesh3d": [
           {
            "colorbar": {
             "outlinewidth": 0,
             "ticks": ""
            },
            "type": "mesh3d"
           }
          ],
          "parcoords": [
           {
            "line": {
             "colorbar": {
              "outlinewidth": 0,
              "ticks": ""
             }
            },
            "type": "parcoords"
           }
          ],
          "pie": [
           {
            "automargin": true,
            "type": "pie"
           }
          ],
          "scatter": [
           {
            "fillpattern": {
             "fillmode": "overlay",
             "size": 10,
             "solidity": 0.2
            },
            "type": "scatter"
           }
          ],
          "scatter3d": [
           {
            "line": {
             "colorbar": {
              "outlinewidth": 0,
              "ticks": ""
             }
            },
            "marker": {
             "colorbar": {
              "outlinewidth": 0,
              "ticks": ""
             }
            },
            "type": "scatter3d"
           }
          ],
          "scattercarpet": [
           {
            "marker": {
             "colorbar": {
              "outlinewidth": 0,
              "ticks": ""
             }
            },
            "type": "scattercarpet"
           }
          ],
          "scattergeo": [
           {
            "marker": {
             "colorbar": {
              "outlinewidth": 0,
              "ticks": ""
             }
            },
            "type": "scattergeo"
           }
          ],
          "scattergl": [
           {
            "marker": {
             "colorbar": {
              "outlinewidth": 0,
              "ticks": ""
             }
            },
            "type": "scattergl"
           }
          ],
          "scattermapbox": [
           {
            "marker": {
             "colorbar": {
              "outlinewidth": 0,
              "ticks": ""
             }
            },
            "type": "scattermapbox"
           }
          ],
          "scatterpolar": [
           {
            "marker": {
             "colorbar": {
              "outlinewidth": 0,
              "ticks": ""
             }
            },
            "type": "scatterpolar"
           }
          ],
          "scatterpolargl": [
           {
            "marker": {
             "colorbar": {
              "outlinewidth": 0,
              "ticks": ""
             }
            },
            "type": "scatterpolargl"
           }
          ],
          "scatterternary": [
           {
            "marker": {
             "colorbar": {
              "outlinewidth": 0,
              "ticks": ""
             }
            },
            "type": "scatterternary"
           }
          ],
          "surface": [
           {
            "colorbar": {
             "outlinewidth": 0,
             "ticks": ""
            },
            "colorscale": [
             [
              0,
              "#0d0887"
             ],
             [
              0.1111111111111111,
              "#46039f"
             ],
             [
              0.2222222222222222,
              "#7201a8"
             ],
             [
              0.3333333333333333,
              "#9c179e"
             ],
             [
              0.4444444444444444,
              "#bd3786"
             ],
             [
              0.5555555555555556,
              "#d8576b"
             ],
             [
              0.6666666666666666,
              "#ed7953"
             ],
             [
              0.7777777777777778,
              "#fb9f3a"
             ],
             [
              0.8888888888888888,
              "#fdca26"
             ],
             [
              1,
              "#f0f921"
             ]
            ],
            "type": "surface"
           }
          ],
          "table": [
           {
            "cells": {
             "fill": {
              "color": "#EBF0F8"
             },
             "line": {
              "color": "white"
             }
            },
            "header": {
             "fill": {
              "color": "#C8D4E3"
             },
             "line": {
              "color": "white"
             }
            },
            "type": "table"
           }
          ]
         },
         "layout": {
          "annotationdefaults": {
           "arrowcolor": "#2a3f5f",
           "arrowhead": 0,
           "arrowwidth": 1
          },
          "autotypenumbers": "strict",
          "coloraxis": {
           "colorbar": {
            "outlinewidth": 0,
            "ticks": ""
           }
          },
          "colorscale": {
           "diverging": [
            [
             0,
             "#8e0152"
            ],
            [
             0.1,
             "#c51b7d"
            ],
            [
             0.2,
             "#de77ae"
            ],
            [
             0.3,
             "#f1b6da"
            ],
            [
             0.4,
             "#fde0ef"
            ],
            [
             0.5,
             "#f7f7f7"
            ],
            [
             0.6,
             "#e6f5d0"
            ],
            [
             0.7,
             "#b8e186"
            ],
            [
             0.8,
             "#7fbc41"
            ],
            [
             0.9,
             "#4d9221"
            ],
            [
             1,
             "#276419"
            ]
           ],
           "sequential": [
            [
             0,
             "#0d0887"
            ],
            [
             0.1111111111111111,
             "#46039f"
            ],
            [
             0.2222222222222222,
             "#7201a8"
            ],
            [
             0.3333333333333333,
             "#9c179e"
            ],
            [
             0.4444444444444444,
             "#bd3786"
            ],
            [
             0.5555555555555556,
             "#d8576b"
            ],
            [
             0.6666666666666666,
             "#ed7953"
            ],
            [
             0.7777777777777778,
             "#fb9f3a"
            ],
            [
             0.8888888888888888,
             "#fdca26"
            ],
            [
             1,
             "#f0f921"
            ]
           ],
           "sequentialminus": [
            [
             0,
             "#0d0887"
            ],
            [
             0.1111111111111111,
             "#46039f"
            ],
            [
             0.2222222222222222,
             "#7201a8"
            ],
            [
             0.3333333333333333,
             "#9c179e"
            ],
            [
             0.4444444444444444,
             "#bd3786"
            ],
            [
             0.5555555555555556,
             "#d8576b"
            ],
            [
             0.6666666666666666,
             "#ed7953"
            ],
            [
             0.7777777777777778,
             "#fb9f3a"
            ],
            [
             0.8888888888888888,
             "#fdca26"
            ],
            [
             1,
             "#f0f921"
            ]
           ]
          },
          "colorway": [
           "#636efa",
           "#EF553B",
           "#00cc96",
           "#ab63fa",
           "#FFA15A",
           "#19d3f3",
           "#FF6692",
           "#B6E880",
           "#FF97FF",
           "#FECB52"
          ],
          "font": {
           "color": "#2a3f5f"
          },
          "geo": {
           "bgcolor": "white",
           "lakecolor": "white",
           "landcolor": "#E5ECF6",
           "showlakes": true,
           "showland": true,
           "subunitcolor": "white"
          },
          "hoverlabel": {
           "align": "left"
          },
          "hovermode": "closest",
          "mapbox": {
           "style": "light"
          },
          "paper_bgcolor": "white",
          "plot_bgcolor": "#E5ECF6",
          "polar": {
           "angularaxis": {
            "gridcolor": "white",
            "linecolor": "white",
            "ticks": ""
           },
           "bgcolor": "#E5ECF6",
           "radialaxis": {
            "gridcolor": "white",
            "linecolor": "white",
            "ticks": ""
           }
          },
          "scene": {
           "xaxis": {
            "backgroundcolor": "#E5ECF6",
            "gridcolor": "white",
            "gridwidth": 2,
            "linecolor": "white",
            "showbackground": true,
            "ticks": "",
            "zerolinecolor": "white"
           },
           "yaxis": {
            "backgroundcolor": "#E5ECF6",
            "gridcolor": "white",
            "gridwidth": 2,
            "linecolor": "white",
            "showbackground": true,
            "ticks": "",
            "zerolinecolor": "white"
           },
           "zaxis": {
            "backgroundcolor": "#E5ECF6",
            "gridcolor": "white",
            "gridwidth": 2,
            "linecolor": "white",
            "showbackground": true,
            "ticks": "",
            "zerolinecolor": "white"
           }
          },
          "shapedefaults": {
           "line": {
            "color": "#2a3f5f"
           }
          },
          "ternary": {
           "aaxis": {
            "gridcolor": "white",
            "linecolor": "white",
            "ticks": ""
           },
           "baxis": {
            "gridcolor": "white",
            "linecolor": "white",
            "ticks": ""
           },
           "bgcolor": "#E5ECF6",
           "caxis": {
            "gridcolor": "white",
            "linecolor": "white",
            "ticks": ""
           }
          },
          "title": {
           "x": 0.05
          },
          "xaxis": {
           "automargin": true,
           "gridcolor": "white",
           "linecolor": "white",
           "ticks": "",
           "title": {
            "standoff": 15
           },
           "zerolinecolor": "white",
           "zerolinewidth": 2
          },
          "yaxis": {
           "automargin": true,
           "gridcolor": "white",
           "linecolor": "white",
           "ticks": "",
           "title": {
            "standoff": 15
           },
           "zerolinecolor": "white",
           "zerolinewidth": 2
          }
         }
        },
        "title": {
         "text": "Medals Won vs. Athletes Sent (Conversion Efficiency)"
        },
        "xaxis": {
         "anchor": "y",
         "domain": [
          0,
          1
         ],
         "title": {
          "text": "Number of Athletes Sent"
         }
        },
        "yaxis": {
         "anchor": "x",
         "domain": [
          0,
          1
         ],
         "title": {
          "text": "Total Medals Won"
         }
        }
       }
      }
     },
     "metadata": {},
     "output_type": "display_data"
    }
   ],
   "source": [
    "import pandas as pd\n",
    "import plotly.express as px\n",
    "\n",
    "# Load datasets\n",
    "athletes_path = r\"C:\\Users\\sreev\\Data Visualization\\Olympics 2024\\athletes.csv\"\n",
    "total_medals_path = r\"C:\\Users\\sreev\\Data Visualization\\Olympics 2024\\Paris 2024 Summer Olympic Games Data analysis\\Exported Data\\Total Medals by Country.csv\"\n",
    "\n",
    "athletes_df = pd.read_csv(athletes_path)\n",
    "total_medals_df = pd.read_csv(total_medals_path)\n",
    "\n",
    "# Step 1: Calculate Athletes Sent by Country\n",
    "athletes_sent = athletes_df.groupby('country', as_index=False).size()\n",
    "athletes_sent.rename(columns={'size': 'Athletes Sent', 'country': 'Country'}, inplace=True)\n",
    "\n",
    "# Step 2: Calculate Total Medals Won by Country\n",
    "total_medals_df['Medals Won'] = total_medals_df[['Gold', 'Silver', 'Bronze']].sum(axis=1)\n",
    "\n",
    "# Rename 'country' in total_medals_df to 'Country' for consistency\n",
    "total_medals_df.rename(columns={'country': 'Country'}, inplace=True)\n",
    "\n",
    "# Perform the inner join\n",
    "efficiency_df = pd.merge(\n",
    "    athletes_sent,\n",
    "    total_medals_df,\n",
    "    on='Country',\n",
    "    how='inner',\n",
    "    suffixes=('_athletes', '_medals')\n",
    ")\n",
    "efficiency_df.head()\n",
    "# Add a new column for Medals Won by summing Gold, Silver, and Bronze\n",
    "efficiency_df['Medals Won'] = efficiency_df[['Gold', 'Silver', 'Bronze']].sum(axis=1)\n",
    "efficiency_df.to_csv(\"efficiency_df.csv\", index=False)\n",
    "# Verify the updated dataframe\n",
    "# print(efficiency_df.head())\n",
    "\n",
    "# Proceed with the scatter plot\n",
    "fig = px.scatter(\n",
    "    efficiency_df,\n",
    "    x='Athletes Sent',\n",
    "    y='Medals Won',\n",
    "    size='Medals Won',  # Bubble size represents medals won\n",
    "    color='Medals Won',  # Color by total medals\n",
    "    hover_name='Country',\n",
    "    title=\"Medals Won vs. Athletes Sent (Conversion Efficiency)\",\n",
    "    labels={'Athletes Sent': 'Athletes Sent', 'Medals Won': 'Total Medals Won'}\n",
    ")\n",
    "\n",
    "# Update layout for clarity\n",
    "fig.update_layout(\n",
    "    xaxis_title=\"Number of Athletes Sent\",\n",
    "    yaxis_title=\"Total Medals Won\",\n",
    "    coloraxis_colorbar=dict(title=\"Total Medals Won\"),\n",
    ")\n",
    "\n",
    "fig.show()\n"
   ]
  },
  {
   "cell_type": "code",
   "execution_count": 44,
   "metadata": {},
   "outputs": [
    {
     "name": "stdout",
     "output_type": "stream",
     "text": [
      "  code               country          country_long                   tag note\n",
      "0  AFG           Afghanistan           Afghanistan           afghanistan    P\n",
      "1  AHO  Netherlands Antilles  Netherlands Antilles  netherlands-antilles    H\n",
      "2  AIN                   AIN                   AIN                   ain    P\n",
      "3  ALB               Albania               Albania               albania    P\n",
      "4  ALG               Algeria               Algeria               algeria    P\n",
      "Index(['Country', 'Athletes Sent', 'Gold', 'Silver', 'Bronze', 'Medals Won',\n",
      "       'ISO_Code', 'Conversion Rate'],\n",
      "      dtype='object')\n"
     ]
    },
    {
     "data": {
      "application/vnd.plotly.v1+json": {
       "config": {
        "plotlyServerURL": "https://plot.ly"
       },
       "data": [
        {
         "customdata": [
          [
           32,
           6,
           0.1875
          ],
          [
           8,
           2,
           0.25
          ],
          [
           46,
           3,
           0.06521739130434782
          ],
          [
           143,
           19,
           0.13286713286713286
          ],
          [
           15,
           4,
           0.26666666666666666
          ],
          [
           475,
           121,
           0.25473684210526315
          ],
          [
           84,
           6,
           0.07142857142857142
          ],
          [
           48,
           7,
           0.14583333333333334
          ],
          [
           14,
           4,
           0.2857142857142857
          ],
          [
           177,
           8,
           0.04519774011299435
          ],
          [
           14,
           7,
           0.5
          ],
          [
           290,
           67,
           0.23103448275862068
          ],
          [
           46,
           6,
           0.13043478260869565
          ],
          [
           7,
           1,
           0.14285714285714285
          ],
          [
           332,
           55,
           0.16566265060240964
          ],
          [
           48,
           2,
           0.041666666666666664
          ],
          [
           398,
           157,
           0.3944723618090452
          ],
          [
           60,
           8,
           0.13333333333333333
          ],
          [
           88,
           4,
           0.045454545454545456
          ],
          [
           73,
           20,
           0.273972602739726
          ],
          [
           61,
           9,
           0.14754098360655737
          ],
          [
           15,
           1,
           0.06666666666666667
          ],
          [
           111,
           9,
           0.08108108108108109
          ],
          [
           13,
           1,
           0.07692307692307693
          ],
          [
           14,
           8,
           0.5714285714285714
          ],
          [
           131,
           42,
           0.32061068702290074
          ],
          [
           4,
           1,
           0.25
          ],
          [
           59,
           3,
           0.05084745762711865
          ],
          [
           37,
           1,
           0.02702702702702703
          ],
          [
           40,
           6,
           0.15
          ],
          [
           157,
           3,
           0.01910828025477707
          ],
          [
           33,
           4,
           0.12121212121212122
          ],
          [
           36,
           14,
           0.3888888888888889
          ],
          [
           601,
           187,
           0.31114808652246256
          ],
          [
           28,
           7,
           0.25
          ],
          [
           457,
           108,
           0.2363238512035011
          ],
          [
           343,
           158,
           0.4606413994169096
          ],
          [
           100,
           10,
           0.1
          ],
          [
           6,
           2,
           0.3333333333333333
          ],
          [
           16,
           2,
           0.125
          ],
          [
           34,
           4,
           0.11764705882352941
          ],
          [
           177,
           25,
           0.14124293785310735
          ],
          [
           41,
           12,
           0.2926829268292683
          ],
          [
           112,
           22,
           0.19642857142857142
          ],
          [
           29,
           2,
           0.06896551724137931
          ],
          [
           143,
           9,
           0.06293706293706294
          ],
          [
           89,
           6,
           0.06741573033707865
          ],
          [
           397,
           80,
           0.20151133501259447
          ],
          [
           65,
           6,
           0.09230769230769231
          ],
          [
           431,
           82,
           0.1902552204176334
          ],
          [
           12,
           1,
           0.08333333333333333
          ],
          [
           79,
           8,
           0.10126582278481013
          ],
          [
           74,
           11,
           0.14864864864864866
          ],
          [
           147,
           58,
           0.3945578231292517
          ],
          [
           147,
           58,
           0.3945578231292517
          ],
          [
           9,
           2,
           0.2222222222222222
          ],
          [
           16,
           6,
           0.375
          ],
          [
           51,
           7,
           0.13725490196078433
          ],
          [
           26,
           3,
           0.11538461538461539
          ],
          [
           108,
           8,
           0.07407407407407407
          ],
          [
           32,
           1,
           0.03125
          ],
          [
           61,
           20,
           0.32786885245901637
          ],
          [
           290,
           114,
           0.3931034482758621
          ],
          [
           208,
           49,
           0.23557692307692307
          ],
          [
           109,
           23,
           0.21100917431192662
          ],
          [
           7,
           1,
           0.14285714285714285
          ],
          [
           8,
           1,
           0.125
          ],
          [
           26,
           1,
           0.038461538461538464
          ],
          [
           22,
           4,
           0.18181818181818182
          ],
          [
           226,
           28,
           0.12389380530973451
          ],
          [
           75,
           5,
           0.06666666666666667
          ],
          [
           51,
           2,
           0.0392156862745098
          ],
          [
           13,
           1,
           0.07692307692307693
          ],
          [
           26,
           4,
           0.15384615384615385
          ],
          [
           96,
           21,
           0.21875
          ],
          [
           4,
           2,
           0.5
          ],
          [
           114,
           29,
           0.2543859649122807
          ],
          [
           23,
           1,
           0.043478260869565216
          ],
          [
           28,
           1,
           0.03571428571428571
          ],
          [
           95,
           3,
           0.031578947368421054
          ],
          [
           141,
           22,
           0.15602836879432624
          ],
          [
           401,
           81,
           0.20199501246882792
          ],
          [
           125,
           16,
           0.128
          ],
          [
           137,
           10,
           0.072992700729927
          ],
          [
           14,
           3,
           0.21428571428571427
          ],
          [
           52,
           6,
           0.11538461538461539
          ],
          [
           26,
           3,
           0.11538461538461539
          ],
          [
           101,
           11,
           0.10891089108910891
          ],
          [
           25,
           2,
           0.08
          ],
          [
           141,
           14,
           0.09929078014184398
          ],
          [
           619,
           327,
           0.5282714054927302
          ],
          [
           88,
           13,
           0.14772727272727273
          ],
          [
           31,
           1,
           0.03225806451612903
          ]
         ],
         "geo": "geo",
         "hovertemplate": "<b>%{hovertext}</b><br><br>Conversion Rate=%{marker.color:.2f}<br>ISO_Code=%{location}<br>Athletes Sent=%{customdata[0]}<br>Medals Won=%{customdata[1]}<extra></extra>",
         "hovertext": [
          "AIN",
          "Albania",
          "Algeria",
          "Argentina",
          "Armenia",
          "Australia",
          "Austria",
          "Azerbaijan",
          "Bahrain",
          "Belgium",
          "Botswana",
          "Brazil",
          "Bulgaria",
          "Cabo Verde",
          "Canada",
          "Chile",
          "China",
          "Chinese Taipei",
          "Colombia",
          "Croatia",
          "Cuba",
          "Cyprus",
          "Czechia",
          "Côte d'Ivoire",
          "DPR Korea",
          "Denmark",
          "Dominica",
          "Dominican Republic",
          "EOR",
          "Ecuador",
          "Egypt",
          "Ethiopia",
          "Fiji",
          "France",
          "Georgia",
          "Germany",
          "Great Britain",
          "Greece",
          "Grenada",
          "Guatemala",
          "Hong Kong, China",
          "Hungary",
          "IR Iran",
          "India",
          "Indonesia",
          "Ireland",
          "Israel",
          "Italy",
          "Jamaica",
          "Japan",
          "Jordan",
          "Kazakhstan",
          "Kenya",
          "Korea",
          "Korea",
          "Kosovo",
          "Kyrgyzstan",
          "Lithuania",
          "Malaysia",
          "Mexico",
          "Mongolia",
          "Morocco",
          "Netherlands",
          "New Zealand",
          "Norway",
          "Pakistan",
          "Panama",
          "Peru",
          "Philippines",
          "Poland",
          "Portugal",
          "Puerto Rico",
          "Qatar",
          "Republic of Moldova",
          "Romania",
          "Saint Lucia",
          "Serbia",
          "Singapore",
          "Slovakia",
          "Slovenia",
          "South Africa",
          "Spain",
          "Sweden",
          "Switzerland",
          "Tajikistan",
          "Thailand",
          "Tunisia",
          "Türkiye",
          "Uganda",
          "Ukraine",
          "United States",
          "Uzbekistan",
          "Zambia"
         ],
         "legendgroup": "",
         "locationmode": "ISO-3",
         "locations": [
          "AIN",
          "ALB",
          "ALG",
          "ARG",
          "ARM",
          "AUS",
          "AUT",
          "AZE",
          "BRN",
          "BEL",
          "BOT",
          "BRA",
          "BUL",
          "CPV",
          "CAN",
          "CHI",
          "CHN",
          "TPE",
          "COL",
          "CRO",
          "CUB",
          "CYP",
          "CZE",
          "CIV",
          "PRK",
          "DEN",
          "DMA",
          "DOM",
          "EOR",
          "ECU",
          "EGY",
          "ETH",
          "FIJ",
          "FRA",
          "GEO",
          "GER",
          "GBR",
          "GRE",
          "GRN",
          "GUA",
          "HKG",
          "HUN",
          "IRI",
          "IND",
          "INA",
          "IRL",
          "ISR",
          "ITA",
          "JAM",
          "JPN",
          "JOR",
          "KAZ",
          "KEN",
          "COR",
          "KOR",
          "KOS",
          "KGZ",
          "LTU",
          "MAS",
          "MEX",
          "MGL",
          "MAR",
          "NED",
          "NZL",
          "NOR",
          "PAK",
          "PAN",
          "PER",
          "PHI",
          "POL",
          "POR",
          "PUR",
          "QAT",
          "MDA",
          "ROU",
          "LCA",
          "SRB",
          "SGP",
          "SVK",
          "SLO",
          "RSA",
          "ESP",
          "SWE",
          "SUI",
          "TJK",
          "THA",
          "TUN",
          "TUR",
          "UGA",
          "UKR",
          "USA",
          "UZB",
          "ZAM"
         ],
         "marker": {
          "color": [
           0.1875,
           0.25,
           0.06521739130434782,
           0.13286713286713286,
           0.26666666666666666,
           0.25473684210526315,
           0.07142857142857142,
           0.14583333333333334,
           0.2857142857142857,
           0.04519774011299435,
           0.5,
           0.23103448275862068,
           0.13043478260869565,
           0.14285714285714285,
           0.16566265060240964,
           0.041666666666666664,
           0.3944723618090452,
           0.13333333333333333,
           0.045454545454545456,
           0.273972602739726,
           0.14754098360655737,
           0.06666666666666667,
           0.08108108108108109,
           0.07692307692307693,
           0.5714285714285714,
           0.32061068702290074,
           0.25,
           0.05084745762711865,
           0.02702702702702703,
           0.15,
           0.01910828025477707,
           0.12121212121212122,
           0.3888888888888889,
           0.31114808652246256,
           0.25,
           0.2363238512035011,
           0.4606413994169096,
           0.1,
           0.3333333333333333,
           0.125,
           0.11764705882352941,
           0.14124293785310735,
           0.2926829268292683,
           0.19642857142857142,
           0.06896551724137931,
           0.06293706293706294,
           0.06741573033707865,
           0.20151133501259447,
           0.09230769230769231,
           0.1902552204176334,
           0.08333333333333333,
           0.10126582278481013,
           0.14864864864864866,
           0.3945578231292517,
           0.3945578231292517,
           0.2222222222222222,
           0.375,
           0.13725490196078433,
           0.11538461538461539,
           0.07407407407407407,
           0.03125,
           0.32786885245901637,
           0.3931034482758621,
           0.23557692307692307,
           0.21100917431192662,
           0.14285714285714285,
           0.125,
           0.038461538461538464,
           0.18181818181818182,
           0.12389380530973451,
           0.06666666666666667,
           0.0392156862745098,
           0.07692307692307693,
           0.15384615384615385,
           0.21875,
           0.5,
           0.2543859649122807,
           0.043478260869565216,
           0.03571428571428571,
           0.031578947368421054,
           0.15602836879432624,
           0.20199501246882792,
           0.128,
           0.072992700729927,
           0.21428571428571427,
           0.11538461538461539,
           0.11538461538461539,
           0.10891089108910891,
           0.08,
           0.09929078014184398,
           0.5282714054927302,
           0.14772727272727273,
           0.03225806451612903
          ],
          "coloraxis": "coloraxis",
          "size": [
           0.1875,
           0.25,
           0.06521739130434782,
           0.13286713286713286,
           0.26666666666666666,
           0.25473684210526315,
           0.07142857142857142,
           0.14583333333333334,
           0.2857142857142857,
           0.04519774011299435,
           0.5,
           0.23103448275862068,
           0.13043478260869565,
           0.14285714285714285,
           0.16566265060240964,
           0.041666666666666664,
           0.3944723618090452,
           0.13333333333333333,
           0.045454545454545456,
           0.273972602739726,
           0.14754098360655737,
           0.06666666666666667,
           0.08108108108108109,
           0.07692307692307693,
           0.5714285714285714,
           0.32061068702290074,
           0.25,
           0.05084745762711865,
           0.02702702702702703,
           0.15,
           0.01910828025477707,
           0.12121212121212122,
           0.3888888888888889,
           0.31114808652246256,
           0.25,
           0.2363238512035011,
           0.4606413994169096,
           0.1,
           0.3333333333333333,
           0.125,
           0.11764705882352941,
           0.14124293785310735,
           0.2926829268292683,
           0.19642857142857142,
           0.06896551724137931,
           0.06293706293706294,
           0.06741573033707865,
           0.20151133501259447,
           0.09230769230769231,
           0.1902552204176334,
           0.08333333333333333,
           0.10126582278481013,
           0.14864864864864866,
           0.3945578231292517,
           0.3945578231292517,
           0.2222222222222222,
           0.375,
           0.13725490196078433,
           0.11538461538461539,
           0.07407407407407407,
           0.03125,
           0.32786885245901637,
           0.3931034482758621,
           0.23557692307692307,
           0.21100917431192662,
           0.14285714285714285,
           0.125,
           0.038461538461538464,
           0.18181818181818182,
           0.12389380530973451,
           0.06666666666666667,
           0.0392156862745098,
           0.07692307692307693,
           0.15384615384615385,
           0.21875,
           0.5,
           0.2543859649122807,
           0.043478260869565216,
           0.03571428571428571,
           0.031578947368421054,
           0.15602836879432624,
           0.20199501246882792,
           0.128,
           0.072992700729927,
           0.21428571428571427,
           0.11538461538461539,
           0.11538461538461539,
           0.10891089108910891,
           0.08,
           0.09929078014184398,
           0.5282714054927302,
           0.14772727272727273,
           0.03225806451612903
          ],
          "sizemode": "area",
          "sizeref": 0.0014285714285714286,
          "symbol": "circle"
         },
         "mode": "markers",
         "name": "",
         "showlegend": false,
         "type": "scattergeo"
        }
       ],
       "layout": {
        "coloraxis": {
         "colorbar": {
          "len": 0.5,
          "ticksuffix": "%",
          "title": {
           "text": "Conversion Rate"
          }
         },
         "colorscale": [
          [
           0,
           "#0d0887"
          ],
          [
           0.1111111111111111,
           "#46039f"
          ],
          [
           0.2222222222222222,
           "#7201a8"
          ],
          [
           0.3333333333333333,
           "#9c179e"
          ],
          [
           0.4444444444444444,
           "#bd3786"
          ],
          [
           0.5555555555555556,
           "#d8576b"
          ],
          [
           0.6666666666666666,
           "#ed7953"
          ],
          [
           0.7777777777777778,
           "#fb9f3a"
          ],
          [
           0.8888888888888888,
           "#fdca26"
          ],
          [
           1,
           "#f0f921"
          ]
         ]
        },
        "geo": {
         "center": {},
         "domain": {
          "x": [
           0,
           1
          ],
          "y": [
           0,
           1
          ]
         },
         "projection": {
          "type": "natural earth"
         },
         "showcoastlines": true,
         "showframe": false
        },
        "legend": {
         "itemsizing": "constant",
         "tracegroupgap": 0
        },
        "template": {
         "data": {
          "bar": [
           {
            "error_x": {
             "color": "#2a3f5f"
            },
            "error_y": {
             "color": "#2a3f5f"
            },
            "marker": {
             "line": {
              "color": "#E5ECF6",
              "width": 0.5
             },
             "pattern": {
              "fillmode": "overlay",
              "size": 10,
              "solidity": 0.2
             }
            },
            "type": "bar"
           }
          ],
          "barpolar": [
           {
            "marker": {
             "line": {
              "color": "#E5ECF6",
              "width": 0.5
             },
             "pattern": {
              "fillmode": "overlay",
              "size": 10,
              "solidity": 0.2
             }
            },
            "type": "barpolar"
           }
          ],
          "carpet": [
           {
            "aaxis": {
             "endlinecolor": "#2a3f5f",
             "gridcolor": "white",
             "linecolor": "white",
             "minorgridcolor": "white",
             "startlinecolor": "#2a3f5f"
            },
            "baxis": {
             "endlinecolor": "#2a3f5f",
             "gridcolor": "white",
             "linecolor": "white",
             "minorgridcolor": "white",
             "startlinecolor": "#2a3f5f"
            },
            "type": "carpet"
           }
          ],
          "choropleth": [
           {
            "colorbar": {
             "outlinewidth": 0,
             "ticks": ""
            },
            "type": "choropleth"
           }
          ],
          "contour": [
           {
            "colorbar": {
             "outlinewidth": 0,
             "ticks": ""
            },
            "colorscale": [
             [
              0,
              "#0d0887"
             ],
             [
              0.1111111111111111,
              "#46039f"
             ],
             [
              0.2222222222222222,
              "#7201a8"
             ],
             [
              0.3333333333333333,
              "#9c179e"
             ],
             [
              0.4444444444444444,
              "#bd3786"
             ],
             [
              0.5555555555555556,
              "#d8576b"
             ],
             [
              0.6666666666666666,
              "#ed7953"
             ],
             [
              0.7777777777777778,
              "#fb9f3a"
             ],
             [
              0.8888888888888888,
              "#fdca26"
             ],
             [
              1,
              "#f0f921"
             ]
            ],
            "type": "contour"
           }
          ],
          "contourcarpet": [
           {
            "colorbar": {
             "outlinewidth": 0,
             "ticks": ""
            },
            "type": "contourcarpet"
           }
          ],
          "heatmap": [
           {
            "colorbar": {
             "outlinewidth": 0,
             "ticks": ""
            },
            "colorscale": [
             [
              0,
              "#0d0887"
             ],
             [
              0.1111111111111111,
              "#46039f"
             ],
             [
              0.2222222222222222,
              "#7201a8"
             ],
             [
              0.3333333333333333,
              "#9c179e"
             ],
             [
              0.4444444444444444,
              "#bd3786"
             ],
             [
              0.5555555555555556,
              "#d8576b"
             ],
             [
              0.6666666666666666,
              "#ed7953"
             ],
             [
              0.7777777777777778,
              "#fb9f3a"
             ],
             [
              0.8888888888888888,
              "#fdca26"
             ],
             [
              1,
              "#f0f921"
             ]
            ],
            "type": "heatmap"
           }
          ],
          "heatmapgl": [
           {
            "colorbar": {
             "outlinewidth": 0,
             "ticks": ""
            },
            "colorscale": [
             [
              0,
              "#0d0887"
             ],
             [
              0.1111111111111111,
              "#46039f"
             ],
             [
              0.2222222222222222,
              "#7201a8"
             ],
             [
              0.3333333333333333,
              "#9c179e"
             ],
             [
              0.4444444444444444,
              "#bd3786"
             ],
             [
              0.5555555555555556,
              "#d8576b"
             ],
             [
              0.6666666666666666,
              "#ed7953"
             ],
             [
              0.7777777777777778,
              "#fb9f3a"
             ],
             [
              0.8888888888888888,
              "#fdca26"
             ],
             [
              1,
              "#f0f921"
             ]
            ],
            "type": "heatmapgl"
           }
          ],
          "histogram": [
           {
            "marker": {
             "pattern": {
              "fillmode": "overlay",
              "size": 10,
              "solidity": 0.2
             }
            },
            "type": "histogram"
           }
          ],
          "histogram2d": [
           {
            "colorbar": {
             "outlinewidth": 0,
             "ticks": ""
            },
            "colorscale": [
             [
              0,
              "#0d0887"
             ],
             [
              0.1111111111111111,
              "#46039f"
             ],
             [
              0.2222222222222222,
              "#7201a8"
             ],
             [
              0.3333333333333333,
              "#9c179e"
             ],
             [
              0.4444444444444444,
              "#bd3786"
             ],
             [
              0.5555555555555556,
              "#d8576b"
             ],
             [
              0.6666666666666666,
              "#ed7953"
             ],
             [
              0.7777777777777778,
              "#fb9f3a"
             ],
             [
              0.8888888888888888,
              "#fdca26"
             ],
             [
              1,
              "#f0f921"
             ]
            ],
            "type": "histogram2d"
           }
          ],
          "histogram2dcontour": [
           {
            "colorbar": {
             "outlinewidth": 0,
             "ticks": ""
            },
            "colorscale": [
             [
              0,
              "#0d0887"
             ],
             [
              0.1111111111111111,
              "#46039f"
             ],
             [
              0.2222222222222222,
              "#7201a8"
             ],
             [
              0.3333333333333333,
              "#9c179e"
             ],
             [
              0.4444444444444444,
              "#bd3786"
             ],
             [
              0.5555555555555556,
              "#d8576b"
             ],
             [
              0.6666666666666666,
              "#ed7953"
             ],
             [
              0.7777777777777778,
              "#fb9f3a"
             ],
             [
              0.8888888888888888,
              "#fdca26"
             ],
             [
              1,
              "#f0f921"
             ]
            ],
            "type": "histogram2dcontour"
           }
          ],
          "mesh3d": [
           {
            "colorbar": {
             "outlinewidth": 0,
             "ticks": ""
            },
            "type": "mesh3d"
           }
          ],
          "parcoords": [
           {
            "line": {
             "colorbar": {
              "outlinewidth": 0,
              "ticks": ""
             }
            },
            "type": "parcoords"
           }
          ],
          "pie": [
           {
            "automargin": true,
            "type": "pie"
           }
          ],
          "scatter": [
           {
            "fillpattern": {
             "fillmode": "overlay",
             "size": 10,
             "solidity": 0.2
            },
            "type": "scatter"
           }
          ],
          "scatter3d": [
           {
            "line": {
             "colorbar": {
              "outlinewidth": 0,
              "ticks": ""
             }
            },
            "marker": {
             "colorbar": {
              "outlinewidth": 0,
              "ticks": ""
             }
            },
            "type": "scatter3d"
           }
          ],
          "scattercarpet": [
           {
            "marker": {
             "colorbar": {
              "outlinewidth": 0,
              "ticks": ""
             }
            },
            "type": "scattercarpet"
           }
          ],
          "scattergeo": [
           {
            "marker": {
             "colorbar": {
              "outlinewidth": 0,
              "ticks": ""
             }
            },
            "type": "scattergeo"
           }
          ],
          "scattergl": [
           {
            "marker": {
             "colorbar": {
              "outlinewidth": 0,
              "ticks": ""
             }
            },
            "type": "scattergl"
           }
          ],
          "scattermapbox": [
           {
            "marker": {
             "colorbar": {
              "outlinewidth": 0,
              "ticks": ""
             }
            },
            "type": "scattermapbox"
           }
          ],
          "scatterpolar": [
           {
            "marker": {
             "colorbar": {
              "outlinewidth": 0,
              "ticks": ""
             }
            },
            "type": "scatterpolar"
           }
          ],
          "scatterpolargl": [
           {
            "marker": {
             "colorbar": {
              "outlinewidth": 0,
              "ticks": ""
             }
            },
            "type": "scatterpolargl"
           }
          ],
          "scatterternary": [
           {
            "marker": {
             "colorbar": {
              "outlinewidth": 0,
              "ticks": ""
             }
            },
            "type": "scatterternary"
           }
          ],
          "surface": [
           {
            "colorbar": {
             "outlinewidth": 0,
             "ticks": ""
            },
            "colorscale": [
             [
              0,
              "#0d0887"
             ],
             [
              0.1111111111111111,
              "#46039f"
             ],
             [
              0.2222222222222222,
              "#7201a8"
             ],
             [
              0.3333333333333333,
              "#9c179e"
             ],
             [
              0.4444444444444444,
              "#bd3786"
             ],
             [
              0.5555555555555556,
              "#d8576b"
             ],
             [
              0.6666666666666666,
              "#ed7953"
             ],
             [
              0.7777777777777778,
              "#fb9f3a"
             ],
             [
              0.8888888888888888,
              "#fdca26"
             ],
             [
              1,
              "#f0f921"
             ]
            ],
            "type": "surface"
           }
          ],
          "table": [
           {
            "cells": {
             "fill": {
              "color": "#EBF0F8"
             },
             "line": {
              "color": "white"
             }
            },
            "header": {
             "fill": {
              "color": "#C8D4E3"
             },
             "line": {
              "color": "white"
             }
            },
            "type": "table"
           }
          ]
         },
         "layout": {
          "annotationdefaults": {
           "arrowcolor": "#2a3f5f",
           "arrowhead": 0,
           "arrowwidth": 1
          },
          "autotypenumbers": "strict",
          "coloraxis": {
           "colorbar": {
            "outlinewidth": 0,
            "ticks": ""
           }
          },
          "colorscale": {
           "diverging": [
            [
             0,
             "#8e0152"
            ],
            [
             0.1,
             "#c51b7d"
            ],
            [
             0.2,
             "#de77ae"
            ],
            [
             0.3,
             "#f1b6da"
            ],
            [
             0.4,
             "#fde0ef"
            ],
            [
             0.5,
             "#f7f7f7"
            ],
            [
             0.6,
             "#e6f5d0"
            ],
            [
             0.7,
             "#b8e186"
            ],
            [
             0.8,
             "#7fbc41"
            ],
            [
             0.9,
             "#4d9221"
            ],
            [
             1,
             "#276419"
            ]
           ],
           "sequential": [
            [
             0,
             "#0d0887"
            ],
            [
             0.1111111111111111,
             "#46039f"
            ],
            [
             0.2222222222222222,
             "#7201a8"
            ],
            [
             0.3333333333333333,
             "#9c179e"
            ],
            [
             0.4444444444444444,
             "#bd3786"
            ],
            [
             0.5555555555555556,
             "#d8576b"
            ],
            [
             0.6666666666666666,
             "#ed7953"
            ],
            [
             0.7777777777777778,
             "#fb9f3a"
            ],
            [
             0.8888888888888888,
             "#fdca26"
            ],
            [
             1,
             "#f0f921"
            ]
           ],
           "sequentialminus": [
            [
             0,
             "#0d0887"
            ],
            [
             0.1111111111111111,
             "#46039f"
            ],
            [
             0.2222222222222222,
             "#7201a8"
            ],
            [
             0.3333333333333333,
             "#9c179e"
            ],
            [
             0.4444444444444444,
             "#bd3786"
            ],
            [
             0.5555555555555556,
             "#d8576b"
            ],
            [
             0.6666666666666666,
             "#ed7953"
            ],
            [
             0.7777777777777778,
             "#fb9f3a"
            ],
            [
             0.8888888888888888,
             "#fdca26"
            ],
            [
             1,
             "#f0f921"
            ]
           ]
          },
          "colorway": [
           "#636efa",
           "#EF553B",
           "#00cc96",
           "#ab63fa",
           "#FFA15A",
           "#19d3f3",
           "#FF6692",
           "#B6E880",
           "#FF97FF",
           "#FECB52"
          ],
          "font": {
           "color": "#2a3f5f"
          },
          "geo": {
           "bgcolor": "white",
           "lakecolor": "white",
           "landcolor": "#E5ECF6",
           "showlakes": true,
           "showland": true,
           "subunitcolor": "white"
          },
          "hoverlabel": {
           "align": "left"
          },
          "hovermode": "closest",
          "mapbox": {
           "style": "light"
          },
          "paper_bgcolor": "white",
          "plot_bgcolor": "#E5ECF6",
          "polar": {
           "angularaxis": {
            "gridcolor": "white",
            "linecolor": "white",
            "ticks": ""
           },
           "bgcolor": "#E5ECF6",
           "radialaxis": {
            "gridcolor": "white",
            "linecolor": "white",
            "ticks": ""
           }
          },
          "scene": {
           "xaxis": {
            "backgroundcolor": "#E5ECF6",
            "gridcolor": "white",
            "gridwidth": 2,
            "linecolor": "white",
            "showbackground": true,
            "ticks": "",
            "zerolinecolor": "white"
           },
           "yaxis": {
            "backgroundcolor": "#E5ECF6",
            "gridcolor": "white",
            "gridwidth": 2,
            "linecolor": "white",
            "showbackground": true,
            "ticks": "",
            "zerolinecolor": "white"
           },
           "zaxis": {
            "backgroundcolor": "#E5ECF6",
            "gridcolor": "white",
            "gridwidth": 2,
            "linecolor": "white",
            "showbackground": true,
            "ticks": "",
            "zerolinecolor": "white"
           }
          },
          "shapedefaults": {
           "line": {
            "color": "#2a3f5f"
           }
          },
          "ternary": {
           "aaxis": {
            "gridcolor": "white",
            "linecolor": "white",
            "ticks": ""
           },
           "baxis": {
            "gridcolor": "white",
            "linecolor": "white",
            "ticks": ""
           },
           "bgcolor": "#E5ECF6",
           "caxis": {
            "gridcolor": "white",
            "linecolor": "white",
            "ticks": ""
           }
          },
          "title": {
           "x": 0.05
          },
          "xaxis": {
           "automargin": true,
           "gridcolor": "white",
           "linecolor": "white",
           "ticks": "",
           "title": {
            "standoff": 15
           },
           "zerolinecolor": "white",
           "zerolinewidth": 2
          },
          "yaxis": {
           "automargin": true,
           "gridcolor": "white",
           "linecolor": "white",
           "ticks": "",
           "title": {
            "standoff": 15
           },
           "zerolinecolor": "white",
           "zerolinewidth": 2
          }
         }
        },
        "title": {
         "text": "Conversion Rates by Country (Proportional Bubbles)",
         "x": 0.5
        }
       }
      }
     },
     "metadata": {},
     "output_type": "display_data"
    }
   ],
   "source": [
    "# Load noc dataset\n",
    "noc_path = r\"C:\\Users\\sreev\\Data Visualization\\Olympics 2024\\nocs.csv\"\n",
    "noc_df = pd.read_csv(noc_path)\n",
    "\n",
    "# Preview noc dataset\n",
    "print(noc_df.head())\n",
    "\n",
    "# Rename columns in noc to match with efficiency_df\n",
    "noc_df.rename(columns={'country': 'Country', 'code': 'ISO_Code'}, inplace=True)\n",
    "\n",
    "# Perform join to get ISO codes\n",
    "efficiency_df = pd.merge(efficiency_df, noc_df[['Country', 'ISO_Code']], on='Country', how='inner')\n",
    "\n",
    "# Recalculate Conversion Rate (if not already present)\n",
    "efficiency_df['Conversion Rate'] = efficiency_df['Medals Won'] / efficiency_df['Athletes Sent']\n",
    "\n",
    "# Verify that the column exists\n",
    "# Select the correct ISO code column and clean up\n",
    "if 'ISO_Code_x' in efficiency_df.columns:\n",
    "    efficiency_df['ISO_Code'] = efficiency_df['ISO_Code_x']\n",
    "elif 'ISO_Code_y' in efficiency_df.columns:\n",
    "    efficiency_df['ISO_Code'] = efficiency_df['ISO_Code_y']\n",
    "\n",
    "# Drop extra columns if they exist\n",
    "efficiency_df.drop(columns=['ISO_Code_x', 'ISO_Code_y'], errors='ignore', inplace=True)\n",
    "\n",
    "# Verify the cleaned DataFrame\n",
    "print(efficiency_df.columns)\n",
    "\n",
    "# Create world map using the cleaned 'ISO_Code' column\n",
    "fig = px.scatter_geo(\n",
    "    efficiency_df,\n",
    "    locations=\"ISO_Code\",  # Use ISO country codes\n",
    "    locationmode=\"ISO-3\",  # Specify ISO-3 format\n",
    "    size=\"Conversion Rate\",  # Bubble size represents conversion rate\n",
    "    color=\"Conversion Rate\",  # Bubble color represents conversion rate\n",
    "    hover_name=\"Country\",  # Hover shows the country name\n",
    "    hover_data={\n",
    "        \"Athletes Sent\": True,\n",
    "        \"Medals Won\": True,\n",
    "        \"Conversion Rate\": \":.2f\"\n",
    "    },\n",
    "    title=\"Conversion Rates by Country (Proportional Bubbles)\",\n",
    "    projection=\"natural earth\",  # Natural earth projection\n",
    "    color_continuous_scale=px.colors.sequential.Plasma  # Color gradient\n",
    ")\n",
    "\n",
    "# Update layout for better readability\n",
    "fig.update_layout(\n",
    "    title_x=0.5,  # Center the title\n",
    "    geo=dict(\n",
    "        showframe=False,\n",
    "        showcoastlines=True,\n",
    "        projection_type=\"natural earth\"\n",
    "    ),\n",
    "    coloraxis_colorbar=dict(\n",
    "        title=\"Conversion Rate\",\n",
    "        ticksuffix=\"%\",\n",
    "        len=0.5  # Adjust color bar height\n",
    "    )\n",
    ")\n",
    "\n",
    "fig.show()\n"
   ]
  },
  {
   "cell_type": "markdown",
   "metadata": {},
   "source": [
    "**Fourth Motivation: Comparative Event-Level Analysis**\n",
    "\n",
    "**Objective: Perform a detailed analysis of specific events or disciplines, identifying key patterns and insights such as:**\n",
    "\n",
    "Dominant countries in specific events.\n",
    "Event-level medal trends.\n",
    "Performance analysis of top athletes or teams.\n"
   ]
  },
  {
   "cell_type": "code",
   "execution_count": 45,
   "metadata": {},
   "outputs": [
    {
     "data": {
      "application/vnd.plotly.v1+json": {
       "config": {
        "plotlyServerURL": "https://plot.ly"
       },
       "data": [
        {
         "alignmentgroup": "True",
         "hovertemplate": "Total Medals=%{marker.color}<br>Discipline=%{y}<extra></extra>",
         "legendgroup": "",
         "marker": {
          "color": [
           222,
           219,
           144,
           124,
           105,
           102,
           94,
           90,
           87,
           78,
           78,
           78,
           72,
           72,
           67,
           54,
           52,
           45,
           42,
           36,
           36,
           32,
           30,
           30,
           30,
           27,
           24,
           24,
           23,
           18,
           18,
           12,
           12,
           12,
           12,
           6,
           6,
           6,
           6,
           6,
           6,
           6,
           6,
           6
          ],
          "coloraxis": "coloraxis",
          "pattern": {
           "shape": ""
          }
         },
         "name": "",
         "offsetgroup": "",
         "orientation": "h",
         "showlegend": false,
         "textposition": "auto",
         "type": "bar",
         "x": [
          222,
          219,
          144,
          124,
          105,
          102,
          94,
          90,
          87,
          78,
          78,
          78,
          72,
          72,
          67,
          54,
          52,
          45,
          42,
          36,
          36,
          32,
          30,
          30,
          30,
          27,
          24,
          24,
          23,
          18,
          18,
          12,
          12,
          12,
          12,
          6,
          6,
          6,
          6,
          6,
          6,
          6,
          6,
          6
         ],
         "xaxis": "x",
         "y": [
          "Athletics",
          "Swimming",
          "Rowing",
          "Football",
          "Judo",
          "Hockey",
          "Handball",
          "Fencing",
          "Cycling Track",
          "Water Polo",
          "Volleyball",
          "Rugby Sevens",
          "Basketball",
          "Wrestling",
          "Artistic Gymnastics",
          "Shooting",
          "Boxing",
          "Equestrian",
          "Sailing",
          "Diving",
          "Canoe Sprint",
          "Taekwondo",
          "Table Tennis",
          "Weightlifting",
          "Archery",
          "Artistic Swimming",
          "Tennis",
          "3x3 Basketball",
          "Badminton",
          "Triathlon",
          "Canoe Slalom",
          "Cycling Road",
          "Sport Climbing",
          "Beach Volleyball",
          "Skateboarding",
          "Surfing",
          "Golf",
          "Marathon Swimming",
          "Breaking",
          "Trampoline Gymnastics",
          "Cycling BMX Racing",
          "Cycling Mountain Bike",
          "Cycling BMX Freestyle",
          "Modern Pentathlon"
         ],
         "yaxis": "y"
        }
       ],
       "layout": {
        "barmode": "relative",
        "coloraxis": {
         "colorbar": {
          "title": {
           "text": "Total Medals"
          }
         },
         "colorscale": [
          [
           0,
           "#440154"
          ],
          [
           0.1111111111111111,
           "#482878"
          ],
          [
           0.2222222222222222,
           "#3e4989"
          ],
          [
           0.3333333333333333,
           "#31688e"
          ],
          [
           0.4444444444444444,
           "#26828e"
          ],
          [
           0.5555555555555556,
           "#1f9e89"
          ],
          [
           0.6666666666666666,
           "#35b779"
          ],
          [
           0.7777777777777778,
           "#6ece58"
          ],
          [
           0.8888888888888888,
           "#b5de2b"
          ],
          [
           1,
           "#fde725"
          ]
         ]
        },
        "legend": {
         "tracegroupgap": 0
        },
        "template": {
         "data": {
          "bar": [
           {
            "error_x": {
             "color": "#2a3f5f"
            },
            "error_y": {
             "color": "#2a3f5f"
            },
            "marker": {
             "line": {
              "color": "#E5ECF6",
              "width": 0.5
             },
             "pattern": {
              "fillmode": "overlay",
              "size": 10,
              "solidity": 0.2
             }
            },
            "type": "bar"
           }
          ],
          "barpolar": [
           {
            "marker": {
             "line": {
              "color": "#E5ECF6",
              "width": 0.5
             },
             "pattern": {
              "fillmode": "overlay",
              "size": 10,
              "solidity": 0.2
             }
            },
            "type": "barpolar"
           }
          ],
          "carpet": [
           {
            "aaxis": {
             "endlinecolor": "#2a3f5f",
             "gridcolor": "white",
             "linecolor": "white",
             "minorgridcolor": "white",
             "startlinecolor": "#2a3f5f"
            },
            "baxis": {
             "endlinecolor": "#2a3f5f",
             "gridcolor": "white",
             "linecolor": "white",
             "minorgridcolor": "white",
             "startlinecolor": "#2a3f5f"
            },
            "type": "carpet"
           }
          ],
          "choropleth": [
           {
            "colorbar": {
             "outlinewidth": 0,
             "ticks": ""
            },
            "type": "choropleth"
           }
          ],
          "contour": [
           {
            "colorbar": {
             "outlinewidth": 0,
             "ticks": ""
            },
            "colorscale": [
             [
              0,
              "#0d0887"
             ],
             [
              0.1111111111111111,
              "#46039f"
             ],
             [
              0.2222222222222222,
              "#7201a8"
             ],
             [
              0.3333333333333333,
              "#9c179e"
             ],
             [
              0.4444444444444444,
              "#bd3786"
             ],
             [
              0.5555555555555556,
              "#d8576b"
             ],
             [
              0.6666666666666666,
              "#ed7953"
             ],
             [
              0.7777777777777778,
              "#fb9f3a"
             ],
             [
              0.8888888888888888,
              "#fdca26"
             ],
             [
              1,
              "#f0f921"
             ]
            ],
            "type": "contour"
           }
          ],
          "contourcarpet": [
           {
            "colorbar": {
             "outlinewidth": 0,
             "ticks": ""
            },
            "type": "contourcarpet"
           }
          ],
          "heatmap": [
           {
            "colorbar": {
             "outlinewidth": 0,
             "ticks": ""
            },
            "colorscale": [
             [
              0,
              "#0d0887"
             ],
             [
              0.1111111111111111,
              "#46039f"
             ],
             [
              0.2222222222222222,
              "#7201a8"
             ],
             [
              0.3333333333333333,
              "#9c179e"
             ],
             [
              0.4444444444444444,
              "#bd3786"
             ],
             [
              0.5555555555555556,
              "#d8576b"
             ],
             [
              0.6666666666666666,
              "#ed7953"
             ],
             [
              0.7777777777777778,
              "#fb9f3a"
             ],
             [
              0.8888888888888888,
              "#fdca26"
             ],
             [
              1,
              "#f0f921"
             ]
            ],
            "type": "heatmap"
           }
          ],
          "heatmapgl": [
           {
            "colorbar": {
             "outlinewidth": 0,
             "ticks": ""
            },
            "colorscale": [
             [
              0,
              "#0d0887"
             ],
             [
              0.1111111111111111,
              "#46039f"
             ],
             [
              0.2222222222222222,
              "#7201a8"
             ],
             [
              0.3333333333333333,
              "#9c179e"
             ],
             [
              0.4444444444444444,
              "#bd3786"
             ],
             [
              0.5555555555555556,
              "#d8576b"
             ],
             [
              0.6666666666666666,
              "#ed7953"
             ],
             [
              0.7777777777777778,
              "#fb9f3a"
             ],
             [
              0.8888888888888888,
              "#fdca26"
             ],
             [
              1,
              "#f0f921"
             ]
            ],
            "type": "heatmapgl"
           }
          ],
          "histogram": [
           {
            "marker": {
             "pattern": {
              "fillmode": "overlay",
              "size": 10,
              "solidity": 0.2
             }
            },
            "type": "histogram"
           }
          ],
          "histogram2d": [
           {
            "colorbar": {
             "outlinewidth": 0,
             "ticks": ""
            },
            "colorscale": [
             [
              0,
              "#0d0887"
             ],
             [
              0.1111111111111111,
              "#46039f"
             ],
             [
              0.2222222222222222,
              "#7201a8"
             ],
             [
              0.3333333333333333,
              "#9c179e"
             ],
             [
              0.4444444444444444,
              "#bd3786"
             ],
             [
              0.5555555555555556,
              "#d8576b"
             ],
             [
              0.6666666666666666,
              "#ed7953"
             ],
             [
              0.7777777777777778,
              "#fb9f3a"
             ],
             [
              0.8888888888888888,
              "#fdca26"
             ],
             [
              1,
              "#f0f921"
             ]
            ],
            "type": "histogram2d"
           }
          ],
          "histogram2dcontour": [
           {
            "colorbar": {
             "outlinewidth": 0,
             "ticks": ""
            },
            "colorscale": [
             [
              0,
              "#0d0887"
             ],
             [
              0.1111111111111111,
              "#46039f"
             ],
             [
              0.2222222222222222,
              "#7201a8"
             ],
             [
              0.3333333333333333,
              "#9c179e"
             ],
             [
              0.4444444444444444,
              "#bd3786"
             ],
             [
              0.5555555555555556,
              "#d8576b"
             ],
             [
              0.6666666666666666,
              "#ed7953"
             ],
             [
              0.7777777777777778,
              "#fb9f3a"
             ],
             [
              0.8888888888888888,
              "#fdca26"
             ],
             [
              1,
              "#f0f921"
             ]
            ],
            "type": "histogram2dcontour"
           }
          ],
          "mesh3d": [
           {
            "colorbar": {
             "outlinewidth": 0,
             "ticks": ""
            },
            "type": "mesh3d"
           }
          ],
          "parcoords": [
           {
            "line": {
             "colorbar": {
              "outlinewidth": 0,
              "ticks": ""
             }
            },
            "type": "parcoords"
           }
          ],
          "pie": [
           {
            "automargin": true,
            "type": "pie"
           }
          ],
          "scatter": [
           {
            "fillpattern": {
             "fillmode": "overlay",
             "size": 10,
             "solidity": 0.2
            },
            "type": "scatter"
           }
          ],
          "scatter3d": [
           {
            "line": {
             "colorbar": {
              "outlinewidth": 0,
              "ticks": ""
             }
            },
            "marker": {
             "colorbar": {
              "outlinewidth": 0,
              "ticks": ""
             }
            },
            "type": "scatter3d"
           }
          ],
          "scattercarpet": [
           {
            "marker": {
             "colorbar": {
              "outlinewidth": 0,
              "ticks": ""
             }
            },
            "type": "scattercarpet"
           }
          ],
          "scattergeo": [
           {
            "marker": {
             "colorbar": {
              "outlinewidth": 0,
              "ticks": ""
             }
            },
            "type": "scattergeo"
           }
          ],
          "scattergl": [
           {
            "marker": {
             "colorbar": {
              "outlinewidth": 0,
              "ticks": ""
             }
            },
            "type": "scattergl"
           }
          ],
          "scattermapbox": [
           {
            "marker": {
             "colorbar": {
              "outlinewidth": 0,
              "ticks": ""
             }
            },
            "type": "scattermapbox"
           }
          ],
          "scatterpolar": [
           {
            "marker": {
             "colorbar": {
              "outlinewidth": 0,
              "ticks": ""
             }
            },
            "type": "scatterpolar"
           }
          ],
          "scatterpolargl": [
           {
            "marker": {
             "colorbar": {
              "outlinewidth": 0,
              "ticks": ""
             }
            },
            "type": "scatterpolargl"
           }
          ],
          "scatterternary": [
           {
            "marker": {
             "colorbar": {
              "outlinewidth": 0,
              "ticks": ""
             }
            },
            "type": "scatterternary"
           }
          ],
          "surface": [
           {
            "colorbar": {
             "outlinewidth": 0,
             "ticks": ""
            },
            "colorscale": [
             [
              0,
              "#0d0887"
             ],
             [
              0.1111111111111111,
              "#46039f"
             ],
             [
              0.2222222222222222,
              "#7201a8"
             ],
             [
              0.3333333333333333,
              "#9c179e"
             ],
             [
              0.4444444444444444,
              "#bd3786"
             ],
             [
              0.5555555555555556,
              "#d8576b"
             ],
             [
              0.6666666666666666,
              "#ed7953"
             ],
             [
              0.7777777777777778,
              "#fb9f3a"
             ],
             [
              0.8888888888888888,
              "#fdca26"
             ],
             [
              1,
              "#f0f921"
             ]
            ],
            "type": "surface"
           }
          ],
          "table": [
           {
            "cells": {
             "fill": {
              "color": "#EBF0F8"
             },
             "line": {
              "color": "white"
             }
            },
            "header": {
             "fill": {
              "color": "#C8D4E3"
             },
             "line": {
              "color": "white"
             }
            },
            "type": "table"
           }
          ]
         },
         "layout": {
          "annotationdefaults": {
           "arrowcolor": "#2a3f5f",
           "arrowhead": 0,
           "arrowwidth": 1
          },
          "autotypenumbers": "strict",
          "coloraxis": {
           "colorbar": {
            "outlinewidth": 0,
            "ticks": ""
           }
          },
          "colorscale": {
           "diverging": [
            [
             0,
             "#8e0152"
            ],
            [
             0.1,
             "#c51b7d"
            ],
            [
             0.2,
             "#de77ae"
            ],
            [
             0.3,
             "#f1b6da"
            ],
            [
             0.4,
             "#fde0ef"
            ],
            [
             0.5,
             "#f7f7f7"
            ],
            [
             0.6,
             "#e6f5d0"
            ],
            [
             0.7,
             "#b8e186"
            ],
            [
             0.8,
             "#7fbc41"
            ],
            [
             0.9,
             "#4d9221"
            ],
            [
             1,
             "#276419"
            ]
           ],
           "sequential": [
            [
             0,
             "#0d0887"
            ],
            [
             0.1111111111111111,
             "#46039f"
            ],
            [
             0.2222222222222222,
             "#7201a8"
            ],
            [
             0.3333333333333333,
             "#9c179e"
            ],
            [
             0.4444444444444444,
             "#bd3786"
            ],
            [
             0.5555555555555556,
             "#d8576b"
            ],
            [
             0.6666666666666666,
             "#ed7953"
            ],
            [
             0.7777777777777778,
             "#fb9f3a"
            ],
            [
             0.8888888888888888,
             "#fdca26"
            ],
            [
             1,
             "#f0f921"
            ]
           ],
           "sequentialminus": [
            [
             0,
             "#0d0887"
            ],
            [
             0.1111111111111111,
             "#46039f"
            ],
            [
             0.2222222222222222,
             "#7201a8"
            ],
            [
             0.3333333333333333,
             "#9c179e"
            ],
            [
             0.4444444444444444,
             "#bd3786"
            ],
            [
             0.5555555555555556,
             "#d8576b"
            ],
            [
             0.6666666666666666,
             "#ed7953"
            ],
            [
             0.7777777777777778,
             "#fb9f3a"
            ],
            [
             0.8888888888888888,
             "#fdca26"
            ],
            [
             1,
             "#f0f921"
            ]
           ]
          },
          "colorway": [
           "#636efa",
           "#EF553B",
           "#00cc96",
           "#ab63fa",
           "#FFA15A",
           "#19d3f3",
           "#FF6692",
           "#B6E880",
           "#FF97FF",
           "#FECB52"
          ],
          "font": {
           "color": "#2a3f5f"
          },
          "geo": {
           "bgcolor": "white",
           "lakecolor": "white",
           "landcolor": "#E5ECF6",
           "showlakes": true,
           "showland": true,
           "subunitcolor": "white"
          },
          "hoverlabel": {
           "align": "left"
          },
          "hovermode": "closest",
          "mapbox": {
           "style": "light"
          },
          "paper_bgcolor": "white",
          "plot_bgcolor": "#E5ECF6",
          "polar": {
           "angularaxis": {
            "gridcolor": "white",
            "linecolor": "white",
            "ticks": ""
           },
           "bgcolor": "#E5ECF6",
           "radialaxis": {
            "gridcolor": "white",
            "linecolor": "white",
            "ticks": ""
           }
          },
          "scene": {
           "xaxis": {
            "backgroundcolor": "#E5ECF6",
            "gridcolor": "white",
            "gridwidth": 2,
            "linecolor": "white",
            "showbackground": true,
            "ticks": "",
            "zerolinecolor": "white"
           },
           "yaxis": {
            "backgroundcolor": "#E5ECF6",
            "gridcolor": "white",
            "gridwidth": 2,
            "linecolor": "white",
            "showbackground": true,
            "ticks": "",
            "zerolinecolor": "white"
           },
           "zaxis": {
            "backgroundcolor": "#E5ECF6",
            "gridcolor": "white",
            "gridwidth": 2,
            "linecolor": "white",
            "showbackground": true,
            "ticks": "",
            "zerolinecolor": "white"
           }
          },
          "shapedefaults": {
           "line": {
            "color": "#2a3f5f"
           }
          },
          "ternary": {
           "aaxis": {
            "gridcolor": "white",
            "linecolor": "white",
            "ticks": ""
           },
           "baxis": {
            "gridcolor": "white",
            "linecolor": "white",
            "ticks": ""
           },
           "bgcolor": "#E5ECF6",
           "caxis": {
            "gridcolor": "white",
            "linecolor": "white",
            "ticks": ""
           }
          },
          "title": {
           "x": 0.05
          },
          "xaxis": {
           "automargin": true,
           "gridcolor": "white",
           "linecolor": "white",
           "ticks": "",
           "title": {
            "standoff": 15
           },
           "zerolinecolor": "white",
           "zerolinewidth": 2
          },
          "yaxis": {
           "automargin": true,
           "gridcolor": "white",
           "linecolor": "white",
           "ticks": "",
           "title": {
            "standoff": 15
           },
           "zerolinecolor": "white",
           "zerolinewidth": 2
          }
         }
        },
        "title": {
         "text": "Total Medals by Discipline",
         "x": 0.5
        },
        "xaxis": {
         "anchor": "y",
         "domain": [
          0,
          1
         ],
         "title": {
          "text": "Total Medals"
         }
        },
        "yaxis": {
         "anchor": "x",
         "domain": [
          0,
          1
         ],
         "title": {
          "text": "Discipline"
         }
        }
       }
      }
     },
     "metadata": {},
     "output_type": "display_data"
    },
    {
     "data": {
      "application/vnd.plotly.v1+json": {
       "config": {
        "plotlyServerURL": "https://plot.ly"
       },
       "data": [
        {
         "branchvalues": "total",
         "customdata": [
          [
           24
          ],
          [
           30
          ],
          [
           67
          ],
          [
           27
          ],
          [
           222
          ],
          [
           23
          ],
          [
           72
          ],
          [
           12
          ],
          [
           52
          ],
          [
           6
          ],
          [
           18
          ],
          [
           36
          ],
          [
           6
          ],
          [
           6
          ],
          [
           6
          ],
          [
           12
          ],
          [
           87
          ],
          [
           36
          ],
          [
           45
          ],
          [
           90
          ],
          [
           124
          ],
          [
           6
          ],
          [
           94
          ],
          [
           102
          ],
          [
           105
          ],
          [
           6
          ],
          [
           6
          ],
          [
           144
          ],
          [
           78
          ],
          [
           42
          ],
          [
           54
          ],
          [
           12
          ],
          [
           12
          ],
          [
           6
          ],
          [
           219
          ],
          [
           30
          ],
          [
           32
          ],
          [
           24
          ],
          [
           6
          ],
          [
           18
          ],
          [
           78
          ],
          [
           78
          ],
          [
           30
          ],
          [
           72
          ]
         ],
         "domain": {
          "x": [
           0,
           1
          ],
          "y": [
           0,
           1
          ]
         },
         "hovertemplate": "labels=%{label}<br>total_medals_sum=%{value}<br>parent=%{parent}<br>id=%{id}<br>total_medals=%{color}<extra></extra>",
         "ids": [
          "3x3 Basketball",
          "Archery",
          "Artistic Gymnastics",
          "Artistic Swimming",
          "Athletics",
          "Badminton",
          "Basketball",
          "Beach Volleyball",
          "Boxing",
          "Breaking",
          "Canoe Slalom",
          "Canoe Sprint",
          "Cycling BMX Freestyle",
          "Cycling BMX Racing",
          "Cycling Mountain Bike",
          "Cycling Road",
          "Cycling Track",
          "Diving",
          "Equestrian",
          "Fencing",
          "Football",
          "Golf",
          "Handball",
          "Hockey",
          "Judo",
          "Marathon Swimming",
          "Modern Pentathlon",
          "Rowing",
          "Rugby Sevens",
          "Sailing",
          "Shooting",
          "Skateboarding",
          "Sport Climbing",
          "Surfing",
          "Swimming",
          "Table Tennis",
          "Taekwondo",
          "Tennis",
          "Trampoline Gymnastics",
          "Triathlon",
          "Volleyball",
          "Water Polo",
          "Weightlifting",
          "Wrestling"
         ],
         "labels": [
          "3x3 Basketball",
          "Archery",
          "Artistic Gymnastics",
          "Artistic Swimming",
          "Athletics",
          "Badminton",
          "Basketball",
          "Beach Volleyball",
          "Boxing",
          "Breaking",
          "Canoe Slalom",
          "Canoe Sprint",
          "Cycling BMX Freestyle",
          "Cycling BMX Racing",
          "Cycling Mountain Bike",
          "Cycling Road",
          "Cycling Track",
          "Diving",
          "Equestrian",
          "Fencing",
          "Football",
          "Golf",
          "Handball",
          "Hockey",
          "Judo",
          "Marathon Swimming",
          "Modern Pentathlon",
          "Rowing",
          "Rugby Sevens",
          "Sailing",
          "Shooting",
          "Skateboarding",
          "Sport Climbing",
          "Surfing",
          "Swimming",
          "Table Tennis",
          "Taekwondo",
          "Tennis",
          "Trampoline Gymnastics",
          "Triathlon",
          "Volleyball",
          "Water Polo",
          "Weightlifting",
          "Wrestling"
         ],
         "marker": {
          "coloraxis": "coloraxis",
          "colors": [
           24,
           30,
           67,
           27,
           222,
           23,
           72,
           12,
           52,
           6,
           18,
           36,
           6,
           6,
           6,
           12,
           87,
           36,
           45,
           90,
           124,
           6,
           94,
           102,
           105,
           6,
           6,
           144,
           78,
           42,
           54,
           12,
           12,
           6,
           219,
           30,
           32,
           24,
           6,
           18,
           78,
           78,
           30,
           72
          ]
         },
         "name": "",
         "parents": [
          "",
          "",
          "",
          "",
          "",
          "",
          "",
          "",
          "",
          "",
          "",
          "",
          "",
          "",
          "",
          "",
          "",
          "",
          "",
          "",
          "",
          "",
          "",
          "",
          "",
          "",
          "",
          "",
          "",
          "",
          "",
          "",
          "",
          "",
          "",
          "",
          "",
          "",
          "",
          "",
          "",
          "",
          "",
          ""
         ],
         "type": "sunburst",
         "values": [
          24,
          30,
          67,
          27,
          222,
          23,
          72,
          12,
          52,
          6,
          18,
          36,
          6,
          6,
          6,
          12,
          87,
          36,
          45,
          90,
          124,
          6,
          94,
          102,
          105,
          6,
          6,
          144,
          78,
          42,
          54,
          12,
          12,
          6,
          219,
          30,
          32,
          24,
          6,
          18,
          78,
          78,
          30,
          72
         ]
        }
       ],
       "layout": {
        "coloraxis": {
         "colorbar": {
          "title": {
           "text": "total_medals"
          }
         },
         "colorscale": [
          [
           0,
           "#0d0887"
          ],
          [
           0.1111111111111111,
           "#46039f"
          ],
          [
           0.2222222222222222,
           "#7201a8"
          ],
          [
           0.3333333333333333,
           "#9c179e"
          ],
          [
           0.4444444444444444,
           "#bd3786"
          ],
          [
           0.5555555555555556,
           "#d8576b"
          ],
          [
           0.6666666666666666,
           "#ed7953"
          ],
          [
           0.7777777777777778,
           "#fb9f3a"
          ],
          [
           0.8888888888888888,
           "#fdca26"
          ],
          [
           1,
           "#f0f921"
          ]
         ]
        },
        "legend": {
         "tracegroupgap": 0
        },
        "template": {
         "data": {
          "bar": [
           {
            "error_x": {
             "color": "#2a3f5f"
            },
            "error_y": {
             "color": "#2a3f5f"
            },
            "marker": {
             "line": {
              "color": "#E5ECF6",
              "width": 0.5
             },
             "pattern": {
              "fillmode": "overlay",
              "size": 10,
              "solidity": 0.2
             }
            },
            "type": "bar"
           }
          ],
          "barpolar": [
           {
            "marker": {
             "line": {
              "color": "#E5ECF6",
              "width": 0.5
             },
             "pattern": {
              "fillmode": "overlay",
              "size": 10,
              "solidity": 0.2
             }
            },
            "type": "barpolar"
           }
          ],
          "carpet": [
           {
            "aaxis": {
             "endlinecolor": "#2a3f5f",
             "gridcolor": "white",
             "linecolor": "white",
             "minorgridcolor": "white",
             "startlinecolor": "#2a3f5f"
            },
            "baxis": {
             "endlinecolor": "#2a3f5f",
             "gridcolor": "white",
             "linecolor": "white",
             "minorgridcolor": "white",
             "startlinecolor": "#2a3f5f"
            },
            "type": "carpet"
           }
          ],
          "choropleth": [
           {
            "colorbar": {
             "outlinewidth": 0,
             "ticks": ""
            },
            "type": "choropleth"
           }
          ],
          "contour": [
           {
            "colorbar": {
             "outlinewidth": 0,
             "ticks": ""
            },
            "colorscale": [
             [
              0,
              "#0d0887"
             ],
             [
              0.1111111111111111,
              "#46039f"
             ],
             [
              0.2222222222222222,
              "#7201a8"
             ],
             [
              0.3333333333333333,
              "#9c179e"
             ],
             [
              0.4444444444444444,
              "#bd3786"
             ],
             [
              0.5555555555555556,
              "#d8576b"
             ],
             [
              0.6666666666666666,
              "#ed7953"
             ],
             [
              0.7777777777777778,
              "#fb9f3a"
             ],
             [
              0.8888888888888888,
              "#fdca26"
             ],
             [
              1,
              "#f0f921"
             ]
            ],
            "type": "contour"
           }
          ],
          "contourcarpet": [
           {
            "colorbar": {
             "outlinewidth": 0,
             "ticks": ""
            },
            "type": "contourcarpet"
           }
          ],
          "heatmap": [
           {
            "colorbar": {
             "outlinewidth": 0,
             "ticks": ""
            },
            "colorscale": [
             [
              0,
              "#0d0887"
             ],
             [
              0.1111111111111111,
              "#46039f"
             ],
             [
              0.2222222222222222,
              "#7201a8"
             ],
             [
              0.3333333333333333,
              "#9c179e"
             ],
             [
              0.4444444444444444,
              "#bd3786"
             ],
             [
              0.5555555555555556,
              "#d8576b"
             ],
             [
              0.6666666666666666,
              "#ed7953"
             ],
             [
              0.7777777777777778,
              "#fb9f3a"
             ],
             [
              0.8888888888888888,
              "#fdca26"
             ],
             [
              1,
              "#f0f921"
             ]
            ],
            "type": "heatmap"
           }
          ],
          "heatmapgl": [
           {
            "colorbar": {
             "outlinewidth": 0,
             "ticks": ""
            },
            "colorscale": [
             [
              0,
              "#0d0887"
             ],
             [
              0.1111111111111111,
              "#46039f"
             ],
             [
              0.2222222222222222,
              "#7201a8"
             ],
             [
              0.3333333333333333,
              "#9c179e"
             ],
             [
              0.4444444444444444,
              "#bd3786"
             ],
             [
              0.5555555555555556,
              "#d8576b"
             ],
             [
              0.6666666666666666,
              "#ed7953"
             ],
             [
              0.7777777777777778,
              "#fb9f3a"
             ],
             [
              0.8888888888888888,
              "#fdca26"
             ],
             [
              1,
              "#f0f921"
             ]
            ],
            "type": "heatmapgl"
           }
          ],
          "histogram": [
           {
            "marker": {
             "pattern": {
              "fillmode": "overlay",
              "size": 10,
              "solidity": 0.2
             }
            },
            "type": "histogram"
           }
          ],
          "histogram2d": [
           {
            "colorbar": {
             "outlinewidth": 0,
             "ticks": ""
            },
            "colorscale": [
             [
              0,
              "#0d0887"
             ],
             [
              0.1111111111111111,
              "#46039f"
             ],
             [
              0.2222222222222222,
              "#7201a8"
             ],
             [
              0.3333333333333333,
              "#9c179e"
             ],
             [
              0.4444444444444444,
              "#bd3786"
             ],
             [
              0.5555555555555556,
              "#d8576b"
             ],
             [
              0.6666666666666666,
              "#ed7953"
             ],
             [
              0.7777777777777778,
              "#fb9f3a"
             ],
             [
              0.8888888888888888,
              "#fdca26"
             ],
             [
              1,
              "#f0f921"
             ]
            ],
            "type": "histogram2d"
           }
          ],
          "histogram2dcontour": [
           {
            "colorbar": {
             "outlinewidth": 0,
             "ticks": ""
            },
            "colorscale": [
             [
              0,
              "#0d0887"
             ],
             [
              0.1111111111111111,
              "#46039f"
             ],
             [
              0.2222222222222222,
              "#7201a8"
             ],
             [
              0.3333333333333333,
              "#9c179e"
             ],
             [
              0.4444444444444444,
              "#bd3786"
             ],
             [
              0.5555555555555556,
              "#d8576b"
             ],
             [
              0.6666666666666666,
              "#ed7953"
             ],
             [
              0.7777777777777778,
              "#fb9f3a"
             ],
             [
              0.8888888888888888,
              "#fdca26"
             ],
             [
              1,
              "#f0f921"
             ]
            ],
            "type": "histogram2dcontour"
           }
          ],
          "mesh3d": [
           {
            "colorbar": {
             "outlinewidth": 0,
             "ticks": ""
            },
            "type": "mesh3d"
           }
          ],
          "parcoords": [
           {
            "line": {
             "colorbar": {
              "outlinewidth": 0,
              "ticks": ""
             }
            },
            "type": "parcoords"
           }
          ],
          "pie": [
           {
            "automargin": true,
            "type": "pie"
           }
          ],
          "scatter": [
           {
            "fillpattern": {
             "fillmode": "overlay",
             "size": 10,
             "solidity": 0.2
            },
            "type": "scatter"
           }
          ],
          "scatter3d": [
           {
            "line": {
             "colorbar": {
              "outlinewidth": 0,
              "ticks": ""
             }
            },
            "marker": {
             "colorbar": {
              "outlinewidth": 0,
              "ticks": ""
             }
            },
            "type": "scatter3d"
           }
          ],
          "scattercarpet": [
           {
            "marker": {
             "colorbar": {
              "outlinewidth": 0,
              "ticks": ""
             }
            },
            "type": "scattercarpet"
           }
          ],
          "scattergeo": [
           {
            "marker": {
             "colorbar": {
              "outlinewidth": 0,
              "ticks": ""
             }
            },
            "type": "scattergeo"
           }
          ],
          "scattergl": [
           {
            "marker": {
             "colorbar": {
              "outlinewidth": 0,
              "ticks": ""
             }
            },
            "type": "scattergl"
           }
          ],
          "scattermapbox": [
           {
            "marker": {
             "colorbar": {
              "outlinewidth": 0,
              "ticks": ""
             }
            },
            "type": "scattermapbox"
           }
          ],
          "scatterpolar": [
           {
            "marker": {
             "colorbar": {
              "outlinewidth": 0,
              "ticks": ""
             }
            },
            "type": "scatterpolar"
           }
          ],
          "scatterpolargl": [
           {
            "marker": {
             "colorbar": {
              "outlinewidth": 0,
              "ticks": ""
             }
            },
            "type": "scatterpolargl"
           }
          ],
          "scatterternary": [
           {
            "marker": {
             "colorbar": {
              "outlinewidth": 0,
              "ticks": ""
             }
            },
            "type": "scatterternary"
           }
          ],
          "surface": [
           {
            "colorbar": {
             "outlinewidth": 0,
             "ticks": ""
            },
            "colorscale": [
             [
              0,
              "#0d0887"
             ],
             [
              0.1111111111111111,
              "#46039f"
             ],
             [
              0.2222222222222222,
              "#7201a8"
             ],
             [
              0.3333333333333333,
              "#9c179e"
             ],
             [
              0.4444444444444444,
              "#bd3786"
             ],
             [
              0.5555555555555556,
              "#d8576b"
             ],
             [
              0.6666666666666666,
              "#ed7953"
             ],
             [
              0.7777777777777778,
              "#fb9f3a"
             ],
             [
              0.8888888888888888,
              "#fdca26"
             ],
             [
              1,
              "#f0f921"
             ]
            ],
            "type": "surface"
           }
          ],
          "table": [
           {
            "cells": {
             "fill": {
              "color": "#EBF0F8"
             },
             "line": {
              "color": "white"
             }
            },
            "header": {
             "fill": {
              "color": "#C8D4E3"
             },
             "line": {
              "color": "white"
             }
            },
            "type": "table"
           }
          ]
         },
         "layout": {
          "annotationdefaults": {
           "arrowcolor": "#2a3f5f",
           "arrowhead": 0,
           "arrowwidth": 1
          },
          "autotypenumbers": "strict",
          "coloraxis": {
           "colorbar": {
            "outlinewidth": 0,
            "ticks": ""
           }
          },
          "colorscale": {
           "diverging": [
            [
             0,
             "#8e0152"
            ],
            [
             0.1,
             "#c51b7d"
            ],
            [
             0.2,
             "#de77ae"
            ],
            [
             0.3,
             "#f1b6da"
            ],
            [
             0.4,
             "#fde0ef"
            ],
            [
             0.5,
             "#f7f7f7"
            ],
            [
             0.6,
             "#e6f5d0"
            ],
            [
             0.7,
             "#b8e186"
            ],
            [
             0.8,
             "#7fbc41"
            ],
            [
             0.9,
             "#4d9221"
            ],
            [
             1,
             "#276419"
            ]
           ],
           "sequential": [
            [
             0,
             "#0d0887"
            ],
            [
             0.1111111111111111,
             "#46039f"
            ],
            [
             0.2222222222222222,
             "#7201a8"
            ],
            [
             0.3333333333333333,
             "#9c179e"
            ],
            [
             0.4444444444444444,
             "#bd3786"
            ],
            [
             0.5555555555555556,
             "#d8576b"
            ],
            [
             0.6666666666666666,
             "#ed7953"
            ],
            [
             0.7777777777777778,
             "#fb9f3a"
            ],
            [
             0.8888888888888888,
             "#fdca26"
            ],
            [
             1,
             "#f0f921"
            ]
           ],
           "sequentialminus": [
            [
             0,
             "#0d0887"
            ],
            [
             0.1111111111111111,
             "#46039f"
            ],
            [
             0.2222222222222222,
             "#7201a8"
            ],
            [
             0.3333333333333333,
             "#9c179e"
            ],
            [
             0.4444444444444444,
             "#bd3786"
            ],
            [
             0.5555555555555556,
             "#d8576b"
            ],
            [
             0.6666666666666666,
             "#ed7953"
            ],
            [
             0.7777777777777778,
             "#fb9f3a"
            ],
            [
             0.8888888888888888,
             "#fdca26"
            ],
            [
             1,
             "#f0f921"
            ]
           ]
          },
          "colorway": [
           "#636efa",
           "#EF553B",
           "#00cc96",
           "#ab63fa",
           "#FFA15A",
           "#19d3f3",
           "#FF6692",
           "#B6E880",
           "#FF97FF",
           "#FECB52"
          ],
          "font": {
           "color": "#2a3f5f"
          },
          "geo": {
           "bgcolor": "white",
           "lakecolor": "white",
           "landcolor": "#E5ECF6",
           "showlakes": true,
           "showland": true,
           "subunitcolor": "white"
          },
          "hoverlabel": {
           "align": "left"
          },
          "hovermode": "closest",
          "mapbox": {
           "style": "light"
          },
          "paper_bgcolor": "white",
          "plot_bgcolor": "#E5ECF6",
          "polar": {
           "angularaxis": {
            "gridcolor": "white",
            "linecolor": "white",
            "ticks": ""
           },
           "bgcolor": "#E5ECF6",
           "radialaxis": {
            "gridcolor": "white",
            "linecolor": "white",
            "ticks": ""
           }
          },
          "scene": {
           "xaxis": {
            "backgroundcolor": "#E5ECF6",
            "gridcolor": "white",
            "gridwidth": 2,
            "linecolor": "white",
            "showbackground": true,
            "ticks": "",
            "zerolinecolor": "white"
           },
           "yaxis": {
            "backgroundcolor": "#E5ECF6",
            "gridcolor": "white",
            "gridwidth": 2,
            "linecolor": "white",
            "showbackground": true,
            "ticks": "",
            "zerolinecolor": "white"
           },
           "zaxis": {
            "backgroundcolor": "#E5ECF6",
            "gridcolor": "white",
            "gridwidth": 2,
            "linecolor": "white",
            "showbackground": true,
            "ticks": "",
            "zerolinecolor": "white"
           }
          },
          "shapedefaults": {
           "line": {
            "color": "#2a3f5f"
           }
          },
          "ternary": {
           "aaxis": {
            "gridcolor": "white",
            "linecolor": "white",
            "ticks": ""
           },
           "baxis": {
            "gridcolor": "white",
            "linecolor": "white",
            "ticks": ""
           },
           "bgcolor": "#E5ECF6",
           "caxis": {
            "gridcolor": "white",
            "linecolor": "white",
            "ticks": ""
           }
          },
          "title": {
           "x": 0.05
          },
          "xaxis": {
           "automargin": true,
           "gridcolor": "white",
           "linecolor": "white",
           "ticks": "",
           "title": {
            "standoff": 15
           },
           "zerolinecolor": "white",
           "zerolinewidth": 2
          },
          "yaxis": {
           "automargin": true,
           "gridcolor": "white",
           "linecolor": "white",
           "ticks": "",
           "title": {
            "standoff": 15
           },
           "zerolinecolor": "white",
           "zerolinewidth": 2
          }
         }
        },
        "title": {
         "text": "Percentage Contribution of Total Medals by Discipline",
         "x": 0.5
        }
       }
      }
     },
     "metadata": {},
     "output_type": "display_data"
    },
    {
     "data": {
      "application/vnd.plotly.v1+json": {
       "config": {
        "plotlyServerURL": "https://plot.ly"
       },
       "data": [
        {
         "alignmentgroup": "True",
         "hovertemplate": "Metric=total_medals<br>Discipline=%{x}<br>Medal Count=%{y}<extra></extra>",
         "legendgroup": "total_medals",
         "marker": {
          "color": "#636efa",
          "pattern": {
           "shape": ""
          }
         },
         "name": "total_medals",
         "offsetgroup": "total_medals",
         "orientation": "v",
         "showlegend": true,
         "textposition": "auto",
         "type": "bar",
         "x": [
          "Athletics",
          "Swimming",
          "Rowing",
          "Football",
          "Judo",
          "Hockey",
          "Handball",
          "Fencing",
          "Cycling Track",
          "Water Polo",
          "Volleyball",
          "Rugby Sevens",
          "Basketball",
          "Wrestling",
          "Artistic Gymnastics",
          "Shooting",
          "Boxing",
          "Equestrian",
          "Sailing",
          "Diving",
          "Canoe Sprint",
          "Taekwondo",
          "Table Tennis",
          "Weightlifting",
          "Archery",
          "Artistic Swimming",
          "Tennis",
          "3x3 Basketball",
          "Badminton",
          "Triathlon",
          "Canoe Slalom",
          "Cycling Road",
          "Sport Climbing",
          "Beach Volleyball",
          "Skateboarding",
          "Surfing",
          "Golf",
          "Marathon Swimming",
          "Breaking",
          "Trampoline Gymnastics",
          "Cycling BMX Racing",
          "Cycling Mountain Bike",
          "Cycling BMX Freestyle",
          "Modern Pentathlon"
         ],
         "xaxis": "x",
         "y": [
          222,
          219,
          144,
          124,
          105,
          102,
          94,
          90,
          87,
          78,
          78,
          78,
          72,
          72,
          67,
          54,
          52,
          45,
          42,
          36,
          36,
          32,
          30,
          30,
          30,
          27,
          24,
          24,
          23,
          18,
          18,
          12,
          12,
          12,
          12,
          6,
          6,
          6,
          6,
          6,
          6,
          6,
          6,
          6
         ],
         "yaxis": "y"
        },
        {
         "alignmentgroup": "True",
         "hovertemplate": "Metric=Projected_Growth<br>Discipline=%{x}<br>Medal Count=%{y}<extra></extra>",
         "legendgroup": "Projected_Growth",
         "marker": {
          "color": "#EF553B",
          "pattern": {
           "shape": ""
          }
         },
         "name": "Projected_Growth",
         "offsetgroup": "Projected_Growth",
         "orientation": "v",
         "showlegend": true,
         "textposition": "auto",
         "type": "bar",
         "x": [
          "Athletics",
          "Swimming",
          "Rowing",
          "Football",
          "Judo",
          "Hockey",
          "Handball",
          "Fencing",
          "Cycling Track",
          "Water Polo",
          "Volleyball",
          "Rugby Sevens",
          "Basketball",
          "Wrestling",
          "Artistic Gymnastics",
          "Shooting",
          "Boxing",
          "Equestrian",
          "Sailing",
          "Diving",
          "Canoe Sprint",
          "Taekwondo",
          "Table Tennis",
          "Weightlifting",
          "Archery",
          "Artistic Swimming",
          "Tennis",
          "3x3 Basketball",
          "Badminton",
          "Triathlon",
          "Canoe Slalom",
          "Cycling Road",
          "Sport Climbing",
          "Beach Volleyball",
          "Skateboarding",
          "Surfing",
          "Golf",
          "Marathon Swimming",
          "Breaking",
          "Trampoline Gymnastics",
          "Cycling BMX Racing",
          "Cycling Mountain Bike",
          "Cycling BMX Freestyle",
          "Modern Pentathlon"
         ],
         "xaxis": "x",
         "y": [
          222,
          222,
          222,
          222,
          222,
          222,
          222,
          222,
          222,
          222,
          222,
          222,
          222,
          222,
          222,
          222,
          222,
          222,
          222,
          222,
          222,
          222,
          222,
          222,
          222,
          222,
          222,
          222,
          222,
          222,
          222,
          222,
          222,
          222,
          222,
          222,
          222,
          222,
          222,
          222,
          222,
          222,
          222,
          222
         ],
         "yaxis": "y"
        }
       ],
       "layout": {
        "barmode": "group",
        "legend": {
         "title": {
          "text": "Metric"
         },
         "tracegroupgap": 0
        },
        "template": {
         "data": {
          "bar": [
           {
            "error_x": {
             "color": "#2a3f5f"
            },
            "error_y": {
             "color": "#2a3f5f"
            },
            "marker": {
             "line": {
              "color": "#E5ECF6",
              "width": 0.5
             },
             "pattern": {
              "fillmode": "overlay",
              "size": 10,
              "solidity": 0.2
             }
            },
            "type": "bar"
           }
          ],
          "barpolar": [
           {
            "marker": {
             "line": {
              "color": "#E5ECF6",
              "width": 0.5
             },
             "pattern": {
              "fillmode": "overlay",
              "size": 10,
              "solidity": 0.2
             }
            },
            "type": "barpolar"
           }
          ],
          "carpet": [
           {
            "aaxis": {
             "endlinecolor": "#2a3f5f",
             "gridcolor": "white",
             "linecolor": "white",
             "minorgridcolor": "white",
             "startlinecolor": "#2a3f5f"
            },
            "baxis": {
             "endlinecolor": "#2a3f5f",
             "gridcolor": "white",
             "linecolor": "white",
             "minorgridcolor": "white",
             "startlinecolor": "#2a3f5f"
            },
            "type": "carpet"
           }
          ],
          "choropleth": [
           {
            "colorbar": {
             "outlinewidth": 0,
             "ticks": ""
            },
            "type": "choropleth"
           }
          ],
          "contour": [
           {
            "colorbar": {
             "outlinewidth": 0,
             "ticks": ""
            },
            "colorscale": [
             [
              0,
              "#0d0887"
             ],
             [
              0.1111111111111111,
              "#46039f"
             ],
             [
              0.2222222222222222,
              "#7201a8"
             ],
             [
              0.3333333333333333,
              "#9c179e"
             ],
             [
              0.4444444444444444,
              "#bd3786"
             ],
             [
              0.5555555555555556,
              "#d8576b"
             ],
             [
              0.6666666666666666,
              "#ed7953"
             ],
             [
              0.7777777777777778,
              "#fb9f3a"
             ],
             [
              0.8888888888888888,
              "#fdca26"
             ],
             [
              1,
              "#f0f921"
             ]
            ],
            "type": "contour"
           }
          ],
          "contourcarpet": [
           {
            "colorbar": {
             "outlinewidth": 0,
             "ticks": ""
            },
            "type": "contourcarpet"
           }
          ],
          "heatmap": [
           {
            "colorbar": {
             "outlinewidth": 0,
             "ticks": ""
            },
            "colorscale": [
             [
              0,
              "#0d0887"
             ],
             [
              0.1111111111111111,
              "#46039f"
             ],
             [
              0.2222222222222222,
              "#7201a8"
             ],
             [
              0.3333333333333333,
              "#9c179e"
             ],
             [
              0.4444444444444444,
              "#bd3786"
             ],
             [
              0.5555555555555556,
              "#d8576b"
             ],
             [
              0.6666666666666666,
              "#ed7953"
             ],
             [
              0.7777777777777778,
              "#fb9f3a"
             ],
             [
              0.8888888888888888,
              "#fdca26"
             ],
             [
              1,
              "#f0f921"
             ]
            ],
            "type": "heatmap"
           }
          ],
          "heatmapgl": [
           {
            "colorbar": {
             "outlinewidth": 0,
             "ticks": ""
            },
            "colorscale": [
             [
              0,
              "#0d0887"
             ],
             [
              0.1111111111111111,
              "#46039f"
             ],
             [
              0.2222222222222222,
              "#7201a8"
             ],
             [
              0.3333333333333333,
              "#9c179e"
             ],
             [
              0.4444444444444444,
              "#bd3786"
             ],
             [
              0.5555555555555556,
              "#d8576b"
             ],
             [
              0.6666666666666666,
              "#ed7953"
             ],
             [
              0.7777777777777778,
              "#fb9f3a"
             ],
             [
              0.8888888888888888,
              "#fdca26"
             ],
             [
              1,
              "#f0f921"
             ]
            ],
            "type": "heatmapgl"
           }
          ],
          "histogram": [
           {
            "marker": {
             "pattern": {
              "fillmode": "overlay",
              "size": 10,
              "solidity": 0.2
             }
            },
            "type": "histogram"
           }
          ],
          "histogram2d": [
           {
            "colorbar": {
             "outlinewidth": 0,
             "ticks": ""
            },
            "colorscale": [
             [
              0,
              "#0d0887"
             ],
             [
              0.1111111111111111,
              "#46039f"
             ],
             [
              0.2222222222222222,
              "#7201a8"
             ],
             [
              0.3333333333333333,
              "#9c179e"
             ],
             [
              0.4444444444444444,
              "#bd3786"
             ],
             [
              0.5555555555555556,
              "#d8576b"
             ],
             [
              0.6666666666666666,
              "#ed7953"
             ],
             [
              0.7777777777777778,
              "#fb9f3a"
             ],
             [
              0.8888888888888888,
              "#fdca26"
             ],
             [
              1,
              "#f0f921"
             ]
            ],
            "type": "histogram2d"
           }
          ],
          "histogram2dcontour": [
           {
            "colorbar": {
             "outlinewidth": 0,
             "ticks": ""
            },
            "colorscale": [
             [
              0,
              "#0d0887"
             ],
             [
              0.1111111111111111,
              "#46039f"
             ],
             [
              0.2222222222222222,
              "#7201a8"
             ],
             [
              0.3333333333333333,
              "#9c179e"
             ],
             [
              0.4444444444444444,
              "#bd3786"
             ],
             [
              0.5555555555555556,
              "#d8576b"
             ],
             [
              0.6666666666666666,
              "#ed7953"
             ],
             [
              0.7777777777777778,
              "#fb9f3a"
             ],
             [
              0.8888888888888888,
              "#fdca26"
             ],
             [
              1,
              "#f0f921"
             ]
            ],
            "type": "histogram2dcontour"
           }
          ],
          "mesh3d": [
           {
            "colorbar": {
             "outlinewidth": 0,
             "ticks": ""
            },
            "type": "mesh3d"
           }
          ],
          "parcoords": [
           {
            "line": {
             "colorbar": {
              "outlinewidth": 0,
              "ticks": ""
             }
            },
            "type": "parcoords"
           }
          ],
          "pie": [
           {
            "automargin": true,
            "type": "pie"
           }
          ],
          "scatter": [
           {
            "fillpattern": {
             "fillmode": "overlay",
             "size": 10,
             "solidity": 0.2
            },
            "type": "scatter"
           }
          ],
          "scatter3d": [
           {
            "line": {
             "colorbar": {
              "outlinewidth": 0,
              "ticks": ""
             }
            },
            "marker": {
             "colorbar": {
              "outlinewidth": 0,
              "ticks": ""
             }
            },
            "type": "scatter3d"
           }
          ],
          "scattercarpet": [
           {
            "marker": {
             "colorbar": {
              "outlinewidth": 0,
              "ticks": ""
             }
            },
            "type": "scattercarpet"
           }
          ],
          "scattergeo": [
           {
            "marker": {
             "colorbar": {
              "outlinewidth": 0,
              "ticks": ""
             }
            },
            "type": "scattergeo"
           }
          ],
          "scattergl": [
           {
            "marker": {
             "colorbar": {
              "outlinewidth": 0,
              "ticks": ""
             }
            },
            "type": "scattergl"
           }
          ],
          "scattermapbox": [
           {
            "marker": {
             "colorbar": {
              "outlinewidth": 0,
              "ticks": ""
             }
            },
            "type": "scattermapbox"
           }
          ],
          "scatterpolar": [
           {
            "marker": {
             "colorbar": {
              "outlinewidth": 0,
              "ticks": ""
             }
            },
            "type": "scatterpolar"
           }
          ],
          "scatterpolargl": [
           {
            "marker": {
             "colorbar": {
              "outlinewidth": 0,
              "ticks": ""
             }
            },
            "type": "scatterpolargl"
           }
          ],
          "scatterternary": [
           {
            "marker": {
             "colorbar": {
              "outlinewidth": 0,
              "ticks": ""
             }
            },
            "type": "scatterternary"
           }
          ],
          "surface": [
           {
            "colorbar": {
             "outlinewidth": 0,
             "ticks": ""
            },
            "colorscale": [
             [
              0,
              "#0d0887"
             ],
             [
              0.1111111111111111,
              "#46039f"
             ],
             [
              0.2222222222222222,
              "#7201a8"
             ],
             [
              0.3333333333333333,
              "#9c179e"
             ],
             [
              0.4444444444444444,
              "#bd3786"
             ],
             [
              0.5555555555555556,
              "#d8576b"
             ],
             [
              0.6666666666666666,
              "#ed7953"
             ],
             [
              0.7777777777777778,
              "#fb9f3a"
             ],
             [
              0.8888888888888888,
              "#fdca26"
             ],
             [
              1,
              "#f0f921"
             ]
            ],
            "type": "surface"
           }
          ],
          "table": [
           {
            "cells": {
             "fill": {
              "color": "#EBF0F8"
             },
             "line": {
              "color": "white"
             }
            },
            "header": {
             "fill": {
              "color": "#C8D4E3"
             },
             "line": {
              "color": "white"
             }
            },
            "type": "table"
           }
          ]
         },
         "layout": {
          "annotationdefaults": {
           "arrowcolor": "#2a3f5f",
           "arrowhead": 0,
           "arrowwidth": 1
          },
          "autotypenumbers": "strict",
          "coloraxis": {
           "colorbar": {
            "outlinewidth": 0,
            "ticks": ""
           }
          },
          "colorscale": {
           "diverging": [
            [
             0,
             "#8e0152"
            ],
            [
             0.1,
             "#c51b7d"
            ],
            [
             0.2,
             "#de77ae"
            ],
            [
             0.3,
             "#f1b6da"
            ],
            [
             0.4,
             "#fde0ef"
            ],
            [
             0.5,
             "#f7f7f7"
            ],
            [
             0.6,
             "#e6f5d0"
            ],
            [
             0.7,
             "#b8e186"
            ],
            [
             0.8,
             "#7fbc41"
            ],
            [
             0.9,
             "#4d9221"
            ],
            [
             1,
             "#276419"
            ]
           ],
           "sequential": [
            [
             0,
             "#0d0887"
            ],
            [
             0.1111111111111111,
             "#46039f"
            ],
            [
             0.2222222222222222,
             "#7201a8"
            ],
            [
             0.3333333333333333,
             "#9c179e"
            ],
            [
             0.4444444444444444,
             "#bd3786"
            ],
            [
             0.5555555555555556,
             "#d8576b"
            ],
            [
             0.6666666666666666,
             "#ed7953"
            ],
            [
             0.7777777777777778,
             "#fb9f3a"
            ],
            [
             0.8888888888888888,
             "#fdca26"
            ],
            [
             1,
             "#f0f921"
            ]
           ],
           "sequentialminus": [
            [
             0,
             "#0d0887"
            ],
            [
             0.1111111111111111,
             "#46039f"
            ],
            [
             0.2222222222222222,
             "#7201a8"
            ],
            [
             0.3333333333333333,
             "#9c179e"
            ],
            [
             0.4444444444444444,
             "#bd3786"
            ],
            [
             0.5555555555555556,
             "#d8576b"
            ],
            [
             0.6666666666666666,
             "#ed7953"
            ],
            [
             0.7777777777777778,
             "#fb9f3a"
            ],
            [
             0.8888888888888888,
             "#fdca26"
            ],
            [
             1,
             "#f0f921"
            ]
           ]
          },
          "colorway": [
           "#636efa",
           "#EF553B",
           "#00cc96",
           "#ab63fa",
           "#FFA15A",
           "#19d3f3",
           "#FF6692",
           "#B6E880",
           "#FF97FF",
           "#FECB52"
          ],
          "font": {
           "color": "#2a3f5f"
          },
          "geo": {
           "bgcolor": "white",
           "lakecolor": "white",
           "landcolor": "#E5ECF6",
           "showlakes": true,
           "showland": true,
           "subunitcolor": "white"
          },
          "hoverlabel": {
           "align": "left"
          },
          "hovermode": "closest",
          "mapbox": {
           "style": "light"
          },
          "paper_bgcolor": "white",
          "plot_bgcolor": "#E5ECF6",
          "polar": {
           "angularaxis": {
            "gridcolor": "white",
            "linecolor": "white",
            "ticks": ""
           },
           "bgcolor": "#E5ECF6",
           "radialaxis": {
            "gridcolor": "white",
            "linecolor": "white",
            "ticks": ""
           }
          },
          "scene": {
           "xaxis": {
            "backgroundcolor": "#E5ECF6",
            "gridcolor": "white",
            "gridwidth": 2,
            "linecolor": "white",
            "showbackground": true,
            "ticks": "",
            "zerolinecolor": "white"
           },
           "yaxis": {
            "backgroundcolor": "#E5ECF6",
            "gridcolor": "white",
            "gridwidth": 2,
            "linecolor": "white",
            "showbackground": true,
            "ticks": "",
            "zerolinecolor": "white"
           },
           "zaxis": {
            "backgroundcolor": "#E5ECF6",
            "gridcolor": "white",
            "gridwidth": 2,
            "linecolor": "white",
            "showbackground": true,
            "ticks": "",
            "zerolinecolor": "white"
           }
          },
          "shapedefaults": {
           "line": {
            "color": "#2a3f5f"
           }
          },
          "ternary": {
           "aaxis": {
            "gridcolor": "white",
            "linecolor": "white",
            "ticks": ""
           },
           "baxis": {
            "gridcolor": "white",
            "linecolor": "white",
            "ticks": ""
           },
           "bgcolor": "#E5ECF6",
           "caxis": {
            "gridcolor": "white",
            "linecolor": "white",
            "ticks": ""
           }
          },
          "title": {
           "x": 0.05
          },
          "xaxis": {
           "automargin": true,
           "gridcolor": "white",
           "linecolor": "white",
           "ticks": "",
           "title": {
            "standoff": 15
           },
           "zerolinecolor": "white",
           "zerolinewidth": 2
          },
          "yaxis": {
           "automargin": true,
           "gridcolor": "white",
           "linecolor": "white",
           "ticks": "",
           "title": {
            "standoff": 15
           },
           "zerolinecolor": "white",
           "zerolinewidth": 2
          }
         }
        },
        "title": {
         "text": "Current Totals vs. Projected Growth by Discipline",
         "x": 0.5
        },
        "xaxis": {
         "anchor": "y",
         "domain": [
          0,
          1
         ],
         "title": {
          "text": "Discipline"
         }
        },
        "yaxis": {
         "anchor": "x",
         "domain": [
          0,
          1
         ],
         "title": {
          "text": "Medal Count"
         }
        }
       }
      }
     },
     "metadata": {},
     "output_type": "display_data"
    },
    {
     "name": "stdout",
     "output_type": "stream",
     "text": [
      "Enhanced analysis saved to 'enhanced_medals_analysis.csv'\n"
     ]
    }
   ],
   "source": [
    "import pandas as pd\n",
    "import matplotlib.pyplot as plt\n",
    "import seaborn as sns\n",
    "import plotly.express as px\n",
    "# Load dataset\n",
    "medals_by_event_path = r\"C:\\Users\\sreev\\Data Visualization\\Olympics 2024\\Paris 2024 Summer Olympic Games Data analysis\\Exported Data\\Medals by Discipline.csv\"\n",
    "medals_by_event_df = pd.read_csv(medals_by_event_path)\n",
    "\n",
    "# Bar Chart: Total Medals by Discipline\n",
    "medals_by_event_df = medals_by_event_df.sort_values(by='total_medals', ascending=False)\n",
    "\n",
    "fig = px.bar(\n",
    "    medals_by_event_df,\n",
    "    x='total_medals',\n",
    "    y='discipline',\n",
    "    orientation='h',\n",
    "    color='total_medals',\n",
    "    color_continuous_scale='Viridis',\n",
    "    title='Total Medals by Discipline',\n",
    "    labels={'total_medals': 'Total Medals', 'discipline': 'Discipline'}\n",
    ")\n",
    "fig.update_layout(\n",
    "    xaxis=dict(title='Total Medals'),\n",
    "    yaxis=dict(title='Discipline'),\n",
    "    title_x=0.5\n",
    ")\n",
    "fig.show()\n",
    "\n",
    "# Pie Chart: Percentage Contribution\n",
    "medals_by_event_df['Percentage'] = (medals_by_event_df['total_medals'] / medals_by_event_df['total_medals'].sum()) * 100\n",
    "\n",
    "# Group smaller contributions into \"Other\"\n",
    "threshold = 2  # Percent threshold for grouping\n",
    "medals_by_event_df['Category'] = medals_by_event_df['Percentage'].apply(lambda x: 'Other' if x < threshold else None)\n",
    "medals_by_event_df['Category'] = medals_by_event_df['Category'].fillna(medals_by_event_df['discipline'])\n",
    "grouped_df = medals_by_event_df.groupby('Category', as_index=False).sum()\n",
    "\n",
    "# plt.figure(figsize=(8, 8))\n",
    "# plt.pie(\n",
    "#     grouped_df['Percentage'],\n",
    "#     labels=grouped_df['Category'],\n",
    "#     autopct='%1.1f%%',\n",
    "#     startangle=140,\n",
    "#     colors=sns.color_palette('pastel'),\n",
    "# )\n",
    "# plt.title('Percentage Contribution of Total Medals by Discipline', fontsize=16)\n",
    "# plt.show()\n",
    "fig = px.sunburst(\n",
    "    medals_by_event_df,\n",
    "    path=['discipline'],\n",
    "    values='total_medals',\n",
    "    title='Percentage Contribution of Total Medals by Discipline',\n",
    "    color='total_medals',\n",
    "    color_continuous_scale='Plasma',\n",
    ")\n",
    "fig.update_layout(title_x=0.5)\n",
    "fig.show()\n",
    "\n",
    "\n",
    "# Future Aspirations\n",
    "max_medals = medals_by_event_df['total_medals'].max()\n",
    "medals_by_event_df['Gap_to_Parity'] = max_medals - medals_by_event_df['total_medals']\n",
    "medals_by_event_df['Projected_Growth'] = medals_by_event_df['Gap_to_Parity'] + medals_by_event_df['total_medals']\n",
    "\n",
    "# Bar Chart: Projected Growth\n",
    "# plt.figure(figsize=(12, 6))\n",
    "# sns.barplot(data=medals_by_event_df, x='discipline', y='Projected_Growth', palette='coolwarm')\n",
    "# plt.title('Projected Growth in Medals by Discipline', fontsize=16)\n",
    "# plt.xlabel('Discipline', fontsize=12)\n",
    "# plt.ylabel('Projected Growth', fontsize=12)\n",
    "# plt.xticks(rotation=45, fontsize=9)\n",
    "# # Add numbers on bars\n",
    "# for i, v in enumerate(medals_by_event_df['Projected_Growth']):\n",
    "#     plt.text(i, v + 5, str(int(v)), ha='center', fontsize=8)\n",
    "# plt.tight_layout()\n",
    "# plt.show()\n",
    "growth_df = medals_by_event_df[['discipline', 'total_medals', 'Projected_Growth']].melt(\n",
    "    id_vars='discipline',\n",
    "    var_name='Metric',\n",
    "    value_name='Count'\n",
    ")\n",
    "\n",
    "fig = px.bar(\n",
    "    growth_df,\n",
    "    x='discipline',\n",
    "    y='Count',\n",
    "    color='Metric',\n",
    "    barmode='group',\n",
    "    title='Current Totals vs. Projected Growth by Discipline',\n",
    "    labels={'Count': 'Medal Count', 'discipline': 'Discipline'}\n",
    ")\n",
    "fig.update_layout(\n",
    "    xaxis=dict(title='Discipline'),\n",
    "    yaxis=dict(title='Medal Count'),\n",
    "    title_x=0.5\n",
    ")\n",
    "fig.show()\n",
    "\n",
    "\n",
    "# Save updated data to CSV\n",
    "medals_by_event_df.to_csv('enhanced_medals_analysis.csv', index=False)\n",
    "print(\"Enhanced analysis saved to 'enhanced_medals_analysis.csv'\")\n"
   ]
  },
  {
   "cell_type": "code",
   "execution_count": 46,
   "metadata": {},
   "outputs": [
    {
     "data": {
      "application/vnd.plotly.v1+json": {
       "config": {
        "plotlyServerURL": "https://plot.ly"
       },
       "data": [
        {
         "alignmentgroup": "True",
         "hovertemplate": "Medal Type=Bronze Medal<br>Discipline=%{x}<br>Number of Medals=%{y}<extra></extra>",
         "legendgroup": "Bronze Medal",
         "marker": {
          "color": "gold",
          "pattern": {
           "shape": ""
          }
         },
         "name": "Bronze Medal",
         "offsetgroup": "Bronze Medal",
         "orientation": "v",
         "showlegend": true,
         "textposition": "auto",
         "type": "bar",
         "x": [
          "3x3 Basketball",
          "Archery",
          "Artistic Gymnastics",
          "Artistic Swimming",
          "Athletics",
          "Badminton",
          "Basketball",
          "Beach Volleyball",
          "Boxing",
          "Breaking",
          "Canoe Slalom",
          "Canoe Sprint",
          "Cycling BMX Freestyle",
          "Cycling BMX Racing",
          "Cycling Mountain Bike",
          "Cycling Road",
          "Cycling Track",
          "Diving",
          "Equestrian",
          "Fencing",
          "Football",
          "Golf",
          "Handball",
          "Hockey",
          "Judo",
          "Marathon Swimming",
          "Modern Pentathlon",
          "Rhythmic Gymnastics",
          "Rowing",
          "Rugby Sevens",
          "Sailing",
          "Shooting",
          "Skateboarding",
          "Sport Climbing",
          "Surfing",
          "Swimming",
          "Table Tennis",
          "Taekwondo",
          "Tennis",
          "Trampoline Gymnastics",
          "Triathlon",
          "Volleyball",
          "Water Polo",
          "Weightlifting",
          "Wrestling"
         ],
         "xaxis": "x",
         "y": [
          8,
          10,
          23,
          11,
          79,
          8,
          24,
          4,
          26,
          2,
          6,
          22,
          2,
          2,
          2,
          4,
          29,
          12,
          15,
          30,
          39,
          2,
          30,
          32,
          49,
          2,
          2,
          6,
          48,
          25,
          14,
          18,
          4,
          4,
          2,
          71,
          10,
          16,
          8,
          2,
          6,
          26,
          26,
          10,
          36
         ],
         "yaxis": "y"
        },
        {
         "alignmentgroup": "True",
         "hovertemplate": "Medal Type=Gold Medal<br>Discipline=%{x}<br>Number of Medals=%{y}<extra></extra>",
         "legendgroup": "Gold Medal",
         "marker": {
          "color": "silver",
          "pattern": {
           "shape": ""
          }
         },
         "name": "Gold Medal",
         "offsetgroup": "Gold Medal",
         "orientation": "v",
         "showlegend": true,
         "textposition": "auto",
         "type": "bar",
         "x": [
          "3x3 Basketball",
          "Archery",
          "Artistic Gymnastics",
          "Artistic Swimming",
          "Athletics",
          "Badminton",
          "Basketball",
          "Beach Volleyball",
          "Boxing",
          "Breaking",
          "Canoe Slalom",
          "Canoe Sprint",
          "Cycling BMX Freestyle",
          "Cycling BMX Racing",
          "Cycling Mountain Bike",
          "Cycling Road",
          "Cycling Track",
          "Diving",
          "Equestrian",
          "Fencing",
          "Football",
          "Golf",
          "Handball",
          "Hockey",
          "Judo",
          "Marathon Swimming",
          "Modern Pentathlon",
          "Rhythmic Gymnastics",
          "Rowing",
          "Rugby Sevens",
          "Sailing",
          "Shooting",
          "Skateboarding",
          "Sport Climbing",
          "Surfing",
          "Swimming",
          "Table Tennis",
          "Taekwondo",
          "Tennis",
          "Trampoline Gymnastics",
          "Triathlon",
          "Volleyball",
          "Water Polo",
          "Weightlifting",
          "Wrestling"
         ],
         "xaxis": "x",
         "y": [
          8,
          10,
          22,
          11,
          78,
          8,
          24,
          4,
          13,
          2,
          6,
          20,
          2,
          2,
          2,
          4,
          29,
          12,
          15,
          30,
          42,
          2,
          31,
          35,
          28,
          2,
          2,
          6,
          48,
          25,
          14,
          18,
          4,
          4,
          2,
          73,
          10,
          8,
          8,
          2,
          6,
          26,
          26,
          10,
          18
         ],
         "yaxis": "y"
        },
        {
         "alignmentgroup": "True",
         "hovertemplate": "Medal Type=Silver Medal<br>Discipline=%{x}<br>Number of Medals=%{y}<extra></extra>",
         "legendgroup": "Silver Medal",
         "marker": {
          "color": "brown",
          "pattern": {
           "shape": ""
          }
         },
         "name": "Silver Medal",
         "offsetgroup": "Silver Medal",
         "orientation": "v",
         "showlegend": true,
         "textposition": "auto",
         "type": "bar",
         "x": [
          "3x3 Basketball",
          "Archery",
          "Artistic Gymnastics",
          "Artistic Swimming",
          "Athletics",
          "Badminton",
          "Basketball",
          "Beach Volleyball",
          "Boxing",
          "Breaking",
          "Canoe Slalom",
          "Canoe Sprint",
          "Cycling BMX Freestyle",
          "Cycling BMX Racing",
          "Cycling Mountain Bike",
          "Cycling Road",
          "Cycling Track",
          "Diving",
          "Equestrian",
          "Fencing",
          "Football",
          "Golf",
          "Handball",
          "Hockey",
          "Judo",
          "Marathon Swimming",
          "Modern Pentathlon",
          "Rhythmic Gymnastics",
          "Rowing",
          "Rugby Sevens",
          "Sailing",
          "Shooting",
          "Skateboarding",
          "Sport Climbing",
          "Surfing",
          "Swimming",
          "Table Tennis",
          "Taekwondo",
          "Tennis",
          "Trampoline Gymnastics",
          "Triathlon",
          "Volleyball",
          "Water Polo",
          "Weightlifting",
          "Wrestling"
         ],
         "xaxis": "x",
         "y": [
          8,
          10,
          22,
          11,
          74,
          8,
          24,
          4,
          13,
          2,
          6,
          20,
          2,
          2,
          2,
          4,
          29,
          12,
          15,
          30,
          43,
          2,
          33,
          35,
          28,
          2,
          2,
          6,
          48,
          28,
          14,
          18,
          4,
          4,
          2,
          75,
          10,
          8,
          8,
          2,
          6,
          26,
          26,
          10,
          18
         ],
         "yaxis": "y"
        }
       ],
       "layout": {
        "barmode": "group",
        "legend": {
         "title": {
          "text": "Medal Type"
         },
         "tracegroupgap": 0
        },
        "margin": {
         "b": 150,
         "l": 40,
         "r": 40,
         "t": 50
        },
        "template": {
         "data": {
          "bar": [
           {
            "error_x": {
             "color": "#2a3f5f"
            },
            "error_y": {
             "color": "#2a3f5f"
            },
            "marker": {
             "line": {
              "color": "#E5ECF6",
              "width": 0.5
             },
             "pattern": {
              "fillmode": "overlay",
              "size": 10,
              "solidity": 0.2
             }
            },
            "type": "bar"
           }
          ],
          "barpolar": [
           {
            "marker": {
             "line": {
              "color": "#E5ECF6",
              "width": 0.5
             },
             "pattern": {
              "fillmode": "overlay",
              "size": 10,
              "solidity": 0.2
             }
            },
            "type": "barpolar"
           }
          ],
          "carpet": [
           {
            "aaxis": {
             "endlinecolor": "#2a3f5f",
             "gridcolor": "white",
             "linecolor": "white",
             "minorgridcolor": "white",
             "startlinecolor": "#2a3f5f"
            },
            "baxis": {
             "endlinecolor": "#2a3f5f",
             "gridcolor": "white",
             "linecolor": "white",
             "minorgridcolor": "white",
             "startlinecolor": "#2a3f5f"
            },
            "type": "carpet"
           }
          ],
          "choropleth": [
           {
            "colorbar": {
             "outlinewidth": 0,
             "ticks": ""
            },
            "type": "choropleth"
           }
          ],
          "contour": [
           {
            "colorbar": {
             "outlinewidth": 0,
             "ticks": ""
            },
            "colorscale": [
             [
              0,
              "#0d0887"
             ],
             [
              0.1111111111111111,
              "#46039f"
             ],
             [
              0.2222222222222222,
              "#7201a8"
             ],
             [
              0.3333333333333333,
              "#9c179e"
             ],
             [
              0.4444444444444444,
              "#bd3786"
             ],
             [
              0.5555555555555556,
              "#d8576b"
             ],
             [
              0.6666666666666666,
              "#ed7953"
             ],
             [
              0.7777777777777778,
              "#fb9f3a"
             ],
             [
              0.8888888888888888,
              "#fdca26"
             ],
             [
              1,
              "#f0f921"
             ]
            ],
            "type": "contour"
           }
          ],
          "contourcarpet": [
           {
            "colorbar": {
             "outlinewidth": 0,
             "ticks": ""
            },
            "type": "contourcarpet"
           }
          ],
          "heatmap": [
           {
            "colorbar": {
             "outlinewidth": 0,
             "ticks": ""
            },
            "colorscale": [
             [
              0,
              "#0d0887"
             ],
             [
              0.1111111111111111,
              "#46039f"
             ],
             [
              0.2222222222222222,
              "#7201a8"
             ],
             [
              0.3333333333333333,
              "#9c179e"
             ],
             [
              0.4444444444444444,
              "#bd3786"
             ],
             [
              0.5555555555555556,
              "#d8576b"
             ],
             [
              0.6666666666666666,
              "#ed7953"
             ],
             [
              0.7777777777777778,
              "#fb9f3a"
             ],
             [
              0.8888888888888888,
              "#fdca26"
             ],
             [
              1,
              "#f0f921"
             ]
            ],
            "type": "heatmap"
           }
          ],
          "heatmapgl": [
           {
            "colorbar": {
             "outlinewidth": 0,
             "ticks": ""
            },
            "colorscale": [
             [
              0,
              "#0d0887"
             ],
             [
              0.1111111111111111,
              "#46039f"
             ],
             [
              0.2222222222222222,
              "#7201a8"
             ],
             [
              0.3333333333333333,
              "#9c179e"
             ],
             [
              0.4444444444444444,
              "#bd3786"
             ],
             [
              0.5555555555555556,
              "#d8576b"
             ],
             [
              0.6666666666666666,
              "#ed7953"
             ],
             [
              0.7777777777777778,
              "#fb9f3a"
             ],
             [
              0.8888888888888888,
              "#fdca26"
             ],
             [
              1,
              "#f0f921"
             ]
            ],
            "type": "heatmapgl"
           }
          ],
          "histogram": [
           {
            "marker": {
             "pattern": {
              "fillmode": "overlay",
              "size": 10,
              "solidity": 0.2
             }
            },
            "type": "histogram"
           }
          ],
          "histogram2d": [
           {
            "colorbar": {
             "outlinewidth": 0,
             "ticks": ""
            },
            "colorscale": [
             [
              0,
              "#0d0887"
             ],
             [
              0.1111111111111111,
              "#46039f"
             ],
             [
              0.2222222222222222,
              "#7201a8"
             ],
             [
              0.3333333333333333,
              "#9c179e"
             ],
             [
              0.4444444444444444,
              "#bd3786"
             ],
             [
              0.5555555555555556,
              "#d8576b"
             ],
             [
              0.6666666666666666,
              "#ed7953"
             ],
             [
              0.7777777777777778,
              "#fb9f3a"
             ],
             [
              0.8888888888888888,
              "#fdca26"
             ],
             [
              1,
              "#f0f921"
             ]
            ],
            "type": "histogram2d"
           }
          ],
          "histogram2dcontour": [
           {
            "colorbar": {
             "outlinewidth": 0,
             "ticks": ""
            },
            "colorscale": [
             [
              0,
              "#0d0887"
             ],
             [
              0.1111111111111111,
              "#46039f"
             ],
             [
              0.2222222222222222,
              "#7201a8"
             ],
             [
              0.3333333333333333,
              "#9c179e"
             ],
             [
              0.4444444444444444,
              "#bd3786"
             ],
             [
              0.5555555555555556,
              "#d8576b"
             ],
             [
              0.6666666666666666,
              "#ed7953"
             ],
             [
              0.7777777777777778,
              "#fb9f3a"
             ],
             [
              0.8888888888888888,
              "#fdca26"
             ],
             [
              1,
              "#f0f921"
             ]
            ],
            "type": "histogram2dcontour"
           }
          ],
          "mesh3d": [
           {
            "colorbar": {
             "outlinewidth": 0,
             "ticks": ""
            },
            "type": "mesh3d"
           }
          ],
          "parcoords": [
           {
            "line": {
             "colorbar": {
              "outlinewidth": 0,
              "ticks": ""
             }
            },
            "type": "parcoords"
           }
          ],
          "pie": [
           {
            "automargin": true,
            "type": "pie"
           }
          ],
          "scatter": [
           {
            "fillpattern": {
             "fillmode": "overlay",
             "size": 10,
             "solidity": 0.2
            },
            "type": "scatter"
           }
          ],
          "scatter3d": [
           {
            "line": {
             "colorbar": {
              "outlinewidth": 0,
              "ticks": ""
             }
            },
            "marker": {
             "colorbar": {
              "outlinewidth": 0,
              "ticks": ""
             }
            },
            "type": "scatter3d"
           }
          ],
          "scattercarpet": [
           {
            "marker": {
             "colorbar": {
              "outlinewidth": 0,
              "ticks": ""
             }
            },
            "type": "scattercarpet"
           }
          ],
          "scattergeo": [
           {
            "marker": {
             "colorbar": {
              "outlinewidth": 0,
              "ticks": ""
             }
            },
            "type": "scattergeo"
           }
          ],
          "scattergl": [
           {
            "marker": {
             "colorbar": {
              "outlinewidth": 0,
              "ticks": ""
             }
            },
            "type": "scattergl"
           }
          ],
          "scattermapbox": [
           {
            "marker": {
             "colorbar": {
              "outlinewidth": 0,
              "ticks": ""
             }
            },
            "type": "scattermapbox"
           }
          ],
          "scatterpolar": [
           {
            "marker": {
             "colorbar": {
              "outlinewidth": 0,
              "ticks": ""
             }
            },
            "type": "scatterpolar"
           }
          ],
          "scatterpolargl": [
           {
            "marker": {
             "colorbar": {
              "outlinewidth": 0,
              "ticks": ""
             }
            },
            "type": "scatterpolargl"
           }
          ],
          "scatterternary": [
           {
            "marker": {
             "colorbar": {
              "outlinewidth": 0,
              "ticks": ""
             }
            },
            "type": "scatterternary"
           }
          ],
          "surface": [
           {
            "colorbar": {
             "outlinewidth": 0,
             "ticks": ""
            },
            "colorscale": [
             [
              0,
              "#0d0887"
             ],
             [
              0.1111111111111111,
              "#46039f"
             ],
             [
              0.2222222222222222,
              "#7201a8"
             ],
             [
              0.3333333333333333,
              "#9c179e"
             ],
             [
              0.4444444444444444,
              "#bd3786"
             ],
             [
              0.5555555555555556,
              "#d8576b"
             ],
             [
              0.6666666666666666,
              "#ed7953"
             ],
             [
              0.7777777777777778,
              "#fb9f3a"
             ],
             [
              0.8888888888888888,
              "#fdca26"
             ],
             [
              1,
              "#f0f921"
             ]
            ],
            "type": "surface"
           }
          ],
          "table": [
           {
            "cells": {
             "fill": {
              "color": "#EBF0F8"
             },
             "line": {
              "color": "white"
             }
            },
            "header": {
             "fill": {
              "color": "#C8D4E3"
             },
             "line": {
              "color": "white"
             }
            },
            "type": "table"
           }
          ]
         },
         "layout": {
          "annotationdefaults": {
           "arrowcolor": "#2a3f5f",
           "arrowhead": 0,
           "arrowwidth": 1
          },
          "autotypenumbers": "strict",
          "coloraxis": {
           "colorbar": {
            "outlinewidth": 0,
            "ticks": ""
           }
          },
          "colorscale": {
           "diverging": [
            [
             0,
             "#8e0152"
            ],
            [
             0.1,
             "#c51b7d"
            ],
            [
             0.2,
             "#de77ae"
            ],
            [
             0.3,
             "#f1b6da"
            ],
            [
             0.4,
             "#fde0ef"
            ],
            [
             0.5,
             "#f7f7f7"
            ],
            [
             0.6,
             "#e6f5d0"
            ],
            [
             0.7,
             "#b8e186"
            ],
            [
             0.8,
             "#7fbc41"
            ],
            [
             0.9,
             "#4d9221"
            ],
            [
             1,
             "#276419"
            ]
           ],
           "sequential": [
            [
             0,
             "#0d0887"
            ],
            [
             0.1111111111111111,
             "#46039f"
            ],
            [
             0.2222222222222222,
             "#7201a8"
            ],
            [
             0.3333333333333333,
             "#9c179e"
            ],
            [
             0.4444444444444444,
             "#bd3786"
            ],
            [
             0.5555555555555556,
             "#d8576b"
            ],
            [
             0.6666666666666666,
             "#ed7953"
            ],
            [
             0.7777777777777778,
             "#fb9f3a"
            ],
            [
             0.8888888888888888,
             "#fdca26"
            ],
            [
             1,
             "#f0f921"
            ]
           ],
           "sequentialminus": [
            [
             0,
             "#0d0887"
            ],
            [
             0.1111111111111111,
             "#46039f"
            ],
            [
             0.2222222222222222,
             "#7201a8"
            ],
            [
             0.3333333333333333,
             "#9c179e"
            ],
            [
             0.4444444444444444,
             "#bd3786"
            ],
            [
             0.5555555555555556,
             "#d8576b"
            ],
            [
             0.6666666666666666,
             "#ed7953"
            ],
            [
             0.7777777777777778,
             "#fb9f3a"
            ],
            [
             0.8888888888888888,
             "#fdca26"
            ],
            [
             1,
             "#f0f921"
            ]
           ]
          },
          "colorway": [
           "#636efa",
           "#EF553B",
           "#00cc96",
           "#ab63fa",
           "#FFA15A",
           "#19d3f3",
           "#FF6692",
           "#B6E880",
           "#FF97FF",
           "#FECB52"
          ],
          "font": {
           "color": "#2a3f5f"
          },
          "geo": {
           "bgcolor": "white",
           "lakecolor": "white",
           "landcolor": "#E5ECF6",
           "showlakes": true,
           "showland": true,
           "subunitcolor": "white"
          },
          "hoverlabel": {
           "align": "left"
          },
          "hovermode": "closest",
          "mapbox": {
           "style": "light"
          },
          "paper_bgcolor": "white",
          "plot_bgcolor": "#E5ECF6",
          "polar": {
           "angularaxis": {
            "gridcolor": "white",
            "linecolor": "white",
            "ticks": ""
           },
           "bgcolor": "#E5ECF6",
           "radialaxis": {
            "gridcolor": "white",
            "linecolor": "white",
            "ticks": ""
           }
          },
          "scene": {
           "xaxis": {
            "backgroundcolor": "#E5ECF6",
            "gridcolor": "white",
            "gridwidth": 2,
            "linecolor": "white",
            "showbackground": true,
            "ticks": "",
            "zerolinecolor": "white"
           },
           "yaxis": {
            "backgroundcolor": "#E5ECF6",
            "gridcolor": "white",
            "gridwidth": 2,
            "linecolor": "white",
            "showbackground": true,
            "ticks": "",
            "zerolinecolor": "white"
           },
           "zaxis": {
            "backgroundcolor": "#E5ECF6",
            "gridcolor": "white",
            "gridwidth": 2,
            "linecolor": "white",
            "showbackground": true,
            "ticks": "",
            "zerolinecolor": "white"
           }
          },
          "shapedefaults": {
           "line": {
            "color": "#2a3f5f"
           }
          },
          "ternary": {
           "aaxis": {
            "gridcolor": "white",
            "linecolor": "white",
            "ticks": ""
           },
           "baxis": {
            "gridcolor": "white",
            "linecolor": "white",
            "ticks": ""
           },
           "bgcolor": "#E5ECF6",
           "caxis": {
            "gridcolor": "white",
            "linecolor": "white",
            "ticks": ""
           }
          },
          "title": {
           "x": 0.05
          },
          "xaxis": {
           "automargin": true,
           "gridcolor": "white",
           "linecolor": "white",
           "ticks": "",
           "title": {
            "standoff": 15
           },
           "zerolinecolor": "white",
           "zerolinewidth": 2
          },
          "yaxis": {
           "automargin": true,
           "gridcolor": "white",
           "linecolor": "white",
           "ticks": "",
           "title": {
            "standoff": 15
           },
           "zerolinecolor": "white",
           "zerolinewidth": 2
          }
         }
        },
        "title": {
         "text": "Medals by Type for Top Disciplines",
         "x": 0.5
        },
        "xaxis": {
         "anchor": "y",
         "domain": [
          0,
          1
         ],
         "tickangle": 45,
         "title": {
          "text": "Discipline"
         }
        },
        "yaxis": {
         "anchor": "x",
         "domain": [
          0,
          1
         ],
         "title": {
          "text": "Number of Medals"
         }
        }
       }
      }
     },
     "metadata": {},
     "output_type": "display_data"
    }
   ],
   "source": [
    "import pandas as pd\n",
    "import plotly.express as px\n",
    "\n",
    "# Load the medalists.csv file\n",
    "medalists_path = r\"C:\\Users\\sreev\\Data Visualization\\Olympics 2024\\medallists.csv\"\n",
    "medalists_df = pd.read_csv(medalists_path)\n",
    "\n",
    "# Group data by discipline and medal type\n",
    "medal_counts = medalists_df.groupby(['discipline', 'medal_type'], as_index=False).size()\n",
    "\n",
    "# Plot a clustered bar chart\n",
    "fig = px.bar(\n",
    "    medal_counts,\n",
    "    x='discipline',\n",
    "    y='size',\n",
    "    color='medal_type',\n",
    "    title='Medals by Type for Top Disciplines',\n",
    "    labels={'size': 'Number of Medals', 'discipline': 'Discipline', 'medal_type': 'Medal Type'},\n",
    "    barmode='group',  # Group bars side-by-side\n",
    "    color_discrete_sequence=['gold', 'silver', 'brown'],  # Set medal colors\n",
    ")\n",
    "\n",
    "# Customize layout for better readability\n",
    "fig.update_layout(\n",
    "    xaxis=dict(title='Discipline', tickangle=45),\n",
    "    yaxis=dict(title='Number of Medals'),\n",
    "    title_x=0.5,  # Center the title\n",
    "    legend_title='Medal Type',\n",
    "    margin=dict(l=40, r=40, t=50, b=150),\n",
    ")\n",
    "\n",
    "# Show the figure\n",
    "fig.show()"
   ]
  },
  {
   "cell_type": "markdown",
   "metadata": {},
   "source": [
    "**Dominant Countries in Specific Events 2024**"
   ]
  },
  {
   "cell_type": "code",
   "execution_count": 47,
   "metadata": {},
   "outputs": [
    {
     "data": {
      "application/vnd.jupyter.widget-view+json": {
       "model_id": "cb787fc945de44a6928c9afe0eb37fd8",
       "version_major": 2,
       "version_minor": 0
      },
      "text/plain": [
       "Dropdown(description='Select Event:', layout=Layout(width='50%'), options=('10m Air Pistol Men', '10m Air Pist…"
      ]
     },
     "metadata": {},
     "output_type": "display_data"
    },
    {
     "data": {
      "application/vnd.jupyter.widget-view+json": {
       "model_id": "beddf06bb2174720a5b7474021d13d8b",
       "version_major": 2,
       "version_minor": 0
      },
      "text/plain": [
       "Output()"
      ]
     },
     "metadata": {},
     "output_type": "display_data"
    }
   ],
   "source": [
    "import pandas as pd\n",
    "import plotly.express as px\n",
    "from ipywidgets import widgets\n",
    "\n",
    "# Load the dataset\n",
    "file_path = r\"C:\\Users\\sreev\\Data Visualization\\Olympics 2024\\Paris 2024 Summer Olympic Games Data analysis\\Exported Data\\Dominance in a Specific Event.csv\"\n",
    "dominance_df = pd.read_csv(file_path)\n",
    "\n",
    "# Dropdown for event selection\n",
    "events = sorted(dominance_df['event'].unique())\n",
    "event_selector = widgets.Dropdown(\n",
    "    options=events,\n",
    "    description=\"Select Event:\",\n",
    "    layout=widgets.Layout(width='50%')\n",
    ")\n",
    "\n",
    "# Output widget for visualization\n",
    "output = widgets.Output()\n",
    "\n",
    "# Function to update visualization based on the selected event\n",
    "def update_visualization(change):\n",
    "    with output:\n",
    "        clear_output(wait=True)  # Clear previous output\n",
    "        selected_event = event_selector.value\n",
    "        \n",
    "        # Filter data for the selected event\n",
    "        filtered_data = dominance_df[dominance_df['event'] == selected_event]\n",
    "        \n",
    "        # Create bar chart\n",
    "        fig = px.bar(\n",
    "            filtered_data,\n",
    "            x='country',\n",
    "            y='total_medals',\n",
    "            title=f\"Dominant Countries in {selected_event}\",\n",
    "            labels={'country': 'Country Name', 'total_medals': 'Total Medals'},\n",
    "            text='total_medals',\n",
    "            color='total_medals',\n",
    "            color_continuous_scale='Viridis',\n",
    "            hover_data=['Gold_Medals', 'Silver_Medals', 'Bronze_Medals']\n",
    "        )\n",
    "        \n",
    "        fig.update_layout(\n",
    "            xaxis_title=\"Country\",\n",
    "            yaxis_title=\"Number of Medals\",\n",
    "            xaxis_tickangle=45\n",
    "        )\n",
    "        fig.show()\n",
    "\n",
    "# Observe dropdown changes\n",
    "event_selector.observe(update_visualization, names='value')\n",
    "\n",
    "# Display dropdown and output\n",
    "display(event_selector, output)"
   ]
  },
  {
   "cell_type": "markdown",
   "metadata": {},
   "source": [
    "**Dominant Countries in Specific Events from 1896-2024**"
   ]
  },
  {
   "cell_type": "code",
   "execution_count": 48,
   "metadata": {},
   "outputs": [
    {
     "data": {
      "application/vnd.jupyter.widget-view+json": {
       "model_id": "6672e0a8c1a7450497fe0b39e9c98400",
       "version_major": 2,
       "version_minor": 0
      },
      "text/plain": [
       "Dropdown(description='Select Event:', layout=Layout(width='50%'), options=('10m Air Pistol Men', '10m Air Pist…"
      ]
     },
     "metadata": {},
     "output_type": "display_data"
    },
    {
     "data": {
      "application/vnd.jupyter.widget-view+json": {
       "model_id": "b41ca020439f47209bbb07137355e61b",
       "version_major": 2,
       "version_minor": 0
      },
      "text/plain": [
       "Output()"
      ]
     },
     "metadata": {},
     "output_type": "display_data"
    }
   ],
   "source": [
    "import pandas as pd\n",
    "import plotly.express as px\n",
    "import ipywidgets as widgets\n",
    "from IPython.display import display, clear_output\n",
    "\n",
    "# Load the data\n",
    "data_path = r\"C:\\Users\\sreev\\Data Visualization\\Olympics 2024\\olympics_dataset_1896-2024.csv\"  # Replace with your dataset path\n",
    "# noc_path = r\"C:\\Users\\sreev\\Data Visualization\\Olympics 2024\\nocs.csv\"  # Replace with path to country codes dataset\n",
    "df = pd.read_csv(data_path)\n",
    "# Filter necessary columns\n",
    "dominance_df = df[['Event', 'Team', 'Medal']]\n",
    "\n",
    "# Calculate medal counts for each country in each event\n",
    "dominant_countries = dominance_df.groupby(['Event', 'Team'])['Medal'].count().reset_index()\n",
    "dominant_countries = dominant_countries.rename(columns={'Medal': 'Medal Count'})\n",
    "\n",
    "# Get unique events\n",
    "events = sorted(dominant_countries['Event'].unique())\n",
    "\n",
    "# Dropdown for event selection\n",
    "event_selector = widgets.Dropdown(\n",
    "    options=events,\n",
    "    description=\"Select Event:\",\n",
    "    layout=widgets.Layout(width='50%')\n",
    ")\n",
    "\n",
    "# Output widget for displaying the visualization\n",
    "output = widgets.Output()\n",
    "\n",
    "# Function to update visualization based on the selected event\n",
    "def update_visualization(change):\n",
    "    with output:\n",
    "        clear_output(wait=True)  # Clear previous output completely\n",
    "        selected_event = event_selector.value\n",
    "        \n",
    "        # Filter data for the selected event\n",
    "        filtered_data = dominant_countries[dominant_countries['Event'] == selected_event]\n",
    "        \n",
    "        # Get top 10 countries by medal count\n",
    "        top_countries = filtered_data.nlargest(10, 'Medal Count')\n",
    "        \n",
    "        # Create bar chart\n",
    "        fig = px.bar(\n",
    "            top_countries,\n",
    "            x='Team',\n",
    "            y='Medal Count',\n",
    "            title=f\"Top 10 Dominant Countries in {selected_event}\",\n",
    "            labels={'Team': 'Country Name', 'Medal Count': 'Number of Medals'},\n",
    "            text_auto=True,\n",
    "            color='Medal Count',\n",
    "            color_continuous_scale='Viridis'\n",
    "        )\n",
    "        fig.update_layout(\n",
    "            xaxis_title=\"Country\",\n",
    "            yaxis_title=\"Number of Medals\",\n",
    "            xaxis_tickangle=45\n",
    "        )\n",
    "        fig.show()\n",
    "\n",
    "# Observe dropdown changes\n",
    "event_selector.observe(update_visualization, names='value')\n",
    "\n",
    "# Display dropdown and output\n",
    "display(event_selector, output)\n",
    "\n"
   ]
  },
  {
   "cell_type": "markdown",
   "metadata": {},
   "source": [
    "**Event-Level Medal Trends 1896-2024**"
   ]
  },
  {
   "cell_type": "code",
   "execution_count": 49,
   "metadata": {},
   "outputs": [
    {
     "data": {
      "application/vnd.jupyter.widget-view+json": {
       "model_id": "2091cd596a6e4cf587d45491e798d9fd",
       "version_major": 2,
       "version_minor": 0
      },
      "text/plain": [
       "Dropdown(description='Select Event:', layout=Layout(width='50%'), options=('10m Air Pistol Men', '10m Air Pist…"
      ]
     },
     "metadata": {},
     "output_type": "display_data"
    },
    {
     "data": {
      "application/vnd.jupyter.widget-view+json": {
       "model_id": "f964d9a003ee448789e21f641ce48625",
       "version_major": 2,
       "version_minor": 0
      },
      "text/plain": [
       "Output()"
      ]
     },
     "metadata": {},
     "output_type": "display_data"
    }
   ],
   "source": [
    "# Ensure proper column naming and filtering\n",
    "event_medal_df = df[['Year', 'Event', 'Medal']]\n",
    "\n",
    "# Group and count medals by year and event\n",
    "event_medal_trends = event_medal_df.groupby(['Year', 'Event'])['Medal'].count().reset_index()\n",
    "event_medal_trends = event_medal_trends.rename(columns={'Medal': 'Number of Medals'})\n",
    "\n",
    "# Get unique events for dropdown\n",
    "events = sorted(event_medal_trends['Event'].unique())\n",
    "\n",
    "# Dropdown for event selection\n",
    "event_selector = widgets.Dropdown(\n",
    "    options=events,\n",
    "    description=\"Select Event:\",\n",
    "    layout=widgets.Layout(width='50%')\n",
    ")\n",
    "\n",
    "# Output widget for visualization\n",
    "output = widgets.Output()\n",
    "\n",
    "# Function to update visualization based on selected event\n",
    "def update_event_trends(change):\n",
    "    with output:\n",
    "        clear_output(wait=True)  # Clear previous output\n",
    "        selected_event = event_selector.value\n",
    "        \n",
    "        # Filter data for the selected event\n",
    "        filtered_data = event_medal_trends[event_medal_trends['Event'] == selected_event]\n",
    "        \n",
    "        # Create a line chart\n",
    "        fig = px.line(\n",
    "            filtered_data,\n",
    "            x='Year',\n",
    "            y='Number of Medals',\n",
    "            title=f\"Medal Trends Over Time for {selected_event}\",\n",
    "            labels={'Year': 'Year', 'Number of Medals': 'Number of Medals'},\n",
    "            markers=True,\n",
    "            line_shape='spline'\n",
    "        )\n",
    "        fig.update_layout(\n",
    "            xaxis_title=\"Year\",\n",
    "            yaxis_title=\"Number of Medals\",\n",
    "            xaxis=dict(tickmode='linear', tick0=1896, dtick=4),  # Ensure consistent ticks\n",
    "            title_x=0.5  # Center title\n",
    "        )\n",
    "        fig.show()\n",
    "\n",
    "# Observe dropdown changes\n",
    "event_selector.observe(update_event_trends, names='value')\n",
    "\n",
    "# Display widgets\n",
    "display(event_selector, output)"
   ]
  },
  {
   "cell_type": "markdown",
   "metadata": {},
   "source": [
    "**Performance Analysis of Top Athletes**"
   ]
  },
  {
   "cell_type": "code",
   "execution_count": 57,
   "metadata": {},
   "outputs": [
    {
     "name": "stderr",
     "output_type": "stream",
     "text": [
      "c:\\Users\\sreev\\Data Visualization\\Olympics 2024\\olympics\\Lib\\site-packages\\dash\\dash.py:579: UserWarning:\n",
      "\n",
      "JupyterDash is deprecated, use Dash instead.\n",
      "See https://dash.plotly.com/dash-in-jupyter for more details.\n",
      "\n"
     ]
    },
    {
     "data": {
      "text/html": [
       "\n",
       "        <iframe\n",
       "            width=\"100%\"\n",
       "            height=\"650\"\n",
       "            src=\"http://127.0.0.1:8054/\"\n",
       "            frameborder=\"0\"\n",
       "            allowfullscreen\n",
       "            \n",
       "        ></iframe>\n",
       "        "
      ],
      "text/plain": [
       "<IPython.lib.display.IFrame at 0x2c356a4d510>"
      ]
     },
     "metadata": {},
     "output_type": "display_data"
    },
    {
     "data": {
      "text/html": [
       "\n",
       "        <iframe\n",
       "            width=\"100%\"\n",
       "            height=\"650\"\n",
       "            src=\"http://127.0.0.1:8054/\"\n",
       "            frameborder=\"0\"\n",
       "            allowfullscreen\n",
       "            \n",
       "        ></iframe>\n",
       "        "
      ],
      "text/plain": [
       "<IPython.lib.display.IFrame at 0x2c3566305d0>"
      ]
     },
     "metadata": {},
     "output_type": "display_data"
    }
   ],
   "source": [
    "import pandas as pd\n",
    "import plotly.express as px\n",
    "import dash\n",
    "from dash import dcc, html, dash_table\n",
    "from jupyter_dash import JupyterDash\n",
    "\n",
    "# Load the dataset\n",
    "file_path = r\"C:\\Users\\sreev\\Data Visualization\\Olympics 2024\\Paris 2024 Summer Olympic Games Data analysis\\Exported Data\\Top Athletes by Discipline.csv\"\n",
    "athletes_df = pd.read_csv(file_path)\n",
    "\n",
    "# Initialize the app\n",
    "app = JupyterDash(__name__)\n",
    "\n",
    "# Dropdown options for unique events\n",
    "event_options = [{\"label\": event, \"value\": event} for event in sorted(athletes_df['discipline'].unique())]\n",
    "\n",
    "# App layout\n",
    "app.layout = html.Div([\n",
    "    html.H1(\"Top Athletes Performance by Event\", style={'textAlign': 'center'}),\n",
    "    \n",
    "    dcc.Dropdown(\n",
    "        id='event-dropdown',\n",
    "        options=event_options,\n",
    "        placeholder=\"Select an Event\",\n",
    "        style={'width': '50%', 'margin': 'auto'}\n",
    "    ),\n",
    "    \n",
    "    html.Div(id='table-container')\n",
    "])\n",
    "\n",
    "# Callback to update table based on selected event\n",
    "@app.callback(\n",
    "    dash.dependencies.Output('table-container', 'children'),\n",
    "    [dash.dependencies.Input('event-dropdown', 'value')]\n",
    ")\n",
    "def update_table(selected_event):\n",
    "    if selected_event:\n",
    "        # Filter the data for the selected event\n",
    "        filtered_data = athletes_df[athletes_df['discipline'] == selected_event]\n",
    "        \n",
    "        # Create table\n",
    "        table = dash_table.DataTable(\n",
    "            id='athletes-table',\n",
    "            columns=[\n",
    "                {\"name\": \"Discipline\", \"id\": \"discipline\"},\n",
    "                {\"name\": \"Athlete Name\", \"id\": \"name\"},\n",
    "                {\"name\": \"Country\", \"id\": \"country\"},\n",
    "                {\"name\": \"Gold Medals\", \"id\": \"Gold_Medals\"},\n",
    "                {\"name\": \"Silver Medals\", \"id\": \"Silver_Medals\"},\n",
    "                {\"name\": \"Bronze Medals\", \"id\": \"Bronze_Medals\"},\n",
    "                {\"name\": \"Total Medals\", \"id\": \"total_medals\"}\n",
    "            ],\n",
    "            data=filtered_data.to_dict('records'),\n",
    "            style_table={'overflowX': 'auto'},\n",
    "            style_cell={'textAlign': 'left', 'padding': '5px'},\n",
    "            style_header={'backgroundColor': 'rgb(230, 230, 230)', 'fontWeight': 'bold'},\n",
    "            page_size=10,  # Number of rows per page\n",
    "            filter_action=\"native\",  # Add filtering capability\n",
    "            sort_action=\"native\"  # Add sorting capability\n",
    "        )\n",
    "        return table\n",
    "    return html.Div(\"Select an event to see the data.\", style={'textAlign': 'center', 'marginTop': '20px'})\n",
    "\n",
    "# Run the app\n",
    "app.run_server(mode='inline', port=8054)\n",
    "\n"
   ]
  },
  {
   "cell_type": "markdown",
   "metadata": {},
   "source": [
    "**Performance Analysis of Top Athletes/Teams 1886-2024**"
   ]
  },
  {
   "cell_type": "code",
   "execution_count": 51,
   "metadata": {},
   "outputs": [
    {
     "data": {
      "text/html": [
       "\n",
       "        <iframe\n",
       "            width=\"100%\"\n",
       "            height=\"650\"\n",
       "            src=\"http://127.0.0.1:8051/\"\n",
       "            frameborder=\"0\"\n",
       "            allowfullscreen\n",
       "            \n",
       "        ></iframe>\n",
       "        "
      ],
      "text/plain": [
       "<IPython.lib.display.IFrame at 0x2c356894b50>"
      ]
     },
     "metadata": {},
     "output_type": "display_data"
    }
   ],
   "source": [
    "data_path = r\"C:\\Users\\sreev\\Data Visualization\\Olympics 2024\\olympics_dataset_1896-2024.csv\"  # Replace with your dataset path\n",
    "# noc_path = r\"C:\\Users\\sreev\\Data Visualization\\Olympics 2024\\nocs.csv\"  # Replace with path to country codes dataset\n",
    "df = pd.read_csv(data_path)\n",
    "# Filter relevant columns and drop rows without medals\n",
    "df_filtered = df[['Event', 'Name', 'Year', 'Medal', 'Team']].dropna(subset=['Medal'])\n",
    "\n",
    "# Group by Event, Name, and Team, calculate the period and medal count\n",
    "athlete_summary = df_filtered.groupby(['Event', 'Name', 'Team']).agg(\n",
    "    Start_Year=('Year', 'min'),\n",
    "    End_Year=('Year', 'max'),\n",
    "    Medal_Count=('Medal', 'count')\n",
    ").reset_index()\n",
    "\n",
    "# Initialize Dash app\n",
    "app = Dash(__name__)\n",
    "\n",
    "# Layout\n",
    "app.layout = html.Div([\n",
    "    html.H1(\"Medal Summary by Event\", style={'textAlign': 'center'}),\n",
    "    \n",
    "    dcc.Dropdown(\n",
    "        id='event-dropdown',\n",
    "        options=[{\"label\": event, \"value\": event} for event in sorted(athlete_summary['Event'].unique())],\n",
    "        placeholder=\"Select an Event\",\n",
    "        style={'width': '50%', 'margin': 'auto'}\n",
    "    ),\n",
    "    \n",
    "    dash_table.DataTable(\n",
    "        id='medal-table',\n",
    "        columns=[\n",
    "            {\"name\": \"Event\", \"id\": \"Event\", \"type\": \"text\"},\n",
    "            {\"name\": \"Athlete/Team Name\", \"id\": \"Name\", \"type\": \"text\"},\n",
    "            {\"name\": \"Team (Country)\", \"id\": \"Team\", \"type\": \"text\"},\n",
    "            {\"name\": \"Start Year\", \"id\": \"Start_Year\", \"type\": \"numeric\"},\n",
    "            {\"name\": \"End Year\", \"id\": \"End_Year\", \"type\": \"numeric\"},\n",
    "            {\"name\": \"Medal Count\", \"id\": \"Medal_Count\", \"type\": \"numeric\"}\n",
    "        ],\n",
    "        data=[],  # Initially empty\n",
    "        page_size=10,  # Number of rows per page\n",
    "        filter_action=\"native\",  # Enable filtering\n",
    "        sort_action=\"native\",  # Enable sorting\n",
    "        style_table={'height': '400px', 'overflowY': 'auto'},\n",
    "        style_cell={\n",
    "            'textAlign': 'left',\n",
    "            'padding': '5px',\n",
    "            'font-family': 'Arial',\n",
    "            'font-size': '14px'\n",
    "        },\n",
    "        style_header={\n",
    "            'backgroundColor': 'lightblue',\n",
    "            'fontWeight': 'bold',\n",
    "            'textAlign': 'center'\n",
    "        }\n",
    "    )\n",
    "])\n",
    "\n",
    "# Callback to update table based on selected event\n",
    "@app.callback(\n",
    "    Output('medal-table', 'data'),\n",
    "    [Input('event-dropdown', 'value')]\n",
    ")\n",
    "def update_table(selected_event):\n",
    "    if selected_event:\n",
    "        filtered_data = athlete_summary[athlete_summary['Event'] == selected_event]\n",
    "        return filtered_data.to_dict('records')\n",
    "    else:\n",
    "        return athlete_summary.to_dict('records')  # Show all data if no event is selected\n",
    "\n",
    "# Run app\n",
    "if __name__ == '__main__':\n",
    "    app.run_server(debug=True, port=8051)"
   ]
  },
  {
   "cell_type": "markdown",
   "metadata": {},
   "source": [
    "**Historical Trends**"
   ]
  },
  {
   "cell_type": "code",
   "execution_count": 52,
   "metadata": {},
   "outputs": [
    {
     "data": {
      "image/png": "[encoded data removed]",
      "text/plain": [
       "<Figure size 1400x800 with 1 Axes>"
      ]
     },
     "metadata": {},
     "output_type": "display_data"
    }
   ],
   "source": [
    "import pandas as pd\n",
    "import seaborn as sns\n",
    "import matplotlib.pyplot as plt\n",
    "\n",
    "# Load the dataset\n",
    "history_path = r\"C:\\Users\\sreev\\Data Visualization\\Olympics 2024\\olympics_dataset_1896-2024.csv\"\n",
    "df = pd.read_csv(history_path)\n",
    "\n",
    "# Filter and prepare the data\n",
    "df_filtered = df[df[\"Medal\"].notna()]  # Include rows with medals only\n",
    "df_filtered = df_filtered[df_filtered[\"Medal\"] != \"No medal\"]  # Remove \"No medal\"\n",
    "df_grouped = df_filtered.groupby([\"Year\", \"Medal\"]).size().reset_index(name=\"Count\")\n",
    "\n",
    "# Enhanced Line Plot without \"No medal\"\n",
    "plt.figure(figsize=(14, 8))\n",
    "sns.lineplot(\n",
    "    data=df_grouped,\n",
    "    x=\"Year\",\n",
    "    y=\"Count\",\n",
    "    hue=\"Medal\",\n",
    "    marker=\"o\",\n",
    "    palette=\"Set2\",  # Use a distinct color palette\n",
    ")\n",
    "plt.title(\"Historical Medal Trends by Year\", fontsize=18, fontweight=\"bold\")\n",
    "plt.xlabel(\"Year\", fontsize=14)\n",
    "plt.ylabel(\"Medal Count\", fontsize=14)\n",
    "plt.legend(title=\"Medal Type\", fontsize=12)\n",
    "plt.grid(True, linestyle=\"--\", alpha=0.7)\n",
    "plt.tight_layout()\n",
    "\n",
    "# Show the plot\n",
    "plt.show()\n",
    "\n"
   ]
  },
  {
   "cell_type": "markdown",
   "metadata": {},
   "source": [
    "Explanation of the Visualization:\n",
    "Trends in Medal Counts:\n",
    "\n",
    "The plot displays the medal counts for Gold, Silver, and Bronze categories over time.\n",
    "Noticeable growth in medal counts, especially after 1950, coincides with the increased number of events and participating nations in the Olympics.\n",
    "Major Insights:\n",
    "\n",
    "Early Years: Medal counts were significantly lower due to fewer events and limited global participation.\n",
    "Growth Post-World War II: A substantial increase in medal counts around the 1950s reflects the inclusion of new events and the broader participation of countries.\n",
    "Recent Olympics: Medal counts continue to rise, indicating the diversification and expansion of Olympic events.\n",
    "Key Observations:\n",
    "\n",
    "Peaks and troughs are evident during historical disruptions, such as World Wars or boycotts.\n",
    "Gold medals typically lag slightly behind Silver and Bronze, likely due to the stringent criteria for the top podium position."
   ]
  },
  {
   "cell_type": "code",
   "execution_count": null,
   "metadata": {},
   "outputs": [
    {
     "data": {
      "image/png": "[encoded data removed]",
      "text/plain": [
       "<Figure size 1400x800 with 1 Axes>"
      ]
     },
     "metadata": {},
     "output_type": "display_data"
    }
   ],
   "source": [
    "import pandas as pd\n",
    "import matplotlib.pyplot as plt\n",
    "import seaborn as sns\n",
    "\n",
    "# Load dataset\n",
    "history_path = r\"C:\\Users\\sreev\\Data Visualization\\Olympics 2024\\olympics_dataset_1896-2024.csv\"\n",
    "df = pd.read_csv(history_path)\n",
    "\n",
    "# Filter out \"No medal\"\n",
    "df_filtered = df[df['Medal'] != \"No medal\"]\n",
    "\n",
    "# Group data by Year and Medal Type\n",
    "df_grouped = df_filtered.groupby(['Year', 'Medal']).size().reset_index(name='Count')\n",
    "\n",
    "# Create a line plot\n",
    "plt.figure(figsize=(14, 8))\n",
    "sns.lineplot(data=df_grouped, x=\"Year\", y=\"Count\", hue=\"Medal\", marker=\"o\", palette=\"Set1\")\n",
    "plt.title(\"Historical Medal Trends by Year\", fontsize=18, fontweight=\"bold\")\n",
    "plt.xlabel(\"Year\", fontsize=14)\n",
    "plt.ylabel(\"Medal Count\", fontsize=14)\n",
    "plt.legend(title=\"Medal Type\", fontsize=12)\n",
    "plt.grid(True, linestyle=\"--\", alpha=0.7)\n",
    "plt.tight_layout()\n",
    "plt.show()\n",
    "\n"
   ]
  },
  {
   "cell_type": "code",
   "execution_count": 53,
   "metadata": {},
   "outputs": [
    {
     "data": {
      "text/html": [
       "\n",
       "        <iframe\n",
       "            width=\"100%\"\n",
       "            height=\"650\"\n",
       "            src=\"http://127.0.0.1:8052/\"\n",
       "            frameborder=\"0\"\n",
       "            allowfullscreen\n",
       "            \n",
       "        ></iframe>\n",
       "        "
      ],
      "text/plain": [
       "<IPython.lib.display.IFrame at 0x2c356a9e2d0>"
      ]
     },
     "metadata": {},
     "output_type": "display_data"
    }
   ],
   "source": [
    "import pandas as pd\n",
    "import plotly.express as px\n",
    "import dash\n",
    "from dash import dcc, html, dash_table\n",
    "from dash.dependencies import Input, Output\n",
    "\n",
    "# Load the dataset\n",
    "data_path = r\"C:\\Users\\sreev\\Data Visualization\\Olympics 2024\\olympics_dataset_1896-2024.csv\"\n",
    "df = pd.read_csv(data_path)\n",
    "\n",
    "# Filter relevant columns and drop rows without gender or medals\n",
    "df_filtered = df[['Event', 'Medal', 'Sex']].dropna(subset=['Sex', 'Medal'])\n",
    "\n",
    "# Group by Event and Gender to count medals\n",
    "gender_medal_counts = df_filtered.groupby(['Event', 'Sex']).size().reset_index(name='Medal Count')\n",
    "\n",
    "# Initialize Dash app\n",
    "app = dash.Dash(__name__)\n",
    "\n",
    "# Layout\n",
    "app.layout = html.Div([\n",
    "    html.H1(\"Medal Distribution by Gender\", style={'textAlign': 'center'}),\n",
    "\n",
    "    dcc.Dropdown(\n",
    "        id='event-dropdown',\n",
    "        options=[{\"label\": event, \"value\": event} for event in sorted(gender_medal_counts['Event'].unique())],\n",
    "        placeholder=\"Select an Event\",\n",
    "        style={'width': '50%', 'margin': 'auto'}\n",
    "    ),\n",
    "\n",
    "    dcc.Graph(id='gender-bar-chart')\n",
    "])\n",
    "\n",
    "# Callback to update bar chart based on the selected event\n",
    "@app.callback(\n",
    "    Output('gender-bar-chart', 'figure'),\n",
    "    [Input('event-dropdown', 'value')]\n",
    ")\n",
    "def update_bar_chart(selected_event):\n",
    "    if selected_event:\n",
    "        # Filter data for the selected event\n",
    "        filtered_data = gender_medal_counts[gender_medal_counts['Event'] == selected_event]\n",
    "    else:\n",
    "        # Use the full dataset if no event is selected\n",
    "        filtered_data = gender_medal_counts\n",
    "\n",
    "    # Create bar chart\n",
    "    fig = px.bar(\n",
    "        filtered_data,\n",
    "        x='Sex',\n",
    "        y='Medal Count',\n",
    "        color='Sex',\n",
    "        title=f\"Medal Distribution by Gender{' for ' + selected_event if selected_event else ''}\",\n",
    "        labels={'Sex': 'Gender', 'Medal Count': 'Number of Medals'},\n",
    "        text='Medal Count',\n",
    "        color_discrete_map={'M': 'blue', 'F': 'pink'}\n",
    "    )\n",
    "    fig.update_layout(xaxis_title=\"Gender\", yaxis_title=\"Number of Medals\", template=\"plotly_white\")\n",
    "    return fig\n",
    "\n",
    "# Run the app\n",
    "if __name__ == '__main__':\n",
    "    app.run_server(debug=True, port=8052)\n"
   ]
  },
  {
   "cell_type": "code",
   "execution_count": null,
   "metadata": {},
   "outputs": [
    {
     "data": {
      "image/png": "[encoded data removed]",
      "text/plain": [
       "<Figure size 1200x800 with 1 Axes>"
      ]
     },
     "metadata": {},
     "output_type": "display_data"
    }
   ],
   "source": [
    "# Group data by Sport and Medal Type\n",
    "df_sport = df_filtered.groupby(['Sport', 'Medal']).size().reset_index(name='Count')\n",
    "\n",
    "# Create a stacked bar plot for top sports\n",
    "top_sports = df_sport.groupby('Sport')['Count'].sum().nlargest(10).index\n",
    "df_top_sports = df_sport[df_sport['Sport'].isin(top_sports)]\n",
    "\n",
    "df_pivot = df_top_sports.pivot(index=\"Sport\", columns=\"Medal\", values=\"Count\").fillna(0)\n",
    "df_pivot.plot(kind='bar', stacked=True, figsize=(12, 8), color=['gold', 'silver', 'brown'])\n",
    "plt.title(\"Medal Distribution by Sport\", fontsize=16)\n",
    "plt.xlabel(\"Sport\", fontsize=12)\n",
    "plt.ylabel(\"Medal Count\", fontsize=12)\n",
    "plt.legend(title=\"Medal Type\")\n",
    "plt.xticks(rotation=45)\n",
    "plt.tight_layout()\n",
    "plt.show()\n"
   ]
  },
  {
   "cell_type": "code",
   "execution_count": null,
   "metadata": {},
   "outputs": [
    {
     "data": {
      "image/png": "[encoded data removed]",
      "text/plain": [
       "<Figure size 1400x800 with 1 Axes>"
      ]
     },
     "metadata": {},
     "output_type": "display_data"
    }
   ],
   "source": [
    "# Group data by Country and Medal Type\n",
    "df_country_medals = df_filtered.groupby(['Team', 'Medal']).size().reset_index(name='Count')\n",
    "\n",
    "# Create a bar plot for top 10 countries\n",
    "top_countries = df_country_medals.groupby('Team')['Count'].sum().nlargest(10).index\n",
    "df_top_countries = df_country_medals[df_country_medals['Team'].isin(top_countries)]\n",
    "\n",
    "plt.figure(figsize=(14, 8))\n",
    "sns.barplot(data=df_top_countries, x=\"Team\", y=\"Count\", hue=\"Medal\", palette=\"deep\")\n",
    "plt.title(\"Medal Performance of Top 10 Countries\", fontsize=18)\n",
    "plt.xlabel(\"Country\", fontsize=14)\n",
    "plt.ylabel(\"Medal Count\", fontsize=14)\n",
    "plt.legend(title=\"Medal Type\", fontsize=12)\n",
    "plt.tight_layout()\n",
    "plt.show()\n"
   ]
  },
  {
   "cell_type": "code",
   "execution_count": 54,
   "metadata": {},
   "outputs": [
    {
     "data": {
      "application/vnd.jupyter.widget-view+json": {
       "model_id": "bcef15f96e734501ae72ccdab2148a3e",
       "version_major": 2,
       "version_minor": 0
      },
      "text/plain": [
       "Dropdown(description='Trend Type:', index=1, layout=Layout(width='50%'), options=('Overall Medal Trends', 'Cou…"
      ]
     },
     "metadata": {},
     "output_type": "display_data"
    },
    {
     "data": {
      "application/vnd.jupyter.widget-view+json": {
       "model_id": "880e7f5e165c4cb9b9f475063030cc1f",
       "version_major": 2,
       "version_minor": 0
      },
      "text/plain": [
       "Output()"
      ]
     },
     "metadata": {},
     "output_type": "display_data"
    },
    {
     "data": {
      "application/vnd.plotly.v1+json": {
       "config": {
        "plotlyServerURL": "https://plot.ly"
       },
       "data": [
        {
         "hovertemplate": "Medal=Bronze<br>Year=%{x}<br>Count=%{y}<extra></extra>",
         "legendgroup": "Bronze",
         "line": {
          "color": "#636efa",
          "dash": "solid"
         },
         "marker": {
          "symbol": "circle"
         },
         "mode": "lines+markers",
         "name": "Bronze",
         "orientation": "v",
         "showlegend": true,
         "type": "scatter",
         "x": [
          1896,
          1900,
          1904,
          1906,
          1908,
          1912,
          1920,
          1924,
          1928,
          1932,
          1936,
          1948,
          1952,
          1956,
          1960,
          1964,
          1968,
          1972,
          1976,
          1980,
          1984,
          1988,
          1992,
          1996,
          2000,
          2004,
          2008,
          2012,
          2016,
          2020,
          2024
         ],
         "xaxis": "x",
         "y": [
          38,
          175,
          150,
          145,
          256,
          300,
          367,
          274,
          250,
          204,
          295,
          279,
          300,
          298,
          308,
          343,
          358,
          419,
          448,
          469,
          502,
          549,
          604,
          629,
          680,
          677,
          710,
          679,
          703,
          867,
          794
         ],
         "yaxis": "y"
        },
        {
         "hovertemplate": "Medal=Gold<br>Year=%{x}<br>Count=%{y}<extra></extra>",
         "legendgroup": "Gold",
         "line": {
          "color": "#EF553B",
          "dash": "solid"
         },
         "marker": {
          "symbol": "circle"
         },
         "mode": "lines+markers",
         "name": "Gold",
         "orientation": "v",
         "showlegend": true,
         "type": "scatter",
         "x": [
          1896,
          1900,
          1904,
          1906,
          1908,
          1912,
          1920,
          1924,
          1928,
          1932,
          1936,
          1948,
          1952,
          1956,
          1960,
          1964,
          1968,
          1972,
          1976,
          1980,
          1984,
          1988,
          1992,
          1996,
          2000,
          2004,
          2008,
          2012,
          2016,
          2020,
          2024
         ],
         "xaxis": "x",
         "y": [
          62,
          201,
          173,
          157,
          294,
          326,
          493,
          277,
          245,
          229,
          312,
          289,
          306,
          302,
          309,
          347,
          359,
          404,
          438,
          457,
          497,
          520,
          559,
          608,
          663,
          664,
          671,
          632,
          665,
          800,
          743
         ],
         "yaxis": "y"
        },
        {
         "hovertemplate": "Medal=Silver<br>Year=%{x}<br>Count=%{y}<extra></extra>",
         "legendgroup": "Silver",
         "line": {
          "color": "#00cc96",
          "dash": "solid"
         },
         "marker": {
          "symbol": "circle"
         },
         "mode": "lines+markers",
         "name": "Silver",
         "orientation": "v",
         "showlegend": true,
         "type": "scatter",
         "x": [
          1896,
          1900,
          1904,
          1906,
          1908,
          1912,
          1920,
          1924,
          1928,
          1932,
          1936,
          1948,
          1952,
          1956,
          1960,
          1964,
          1968,
          1972,
          1976,
          1980,
          1984,
          1988,
          1992,
          1996,
          2000,
          2004,
          2008,
          2012,
          2016,
          2020,
          2024
         ],
         "xaxis": "x",
         "y": [
          43,
          228,
          163,
          156,
          281,
          315,
          448,
          281,
          239,
          214,
          310,
          284,
          291,
          293,
          294,
          339,
          340,
          392,
          434,
          458,
          477,
          513,
          549,
          605,
          661,
          660,
          667,
          630,
          655,
          782,
          744
         ],
         "yaxis": "y"
        }
       ],
       "layout": {
        "legend": {
         "title": {
          "text": "Medal Type"
         },
         "tracegroupgap": 0
        },
        "template": {
         "data": {
          "bar": [
           {
            "error_x": {
             "color": "#2a3f5f"
            },
            "error_y": {
             "color": "#2a3f5f"
            },
            "marker": {
             "line": {
              "color": "#E5ECF6",
              "width": 0.5
             },
             "pattern": {
              "fillmode": "overlay",
              "size": 10,
              "solidity": 0.2
             }
            },
            "type": "bar"
           }
          ],
          "barpolar": [
           {
            "marker": {
             "line": {
              "color": "#E5ECF6",
              "width": 0.5
             },
             "pattern": {
              "fillmode": "overlay",
              "size": 10,
              "solidity": 0.2
             }
            },
            "type": "barpolar"
           }
          ],
          "carpet": [
           {
            "aaxis": {
             "endlinecolor": "#2a3f5f",
             "gridcolor": "white",
             "linecolor": "white",
             "minorgridcolor": "white",
             "startlinecolor": "#2a3f5f"
            },
            "baxis": {
             "endlinecolor": "#2a3f5f",
             "gridcolor": "white",
             "linecolor": "white",
             "minorgridcolor": "white",
             "startlinecolor": "#2a3f5f"
            },
            "type": "carpet"
           }
          ],
          "choropleth": [
           {
            "colorbar": {
             "outlinewidth": 0,
             "ticks": ""
            },
            "type": "choropleth"
           }
          ],
          "contour": [
           {
            "colorbar": {
             "outlinewidth": 0,
             "ticks": ""
            },
            "colorscale": [
             [
              0,
              "#0d0887"
             ],
             [
              0.1111111111111111,
              "#46039f"
             ],
             [
              0.2222222222222222,
              "#7201a8"
             ],
             [
              0.3333333333333333,
              "#9c179e"
             ],
             [
              0.4444444444444444,
              "#bd3786"
             ],
             [
              0.5555555555555556,
              "#d8576b"
             ],
             [
              0.6666666666666666,
              "#ed7953"
             ],
             [
              0.7777777777777778,
              "#fb9f3a"
             ],
             [
              0.8888888888888888,
              "#fdca26"
             ],
             [
              1,
              "#f0f921"
             ]
            ],
            "type": "contour"
           }
          ],
          "contourcarpet": [
           {
            "colorbar": {
             "outlinewidth": 0,
             "ticks": ""
            },
            "type": "contourcarpet"
           }
          ],
          "heatmap": [
           {
            "colorbar": {
             "outlinewidth": 0,
             "ticks": ""
            },
            "colorscale": [
             [
              0,
              "#0d0887"
             ],
             [
              0.1111111111111111,
              "#46039f"
             ],
             [
              0.2222222222222222,
              "#7201a8"
             ],
             [
              0.3333333333333333,
              "#9c179e"
             ],
             [
              0.4444444444444444,
              "#bd3786"
             ],
             [
              0.5555555555555556,
              "#d8576b"
             ],
             [
              0.6666666666666666,
              "#ed7953"
             ],
             [
              0.7777777777777778,
              "#fb9f3a"
             ],
             [
              0.8888888888888888,
              "#fdca26"
             ],
             [
              1,
              "#f0f921"
             ]
            ],
            "type": "heatmap"
           }
          ],
          "heatmapgl": [
           {
            "colorbar": {
             "outlinewidth": 0,
             "ticks": ""
            },
            "colorscale": [
             [
              0,
              "#0d0887"
             ],
             [
              0.1111111111111111,
              "#46039f"
             ],
             [
              0.2222222222222222,
              "#7201a8"
             ],
             [
              0.3333333333333333,
              "#9c179e"
             ],
             [
              0.4444444444444444,
              "#bd3786"
             ],
             [
              0.5555555555555556,
              "#d8576b"
             ],
             [
              0.6666666666666666,
              "#ed7953"
             ],
             [
              0.7777777777777778,
              "#fb9f3a"
             ],
             [
              0.8888888888888888,
              "#fdca26"
             ],
             [
              1,
              "#f0f921"
             ]
            ],
            "type": "heatmapgl"
           }
          ],
          "histogram": [
           {
            "marker": {
             "pattern": {
              "fillmode": "overlay",
              "size": 10,
              "solidity": 0.2
             }
            },
            "type": "histogram"
           }
          ],
          "histogram2d": [
           {
            "colorbar": {
             "outlinewidth": 0,
             "ticks": ""
            },
            "colorscale": [
             [
              0,
              "#0d0887"
             ],
             [
              0.1111111111111111,
              "#46039f"
             ],
             [
              0.2222222222222222,
              "#7201a8"
             ],
             [
              0.3333333333333333,
              "#9c179e"
             ],
             [
              0.4444444444444444,
              "#bd3786"
             ],
             [
              0.5555555555555556,
              "#d8576b"
             ],
             [
              0.6666666666666666,
              "#ed7953"
             ],
             [
              0.7777777777777778,
              "#fb9f3a"
             ],
             [
              0.8888888888888888,
              "#fdca26"
             ],
             [
              1,
              "#f0f921"
             ]
            ],
            "type": "histogram2d"
           }
          ],
          "histogram2dcontour": [
           {
            "colorbar": {
             "outlinewidth": 0,
             "ticks": ""
            },
            "colorscale": [
             [
              0,
              "#0d0887"
             ],
             [
              0.1111111111111111,
              "#46039f"
             ],
             [
              0.2222222222222222,
              "#7201a8"
             ],
             [
              0.3333333333333333,
              "#9c179e"
             ],
             [
              0.4444444444444444,
              "#bd3786"
             ],
             [
              0.5555555555555556,
              "#d8576b"
             ],
             [
              0.6666666666666666,
              "#ed7953"
             ],
             [
              0.7777777777777778,
              "#fb9f3a"
             ],
             [
              0.8888888888888888,
              "#fdca26"
             ],
             [
              1,
              "#f0f921"
             ]
            ],
            "type": "histogram2dcontour"
           }
          ],
          "mesh3d": [
           {
            "colorbar": {
             "outlinewidth": 0,
             "ticks": ""
            },
            "type": "mesh3d"
           }
          ],
          "parcoords": [
           {
            "line": {
             "colorbar": {
              "outlinewidth": 0,
              "ticks": ""
             }
            },
            "type": "parcoords"
           }
          ],
          "pie": [
           {
            "automargin": true,
            "type": "pie"
           }
          ],
          "scatter": [
           {
            "fillpattern": {
             "fillmode": "overlay",
             "size": 10,
             "solidity": 0.2
            },
            "type": "scatter"
           }
          ],
          "scatter3d": [
           {
            "line": {
             "colorbar": {
              "outlinewidth": 0,
              "ticks": ""
             }
            },
            "marker": {
             "colorbar": {
              "outlinewidth": 0,
              "ticks": ""
             }
            },
            "type": "scatter3d"
           }
          ],
          "scattercarpet": [
           {
            "marker": {
             "colorbar": {
              "outlinewidth": 0,
              "ticks": ""
             }
            },
            "type": "scattercarpet"
           }
          ],
          "scattergeo": [
           {
            "marker": {
             "colorbar": {
              "outlinewidth": 0,
              "ticks": ""
             }
            },
            "type": "scattergeo"
           }
          ],
          "scattergl": [
           {
            "marker": {
             "colorbar": {
              "outlinewidth": 0,
              "ticks": ""
             }
            },
            "type": "scattergl"
           }
          ],
          "scattermapbox": [
           {
            "marker": {
             "colorbar": {
              "outlinewidth": 0,
              "ticks": ""
             }
            },
            "type": "scattermapbox"
           }
          ],
          "scatterpolar": [
           {
            "marker": {
             "colorbar": {
              "outlinewidth": 0,
              "ticks": ""
             }
            },
            "type": "scatterpolar"
           }
          ],
          "scatterpolargl": [
           {
            "marker": {
             "colorbar": {
              "outlinewidth": 0,
              "ticks": ""
             }
            },
            "type": "scatterpolargl"
           }
          ],
          "scatterternary": [
           {
            "marker": {
             "colorbar": {
              "outlinewidth": 0,
              "ticks": ""
             }
            },
            "type": "scatterternary"
           }
          ],
          "surface": [
           {
            "colorbar": {
             "outlinewidth": 0,
             "ticks": ""
            },
            "colorscale": [
             [
              0,
              "#0d0887"
             ],
             [
              0.1111111111111111,
              "#46039f"
             ],
             [
              0.2222222222222222,
              "#7201a8"
             ],
             [
              0.3333333333333333,
              "#9c179e"
             ],
             [
              0.4444444444444444,
              "#bd3786"
             ],
             [
              0.5555555555555556,
              "#d8576b"
             ],
             [
              0.6666666666666666,
              "#ed7953"
             ],
             [
              0.7777777777777778,
              "#fb9f3a"
             ],
             [
              0.8888888888888888,
              "#fdca26"
             ],
             [
              1,
              "#f0f921"
             ]
            ],
            "type": "surface"
           }
          ],
          "table": [
           {
            "cells": {
             "fill": {
              "color": "#EBF0F8"
             },
             "line": {
              "color": "white"
             }
            },
            "header": {
             "fill": {
              "color": "#C8D4E3"
             },
             "line": {
              "color": "white"
             }
            },
            "type": "table"
           }
          ]
         },
         "layout": {
          "annotationdefaults": {
           "arrowcolor": "#2a3f5f",
           "arrowhead": 0,
           "arrowwidth": 1
          },
          "autotypenumbers": "strict",
          "coloraxis": {
           "colorbar": {
            "outlinewidth": 0,
            "ticks": ""
           }
          },
          "colorscale": {
           "diverging": [
            [
             0,
             "#8e0152"
            ],
            [
             0.1,
             "#c51b7d"
            ],
            [
             0.2,
             "#de77ae"
            ],
            [
             0.3,
             "#f1b6da"
            ],
            [
             0.4,
             "#fde0ef"
            ],
            [
             0.5,
             "#f7f7f7"
            ],
            [
             0.6,
             "#e6f5d0"
            ],
            [
             0.7,
             "#b8e186"
            ],
            [
             0.8,
             "#7fbc41"
            ],
            [
             0.9,
             "#4d9221"
            ],
            [
             1,
             "#276419"
            ]
           ],
           "sequential": [
            [
             0,
             "#0d0887"
            ],
            [
             0.1111111111111111,
             "#46039f"
            ],
            [
             0.2222222222222222,
             "#7201a8"
            ],
            [
             0.3333333333333333,
             "#9c179e"
            ],
            [
             0.4444444444444444,
             "#bd3786"
            ],
            [
             0.5555555555555556,
             "#d8576b"
            ],
            [
             0.6666666666666666,
             "#ed7953"
            ],
            [
             0.7777777777777778,
             "#fb9f3a"
            ],
            [
             0.8888888888888888,
             "#fdca26"
            ],
            [
             1,
             "#f0f921"
            ]
           ],
           "sequentialminus": [
            [
             0,
             "#0d0887"
            ],
            [
             0.1111111111111111,
             "#46039f"
            ],
            [
             0.2222222222222222,
             "#7201a8"
            ],
            [
             0.3333333333333333,
             "#9c179e"
            ],
            [
             0.4444444444444444,
             "#bd3786"
            ],
            [
             0.5555555555555556,
             "#d8576b"
            ],
            [
             0.6666666666666666,
             "#ed7953"
            ],
            [
             0.7777777777777778,
             "#fb9f3a"
            ],
            [
             0.8888888888888888,
             "#fdca26"
            ],
            [
             1,
             "#f0f921"
            ]
           ]
          },
          "colorway": [
           "#636efa",
           "#EF553B",
           "#00cc96",
           "#ab63fa",
           "#FFA15A",
           "#19d3f3",
           "#FF6692",
           "#B6E880",
           "#FF97FF",
           "#FECB52"
          ],
          "font": {
           "color": "#2a3f5f"
          },
          "geo": {
           "bgcolor": "white",
           "lakecolor": "white",
           "landcolor": "#E5ECF6",
           "showlakes": true,
           "showland": true,
           "subunitcolor": "white"
          },
          "hoverlabel": {
           "align": "left"
          },
          "hovermode": "closest",
          "mapbox": {
           "style": "light"
          },
          "paper_bgcolor": "white",
          "plot_bgcolor": "#E5ECF6",
          "polar": {
           "angularaxis": {
            "gridcolor": "white",
            "linecolor": "white",
            "ticks": ""
           },
           "bgcolor": "#E5ECF6",
           "radialaxis": {
            "gridcolor": "white",
            "linecolor": "white",
            "ticks": ""
           }
          },
          "scene": {
           "xaxis": {
            "backgroundcolor": "#E5ECF6",
            "gridcolor": "white",
            "gridwidth": 2,
            "linecolor": "white",
            "showbackground": true,
            "ticks": "",
            "zerolinecolor": "white"
           },
           "yaxis": {
            "backgroundcolor": "#E5ECF6",
            "gridcolor": "white",
            "gridwidth": 2,
            "linecolor": "white",
            "showbackground": true,
            "ticks": "",
            "zerolinecolor": "white"
           },
           "zaxis": {
            "backgroundcolor": "#E5ECF6",
            "gridcolor": "white",
            "gridwidth": 2,
            "linecolor": "white",
            "showbackground": true,
            "ticks": "",
            "zerolinecolor": "white"
           }
          },
          "shapedefaults": {
           "line": {
            "color": "#2a3f5f"
           }
          },
          "ternary": {
           "aaxis": {
            "gridcolor": "white",
            "linecolor": "white",
            "ticks": ""
           },
           "baxis": {
            "gridcolor": "white",
            "linecolor": "white",
            "ticks": ""
           },
           "bgcolor": "#E5ECF6",
           "caxis": {
            "gridcolor": "white",
            "linecolor": "white",
            "ticks": ""
           }
          },
          "title": {
           "x": 0.05
          },
          "xaxis": {
           "automargin": true,
           "gridcolor": "white",
           "linecolor": "white",
           "ticks": "",
           "title": {
            "standoff": 15
           },
           "zerolinecolor": "white",
           "zerolinewidth": 2
          },
          "yaxis": {
           "automargin": true,
           "gridcolor": "white",
           "linecolor": "white",
           "ticks": "",
           "title": {
            "standoff": 15
           },
           "zerolinecolor": "white",
           "zerolinewidth": 2
          }
         }
        },
        "title": {
         "text": "Overall Medal Trends by Year"
        },
        "xaxis": {
         "anchor": "y",
         "domain": [
          0,
          1
         ],
         "title": {
          "text": "Year"
         }
        },
        "yaxis": {
         "anchor": "x",
         "domain": [
          0,
          1
         ],
         "title": {
          "text": "Medal Count"
         }
        }
       }
      }
     },
     "metadata": {},
     "output_type": "display_data"
    },
    {
     "data": {
      "application/vnd.plotly.v1+json": {
       "config": {
        "plotlyServerURL": "https://plot.ly"
       },
       "data": [
        {
         "alignmentgroup": "True",
         "hovertemplate": "Medal=Bronze<br>Sport=%{x}<br>Count=%{y}<extra></extra>",
         "legendgroup": "Bronze",
         "marker": {
          "color": "#636efa",
          "pattern": {
           "shape": ""
          }
         },
         "name": "Bronze",
         "offsetgroup": "Bronze",
         "orientation": "v",
         "showlegend": true,
         "textposition": "auto",
         "type": "bar",
         "x": [
          "Athletics",
          "Fencing",
          "Football",
          "Gymnastics",
          "Hockey",
          "Rowing",
          "Sailing",
          "Shooting",
          "Swimming",
          "Wrestling"
         ],
         "xaxis": "x",
         "y": [
          1452,
          626,
          626,
          719,
          580,
          1086,
          396,
          443,
          1096,
          540
         ],
         "yaxis": "y"
        },
        {
         "alignmentgroup": "True",
         "hovertemplate": "Medal=Gold<br>Sport=%{x}<br>Count=%{y}<extra></extra>",
         "legendgroup": "Gold",
         "marker": {
          "color": "#EF553B",
          "pattern": {
           "shape": ""
          }
         },
         "name": "Gold",
         "offsetgroup": "Gold",
         "orientation": "v",
         "showlegend": true,
         "textposition": "auto",
         "type": "bar",
         "x": [
          "Athletics",
          "Fencing",
          "Football",
          "Gymnastics",
          "Hockey",
          "Rowing",
          "Sailing",
          "Shooting",
          "Swimming",
          "Wrestling"
         ],
         "xaxis": "x",
         "y": [
          1500,
          654,
          601,
          791,
          589,
          1074,
          479,
          446,
          1241,
          449
         ],
         "yaxis": "y"
        },
        {
         "alignmentgroup": "True",
         "hovertemplate": "Medal=Silver<br>Sport=%{x}<br>Count=%{y}<extra></extra>",
         "legendgroup": "Silver",
         "marker": {
          "color": "#00cc96",
          "pattern": {
           "shape": ""
          }
         },
         "name": "Silver",
         "offsetgroup": "Silver",
         "orientation": "v",
         "showlegend": true,
         "textposition": "auto",
         "type": "bar",
         "x": [
          "Athletics",
          "Fencing",
          "Football",
          "Gymnastics",
          "Hockey",
          "Rowing",
          "Sailing",
          "Shooting",
          "Swimming",
          "Wrestling"
         ],
         "xaxis": "x",
         "y": [
          1477,
          643,
          600,
          746,
          569,
          1073,
          444,
          447,
          1133,
          451
         ],
         "yaxis": "y"
        }
       ],
       "layout": {
        "barmode": "stack",
        "legend": {
         "title": {
          "text": "Medal Type"
         },
         "tracegroupgap": 0
        },
        "template": {
         "data": {
          "bar": [
           {
            "error_x": {
             "color": "#2a3f5f"
            },
            "error_y": {
             "color": "#2a3f5f"
            },
            "marker": {
             "line": {
              "color": "#E5ECF6",
              "width": 0.5
             },
             "pattern": {
              "fillmode": "overlay",
              "size": 10,
              "solidity": 0.2
             }
            },
            "type": "bar"
           }
          ],
          "barpolar": [
           {
            "marker": {
             "line": {
              "color": "#E5ECF6",
              "width": 0.5
             },
             "pattern": {
              "fillmode": "overlay",
              "size": 10,
              "solidity": 0.2
             }
            },
            "type": "barpolar"
           }
          ],
          "carpet": [
           {
            "aaxis": {
             "endlinecolor": "#2a3f5f",
             "gridcolor": "white",
             "linecolor": "white",
             "minorgridcolor": "white",
             "startlinecolor": "#2a3f5f"
            },
            "baxis": {
             "endlinecolor": "#2a3f5f",
             "gridcolor": "white",
             "linecolor": "white",
             "minorgridcolor": "white",
             "startlinecolor": "#2a3f5f"
            },
            "type": "carpet"
           }
          ],
          "choropleth": [
           {
            "colorbar": {
             "outlinewidth": 0,
             "ticks": ""
            },
            "type": "choropleth"
           }
          ],
          "contour": [
           {
            "colorbar": {
             "outlinewidth": 0,
             "ticks": ""
            },
            "colorscale": [
             [
              0,
              "#0d0887"
             ],
             [
              0.1111111111111111,
              "#46039f"
             ],
             [
              0.2222222222222222,
              "#7201a8"
             ],
             [
              0.3333333333333333,
              "#9c179e"
             ],
             [
              0.4444444444444444,
              "#bd3786"
             ],
             [
              0.5555555555555556,
              "#d8576b"
             ],
             [
              0.6666666666666666,
              "#ed7953"
             ],
             [
              0.7777777777777778,
              "#fb9f3a"
             ],
             [
              0.8888888888888888,
              "#fdca26"
             ],
             [
              1,
              "#f0f921"
             ]
            ],
            "type": "contour"
           }
          ],
          "contourcarpet": [
           {
            "colorbar": {
             "outlinewidth": 0,
             "ticks": ""
            },
            "type": "contourcarpet"
           }
          ],
          "heatmap": [
           {
            "colorbar": {
             "outlinewidth": 0,
             "ticks": ""
            },
            "colorscale": [
             [
              0,
              "#0d0887"
             ],
             [
              0.1111111111111111,
              "#46039f"
             ],
             [
              0.2222222222222222,
              "#7201a8"
             ],
             [
              0.3333333333333333,
              "#9c179e"
             ],
             [
              0.4444444444444444,
              "#bd3786"
             ],
             [
              0.5555555555555556,
              "#d8576b"
             ],
             [
              0.6666666666666666,
              "#ed7953"
             ],
             [
              0.7777777777777778,
              "#fb9f3a"
             ],
             [
              0.8888888888888888,
              "#fdca26"
             ],
             [
              1,
              "#f0f921"
             ]
            ],
            "type": "heatmap"
           }
          ],
          "heatmapgl": [
           {
            "colorbar": {
             "outlinewidth": 0,
             "ticks": ""
            },
            "colorscale": [
             [
              0,
              "#0d0887"
             ],
             [
              0.1111111111111111,
              "#46039f"
             ],
             [
              0.2222222222222222,
              "#7201a8"
             ],
             [
              0.3333333333333333,
              "#9c179e"
             ],
             [
              0.4444444444444444,
              "#bd3786"
             ],
             [
              0.5555555555555556,
              "#d8576b"
             ],
             [
              0.6666666666666666,
              "#ed7953"
             ],
             [
              0.7777777777777778,
              "#fb9f3a"
             ],
             [
              0.8888888888888888,
              "#fdca26"
             ],
             [
              1,
              "#f0f921"
             ]
            ],
            "type": "heatmapgl"
           }
          ],
          "histogram": [
           {
            "marker": {
             "pattern": {
              "fillmode": "overlay",
              "size": 10,
              "solidity": 0.2
             }
            },
            "type": "histogram"
           }
          ],
          "histogram2d": [
           {
            "colorbar": {
             "outlinewidth": 0,
             "ticks": ""
            },
            "colorscale": [
             [
              0,
              "#0d0887"
             ],
             [
              0.1111111111111111,
              "#46039f"
             ],
             [
              0.2222222222222222,
              "#7201a8"
             ],
             [
              0.3333333333333333,
              "#9c179e"
             ],
             [
              0.4444444444444444,
              "#bd3786"
             ],
             [
              0.5555555555555556,
              "#d8576b"
             ],
             [
              0.6666666666666666,
              "#ed7953"
             ],
             [
              0.7777777777777778,
              "#fb9f3a"
             ],
             [
              0.8888888888888888,
              "#fdca26"
             ],
             [
              1,
              "#f0f921"
             ]
            ],
            "type": "histogram2d"
           }
          ],
          "histogram2dcontour": [
           {
            "colorbar": {
             "outlinewidth": 0,
             "ticks": ""
            },
            "colorscale": [
             [
              0,
              "#0d0887"
             ],
             [
              0.1111111111111111,
              "#46039f"
             ],
             [
              0.2222222222222222,
              "#7201a8"
             ],
             [
              0.3333333333333333,
              "#9c179e"
             ],
             [
              0.4444444444444444,
              "#bd3786"
             ],
             [
              0.5555555555555556,
              "#d8576b"
             ],
             [
              0.6666666666666666,
              "#ed7953"
             ],
             [
              0.7777777777777778,
              "#fb9f3a"
             ],
             [
              0.8888888888888888,
              "#fdca26"
             ],
             [
              1,
              "#f0f921"
             ]
            ],
            "type": "histogram2dcontour"
           }
          ],
          "mesh3d": [
           {
            "colorbar": {
             "outlinewidth": 0,
             "ticks": ""
            },
            "type": "mesh3d"
           }
          ],
          "parcoords": [
           {
            "line": {
             "colorbar": {
              "outlinewidth": 0,
              "ticks": ""
             }
            },
            "type": "parcoords"
           }
          ],
          "pie": [
           {
            "automargin": true,
            "type": "pie"
           }
          ],
          "scatter": [
           {
            "fillpattern": {
             "fillmode": "overlay",
             "size": 10,
             "solidity": 0.2
            },
            "type": "scatter"
           }
          ],
          "scatter3d": [
           {
            "line": {
             "colorbar": {
              "outlinewidth": 0,
              "ticks": ""
             }
            },
            "marker": {
             "colorbar": {
              "outlinewidth": 0,
              "ticks": ""
             }
            },
            "type": "scatter3d"
           }
          ],
          "scattercarpet": [
           {
            "marker": {
             "colorbar": {
              "outlinewidth": 0,
              "ticks": ""
             }
            },
            "type": "scattercarpet"
           }
          ],
          "scattergeo": [
           {
            "marker": {
             "colorbar": {
              "outlinewidth": 0,
              "ticks": ""
             }
            },
            "type": "scattergeo"
           }
          ],
          "scattergl": [
           {
            "marker": {
             "colorbar": {
              "outlinewidth": 0,
              "ticks": ""
             }
            },
            "type": "scattergl"
           }
          ],
          "scattermapbox": [
           {
            "marker": {
             "colorbar": {
              "outlinewidth": 0,
              "ticks": ""
             }
            },
            "type": "scattermapbox"
           }
          ],
          "scatterpolar": [
           {
            "marker": {
             "colorbar": {
              "outlinewidth": 0,
              "ticks": ""
             }
            },
            "type": "scatterpolar"
           }
          ],
          "scatterpolargl": [
           {
            "marker": {
             "colorbar": {
              "outlinewidth": 0,
              "ticks": ""
             }
            },
            "type": "scatterpolargl"
           }
          ],
          "scatterternary": [
           {
            "marker": {
             "colorbar": {
              "outlinewidth": 0,
              "ticks": ""
             }
            },
            "type": "scatterternary"
           }
          ],
          "surface": [
           {
            "colorbar": {
             "outlinewidth": 0,
             "ticks": ""
            },
            "colorscale": [
             [
              0,
              "#0d0887"
             ],
             [
              0.1111111111111111,
              "#46039f"
             ],
             [
              0.2222222222222222,
              "#7201a8"
             ],
             [
              0.3333333333333333,
              "#9c179e"
             ],
             [
              0.4444444444444444,
              "#bd3786"
             ],
             [
              0.5555555555555556,
              "#d8576b"
             ],
             [
              0.6666666666666666,
              "#ed7953"
             ],
             [
              0.7777777777777778,
              "#fb9f3a"
             ],
             [
              0.8888888888888888,
              "#fdca26"
             ],
             [
              1,
              "#f0f921"
             ]
            ],
            "type": "surface"
           }
          ],
          "table": [
           {
            "cells": {
             "fill": {
              "color": "#EBF0F8"
             },
             "line": {
              "color": "white"
             }
            },
            "header": {
             "fill": {
              "color": "#C8D4E3"
             },
             "line": {
              "color": "white"
             }
            },
            "type": "table"
           }
          ]
         },
         "layout": {
          "annotationdefaults": {
           "arrowcolor": "#2a3f5f",
           "arrowhead": 0,
           "arrowwidth": 1
          },
          "autotypenumbers": "strict",
          "coloraxis": {
           "colorbar": {
            "outlinewidth": 0,
            "ticks": ""
           }
          },
          "colorscale": {
           "diverging": [
            [
             0,
             "#8e0152"
            ],
            [
             0.1,
             "#c51b7d"
            ],
            [
             0.2,
             "#de77ae"
            ],
            [
             0.3,
             "#f1b6da"
            ],
            [
             0.4,
             "#fde0ef"
            ],
            [
             0.5,
             "#f7f7f7"
            ],
            [
             0.6,
             "#e6f5d0"
            ],
            [
             0.7,
             "#b8e186"
            ],
            [
             0.8,
             "#7fbc41"
            ],
            [
             0.9,
             "#4d9221"
            ],
            [
             1,
             "#276419"
            ]
           ],
           "sequential": [
            [
             0,
             "#0d0887"
            ],
            [
             0.1111111111111111,
             "#46039f"
            ],
            [
             0.2222222222222222,
             "#7201a8"
            ],
            [
             0.3333333333333333,
             "#9c179e"
            ],
            [
             0.4444444444444444,
             "#bd3786"
            ],
            [
             0.5555555555555556,
             "#d8576b"
            ],
            [
             0.6666666666666666,
             "#ed7953"
            ],
            [
             0.7777777777777778,
             "#fb9f3a"
            ],
            [
             0.8888888888888888,
             "#fdca26"
            ],
            [
             1,
             "#f0f921"
            ]
           ],
           "sequentialminus": [
            [
             0,
             "#0d0887"
            ],
            [
             0.1111111111111111,
             "#46039f"
            ],
            [
             0.2222222222222222,
             "#7201a8"
            ],
            [
             0.3333333333333333,
             "#9c179e"
            ],
            [
             0.4444444444444444,
             "#bd3786"
            ],
            [
             0.5555555555555556,
             "#d8576b"
            ],
            [
             0.6666666666666666,
             "#ed7953"
            ],
            [
             0.7777777777777778,
             "#fb9f3a"
            ],
            [
             0.8888888888888888,
             "#fdca26"
            ],
            [
             1,
             "#f0f921"
            ]
           ]
          },
          "colorway": [
           "#636efa",
           "#EF553B",
           "#00cc96",
           "#ab63fa",
           "#FFA15A",
           "#19d3f3",
           "#FF6692",
           "#B6E880",
           "#FF97FF",
           "#FECB52"
          ],
          "font": {
           "color": "#2a3f5f"
          },
          "geo": {
           "bgcolor": "white",
           "lakecolor": "white",
           "landcolor": "#E5ECF6",
           "showlakes": true,
           "showland": true,
           "subunitcolor": "white"
          },
          "hoverlabel": {
           "align": "left"
          },
          "hovermode": "closest",
          "mapbox": {
           "style": "light"
          },
          "paper_bgcolor": "white",
          "plot_bgcolor": "#E5ECF6",
          "polar": {
           "angularaxis": {
            "gridcolor": "white",
            "linecolor": "white",
            "ticks": ""
           },
           "bgcolor": "#E5ECF6",
           "radialaxis": {
            "gridcolor": "white",
            "linecolor": "white",
            "ticks": ""
           }
          },
          "scene": {
           "xaxis": {
            "backgroundcolor": "#E5ECF6",
            "gridcolor": "white",
            "gridwidth": 2,
            "linecolor": "white",
            "showbackground": true,
            "ticks": "",
            "zerolinecolor": "white"
           },
           "yaxis": {
            "backgroundcolor": "#E5ECF6",
            "gridcolor": "white",
            "gridwidth": 2,
            "linecolor": "white",
            "showbackground": true,
            "ticks": "",
            "zerolinecolor": "white"
           },
           "zaxis": {
            "backgroundcolor": "#E5ECF6",
            "gridcolor": "white",
            "gridwidth": 2,
            "linecolor": "white",
            "showbackground": true,
            "ticks": "",
            "zerolinecolor": "white"
           }
          },
          "shapedefaults": {
           "line": {
            "color": "#2a3f5f"
           }
          },
          "ternary": {
           "aaxis": {
            "gridcolor": "white",
            "linecolor": "white",
            "ticks": ""
           },
           "baxis": {
            "gridcolor": "white",
            "linecolor": "white",
            "ticks": ""
           },
           "bgcolor": "#E5ECF6",
           "caxis": {
            "gridcolor": "white",
            "linecolor": "white",
            "ticks": ""
           }
          },
          "title": {
           "x": 0.05
          },
          "xaxis": {
           "automargin": true,
           "gridcolor": "white",
           "linecolor": "white",
           "ticks": "",
           "title": {
            "standoff": 15
           },
           "zerolinecolor": "white",
           "zerolinewidth": 2
          },
          "yaxis": {
           "automargin": true,
           "gridcolor": "white",
           "linecolor": "white",
           "ticks": "",
           "title": {
            "standoff": 15
           },
           "zerolinecolor": "white",
           "zerolinewidth": 2
          }
         }
        },
        "title": {
         "text": "Medal Distribution by Sport (Top 10)"
        },
        "xaxis": {
         "anchor": "y",
         "domain": [
          0,
          1
         ],
         "title": {
          "text": "Sport"
         }
        },
        "yaxis": {
         "anchor": "x",
         "domain": [
          0,
          1
         ],
         "title": {
          "text": "Medal Count"
         }
        }
       }
      }
     },
     "metadata": {},
     "output_type": "display_data"
    },
    {
     "data": {
      "application/vnd.plotly.v1+json": {
       "config": {
        "plotlyServerURL": "https://plot.ly"
       },
       "data": [
        {
         "alignmentgroup": "True",
         "hovertemplate": "Medal=Bronze<br>Sex=%{x}<br>Count=%{y}<extra></extra>",
         "legendgroup": "Bronze",
         "marker": {
          "color": "#636efa",
          "pattern": {
           "shape": ""
          }
         },
         "name": "Bronze",
         "offsetgroup": "Bronze",
         "orientation": "v",
         "showlegend": true,
         "textposition": "auto",
         "type": "bar",
         "x": [
          "F",
          "M"
         ],
         "xaxis": "x",
         "y": [
          3992,
          9078
         ],
         "yaxis": "y"
        },
        {
         "alignmentgroup": "True",
         "hovertemplate": "Medal=Gold<br>Sex=%{x}<br>Count=%{y}<extra></extra>",
         "legendgroup": "Gold",
         "marker": {
          "color": "#EF553B",
          "pattern": {
           "shape": ""
          }
         },
         "name": "Gold",
         "offsetgroup": "Gold",
         "orientation": "v",
         "showlegend": true,
         "textposition": "auto",
         "type": "bar",
         "x": [
          "F",
          "M"
         ],
         "xaxis": "x",
         "y": [
          3914,
          9088
         ],
         "yaxis": "y"
        },
        {
         "alignmentgroup": "True",
         "hovertemplate": "Medal=Silver<br>Sex=%{x}<br>Count=%{y}<extra></extra>",
         "legendgroup": "Silver",
         "marker": {
          "color": "#00cc96",
          "pattern": {
           "shape": ""
          }
         },
         "name": "Silver",
         "offsetgroup": "Silver",
         "orientation": "v",
         "showlegend": true,
         "textposition": "auto",
         "type": "bar",
         "x": [
          "F",
          "M"
         ],
         "xaxis": "x",
         "y": [
          3891,
          8855
         ],
         "yaxis": "y"
        }
       ],
       "layout": {
        "barmode": "stack",
        "legend": {
         "title": {
          "text": "Medal Type"
         },
         "tracegroupgap": 0
        },
        "template": {
         "data": {
          "bar": [
           {
            "error_x": {
             "color": "#2a3f5f"
            },
            "error_y": {
             "color": "#2a3f5f"
            },
            "marker": {
             "line": {
              "color": "#E5ECF6",
              "width": 0.5
             },
             "pattern": {
              "fillmode": "overlay",
              "size": 10,
              "solidity": 0.2
             }
            },
            "type": "bar"
           }
          ],
          "barpolar": [
           {
            "marker": {
             "line": {
              "color": "#E5ECF6",
              "width": 0.5
             },
             "pattern": {
              "fillmode": "overlay",
              "size": 10,
              "solidity": 0.2
             }
            },
            "type": "barpolar"
           }
          ],
          "carpet": [
           {
            "aaxis": {
             "endlinecolor": "#2a3f5f",
             "gridcolor": "white",
             "linecolor": "white",
             "minorgridcolor": "white",
             "startlinecolor": "#2a3f5f"
            },
            "baxis": {
             "endlinecolor": "#2a3f5f",
             "gridcolor": "white",
             "linecolor": "white",
             "minorgridcolor": "white",
             "startlinecolor": "#2a3f5f"
            },
            "type": "carpet"
           }
          ],
          "choropleth": [
           {
            "colorbar": {
             "outlinewidth": 0,
             "ticks": ""
            },
            "type": "choropleth"
           }
          ],
          "contour": [
           {
            "colorbar": {
             "outlinewidth": 0,
             "ticks": ""
            },
            "colorscale": [
             [
              0,
              "#0d0887"
             ],
             [
              0.1111111111111111,
              "#46039f"
             ],
             [
              0.2222222222222222,
              "#7201a8"
             ],
             [
              0.3333333333333333,
              "#9c179e"
             ],
             [
              0.4444444444444444,
              "#bd3786"
             ],
             [
              0.5555555555555556,
              "#d8576b"
             ],
             [
              0.6666666666666666,
              "#ed7953"
             ],
             [
              0.7777777777777778,
              "#fb9f3a"
             ],
             [
              0.8888888888888888,
              "#fdca26"
             ],
             [
              1,
              "#f0f921"
             ]
            ],
            "type": "contour"
           }
          ],
          "contourcarpet": [
           {
            "colorbar": {
             "outlinewidth": 0,
             "ticks": ""
            },
            "type": "contourcarpet"
           }
          ],
          "heatmap": [
           {
            "colorbar": {
             "outlinewidth": 0,
             "ticks": ""
            },
            "colorscale": [
             [
              0,
              "#0d0887"
             ],
             [
              0.1111111111111111,
              "#46039f"
             ],
             [
              0.2222222222222222,
              "#7201a8"
             ],
             [
              0.3333333333333333,
              "#9c179e"
             ],
             [
              0.4444444444444444,
              "#bd3786"
             ],
             [
              0.5555555555555556,
              "#d8576b"
             ],
             [
              0.6666666666666666,
              "#ed7953"
             ],
             [
              0.7777777777777778,
              "#fb9f3a"
             ],
             [
              0.8888888888888888,
              "#fdca26"
             ],
             [
              1,
              "#f0f921"
             ]
            ],
            "type": "heatmap"
           }
          ],
          "heatmapgl": [
           {
            "colorbar": {
             "outlinewidth": 0,
             "ticks": ""
            },
            "colorscale": [
             [
              0,
              "#0d0887"
             ],
             [
              0.1111111111111111,
              "#46039f"
             ],
             [
              0.2222222222222222,
              "#7201a8"
             ],
             [
              0.3333333333333333,
              "#9c179e"
             ],
             [
              0.4444444444444444,
              "#bd3786"
             ],
             [
              0.5555555555555556,
              "#d8576b"
             ],
             [
              0.6666666666666666,
              "#ed7953"
             ],
             [
              0.7777777777777778,
              "#fb9f3a"
             ],
             [
              0.8888888888888888,
              "#fdca26"
             ],
             [
              1,
              "#f0f921"
             ]
            ],
            "type": "heatmapgl"
           }
          ],
          "histogram": [
           {
            "marker": {
             "pattern": {
              "fillmode": "overlay",
              "size": 10,
              "solidity": 0.2
             }
            },
            "type": "histogram"
           }
          ],
          "histogram2d": [
           {
            "colorbar": {
             "outlinewidth": 0,
             "ticks": ""
            },
            "colorscale": [
             [
              0,
              "#0d0887"
             ],
             [
              0.1111111111111111,
              "#46039f"
             ],
             [
              0.2222222222222222,
              "#7201a8"
             ],
             [
              0.3333333333333333,
              "#9c179e"
             ],
             [
              0.4444444444444444,
              "#bd3786"
             ],
             [
              0.5555555555555556,
              "#d8576b"
             ],
             [
              0.6666666666666666,
              "#ed7953"
             ],
             [
              0.7777777777777778,
              "#fb9f3a"
             ],
             [
              0.8888888888888888,
              "#fdca26"
             ],
             [
              1,
              "#f0f921"
             ]
            ],
            "type": "histogram2d"
           }
          ],
          "histogram2dcontour": [
           {
            "colorbar": {
             "outlinewidth": 0,
             "ticks": ""
            },
            "colorscale": [
             [
              0,
              "#0d0887"
             ],
             [
              0.1111111111111111,
              "#46039f"
             ],
             [
              0.2222222222222222,
              "#7201a8"
             ],
             [
              0.3333333333333333,
              "#9c179e"
             ],
             [
              0.4444444444444444,
              "#bd3786"
             ],
             [
              0.5555555555555556,
              "#d8576b"
             ],
             [
              0.6666666666666666,
              "#ed7953"
             ],
             [
              0.7777777777777778,
              "#fb9f3a"
             ],
             [
              0.8888888888888888,
              "#fdca26"
             ],
             [
              1,
              "#f0f921"
             ]
            ],
            "type": "histogram2dcontour"
           }
          ],
          "mesh3d": [
           {
            "colorbar": {
             "outlinewidth": 0,
             "ticks": ""
            },
            "type": "mesh3d"
           }
          ],
          "parcoords": [
           {
            "line": {
             "colorbar": {
              "outlinewidth": 0,
              "ticks": ""
             }
            },
            "type": "parcoords"
           }
          ],
          "pie": [
           {
            "automargin": true,
            "type": "pie"
           }
          ],
          "scatter": [
           {
            "fillpattern": {
             "fillmode": "overlay",
             "size": 10,
             "solidity": 0.2
            },
            "type": "scatter"
           }
          ],
          "scatter3d": [
           {
            "line": {
             "colorbar": {
              "outlinewidth": 0,
              "ticks": ""
             }
            },
            "marker": {
             "colorbar": {
              "outlinewidth": 0,
              "ticks": ""
             }
            },
            "type": "scatter3d"
           }
          ],
          "scattercarpet": [
           {
            "marker": {
             "colorbar": {
              "outlinewidth": 0,
              "ticks": ""
             }
            },
            "type": "scattercarpet"
           }
          ],
          "scattergeo": [
           {
            "marker": {
             "colorbar": {
              "outlinewidth": 0,
              "ticks": ""
             }
            },
            "type": "scattergeo"
           }
          ],
          "scattergl": [
           {
            "marker": {
             "colorbar": {
              "outlinewidth": 0,
              "ticks": ""
             }
            },
            "type": "scattergl"
           }
          ],
          "scattermapbox": [
           {
            "marker": {
             "colorbar": {
              "outlinewidth": 0,
              "ticks": ""
             }
            },
            "type": "scattermapbox"
           }
          ],
          "scatterpolar": [
           {
            "marker": {
             "colorbar": {
              "outlinewidth": 0,
              "ticks": ""
             }
            },
            "type": "scatterpolar"
           }
          ],
          "scatterpolargl": [
           {
            "marker": {
             "colorbar": {
              "outlinewidth": 0,
              "ticks": ""
             }
            },
            "type": "scatterpolargl"
           }
          ],
          "scatterternary": [
           {
            "marker": {
             "colorbar": {
              "outlinewidth": 0,
              "ticks": ""
             }
            },
            "type": "scatterternary"
           }
          ],
          "surface": [
           {
            "colorbar": {
             "outlinewidth": 0,
             "ticks": ""
            },
            "colorscale": [
             [
              0,
              "#0d0887"
             ],
             [
              0.1111111111111111,
              "#46039f"
             ],
             [
              0.2222222222222222,
              "#7201a8"
             ],
             [
              0.3333333333333333,
              "#9c179e"
             ],
             [
              0.4444444444444444,
              "#bd3786"
             ],
             [
              0.5555555555555556,
              "#d8576b"
             ],
             [
              0.6666666666666666,
              "#ed7953"
             ],
             [
              0.7777777777777778,
              "#fb9f3a"
             ],
             [
              0.8888888888888888,
              "#fdca26"
             ],
             [
              1,
              "#f0f921"
             ]
            ],
            "type": "surface"
           }
          ],
          "table": [
           {
            "cells": {
             "fill": {
              "color": "#EBF0F8"
             },
             "line": {
              "color": "white"
             }
            },
            "header": {
             "fill": {
              "color": "#C8D4E3"
             },
             "line": {
              "color": "white"
             }
            },
            "type": "table"
           }
          ]
         },
         "layout": {
          "annotationdefaults": {
           "arrowcolor": "#2a3f5f",
           "arrowhead": 0,
           "arrowwidth": 1
          },
          "autotypenumbers": "strict",
          "coloraxis": {
           "colorbar": {
            "outlinewidth": 0,
            "ticks": ""
           }
          },
          "colorscale": {
           "diverging": [
            [
             0,
             "#8e0152"
            ],
            [
             0.1,
             "#c51b7d"
            ],
            [
             0.2,
             "#de77ae"
            ],
            [
             0.3,
             "#f1b6da"
            ],
            [
             0.4,
             "#fde0ef"
            ],
            [
             0.5,
             "#f7f7f7"
            ],
            [
             0.6,
             "#e6f5d0"
            ],
            [
             0.7,
             "#b8e186"
            ],
            [
             0.8,
             "#7fbc41"
            ],
            [
             0.9,
             "#4d9221"
            ],
            [
             1,
             "#276419"
            ]
           ],
           "sequential": [
            [
             0,
             "#0d0887"
            ],
            [
             0.1111111111111111,
             "#46039f"
            ],
            [
             0.2222222222222222,
             "#7201a8"
            ],
            [
             0.3333333333333333,
             "#9c179e"
            ],
            [
             0.4444444444444444,
             "#bd3786"
            ],
            [
             0.5555555555555556,
             "#d8576b"
            ],
            [
             0.6666666666666666,
             "#ed7953"
            ],
            [
             0.7777777777777778,
             "#fb9f3a"
            ],
            [
             0.8888888888888888,
             "#fdca26"
            ],
            [
             1,
             "#f0f921"
            ]
           ],
           "sequentialminus": [
            [
             0,
             "#0d0887"
            ],
            [
             0.1111111111111111,
             "#46039f"
            ],
            [
             0.2222222222222222,
             "#7201a8"
            ],
            [
             0.3333333333333333,
             "#9c179e"
            ],
            [
             0.4444444444444444,
             "#bd3786"
            ],
            [
             0.5555555555555556,
             "#d8576b"
            ],
            [
             0.6666666666666666,
             "#ed7953"
            ],
            [
             0.7777777777777778,
             "#fb9f3a"
            ],
            [
             0.8888888888888888,
             "#fdca26"
            ],
            [
             1,
             "#f0f921"
            ]
           ]
          },
          "colorway": [
           "#636efa",
           "#EF553B",
           "#00cc96",
           "#ab63fa",
           "#FFA15A",
           "#19d3f3",
           "#FF6692",
           "#B6E880",
           "#FF97FF",
           "#FECB52"
          ],
          "font": {
           "color": "#2a3f5f"
          },
          "geo": {
           "bgcolor": "white",
           "lakecolor": "white",
           "landcolor": "#E5ECF6",
           "showlakes": true,
           "showland": true,
           "subunitcolor": "white"
          },
          "hoverlabel": {
           "align": "left"
          },
          "hovermode": "closest",
          "mapbox": {
           "style": "light"
          },
          "paper_bgcolor": "white",
          "plot_bgcolor": "#E5ECF6",
          "polar": {
           "angularaxis": {
            "gridcolor": "white",
            "linecolor": "white",
            "ticks": ""
           },
           "bgcolor": "#E5ECF6",
           "radialaxis": {
            "gridcolor": "white",
            "linecolor": "white",
            "ticks": ""
           }
          },
          "scene": {
           "xaxis": {
            "backgroundcolor": "#E5ECF6",
            "gridcolor": "white",
            "gridwidth": 2,
            "linecolor": "white",
            "showbackground": true,
            "ticks": "",
            "zerolinecolor": "white"
           },
           "yaxis": {
            "backgroundcolor": "#E5ECF6",
            "gridcolor": "white",
            "gridwidth": 2,
            "linecolor": "white",
            "showbackground": true,
            "ticks": "",
            "zerolinecolor": "white"
           },
           "zaxis": {
            "backgroundcolor": "#E5ECF6",
            "gridcolor": "white",
            "gridwidth": 2,
            "linecolor": "white",
            "showbackground": true,
            "ticks": "",
            "zerolinecolor": "white"
           }
          },
          "shapedefaults": {
           "line": {
            "color": "#2a3f5f"
           }
          },
          "ternary": {
           "aaxis": {
            "gridcolor": "white",
            "linecolor": "white",
            "ticks": ""
           },
           "baxis": {
            "gridcolor": "white",
            "linecolor": "white",
            "ticks": ""
           },
           "bgcolor": "#E5ECF6",
           "caxis": {
            "gridcolor": "white",
            "linecolor": "white",
            "ticks": ""
           }
          },
          "title": {
           "x": 0.05
          },
          "xaxis": {
           "automargin": true,
           "gridcolor": "white",
           "linecolor": "white",
           "ticks": "",
           "title": {
            "standoff": 15
           },
           "zerolinecolor": "white",
           "zerolinewidth": 2
          },
          "yaxis": {
           "automargin": true,
           "gridcolor": "white",
           "linecolor": "white",
           "ticks": "",
           "title": {
            "standoff": 15
           },
           "zerolinecolor": "white",
           "zerolinewidth": 2
          }
         }
        },
        "title": {
         "text": "Medal Distribution by Gender"
        },
        "xaxis": {
         "anchor": "y",
         "domain": [
          0,
          1
         ],
         "title": {
          "text": "Gender"
         }
        },
        "yaxis": {
         "anchor": "x",
         "domain": [
          0,
          1
         ],
         "title": {
          "text": "Medal Count"
         }
        }
       }
      }
     },
     "metadata": {},
     "output_type": "display_data"
    }
   ],
   "source": [
    "import pandas as pd\n",
    "import plotly.express as px\n",
    "import ipywidgets as widgets\n",
    "from IPython.display import display\n",
    "\n",
    "# Load dataset\n",
    "history_path = r\"C:\\Users\\sreev\\Data Visualization\\Olympics 2024\\olympics_dataset_1896-2024.csv\"\n",
    "df = pd.read_csv(history_path)\n",
    "\n",
    "# Filter out \"No medal\"\n",
    "# Filter out \"No medal\" and ensure valid years\n",
    "df_filtered = df[(df['Medal'] != \"No medal\") & (df['Year'].notna())]\n",
    "\n",
    "# Create Widgets\n",
    "trend_selector = widgets.Dropdown(\n",
    "    options=[\"Overall Medal Trends\", \"Country-Specific Trends\", \"Gender Distribution\", \"Medal Distribution by Sport\"],\n",
    "    value=\"Country-Specific Trends\",\n",
    "    description=\"Trend Type:\",\n",
    "    style={'description_width': 'initial'},\n",
    "    layout=widgets.Layout(width='50%')\n",
    ")\n",
    "\n",
    "country_selector = widgets.Dropdown(\n",
    "    options=sorted(df_filtered['Team'].dropna().unique()),\n",
    "    description=\"Select Country:\",\n",
    "    style={'description_width': 'initial'},\n",
    "    layout=widgets.Layout(width='50%')\n",
    ")\n",
    "\n",
    "output = widgets.Output()\n",
    "\n",
    "# Define a function to update visualizations\n",
    "def update_visualizations(change):\n",
    "    output.clear_output()\n",
    "    with output:\n",
    "        if trend_selector.value == \"Country-Specific Trends\":\n",
    "            selected_country = country_selector.value\n",
    "            df_country = df_filtered[df_filtered['Team'] == selected_country]\n",
    "            \n",
    "            if df_country.empty:\n",
    "                print(f\"No data available for {selected_country}\")\n",
    "                return\n",
    "\n",
    "            df_country_grouped = df_country.groupby(['Year', 'Medal']).size().reset_index(name='Count')\n",
    "            fig = px.line(\n",
    "                df_country_grouped,\n",
    "                x='Year',\n",
    "                y='Count',\n",
    "                color='Medal',\n",
    "                title=f\"Medal Trends for {selected_country} by Year\",\n",
    "                markers=True\n",
    "            )\n",
    "            fig.update_layout(xaxis_title=\"Year\", yaxis_title=\"Medal Count\", legend_title=\"Medal Type\")\n",
    "            fig.show()\n",
    "\n",
    "        elif trend_selector.value == \"Overall Medal Trends\":\n",
    "            df_grouped = df_filtered.groupby(['Year', 'Medal']).size().reset_index(name='Count')\n",
    "            fig = px.line(\n",
    "                df_grouped,\n",
    "                x='Year',\n",
    "                y='Count',\n",
    "                color='Medal',\n",
    "                title=\"Overall Medal Trends by Year\",\n",
    "                markers=True\n",
    "            )\n",
    "            fig.update_layout(xaxis_title=\"Year\", yaxis_title=\"Medal Count\", legend_title=\"Medal Type\")\n",
    "            fig.show()\n",
    "\n",
    "        elif trend_selector.value == \"Gender Distribution\":\n",
    "            df_gender = df_filtered.groupby(['Sex', 'Medal']).size().reset_index(name='Count')\n",
    "            fig = px.bar(\n",
    "                df_gender,\n",
    "                x='Sex',\n",
    "                y='Count',\n",
    "                color='Medal',\n",
    "                barmode='stack',\n",
    "                title=\"Medal Distribution by Gender\"\n",
    "            )\n",
    "            fig.update_layout(xaxis_title=\"Gender\", yaxis_title=\"Medal Count\", legend_title=\"Medal Type\")\n",
    "            fig.show()\n",
    "\n",
    "        elif trend_selector.value == \"Medal Distribution by Sport\":\n",
    "            df_sport = df_filtered.groupby(['Sport', 'Medal']).size().reset_index(name='Count')\n",
    "            top_sports = df_sport.groupby('Sport')['Count'].sum().nlargest(10).index\n",
    "            df_top_sports = df_sport[df_sport['Sport'].isin(top_sports)]\n",
    "            fig = px.bar(\n",
    "                df_top_sports,\n",
    "                x='Sport',\n",
    "                y='Count',\n",
    "                color='Medal',\n",
    "                barmode='stack',\n",
    "                title=\"Medal Distribution by Sport (Top 10)\"\n",
    "            )\n",
    "            fig.update_layout(xaxis_title=\"Sport\", yaxis_title=\"Medal Count\", legend_title=\"Medal Type\")\n",
    "            fig.show()\n",
    "\n",
    "# Attach the function to the dropdown\n",
    "trend_selector.observe(update_visualizations, names='value')\n",
    "\n",
    "# Layout the widgets\n",
    "display(trend_selector)\n",
    "\n",
    "# Display the country selector only for \"Country-Specific Trends\"\n",
    "def update_country_selector(change):\n",
    "    if trend_selector.value == \"Country-Specific Trends\":\n",
    "        display(country_selector)\n",
    "    else:\n",
    "        country_selector.close()\n",
    "\n",
    "trend_selector.observe(update_country_selector, names='value')\n",
    "\n",
    "# Output widget for plots\n",
    "display(output)"
   ]
  },
  {
   "cell_type": "code",
   "execution_count": 55,
   "metadata": {},
   "outputs": [
    {
     "data": {
      "application/vnd.jupyter.widget-view+json": {
       "model_id": "0ffc7bd69dd74270980062180de28613",
       "version_major": 2,
       "version_minor": 0
      },
      "text/plain": [
       "Dropdown(description='Trend Type:', index=1, layout=Layout(width='50%'), options=('Overall Medal Trends', 'Cou…"
      ]
     },
     "metadata": {},
     "output_type": "display_data"
    },
    {
     "data": {
      "application/vnd.jupyter.widget-view+json": {
       "model_id": "bd203c1a673f4ce9abf5e08c7a4b4494",
       "version_major": 2,
       "version_minor": 0
      },
      "text/plain": [
       "Dropdown(description='Select Country:', layout=Layout(width='50%'), options=('A North American Team', 'AIN', '…"
      ]
     },
     "metadata": {},
     "output_type": "display_data"
    },
    {
     "data": {
      "application/vnd.jupyter.widget-view+json": {
       "model_id": "ecd54e788a7f41c1a2d65601a7146297",
       "version_major": 2,
       "version_minor": 0
      },
      "text/plain": [
       "Output()"
      ]
     },
     "metadata": {},
     "output_type": "display_data"
    },
    {
     "data": {
      "application/vnd.plotly.v1+json": {
       "config": {
        "plotlyServerURL": "https://plot.ly"
       },
       "data": [
        {
         "hovertemplate": "Medal=Gold<br>Year=%{x}<br>Count=%{y}<extra></extra>",
         "legendgroup": "Gold",
         "line": {
          "color": "#636efa",
          "dash": "solid"
         },
         "marker": {
          "symbol": "circle"
         },
         "mode": "lines+markers",
         "name": "Gold",
         "orientation": "v",
         "showlegend": true,
         "type": "scatter",
         "x": [
          1900
         ],
         "xaxis": "x",
         "y": [
          5
         ],
         "yaxis": "y"
        }
       ],
       "layout": {
        "legend": {
         "title": {
          "text": "Medal Type"
         },
         "tracegroupgap": 0
        },
        "template": {
         "data": {
          "bar": [
           {
            "error_x": {
             "color": "#2a3f5f"
            },
            "error_y": {
             "color": "#2a3f5f"
            },
            "marker": {
             "line": {
              "color": "white",
              "width": 0.5
             },
             "pattern": {
              "fillmode": "overlay",
              "size": 10,
              "solidity": 0.2
             }
            },
            "type": "bar"
           }
          ],
          "barpolar": [
           {
            "marker": {
             "line": {
              "color": "white",
              "width": 0.5
             },
             "pattern": {
              "fillmode": "overlay",
              "size": 10,
              "solidity": 0.2
             }
            },
            "type": "barpolar"
           }
          ],
          "carpet": [
           {
            "aaxis": {
             "endlinecolor": "#2a3f5f",
             "gridcolor": "#C8D4E3",
             "linecolor": "#C8D4E3",
             "minorgridcolor": "#C8D4E3",
             "startlinecolor": "#2a3f5f"
            },
            "baxis": {
             "endlinecolor": "#2a3f5f",
             "gridcolor": "#C8D4E3",
             "linecolor": "#C8D4E3",
             "minorgridcolor": "#C8D4E3",
             "startlinecolor": "#2a3f5f"
            },
            "type": "carpet"
           }
          ],
          "choropleth": [
           {
            "colorbar": {
             "outlinewidth": 0,
             "ticks": ""
            },
            "type": "choropleth"
           }
          ],
          "contour": [
           {
            "colorbar": {
             "outlinewidth": 0,
             "ticks": ""
            },
            "colorscale": [
             [
              0,
              "#0d0887"
             ],
             [
              0.1111111111111111,
              "#46039f"
             ],
             [
              0.2222222222222222,
              "#7201a8"
             ],
             [
              0.3333333333333333,
              "#9c179e"
             ],
             [
              0.4444444444444444,
              "#bd3786"
             ],
             [
              0.5555555555555556,
              "#d8576b"
             ],
             [
              0.6666666666666666,
              "#ed7953"
             ],
             [
              0.7777777777777778,
              "#fb9f3a"
             ],
             [
              0.8888888888888888,
              "#fdca26"
             ],
             [
              1,
              "#f0f921"
             ]
            ],
            "type": "contour"
           }
          ],
          "contourcarpet": [
           {
            "colorbar": {
             "outlinewidth": 0,
             "ticks": ""
            },
            "type": "contourcarpet"
           }
          ],
          "heatmap": [
           {
            "colorbar": {
             "outlinewidth": 0,
             "ticks": ""
            },
            "colorscale": [
             [
              0,
              "#0d0887"
             ],
             [
              0.1111111111111111,
              "#46039f"
             ],
             [
              0.2222222222222222,
              "#7201a8"
             ],
             [
              0.3333333333333333,
              "#9c179e"
             ],
             [
              0.4444444444444444,
              "#bd3786"
             ],
             [
              0.5555555555555556,
              "#d8576b"
             ],
             [
              0.6666666666666666,
              "#ed7953"
             ],
             [
              0.7777777777777778,
              "#fb9f3a"
             ],
             [
              0.8888888888888888,
              "#fdca26"
             ],
             [
              1,
              "#f0f921"
             ]
            ],
            "type": "heatmap"
           }
          ],
          "heatmapgl": [
           {
            "colorbar": {
             "outlinewidth": 0,
             "ticks": ""
            },
            "colorscale": [
             [
              0,
              "#0d0887"
             ],
             [
              0.1111111111111111,
              "#46039f"
             ],
             [
              0.2222222222222222,
              "#7201a8"
             ],
             [
              0.3333333333333333,
              "#9c179e"
             ],
             [
              0.4444444444444444,
              "#bd3786"
             ],
             [
              0.5555555555555556,
              "#d8576b"
             ],
             [
              0.6666666666666666,
              "#ed7953"
             ],
             [
              0.7777777777777778,
              "#fb9f3a"
             ],
             [
              0.8888888888888888,
              "#fdca26"
             ],
             [
              1,
              "#f0f921"
             ]
            ],
            "type": "heatmapgl"
           }
          ],
          "histogram": [
           {
            "marker": {
             "pattern": {
              "fillmode": "overlay",
              "size": 10,
              "solidity": 0.2
             }
            },
            "type": "histogram"
           }
          ],
          "histogram2d": [
           {
            "colorbar": {
             "outlinewidth": 0,
             "ticks": ""
            },
            "colorscale": [
             [
              0,
              "#0d0887"
             ],
             [
              0.1111111111111111,
              "#46039f"
             ],
             [
              0.2222222222222222,
              "#7201a8"
             ],
             [
              0.3333333333333333,
              "#9c179e"
             ],
             [
              0.4444444444444444,
              "#bd3786"
             ],
             [
              0.5555555555555556,
              "#d8576b"
             ],
             [
              0.6666666666666666,
              "#ed7953"
             ],
             [
              0.7777777777777778,
              "#fb9f3a"
             ],
             [
              0.8888888888888888,
              "#fdca26"
             ],
             [
              1,
              "#f0f921"
             ]
            ],
            "type": "histogram2d"
           }
          ],
          "histogram2dcontour": [
           {
            "colorbar": {
             "outlinewidth": 0,
             "ticks": ""
            },
            "colorscale": [
             [
              0,
              "#0d0887"
             ],
             [
              0.1111111111111111,
              "#46039f"
             ],
             [
              0.2222222222222222,
              "#7201a8"
             ],
             [
              0.3333333333333333,
              "#9c179e"
             ],
             [
              0.4444444444444444,
              "#bd3786"
             ],
             [
              0.5555555555555556,
              "#d8576b"
             ],
             [
              0.6666666666666666,
              "#ed7953"
             ],
             [
              0.7777777777777778,
              "#fb9f3a"
             ],
             [
              0.8888888888888888,
              "#fdca26"
             ],
             [
              1,
              "#f0f921"
             ]
            ],
            "type": "histogram2dcontour"
           }
          ],
          "mesh3d": [
           {
            "colorbar": {
             "outlinewidth": 0,
             "ticks": ""
            },
            "type": "mesh3d"
           }
          ],
          "parcoords": [
           {
            "line": {
             "colorbar": {
              "outlinewidth": 0,
              "ticks": ""
             }
            },
            "type": "parcoords"
           }
          ],
          "pie": [
           {
            "automargin": true,
            "type": "pie"
           }
          ],
          "scatter": [
           {
            "fillpattern": {
             "fillmode": "overlay",
             "size": 10,
             "solidity": 0.2
            },
            "type": "scatter"
           }
          ],
          "scatter3d": [
           {
            "line": {
             "colorbar": {
              "outlinewidth": 0,
              "ticks": ""
             }
            },
            "marker": {
             "colorbar": {
              "outlinewidth": 0,
              "ticks": ""
             }
            },
            "type": "scatter3d"
           }
          ],
          "scattercarpet": [
           {
            "marker": {
             "colorbar": {
              "outlinewidth": 0,
              "ticks": ""
             }
            },
            "type": "scattercarpet"
           }
          ],
          "scattergeo": [
           {
            "marker": {
             "colorbar": {
              "outlinewidth": 0,
              "ticks": ""
             }
            },
            "type": "scattergeo"
           }
          ],
          "scattergl": [
           {
            "marker": {
             "colorbar": {
              "outlinewidth": 0,
              "ticks": ""
             }
            },
            "type": "scattergl"
           }
          ],
          "scattermapbox": [
           {
            "marker": {
             "colorbar": {
              "outlinewidth": 0,
              "ticks": ""
             }
            },
            "type": "scattermapbox"
           }
          ],
          "scatterpolar": [
           {
            "marker": {
             "colorbar": {
              "outlinewidth": 0,
              "ticks": ""
             }
            },
            "type": "scatterpolar"
           }
          ],
          "scatterpolargl": [
           {
            "marker": {
             "colorbar": {
              "outlinewidth": 0,
              "ticks": ""
             }
            },
            "type": "scatterpolargl"
           }
          ],
          "scatterternary": [
           {
            "marker": {
             "colorbar": {
              "outlinewidth": 0,
              "ticks": ""
             }
            },
            "type": "scatterternary"
           }
          ],
          "surface": [
           {
            "colorbar": {
             "outlinewidth": 0,
             "ticks": ""
            },
            "colorscale": [
             [
              0,
              "#0d0887"
             ],
             [
              0.1111111111111111,
              "#46039f"
             ],
             [
              0.2222222222222222,
              "#7201a8"
             ],
             [
              0.3333333333333333,
              "#9c179e"
             ],
             [
              0.4444444444444444,
              "#bd3786"
             ],
             [
              0.5555555555555556,
              "#d8576b"
             ],
             [
              0.6666666666666666,
              "#ed7953"
             ],
             [
              0.7777777777777778,
              "#fb9f3a"
             ],
             [
              0.8888888888888888,
              "#fdca26"
             ],
             [
              1,
              "#f0f921"
             ]
            ],
            "type": "surface"
           }
          ],
          "table": [
           {
            "cells": {
             "fill": {
              "color": "#EBF0F8"
             },
             "line": {
              "color": "white"
             }
            },
            "header": {
             "fill": {
              "color": "#C8D4E3"
             },
             "line": {
              "color": "white"
             }
            },
            "type": "table"
           }
          ]
         },
         "layout": {
          "annotationdefaults": {
           "arrowcolor": "#2a3f5f",
           "arrowhead": 0,
           "arrowwidth": 1
          },
          "autotypenumbers": "strict",
          "coloraxis": {
           "colorbar": {
            "outlinewidth": 0,
            "ticks": ""
           }
          },
          "colorscale": {
           "diverging": [
            [
             0,
             "#8e0152"
            ],
            [
             0.1,
             "#c51b7d"
            ],
            [
             0.2,
             "#de77ae"
            ],
            [
             0.3,
             "#f1b6da"
            ],
            [
             0.4,
             "#fde0ef"
            ],
            [
             0.5,
             "#f7f7f7"
            ],
            [
             0.6,
             "#e6f5d0"
            ],
            [
             0.7,
             "#b8e186"
            ],
            [
             0.8,
             "#7fbc41"
            ],
            [
             0.9,
             "#4d9221"
            ],
            [
             1,
             "#276419"
            ]
           ],
           "sequential": [
            [
             0,
             "#0d0887"
            ],
            [
             0.1111111111111111,
             "#46039f"
            ],
            [
             0.2222222222222222,
             "#7201a8"
            ],
            [
             0.3333333333333333,
             "#9c179e"
            ],
            [
             0.4444444444444444,
             "#bd3786"
            ],
            [
             0.5555555555555556,
             "#d8576b"
            ],
            [
             0.6666666666666666,
             "#ed7953"
            ],
            [
             0.7777777777777778,
             "#fb9f3a"
            ],
            [
             0.8888888888888888,
             "#fdca26"
            ],
            [
             1,
             "#f0f921"
            ]
           ],
           "sequentialminus": [
            [
             0,
             "#0d0887"
            ],
            [
             0.1111111111111111,
             "#46039f"
            ],
            [
             0.2222222222222222,
             "#7201a8"
            ],
            [
             0.3333333333333333,
             "#9c179e"
            ],
            [
             0.4444444444444444,
             "#bd3786"
            ],
            [
             0.5555555555555556,
             "#d8576b"
            ],
            [
             0.6666666666666666,
             "#ed7953"
            ],
            [
             0.7777777777777778,
             "#fb9f3a"
            ],
            [
             0.8888888888888888,
             "#fdca26"
            ],
            [
             1,
             "#f0f921"
            ]
           ]
          },
          "colorway": [
           "#636efa",
           "#EF553B",
           "#00cc96",
           "#ab63fa",
           "#FFA15A",
           "#19d3f3",
           "#FF6692",
           "#B6E880",
           "#FF97FF",
           "#FECB52"
          ],
          "font": {
           "color": "#2a3f5f"
          },
          "geo": {
           "bgcolor": "white",
           "lakecolor": "white",
           "landcolor": "white",
           "showlakes": true,
           "showland": true,
           "subunitcolor": "#C8D4E3"
          },
          "hoverlabel": {
           "align": "left"
          },
          "hovermode": "closest",
          "mapbox": {
           "style": "light"
          },
          "paper_bgcolor": "white",
          "plot_bgcolor": "white",
          "polar": {
           "angularaxis": {
            "gridcolor": "#EBF0F8",
            "linecolor": "#EBF0F8",
            "ticks": ""
           },
           "bgcolor": "white",
           "radialaxis": {
            "gridcolor": "#EBF0F8",
            "linecolor": "#EBF0F8",
            "ticks": ""
           }
          },
          "scene": {
           "xaxis": {
            "backgroundcolor": "white",
            "gridcolor": "#DFE8F3",
            "gridwidth": 2,
            "linecolor": "#EBF0F8",
            "showbackground": true,
            "ticks": "",
            "zerolinecolor": "#EBF0F8"
           },
           "yaxis": {
            "backgroundcolor": "white",
            "gridcolor": "#DFE8F3",
            "gridwidth": 2,
            "linecolor": "#EBF0F8",
            "showbackground": true,
            "ticks": "",
            "zerolinecolor": "#EBF0F8"
           },
           "zaxis": {
            "backgroundcolor": "white",
            "gridcolor": "#DFE8F3",
            "gridwidth": 2,
            "linecolor": "#EBF0F8",
            "showbackground": true,
            "ticks": "",
            "zerolinecolor": "#EBF0F8"
           }
          },
          "shapedefaults": {
           "line": {
            "color": "#2a3f5f"
           }
          },
          "ternary": {
           "aaxis": {
            "gridcolor": "#DFE8F3",
            "linecolor": "#A2B1C6",
            "ticks": ""
           },
           "baxis": {
            "gridcolor": "#DFE8F3",
            "linecolor": "#A2B1C6",
            "ticks": ""
           },
           "bgcolor": "white",
           "caxis": {
            "gridcolor": "#DFE8F3",
            "linecolor": "#A2B1C6",
            "ticks": ""
           }
          },
          "title": {
           "x": 0.05
          },
          "xaxis": {
           "automargin": true,
           "gridcolor": "#EBF0F8",
           "linecolor": "#EBF0F8",
           "ticks": "",
           "title": {
            "standoff": 15
           },
           "zerolinecolor": "#EBF0F8",
           "zerolinewidth": 2
          },
          "yaxis": {
           "automargin": true,
           "gridcolor": "#EBF0F8",
           "linecolor": "#EBF0F8",
           "ticks": "",
           "title": {
            "standoff": 15
           },
           "zerolinecolor": "#EBF0F8",
           "zerolinewidth": 2
          }
         }
        },
        "title": {
         "text": "Medal Trends for Amateur Athletic Association by Year"
        },
        "xaxis": {
         "anchor": "y",
         "domain": [
          0,
          1
         ],
         "title": {
          "text": "Year"
         }
        },
        "yaxis": {
         "anchor": "x",
         "domain": [
          0,
          1
         ],
         "title": {
          "text": "Medal Count"
         }
        }
       }
      }
     },
     "metadata": {},
     "output_type": "display_data"
    },
    {
     "data": {
      "application/vnd.plotly.v1+json": {
       "config": {
        "plotlyServerURL": "https://plot.ly"
       },
       "data": [
        {
         "hovertemplate": "Medal=Bronze<br>Year=%{x}<br>Count=%{y}<extra></extra>",
         "legendgroup": "Bronze",
         "line": {
          "color": "#636efa",
          "dash": "solid"
         },
         "marker": {
          "symbol": "circle"
         },
         "mode": "lines+markers",
         "name": "Bronze",
         "orientation": "v",
         "showlegend": true,
         "type": "scatter",
         "x": [
          1896,
          1900,
          1904,
          1906,
          1908,
          1912,
          1920,
          1924,
          1928,
          1932,
          1936,
          1948,
          1952,
          1956,
          1960,
          1964,
          1968,
          1972,
          1976,
          1984,
          1988,
          1992,
          1996,
          2000,
          2004,
          2008,
          2012,
          2016,
          2020,
          2024
         ],
         "xaxis": "x",
         "y": [
          2,
          13,
          66,
          6,
          15,
          36,
          38,
          49,
          17,
          61,
          16,
          33,
          28,
          20,
          19,
          29,
          35,
          43,
          36,
          50,
          54,
          85,
          52,
          51,
          69,
          78,
          44,
          67,
          75,
          94
         ],
         "yaxis": "y"
        },
        {
         "hovertemplate": "Medal=Gold<br>Year=%{x}<br>Count=%{y}<extra></extra>",
         "legendgroup": "Gold",
         "line": {
          "color": "#EF553B",
          "dash": "solid"
         },
         "marker": {
          "symbol": "circle"
         },
         "mode": "lines+markers",
         "name": "Gold",
         "orientation": "v",
         "showlegend": true,
         "type": "scatter",
         "x": [
          1896,
          1900,
          1904,
          1906,
          1908,
          1912,
          1920,
          1924,
          1928,
          1932,
          1936,
          1948,
          1952,
          1956,
          1960,
          1964,
          1968,
          1972,
          1976,
          1984,
          1988,
          1992,
          1996,
          2000,
          2004,
          2008,
          2012,
          2016,
          2020,
          2024
         ],
         "xaxis": "x",
         "y": [
          11,
          18,
          65,
          12,
          34,
          46,
          111,
          91,
          47,
          67,
          51,
          80,
          73,
          59,
          78,
          95,
          99,
          69,
          70,
          186,
          87,
          87,
          157,
          128,
          115,
          121,
          139,
          137,
          113,
          131
         ],
         "yaxis": "y"
        },
        {
         "hovertemplate": "Medal=Silver<br>Year=%{x}<br>Count=%{y}<extra></extra>",
         "legendgroup": "Silver",
         "line": {
          "color": "#00cc96",
          "dash": "solid"
         },
         "marker": {
          "symbol": "circle"
         },
         "mode": "lines+markers",
         "name": "Silver",
         "orientation": "v",
         "showlegend": true,
         "type": "scatter",
         "x": [
          1896,
          1900,
          1904,
          1906,
          1908,
          1912,
          1920,
          1924,
          1928,
          1932,
          1936,
          1948,
          1952,
          1956,
          1960,
          1964,
          1968,
          1972,
          1976,
          1984,
          1988,
          1992,
          1996,
          2000,
          2004,
          2008,
          2012,
          2016,
          2020,
          2024
         ],
         "xaxis": "x",
         "y": [
          7,
          14,
          68,
          6,
          16,
          25,
          45,
          34,
          24,
          42,
          29,
          30,
          21,
          42,
          23,
          35,
          32,
          59,
          58,
          116,
          66,
          50,
          46,
          61,
          75,
          110,
          55,
          52,
          110,
          96
         ],
         "yaxis": "y"
        }
       ],
       "layout": {
        "legend": {
         "title": {
          "text": "Medal Type"
         },
         "tracegroupgap": 0
        },
        "template": {
         "data": {
          "bar": [
           {
            "error_x": {
             "color": "#2a3f5f"
            },
            "error_y": {
             "color": "#2a3f5f"
            },
            "marker": {
             "line": {
              "color": "white",
              "width": 0.5
             },
             "pattern": {
              "fillmode": "overlay",
              "size": 10,
              "solidity": 0.2
             }
            },
            "type": "bar"
           }
          ],
          "barpolar": [
           {
            "marker": {
             "line": {
              "color": "white",
              "width": 0.5
             },
             "pattern": {
              "fillmode": "overlay",
              "size": 10,
              "solidity": 0.2
             }
            },
            "type": "barpolar"
           }
          ],
          "carpet": [
           {
            "aaxis": {
             "endlinecolor": "#2a3f5f",
             "gridcolor": "#C8D4E3",
             "linecolor": "#C8D4E3",
             "minorgridcolor": "#C8D4E3",
             "startlinecolor": "#2a3f5f"
            },
            "baxis": {
             "endlinecolor": "#2a3f5f",
             "gridcolor": "#C8D4E3",
             "linecolor": "#C8D4E3",
             "minorgridcolor": "#C8D4E3",
             "startlinecolor": "#2a3f5f"
            },
            "type": "carpet"
           }
          ],
          "choropleth": [
           {
            "colorbar": {
             "outlinewidth": 0,
             "ticks": ""
            },
            "type": "choropleth"
           }
          ],
          "contour": [
           {
            "colorbar": {
             "outlinewidth": 0,
             "ticks": ""
            },
            "colorscale": [
             [
              0,
              "#0d0887"
             ],
             [
              0.1111111111111111,
              "#46039f"
             ],
             [
              0.2222222222222222,
              "#7201a8"
             ],
             [
              0.3333333333333333,
              "#9c179e"
             ],
             [
              0.4444444444444444,
              "#bd3786"
             ],
             [
              0.5555555555555556,
              "#d8576b"
             ],
             [
              0.6666666666666666,
              "#ed7953"
             ],
             [
              0.7777777777777778,
              "#fb9f3a"
             ],
             [
              0.8888888888888888,
              "#fdca26"
             ],
             [
              1,
              "#f0f921"
             ]
            ],
            "type": "contour"
           }
          ],
          "contourcarpet": [
           {
            "colorbar": {
             "outlinewidth": 0,
             "ticks": ""
            },
            "type": "contourcarpet"
           }
          ],
          "heatmap": [
           {
            "colorbar": {
             "outlinewidth": 0,
             "ticks": ""
            },
            "colorscale": [
             [
              0,
              "#0d0887"
             ],
             [
              0.1111111111111111,
              "#46039f"
             ],
             [
              0.2222222222222222,
              "#7201a8"
             ],
             [
              0.3333333333333333,
              "#9c179e"
             ],
             [
              0.4444444444444444,
              "#bd3786"
             ],
             [
              0.5555555555555556,
              "#d8576b"
             ],
             [
              0.6666666666666666,
              "#ed7953"
             ],
             [
              0.7777777777777778,
              "#fb9f3a"
             ],
             [
              0.8888888888888888,
              "#fdca26"
             ],
             [
              1,
              "#f0f921"
             ]
            ],
            "type": "heatmap"
           }
          ],
          "heatmapgl": [
           {
            "colorbar": {
             "outlinewidth": 0,
             "ticks": ""
            },
            "colorscale": [
             [
              0,
              "#0d0887"
             ],
             [
              0.1111111111111111,
              "#46039f"
             ],
             [
              0.2222222222222222,
              "#7201a8"
             ],
             [
              0.3333333333333333,
              "#9c179e"
             ],
             [
              0.4444444444444444,
              "#bd3786"
             ],
             [
              0.5555555555555556,
              "#d8576b"
             ],
             [
              0.6666666666666666,
              "#ed7953"
             ],
             [
              0.7777777777777778,
              "#fb9f3a"
             ],
             [
              0.8888888888888888,
              "#fdca26"
             ],
             [
              1,
              "#f0f921"
             ]
            ],
            "type": "heatmapgl"
           }
          ],
          "histogram": [
           {
            "marker": {
             "pattern": {
              "fillmode": "overlay",
              "size": 10,
              "solidity": 0.2
             }
            },
            "type": "histogram"
           }
          ],
          "histogram2d": [
           {
            "colorbar": {
             "outlinewidth": 0,
             "ticks": ""
            },
            "colorscale": [
             [
              0,
              "#0d0887"
             ],
             [
              0.1111111111111111,
              "#46039f"
             ],
             [
              0.2222222222222222,
              "#7201a8"
             ],
             [
              0.3333333333333333,
              "#9c179e"
             ],
             [
              0.4444444444444444,
              "#bd3786"
             ],
             [
              0.5555555555555556,
              "#d8576b"
             ],
             [
              0.6666666666666666,
              "#ed7953"
             ],
             [
              0.7777777777777778,
              "#fb9f3a"
             ],
             [
              0.8888888888888888,
              "#fdca26"
             ],
             [
              1,
              "#f0f921"
             ]
            ],
            "type": "histogram2d"
           }
          ],
          "histogram2dcontour": [
           {
            "colorbar": {
             "outlinewidth": 0,
             "ticks": ""
            },
            "colorscale": [
             [
              0,
              "#0d0887"
             ],
             [
              0.1111111111111111,
              "#46039f"
             ],
             [
              0.2222222222222222,
              "#7201a8"
             ],
             [
              0.3333333333333333,
              "#9c179e"
             ],
             [
              0.4444444444444444,
              "#bd3786"
             ],
             [
              0.5555555555555556,
              "#d8576b"
             ],
             [
              0.6666666666666666,
              "#ed7953"
             ],
             [
              0.7777777777777778,
              "#fb9f3a"
             ],
             [
              0.8888888888888888,
              "#fdca26"
             ],
             [
              1,
              "#f0f921"
             ]
            ],
            "type": "histogram2dcontour"
           }
          ],
          "mesh3d": [
           {
            "colorbar": {
             "outlinewidth": 0,
             "ticks": ""
            },
            "type": "mesh3d"
           }
          ],
          "parcoords": [
           {
            "line": {
             "colorbar": {
              "outlinewidth": 0,
              "ticks": ""
             }
            },
            "type": "parcoords"
           }
          ],
          "pie": [
           {
            "automargin": true,
            "type": "pie"
           }
          ],
          "scatter": [
           {
            "fillpattern": {
             "fillmode": "overlay",
             "size": 10,
             "solidity": 0.2
            },
            "type": "scatter"
           }
          ],
          "scatter3d": [
           {
            "line": {
             "colorbar": {
              "outlinewidth": 0,
              "ticks": ""
             }
            },
            "marker": {
             "colorbar": {
              "outlinewidth": 0,
              "ticks": ""
             }
            },
            "type": "scatter3d"
           }
          ],
          "scattercarpet": [
           {
            "marker": {
             "colorbar": {
              "outlinewidth": 0,
              "ticks": ""
             }
            },
            "type": "scattercarpet"
           }
          ],
          "scattergeo": [
           {
            "marker": {
             "colorbar": {
              "outlinewidth": 0,
              "ticks": ""
             }
            },
            "type": "scattergeo"
           }
          ],
          "scattergl": [
           {
            "marker": {
             "colorbar": {
              "outlinewidth": 0,
              "ticks": ""
             }
            },
            "type": "scattergl"
           }
          ],
          "scattermapbox": [
           {
            "marker": {
             "colorbar": {
              "outlinewidth": 0,
              "ticks": ""
             }
            },
            "type": "scattermapbox"
           }
          ],
          "scatterpolar": [
           {
            "marker": {
             "colorbar": {
              "outlinewidth": 0,
              "ticks": ""
             }
            },
            "type": "scatterpolar"
           }
          ],
          "scatterpolargl": [
           {
            "marker": {
             "colorbar": {
              "outlinewidth": 0,
              "ticks": ""
             }
            },
            "type": "scatterpolargl"
           }
          ],
          "scatterternary": [
           {
            "marker": {
             "colorbar": {
              "outlinewidth": 0,
              "ticks": ""
             }
            },
            "type": "scatterternary"
           }
          ],
          "surface": [
           {
            "colorbar": {
             "outlinewidth": 0,
             "ticks": ""
            },
            "colorscale": [
             [
              0,
              "#0d0887"
             ],
             [
              0.1111111111111111,
              "#46039f"
             ],
             [
              0.2222222222222222,
              "#7201a8"
             ],
             [
              0.3333333333333333,
              "#9c179e"
             ],
             [
              0.4444444444444444,
              "#bd3786"
             ],
             [
              0.5555555555555556,
              "#d8576b"
             ],
             [
              0.6666666666666666,
              "#ed7953"
             ],
             [
              0.7777777777777778,
              "#fb9f3a"
             ],
             [
              0.8888888888888888,
              "#fdca26"
             ],
             [
              1,
              "#f0f921"
             ]
            ],
            "type": "surface"
           }
          ],
          "table": [
           {
            "cells": {
             "fill": {
              "color": "#EBF0F8"
             },
             "line": {
              "color": "white"
             }
            },
            "header": {
             "fill": {
              "color": "#C8D4E3"
             },
             "line": {
              "color": "white"
             }
            },
            "type": "table"
           }
          ]
         },
         "layout": {
          "annotationdefaults": {
           "arrowcolor": "#2a3f5f",
           "arrowhead": 0,
           "arrowwidth": 1
          },
          "autotypenumbers": "strict",
          "coloraxis": {
           "colorbar": {
            "outlinewidth": 0,
            "ticks": ""
           }
          },
          "colorscale": {
           "diverging": [
            [
             0,
             "#8e0152"
            ],
            [
             0.1,
             "#c51b7d"
            ],
            [
             0.2,
             "#de77ae"
            ],
            [
             0.3,
             "#f1b6da"
            ],
            [
             0.4,
             "#fde0ef"
            ],
            [
             0.5,
             "#f7f7f7"
            ],
            [
             0.6,
             "#e6f5d0"
            ],
            [
             0.7,
             "#b8e186"
            ],
            [
             0.8,
             "#7fbc41"
            ],
            [
             0.9,
             "#4d9221"
            ],
            [
             1,
             "#276419"
            ]
           ],
           "sequential": [
            [
             0,
             "#0d0887"
            ],
            [
             0.1111111111111111,
             "#46039f"
            ],
            [
             0.2222222222222222,
             "#7201a8"
            ],
            [
             0.3333333333333333,
             "#9c179e"
            ],
            [
             0.4444444444444444,
             "#bd3786"
            ],
            [
             0.5555555555555556,
             "#d8576b"
            ],
            [
             0.6666666666666666,
             "#ed7953"
            ],
            [
             0.7777777777777778,
             "#fb9f3a"
            ],
            [
             0.8888888888888888,
             "#fdca26"
            ],
            [
             1,
             "#f0f921"
            ]
           ],
           "sequentialminus": [
            [
             0,
             "#0d0887"
            ],
            [
             0.1111111111111111,
             "#46039f"
            ],
            [
             0.2222222222222222,
             "#7201a8"
            ],
            [
             0.3333333333333333,
             "#9c179e"
            ],
            [
             0.4444444444444444,
             "#bd3786"
            ],
            [
             0.5555555555555556,
             "#d8576b"
            ],
            [
             0.6666666666666666,
             "#ed7953"
            ],
            [
             0.7777777777777778,
             "#fb9f3a"
            ],
            [
             0.8888888888888888,
             "#fdca26"
            ],
            [
             1,
             "#f0f921"
            ]
           ]
          },
          "colorway": [
           "#636efa",
           "#EF553B",
           "#00cc96",
           "#ab63fa",
           "#FFA15A",
           "#19d3f3",
           "#FF6692",
           "#B6E880",
           "#FF97FF",
           "#FECB52"
          ],
          "font": {
           "color": "#2a3f5f"
          },
          "geo": {
           "bgcolor": "white",
           "lakecolor": "white",
           "landcolor": "white",
           "showlakes": true,
           "showland": true,
           "subunitcolor": "#C8D4E3"
          },
          "hoverlabel": {
           "align": "left"
          },
          "hovermode": "closest",
          "mapbox": {
           "style": "light"
          },
          "paper_bgcolor": "white",
          "plot_bgcolor": "white",
          "polar": {
           "angularaxis": {
            "gridcolor": "#EBF0F8",
            "linecolor": "#EBF0F8",
            "ticks": ""
           },
           "bgcolor": "white",
           "radialaxis": {
            "gridcolor": "#EBF0F8",
            "linecolor": "#EBF0F8",
            "ticks": ""
           }
          },
          "scene": {
           "xaxis": {
            "backgroundcolor": "white",
            "gridcolor": "#DFE8F3",
            "gridwidth": 2,
            "linecolor": "#EBF0F8",
            "showbackground": true,
            "ticks": "",
            "zerolinecolor": "#EBF0F8"
           },
           "yaxis": {
            "backgroundcolor": "white",
            "gridcolor": "#DFE8F3",
            "gridwidth": 2,
            "linecolor": "#EBF0F8",
            "showbackground": true,
            "ticks": "",
            "zerolinecolor": "#EBF0F8"
           },
           "zaxis": {
            "backgroundcolor": "white",
            "gridcolor": "#DFE8F3",
            "gridwidth": 2,
            "linecolor": "#EBF0F8",
            "showbackground": true,
            "ticks": "",
            "zerolinecolor": "#EBF0F8"
           }
          },
          "shapedefaults": {
           "line": {
            "color": "#2a3f5f"
           }
          },
          "ternary": {
           "aaxis": {
            "gridcolor": "#DFE8F3",
            "linecolor": "#A2B1C6",
            "ticks": ""
           },
           "baxis": {
            "gridcolor": "#DFE8F3",
            "linecolor": "#A2B1C6",
            "ticks": ""
           },
           "bgcolor": "white",
           "caxis": {
            "gridcolor": "#DFE8F3",
            "linecolor": "#A2B1C6",
            "ticks": ""
           }
          },
          "title": {
           "x": 0.05
          },
          "xaxis": {
           "automargin": true,
           "gridcolor": "#EBF0F8",
           "linecolor": "#EBF0F8",
           "ticks": "",
           "title": {
            "standoff": 15
           },
           "zerolinecolor": "#EBF0F8",
           "zerolinewidth": 2
          },
          "yaxis": {
           "automargin": true,
           "gridcolor": "#EBF0F8",
           "linecolor": "#EBF0F8",
           "ticks": "",
           "title": {
            "standoff": 15
           },
           "zerolinecolor": "#EBF0F8",
           "zerolinewidth": 2
          }
         }
        },
        "title": {
         "text": "Medal Trends for United States by Year"
        },
        "xaxis": {
         "anchor": "y",
         "domain": [
          0,
          1
         ],
         "title": {
          "text": "Year"
         }
        },
        "yaxis": {
         "anchor": "x",
         "domain": [
          0,
          1
         ],
         "title": {
          "text": "Medal Count"
         }
        }
       }
      }
     },
     "metadata": {},
     "output_type": "display_data"
    }
   ],
   "source": [
    "from IPython.display import clear_output\n",
    "\n",
    "# Data Cleaning\n",
    "# Data Cleaning\n",
    "df['Team'] = df['Team'].str.strip()  # Remove extra spaces\n",
    "df_filtered = df[(df['Medal'] != \"No medal\") & (df['Year'].notna()) & (df['Team'].notna())]\n",
    "\n",
    "# Get unique countries for dropdown\n",
    "countries = sorted(df_filtered['Team'].dropna().unique())\n",
    "\n",
    "# Widgets\n",
    "trend_selector = widgets.Dropdown(\n",
    "    options=[\"Overall Medal Trends\", \"Country-Specific Trends\"],\n",
    "    value=\"Country-Specific Trends\",\n",
    "    description=\"Trend Type:\",\n",
    "    layout=widgets.Layout(width='50%')\n",
    ")\n",
    "\n",
    "country_selector = widgets.Dropdown(\n",
    "    options=countries,\n",
    "    description=\"Select Country:\",\n",
    "    layout=widgets.Layout(width='50%')\n",
    ")\n",
    "\n",
    "output = widgets.Output()\n",
    "\n",
    "# Visualization Update Function\n",
    "def update_trends(change):\n",
    "    with output:\n",
    "        clear_output(wait=True)  # Clear previous outputs\n",
    "        if trend_selector.value == \"Country-Specific Trends\":\n",
    "            selected_country = country_selector.value\n",
    "            country_data = df_filtered[df_filtered['Team'] == selected_country]\n",
    "            \n",
    "            if country_data.empty:\n",
    "                print(f\"No data available for {selected_country}.\")\n",
    "                return\n",
    "            \n",
    "            # Group data by Year and Medal\n",
    "            country_grouped = country_data.groupby(['Year', 'Medal']).size().reset_index(name='Count')\n",
    "            \n",
    "            # Create Line Plot\n",
    "            fig = px.line(\n",
    "                country_grouped,\n",
    "                x='Year',\n",
    "                y='Count',\n",
    "                color='Medal',\n",
    "                title=f\"Medal Trends for {selected_country} by Year\",\n",
    "                markers=True\n",
    "            )\n",
    "            fig.update_layout(\n",
    "                xaxis_title=\"Year\",\n",
    "                yaxis_title=\"Medal Count\",\n",
    "                legend_title=\"Medal Type\",\n",
    "                template=\"plotly_white\"\n",
    "            )\n",
    "            fig.show()\n",
    "\n",
    "        elif trend_selector.value == \"Overall Medal Trends\":\n",
    "            overall_grouped = df_filtered.groupby(['Year', 'Medal']).size().reset_index(name='Count')\n",
    "            fig = px.line(\n",
    "                overall_grouped,\n",
    "                x='Year',\n",
    "                y='Count',\n",
    "                color='Medal',\n",
    "                title=\"Overall Medal Trends by Year\",\n",
    "                markers=True\n",
    "            )\n",
    "            fig.update_layout(\n",
    "                xaxis_title=\"Year\",\n",
    "                yaxis_title=\"Medal Count\",\n",
    "                legend_title=\"Medal Type\",\n",
    "                template=\"plotly_white\"\n",
    "            )\n",
    "            fig.show()\n",
    "\n",
    "# Observers\n",
    "trend_selector.observe(update_trends, names='value')\n",
    "country_selector.observe(update_trends, names='value')\n",
    "\n",
    "# Display Widgets\n",
    "display(trend_selector, country_selector, output)"
   ]
  },
  {
   "cell_type": "markdown",
   "metadata": {},
   "source": []
  },
  {
   "cell_type": "code",
   "execution_count": null,
   "metadata": {},
   "outputs": [
    {
     "name": "stdout",
     "output_type": "stream",
     "text": [
      "0          Basketball Men's Basketball\n",
      "1         Judo Men's Extra-Lightweight\n",
      "2              Football Men's Football\n",
      "3          Tug-Of-War Men's Tug-Of-War\n",
      "4         Athletics Women's 100 metres\n",
      "                      ...             \n",
      "252560                    Women's 100m\n",
      "252561          Women's Freestyle 50kg\n",
      "252562            4 x 400m Relay Mixed\n",
      "252563                    Jumping Team\n",
      "252564            Men's 4 x 400m Relay\n",
      "Name: Event, Length: 252565, dtype: object\n"
     ]
    }
   ],
   "source": [
    "import pandas as pd\n",
    "import plotly.express as px\n",
    "import ipywidgets as widgets\n",
    "from IPython.display import display\n",
    "\n",
    "# Load dataset\n",
    "history_path = r\"C:\\Users\\sreev\\Data Visualization\\Olympics 2024\\olympics_dataset_1896-2024.csv\"\n",
    "df = pd.read_csv(history_path)\n"
   ]
  },
  {
   "cell_type": "code",
   "execution_count": 66,
   "metadata": {},
   "outputs": [
    {
     "name": "stdout",
     "output_type": "stream",
     "text": [
      "Distinct Sports: ['Basketball' 'Judo' 'Football' 'Tug-Of-War' 'Athletics' 'Swimming'\n",
      " 'Badminton' 'Sailing' 'Gymnastics' 'Art Competitions' 'Handball'\n",
      " 'Weightlifting' 'Wrestling' 'Water Polo' 'Hockey' 'Rowing' 'Fencing'\n",
      " 'Equestrianism' 'Shooting' 'Boxing' 'Taekwondo' 'Cycling' 'Diving'\n",
      " 'Canoeing' 'Tennis' 'Modern Pentathlon' 'Golf' 'Softball' 'Archery'\n",
      " 'Volleyball' 'Synchronized Swimming' 'Table Tennis' 'Baseball'\n",
      " 'Rhythmic Gymnastics' 'Rugby Sevens' 'Trampolining' 'Beach Volleyball'\n",
      " 'Triathlon' 'Rugby' 'Lacrosse' 'Polo' 'Cricket' 'Ice Hockey' 'Racquets'\n",
      " 'Motorboating' 'Croquet' 'Figure Skating' 'Jeu De Paume' 'Roque'\n",
      " 'Basque Pelota' 'Alpinism' 'Aeronautics' 'Cycling Road'\n",
      " 'Artistic Gymnastics' 'Karate' 'Baseball/Softball'\n",
      " 'Trampoline Gymnastics' 'Marathon Swimming' 'Canoe Slalom' 'Surfing'\n",
      " 'Canoe Sprint' 'Cycling BMX Racing' 'Equestrian' 'Artistic Swimming'\n",
      " 'Cycling Track' 'Skateboarding' 'Cycling Mountain Bike' '3x3 Basketball'\n",
      " 'Cycling BMX Freestyle' 'Sport Climbing' 'Marathon Swimming, Swimming'\n",
      " 'Breaking' 'Cycling Road, Cycling Track'\n",
      " 'Cycling Road, Cycling Mountain Bike' 'Cycling Road, Triathlon'\n",
      " '3x3 Basketball, Basketball']\n",
      "Total distinct sports: 76\n"
     ]
    }
   ],
   "source": [
    "# Get distinct values from the 'sports' column\n",
    "unique_sports = df['Sport'].unique()\n",
    "\n",
    "# Display unique sports\n",
    "print(\"Distinct Sports:\", unique_sports)\n",
    "\n",
    "# Count the number of unique sports\n",
    "print(f\"Total distinct sports: {len(unique_sports)}\")"
   ]
  },
  {
   "cell_type": "code",
   "execution_count": 67,
   "metadata": {},
   "outputs": [],
   "source": [
    "sports_to_category = {\n",
    "    # Ball Games\n",
    "    'Basketball': 'Ball Games',\n",
    "    '3x3 Basketball': 'Ball Games',\n",
    "    'Football': 'Ball Games',\n",
    "    'Handball': 'Ball Games',\n",
    "    'Water Polo': 'Ball Games',\n",
    "    'Volleyball': 'Ball Games',\n",
    "    'Beach Volleyball': 'Ball Games',\n",
    "    'Rugby Sevens': 'Ball Games',\n",
    "    'Rugby': 'Ball Games',\n",
    "    'Lacrosse': 'Ball Games',\n",
    "    'Polo': 'Ball Games',\n",
    "    'Cricket': 'Ball Games',\n",
    "    'Softball': 'Ball Games',\n",
    "    'Baseball': 'Ball Games',\n",
    "    'Baseball/Softball': 'Ball Games',\n",
    "\n",
    "    # Racket Sports\n",
    "    'Badminton': 'Racket Sports',\n",
    "    'Tennis': 'Racket Sports',\n",
    "    'Table Tennis': 'Racket Sports',\n",
    "    'Jeu De Paume': 'Racket Sports',\n",
    "    'Racquets': 'Racket Sports',\n",
    "\n",
    "    # Power Sports\n",
    "    'Weightlifting': 'Power Sports',\n",
    "    'Wrestling': 'Power Sports',\n",
    "\n",
    "    # Speed Sports\n",
    "    'Athletics': 'Speed Sports',\n",
    "    'Swimming': 'Speed Sports',\n",
    "    'Cycling': 'Speed Sports',\n",
    "    'Cycling Road': 'Speed Sports',\n",
    "    'Cycling Track': 'Speed Sports',\n",
    "    'Cycling BMX Racing': 'Speed Sports',\n",
    "    'Cycling BMX Freestyle': 'Speed Sports',\n",
    "    'Cycling Mountain Bike': 'Speed Sports',\n",
    "    'Triathlon': 'Speed Sports',\n",
    "\n",
    "    # Endurance Sports\n",
    "    'Marathon Swimming': 'Endurance Sports',\n",
    "    'Rowing': 'Endurance Sports',\n",
    "    'Canoeing': 'Endurance Sports',\n",
    "    'Canoe Slalom': 'Endurance Sports',\n",
    "    'Canoe Sprint': 'Endurance Sports',\n",
    "\n",
    "    # Combat Sports\n",
    "    'Boxing': 'Combat Sports',\n",
    "    'Judo': 'Combat Sports',\n",
    "    'Taekwondo': 'Combat Sports',\n",
    "    'Karate': 'Combat Sports',\n",
    "\n",
    "    # Artistic Sports\n",
    "    'Gymnastics': 'Artistic Sports',\n",
    "    'Artistic Gymnastics': 'Artistic Sports',\n",
    "    'Rhythmic Gymnastics': 'Artistic Sports',\n",
    "    'Trampolining': 'Artistic Sports',\n",
    "    'Artistic Swimming': 'Artistic Sports',\n",
    "    'Synchronized Swimming': 'Artistic Sports',\n",
    "    'Figure Skating': 'Artistic Sports',\n",
    "\n",
    "    # Precision Sports\n",
    "    'Archery': 'Precision Sports',\n",
    "    'Shooting': 'Precision Sports',\n",
    "    'Golf': 'Precision Sports',\n",
    "\n",
    "    # Aquatic Sports\n",
    "    'Diving': 'Aquatic Sports',\n",
    "    'Surfing': 'Aquatic Sports',\n",
    "\n",
    "    # Equestrian\n",
    "    'Equestrian': 'Equestrian',\n",
    "    'Equestrianism': 'Equestrian',\n",
    "\n",
    "    # Miscellaneous or Other\n",
    "    'Modern Pentathlon': 'Other',\n",
    "    'Tug-Of-War': 'Other',\n",
    "    'Art Competitions': 'Other',\n",
    "    'Motorboating': 'Other',\n",
    "    'Croquet': 'Other',\n",
    "    'Roque': 'Other',\n",
    "    'Basque Pelota': 'Other',\n",
    "    'Aeronautics': 'Other',\n",
    "    'Alpinism': 'Other',\n",
    "    'Breaking': 'Other',\n",
    "    'Skateboarding': 'Other',\n",
    "    'Sport Climbing': 'Other',\n",
    "\n",
    "    # Combined Sports\n",
    "    'Cycling Road, Cycling Track': 'Combined Sports',\n",
    "    'Cycling Road, Cycling Mountain Bike': 'Combined Sports',\n",
    "    'Cycling Road, Triathlon': 'Combined Sports',\n",
    "    '3x3 Basketball, Basketball': 'Combined Sports',\n",
    "    'Marathon Swimming, Swimming': 'Combined Sports'\n",
    "}\n"
   ]
  },
  {
   "cell_type": "code",
   "execution_count": 69,
   "metadata": {},
   "outputs": [
    {
     "name": "stdout",
     "output_type": "stream",
     "text": [
      "                                      Sport         Category\n",
      "0                                Basketball       Ball Games\n",
      "1                                      Judo    Combat Sports\n",
      "2                                  Football       Ball Games\n",
      "3                                Tug-Of-War            Other\n",
      "4                                 Athletics     Speed Sports\n",
      "...                                     ...              ...\n",
      "238336                             Breaking            Other\n",
      "239538          Cycling Road, Cycling Track  Combined Sports\n",
      "241922  Cycling Road, Cycling Mountain Bike  Combined Sports\n",
      "246480              Cycling Road, Triathlon  Combined Sports\n",
      "247411           3x3 Basketball, Basketball  Combined Sports\n",
      "\n",
      "[76 rows x 2 columns]\n",
      "Categorized dataset saved!\n"
     ]
    }
   ],
   "source": [
    "# Apply mapping to categorize sports\n",
    "df['Category'] = df['Sport'].map(sports_to_category).fillna('Uncategorized')\n",
    "\n",
    "# Display unique sports with categories\n",
    "unique_sports_with_categories = df[['Sport', 'Category']].drop_duplicates()\n",
    "print(unique_sports_with_categories)\n",
    "\n",
    "# Save updated dataset\n",
    "df.to_csv(\"categorized_olympics_sports.csv\", index=False)\n",
    "print(\"Categorized dataset saved!\")\n"
   ]
  },
  {
   "cell_type": "code",
   "execution_count": 109,
   "metadata": {},
   "outputs": [
    {
     "data": {
      "text/html": [
       "\n",
       "        <iframe\n",
       "            width=\"100%\"\n",
       "            height=\"650\"\n",
       "            src=\"http://127.0.0.1:8050/\"\n",
       "            frameborder=\"0\"\n",
       "            allowfullscreen\n",
       "            \n",
       "        ></iframe>\n",
       "        "
      ],
      "text/plain": [
       "<IPython.lib.display.IFrame at 0x2c35d55ee10>"
      ]
     },
     "metadata": {},
     "output_type": "display_data"
    }
   ],
   "source": [
    "import pandas as pd\n",
    "import plotly.express as px\n",
    "from dash import Dash, dcc, html, Output, Input\n",
    "\n",
    "# Load the dataset\n",
    "file_path = r\"C:\\Users\\sreev\\Data Visualization\\Olympics 2024\\Paris 2024 Summer Olympic Games Data analysis\\Exported Data\\categorized_olympics_sports.csv\"\n",
    "df = pd.read_csv(file_path)\n",
    "\n",
    "# Initialize Dash app\n",
    "app = Dash(__name__)\n",
    "\n",
    "# Create dropdown options for categories\n",
    "categories = df['Category'].unique()\n",
    "category_options = [{\"label\": category, \"value\": category} for category in sorted(categories)]\n",
    "\n",
    "# App layout\n",
    "app.layout = html.Div([\n",
    "    html.H1(\"Olympics Performance by Category\", style={'textAlign': 'center'}),\n",
    "    \n",
    "    # Dropdown for category selection\n",
    "    dcc.Dropdown(\n",
    "        id='category-dropdown',\n",
    "        options=category_options,\n",
    "        placeholder=\"Select a Category\",\n",
    "        style={'width': '50%', 'margin': 'auto'}\n",
    "    ),\n",
    "    \n",
    "    # Bar chart for top countries\n",
    "    dcc.Graph(id='top-countries-chart'),\n",
    "    \n",
    "    # Insights\n",
    "    html.Div(id='category-insights', style={'textAlign': 'center', 'marginTop': '20px', 'fontSize': '16px'})\n",
    "])\n",
    "\n",
    "@app.callback(\n",
    "    [Output('top-countries-chart', 'figure'),\n",
    "     Output('category-insights', 'children')],\n",
    "    [Input('category-dropdown', 'value')]\n",
    ")\n",
    "def update_visualization(selected_category):\n",
    "    if selected_category:\n",
    "        # Filter data for the selected category\n",
    "        filtered_data = df[df['Category'] == selected_category]\n",
    "\n",
    "        # Aggregate data to get total medals by Team\n",
    "        team_medals = filtered_data.groupby('Team')['Medal'].count().reset_index()\n",
    "        team_medals = team_medals.rename(columns={'Medal': 'Total Medals'})\n",
    "\n",
    "        # Get top 10 teams\n",
    "        top_teams = team_medals.nlargest(10, 'Total Medals')\n",
    "\n",
    "        # Create bar chart\n",
    "        fig = px.bar(\n",
    "            top_teams,\n",
    "            x='Team',\n",
    "            y='Total Medals',\n",
    "            title=f\"Top 10 Teams in {selected_category}\",\n",
    "            text='Total Medals',\n",
    "            color='Total Medals',\n",
    "            color_continuous_scale='Viridis'\n",
    "        )\n",
    "        fig.update_layout(\n",
    "            xaxis_title=\"Team\",\n",
    "            yaxis_title=\"Total Medals\",\n",
    "            xaxis_tickangle=45\n",
    "        )\n",
    "\n",
    "        # Generate insight\n",
    "        top_team = top_teams.iloc[0]['Team']\n",
    "        total_medals = top_teams.iloc[0]['Total Medals']\n",
    "        first_year = filtered_data['Year'].min()\n",
    "        last_year = filtered_data['Year'].max()\n",
    "        insight = (\n",
    "            f\"{top_team} has been the top performer in {selected_category} with {total_medals} medals, \"\n",
    "            f\"excelling from {first_year} to {last_year}.\"\n",
    "        )\n",
    "        \n",
    "        return fig, insight\n",
    "    else:\n",
    "        return {}, \"Select a category to view insights and data.\"\n",
    "\n",
    "\n",
    "# Run the app\n",
    "if __name__ == '__main__':\n",
    "    app.run_server(debug=True)\n"
   ]
  },
  {
   "cell_type": "markdown",
   "metadata": {},
   "source": [
    "**Host Country Dominance**"
   ]
  },
  {
   "cell_type": "code",
   "execution_count": 73,
   "metadata": {},
   "outputs": [
    {
     "name": "stdout",
     "output_type": "stream",
     "text": [
      "Distinct City: ['Barcelona' 'London' 'Antwerpen' 'Paris' 'Los Angeles' 'Helsinki'\n",
      " 'Sydney' 'Atlanta' 'Stockholm' 'Beijing' 'Rio de Janeiro' 'Athina'\n",
      " 'Mexico City' 'Munich' 'Seoul' 'Berlin' 'Melbourne' 'Roma' 'Amsterdam'\n",
      " 'Montreal' 'Moskva' 'Tokyo' 'St. Louis']\n",
      "Total distinct Hosts: 23\n"
     ]
    }
   ],
   "source": [
    "# Get distinct values from the 'sports' column\n",
    "host_city = df['City'].unique()\n",
    "\n",
    "# Display unique sports\n",
    "print(\"Distinct City:\", host_city)\n",
    "\n",
    "# Count the number of unique sports\n",
    "print(f\"Total distinct Hosts: {len(host_city)}\")"
   ]
  },
  {
   "cell_type": "code",
   "execution_count": 106,
   "metadata": {},
   "outputs": [
    {
     "name": "stdout",
     "output_type": "stream",
     "text": [
      "      Year           Team  Medals Won\n",
      "0     1896         Greece         140\n",
      "1     1896        Germany          93\n",
      "2     1896  United States          27\n",
      "3     1896         France          26\n",
      "4     1896  Great Britain          23\n",
      "...    ...            ...         ...\n",
      "4521  2024         Tuvalu           2\n",
      "4522  2024         Belize           1\n",
      "4523  2024  Liechtenstein           1\n",
      "4524  2024          Nauru           1\n",
      "4525  2024        Somalia           1\n",
      "\n",
      "[4526 rows x 3 columns]\n"
     ]
    }
   ],
   "source": [
    "import pandas as pd\n",
    "\n",
    "# Load the Olympics dataset\n",
    "file_path = \"C:/Users/sreev/Data Visualization/Olympics 2024/olympics_dataset_1896-2024.csv\"  # Replace with your dataset path\n",
    "olympics_df = pd.read_csv(file_path)\n",
    "\n",
    "# Filter relevant columns\n",
    "relevant_columns = ['Year', 'Team', 'Medal']\n",
    "filtered_df = olympics_df[relevant_columns]\n",
    "\n",
    "# Count medals by Year and Team\n",
    "medals_by_year_df = (\n",
    "    filtered_df[filtered_df['Medal'].notna()]  # Consider only rows where Medal is not null\n",
    "    .groupby(['Year', 'Team'])\n",
    "    .size()  # Use size to count occurrences\n",
    "    .reset_index(name='Medals Won')  # Rename the count column\n",
    ")\n",
    "\n",
    "# Sort values by Year and Medals Won\n",
    "medals_by_year_df = medals_by_year_df.sort_values(by=['Year', 'Medals Won'], ascending=[True, False]).reset_index(drop=True)\n",
    "\n",
    "# Display the resulting DataFrame\n",
    "print(medals_by_year_df)\n",
    "\n",
    "# Optionally, save to a CSV file\n",
    "medals_by_year_df.to_csv('medals_by_year.csv', index=False)\n"
   ]
  },
  {
   "cell_type": "code",
   "execution_count": 108,
   "metadata": {},
   "outputs": [
    {
     "data": {
      "text/html": [
       "<div>\n",
       "<style scoped>\n",
       "    .dataframe tbody tr th:only-of-type {\n",
       "        vertical-align: middle;\n",
       "    }\n",
       "\n",
       "    .dataframe tbody tr th {\n",
       "        vertical-align: top;\n",
       "    }\n",
       "\n",
       "    .dataframe thead th {\n",
       "        text-align: right;\n",
       "    }\n",
       "</style>\n",
       "<table border=\"1\" class=\"dataframe\">\n",
       "  <thead>\n",
       "    <tr style=\"text-align: right;\">\n",
       "      <th></th>\n",
       "      <th>Year</th>\n",
       "      <th>Team</th>\n",
       "      <th>Medals Won</th>\n",
       "    </tr>\n",
       "  </thead>\n",
       "  <tbody>\n",
       "    <tr>\n",
       "      <th>4320</th>\n",
       "      <td>2024</td>\n",
       "      <td>United States</td>\n",
       "      <td>854</td>\n",
       "    </tr>\n",
       "  </tbody>\n",
       "</table>\n",
       "</div>"
      ],
      "text/plain": [
       "      Year           Team  Medals Won\n",
       "4320  2024  United States         854"
      ]
     },
     "execution_count": 108,
     "metadata": {},
     "output_type": "execute_result"
    }
   ],
   "source": [
    "medals_by_year_df[(medals_by_year_df['Year']==2024)& (medals_by_year_df['Team']=='United States')]"
   ]
  },
  {
   "cell_type": "code",
   "execution_count": null,
   "metadata": {},
   "outputs": [
    {
     "data": {
      "text/html": [
       "<div>\n",
       "<style scoped>\n",
       "    .dataframe tbody tr th:only-of-type {\n",
       "        vertical-align: middle;\n",
       "    }\n",
       "\n",
       "    .dataframe tbody tr th {\n",
       "        vertical-align: top;\n",
       "    }\n",
       "\n",
       "    .dataframe thead th {\n",
       "        text-align: right;\n",
       "    }\n",
       "</style>\n",
       "<table border=\"1\" class=\"dataframe\">\n",
       "  <thead>\n",
       "    <tr style=\"text-align: right;\">\n",
       "      <th></th>\n",
       "      <th>player_id</th>\n",
       "      <th>Name</th>\n",
       "      <th>Sex</th>\n",
       "      <th>Team</th>\n",
       "      <th>NOC</th>\n",
       "      <th>Year</th>\n",
       "      <th>Season</th>\n",
       "      <th>City</th>\n",
       "      <th>Sport</th>\n",
       "      <th>Event</th>\n",
       "      <th>Medal</th>\n",
       "      <th>Host_Country</th>\n",
       "    </tr>\n",
       "  </thead>\n",
       "  <tbody>\n",
       "    <tr>\n",
       "      <th>0</th>\n",
       "      <td>0</td>\n",
       "      <td>A Dijiang</td>\n",
       "      <td>M</td>\n",
       "      <td>China</td>\n",
       "      <td>CHN</td>\n",
       "      <td>1992</td>\n",
       "      <td>Summer</td>\n",
       "      <td>Barcelona</td>\n",
       "      <td>Basketball</td>\n",
       "      <td>Basketball Men's Basketball</td>\n",
       "      <td>No medal</td>\n",
       "      <td>Spain</td>\n",
       "    </tr>\n",
       "    <tr>\n",
       "      <th>1</th>\n",
       "      <td>1</td>\n",
       "      <td>A Lamusi</td>\n",
       "      <td>M</td>\n",
       "      <td>China</td>\n",
       "      <td>CHN</td>\n",
       "      <td>2012</td>\n",
       "      <td>Summer</td>\n",
       "      <td>London</td>\n",
       "      <td>Judo</td>\n",
       "      <td>Judo Men's Extra-Lightweight</td>\n",
       "      <td>No medal</td>\n",
       "      <td>United Kingdom</td>\n",
       "    </tr>\n",
       "    <tr>\n",
       "      <th>2</th>\n",
       "      <td>2</td>\n",
       "      <td>Gunnar Aaby</td>\n",
       "      <td>M</td>\n",
       "      <td>Denmark</td>\n",
       "      <td>DEN</td>\n",
       "      <td>1920</td>\n",
       "      <td>Summer</td>\n",
       "      <td>Antwerpen</td>\n",
       "      <td>Football</td>\n",
       "      <td>Football Men's Football</td>\n",
       "      <td>No medal</td>\n",
       "      <td>Belgium</td>\n",
       "    </tr>\n",
       "    <tr>\n",
       "      <th>3</th>\n",
       "      <td>3</td>\n",
       "      <td>Edgar Aabye</td>\n",
       "      <td>M</td>\n",
       "      <td>Denmark/Sweden</td>\n",
       "      <td>DEN</td>\n",
       "      <td>1900</td>\n",
       "      <td>Summer</td>\n",
       "      <td>Paris</td>\n",
       "      <td>Tug-Of-War</td>\n",
       "      <td>Tug-Of-War Men's Tug-Of-War</td>\n",
       "      <td>Gold</td>\n",
       "      <td>France</td>\n",
       "    </tr>\n",
       "    <tr>\n",
       "      <th>4</th>\n",
       "      <td>26</td>\n",
       "      <td>Cornelia (-strannood)</td>\n",
       "      <td>F</td>\n",
       "      <td>Netherlands</td>\n",
       "      <td>NED</td>\n",
       "      <td>1932</td>\n",
       "      <td>Summer</td>\n",
       "      <td>Los Angeles</td>\n",
       "      <td>Athletics</td>\n",
       "      <td>Athletics Women's 100 metres</td>\n",
       "      <td>No medal</td>\n",
       "      <td>United States</td>\n",
       "    </tr>\n",
       "    <tr>\n",
       "      <th>...</th>\n",
       "      <td>...</td>\n",
       "      <td>...</td>\n",
       "      <td>...</td>\n",
       "      <td>...</td>\n",
       "      <td>...</td>\n",
       "      <td>...</td>\n",
       "      <td>...</td>\n",
       "      <td>...</td>\n",
       "      <td>...</td>\n",
       "      <td>...</td>\n",
       "      <td>...</td>\n",
       "      <td>...</td>\n",
       "    </tr>\n",
       "    <tr>\n",
       "      <th>252560</th>\n",
       "      <td>4986655</td>\n",
       "      <td>Sefora Ada</td>\n",
       "      <td>F</td>\n",
       "      <td>Equatorial Guinea</td>\n",
       "      <td>GEQ</td>\n",
       "      <td>2024</td>\n",
       "      <td>Summer</td>\n",
       "      <td>Paris</td>\n",
       "      <td>Athletics</td>\n",
       "      <td>Women's 100m</td>\n",
       "      <td>No medal</td>\n",
       "      <td>France</td>\n",
       "    </tr>\n",
       "    <tr>\n",
       "      <th>252561</th>\n",
       "      <td>9460001</td>\n",
       "      <td>Emanuela Liuzzi</td>\n",
       "      <td>F</td>\n",
       "      <td>Italy</td>\n",
       "      <td>ITA</td>\n",
       "      <td>2024</td>\n",
       "      <td>Summer</td>\n",
       "      <td>Paris</td>\n",
       "      <td>Wrestling</td>\n",
       "      <td>Women's Freestyle 50kg</td>\n",
       "      <td>No medal</td>\n",
       "      <td>France</td>\n",
       "    </tr>\n",
       "    <tr>\n",
       "      <th>252562</th>\n",
       "      <td>1972077</td>\n",
       "      <td>Isayah Boers</td>\n",
       "      <td>M</td>\n",
       "      <td>Netherlands</td>\n",
       "      <td>NED</td>\n",
       "      <td>2024</td>\n",
       "      <td>Summer</td>\n",
       "      <td>Paris</td>\n",
       "      <td>Athletics</td>\n",
       "      <td>4 x 400m Relay Mixed</td>\n",
       "      <td>Gold</td>\n",
       "      <td>France</td>\n",
       "    </tr>\n",
       "    <tr>\n",
       "      <th>252563</th>\n",
       "      <td>1899865</td>\n",
       "      <td>Kevin Staut</td>\n",
       "      <td>M</td>\n",
       "      <td>France</td>\n",
       "      <td>FRA</td>\n",
       "      <td>2024</td>\n",
       "      <td>Summer</td>\n",
       "      <td>Paris</td>\n",
       "      <td>Equestrian</td>\n",
       "      <td>Jumping Team</td>\n",
       "      <td>Bronze</td>\n",
       "      <td>France</td>\n",
       "    </tr>\n",
       "    <tr>\n",
       "      <th>252564</th>\n",
       "      <td>1924402</td>\n",
       "      <td>Charlie Carvell</td>\n",
       "      <td>M</td>\n",
       "      <td>Great Britain</td>\n",
       "      <td>GBR</td>\n",
       "      <td>2024</td>\n",
       "      <td>Summer</td>\n",
       "      <td>Paris</td>\n",
       "      <td>Athletics</td>\n",
       "      <td>Men's 4 x 400m Relay</td>\n",
       "      <td>Bronze</td>\n",
       "      <td>France</td>\n",
       "    </tr>\n",
       "  </tbody>\n",
       "</table>\n",
       "<p>252565 rows × 12 columns</p>\n",
       "</div>"
      ],
      "text/plain": [
       "        player_id                   Name Sex               Team  NOC  Year  \\\n",
       "0               0              A Dijiang   M              China  CHN  1992   \n",
       "1               1               A Lamusi   M              China  CHN  2012   \n",
       "2               2            Gunnar Aaby   M            Denmark  DEN  1920   \n",
       "3               3            Edgar Aabye   M     Denmark/Sweden  DEN  1900   \n",
       "4              26  Cornelia (-strannood)   F        Netherlands  NED  1932   \n",
       "...           ...                    ...  ..                ...  ...   ...   \n",
       "252560    4986655             Sefora Ada   F  Equatorial Guinea  GEQ  2024   \n",
       "252561    9460001        Emanuela Liuzzi   F              Italy  ITA  2024   \n",
       "252562    1972077           Isayah Boers   M        Netherlands  NED  2024   \n",
       "252563    1899865            Kevin Staut   M             France  FRA  2024   \n",
       "252564    1924402        Charlie Carvell   M      Great Britain  GBR  2024   \n",
       "\n",
       "        Season         City       Sport                         Event  \\\n",
       "0       Summer    Barcelona  Basketball   Basketball Men's Basketball   \n",
       "1       Summer       London        Judo  Judo Men's Extra-Lightweight   \n",
       "2       Summer    Antwerpen    Football       Football Men's Football   \n",
       "3       Summer        Paris  Tug-Of-War   Tug-Of-War Men's Tug-Of-War   \n",
       "4       Summer  Los Angeles   Athletics  Athletics Women's 100 metres   \n",
       "...        ...          ...         ...                           ...   \n",
       "252560  Summer        Paris   Athletics                  Women's 100m   \n",
       "252561  Summer        Paris   Wrestling        Women's Freestyle 50kg   \n",
       "252562  Summer        Paris   Athletics          4 x 400m Relay Mixed   \n",
       "252563  Summer        Paris  Equestrian                  Jumping Team   \n",
       "252564  Summer        Paris   Athletics          Men's 4 x 400m Relay   \n",
       "\n",
       "           Medal    Host_Country  \n",
       "0       No medal           Spain  \n",
       "1       No medal  United Kingdom  \n",
       "2       No medal         Belgium  \n",
       "3           Gold          France  \n",
       "4       No medal   United States  \n",
       "...          ...             ...  \n",
       "252560  No medal          France  \n",
       "252561  No medal          France  \n",
       "252562      Gold          France  \n",
       "252563    Bronze          France  \n",
       "252564    Bronze          France  \n",
       "\n",
       "[252565 rows x 12 columns]"
      ]
     },
     "execution_count": 90,
     "metadata": {},
     "output_type": "execute_result"
    }
   ],
   "source": [
    "# Load dataset\n",
    "file_path = r\"C:\\Users\\sreev\\Data Visualization\\Olympics 2024\\olympics_dataset_1896-2024.csv\"\n",
    "df = pd.read_csv(file_path)\n",
    "\n",
    "# Host city to country mapping\n",
    "host_city_country_mapping = {\n",
    "    'Barcelona': 'Spain',\n",
    "    'London': 'United Kingdom',\n",
    "    'Antwerpen': 'Belgium',\n",
    "    'Paris': 'France',\n",
    "    'Los Angeles': 'United States',\n",
    "    'Helsinki': 'Finland',\n",
    "    'Sydney': 'Australia',\n",
    "    'Atlanta': 'United States',\n",
    "    'Stockholm': 'Sweden',\n",
    "    'Beijing': 'China',\n",
    "    'Rio de Janeiro': 'Brazil',\n",
    "    'Athina': 'Greece',\n",
    "    'Mexico City': 'Mexico',\n",
    "    'Munich': 'Germany',\n",
    "    'Seoul': 'South Korea',\n",
    "    'Berlin': 'Germany',\n",
    "    'Melbourne': 'Australia',\n",
    "    'Roma': 'Italy',\n",
    "    'Amsterdam': 'Netherlands',\n",
    "    'Montreal': 'Canada',\n",
    "    'Moskva': 'Russia',\n",
    "    'Tokyo': 'Japan',\n",
    "    'St. Louis': 'United States'\n",
    "}\n",
    "\n",
    "# Add host country column\n",
    "df['Host_Country'] = df['City'].map(host_city_country_mapping)\n",
    "\n"
   ]
  },
  {
   "cell_type": "code",
   "execution_count": 95,
   "metadata": {},
   "outputs": [
    {
     "name": "stdout",
     "output_type": "stream",
     "text": [
      "      Year           Team  Medals Won Host_Country\n",
      "0     1896         Greece         140       Greece\n",
      "1     1896        Germany          93       Greece\n",
      "2     1896  United States          27       Greece\n",
      "3     1896         France          26       Greece\n",
      "4     1896  Great Britain          23       Greece\n",
      "...    ...            ...         ...          ...\n",
      "4643  2024         Tuvalu           2       France\n",
      "4644  2024         Belize           1       France\n",
      "4645  2024  Liechtenstein           1       France\n",
      "4646  2024          Nauru           1       France\n",
      "4647  2024        Somalia           1       France\n",
      "\n",
      "[4648 rows x 4 columns]\n"
     ]
    }
   ],
   "source": [
    "# Merging the dataframes\n",
    "merged_df = pd.merge(\n",
    "    medals_by_year_df,  # The medals by team and year dataframe\n",
    "    df[['Year', 'City', 'Host_Country']].drop_duplicates(),  # Extracting unique Year-City-Host Country mapping\n",
    "    on='Year',\n",
    "    how='left'\n",
    ")\n",
    "\n",
    "# Rearranging columns for clarity\n",
    "merged_df = merged_df[['Year', 'Team', 'Medals Won', 'Host_Country']]\n",
    "\n",
    "# Display the merged dataframe\n",
    "print(merged_df)\n",
    "\n",
    "# Optionally, save to a CSV file\n",
    "merged_df.to_csv('medals_with_host_country.csv', index=False)"
   ]
  },
  {
   "cell_type": "code",
   "execution_count": 105,
   "metadata": {},
   "outputs": [
    {
     "data": {
      "text/html": [
       "<div>\n",
       "<style scoped>\n",
       "    .dataframe tbody tr th:only-of-type {\n",
       "        vertical-align: middle;\n",
       "    }\n",
       "\n",
       "    .dataframe tbody tr th {\n",
       "        vertical-align: top;\n",
       "    }\n",
       "\n",
       "    .dataframe thead th {\n",
       "        text-align: right;\n",
       "    }\n",
       "</style>\n",
       "<table border=\"1\" class=\"dataframe\">\n",
       "  <thead>\n",
       "    <tr style=\"text-align: right;\">\n",
       "      <th></th>\n",
       "      <th>Year</th>\n",
       "      <th>Team</th>\n",
       "      <th>Medals Won</th>\n",
       "      <th>Host_Country</th>\n",
       "    </tr>\n",
       "  </thead>\n",
       "  <tbody>\n",
       "    <tr>\n",
       "      <th>4442</th>\n",
       "      <td>2024</td>\n",
       "      <td>United States</td>\n",
       "      <td>854</td>\n",
       "      <td>France</td>\n",
       "    </tr>\n",
       "  </tbody>\n",
       "</table>\n",
       "</div>"
      ],
      "text/plain": [
       "      Year           Team  Medals Won Host_Country\n",
       "4442  2024  United States         854       France"
      ]
     },
     "execution_count": 105,
     "metadata": {},
     "output_type": "execute_result"
    }
   ],
   "source": [
    "merged_df[(merged_df[\"Year\"]==2024)&(merged_df['Team']=='United States')]"
   ]
  },
  {
   "cell_type": "code",
   "execution_count": 103,
   "metadata": {},
   "outputs": [
    {
     "name": "stdout",
     "output_type": "stream",
     "text": [
      "    Year   Host_Country  Total_Medals\n",
      "0   1896         Greece           140\n",
      "1   1900         France           679\n",
      "2   1904  United States           823\n",
      "3   1906         Greece           318\n",
      "4   1912         Sweden           614\n",
      "5   1920        Belgium           488\n",
      "6   1924         France           620\n",
      "7   1928    Netherlands           373\n",
      "8   1932  United States           724\n",
      "9   1936        Germany           567\n",
      "10  1952        Finland           399\n",
      "11  1956      Australia           402\n",
      "12  1956         Sweden           180\n",
      "13  1960          Italy           392\n",
      "14  1964          Japan           446\n",
      "15  1968         Mexico           446\n",
      "16  1976         Canada           531\n",
      "17  1984  United States           693\n",
      "18  1988    South Korea           547\n",
      "19  1992          Spain           537\n",
      "20  1996  United States           827\n",
      "21  2000      Australia           762\n",
      "22  2004         Greece           495\n",
      "23  2008          China           708\n",
      "24  2016         Brazil           571\n",
      "25  2020          Japan           787\n",
      "26  2024         France           801\n"
     ]
    }
   ],
   "source": [
    "# Filter rows where the Team matches the Host_Country\n",
    "host_country_medals_df = merged_df[merged_df['Team'] == merged_df['Host_Country']][['Year', 'Host_Country', 'Medals Won']].copy()\n",
    "\n",
    "# Drop duplicates to ensure only unique year and host country medal counts are included\n",
    "host_country_medals_df = host_country_medals_df.drop_duplicates(subset=['Year', 'Host_Country'])\n",
    "\n",
    "# Rename columns for clarity\n",
    "host_country_medals_df.rename(columns={'Medals Won': 'Total_Medals'}, inplace=True)\n",
    "\n",
    "# Sort by Year for better readability\n",
    "host_country_medals_df = host_country_medals_df.sort_values(by='Year').reset_index(drop=True)\n",
    "\n",
    "# Display the resulting dataframe\n",
    "print(host_country_medals_df)\n",
    "\n",
    "# Optionally, save to a CSV file\n",
    "host_country_medals_df.to_csv('host_country_medals_by_year.csv', index=False)\n"
   ]
  },
  {
   "cell_type": "code",
   "execution_count": 74,
   "metadata": {},
   "outputs": [
    {
     "data": {
      "text/html": [
       "\n",
       "        <iframe\n",
       "            width=\"100%\"\n",
       "            height=\"650\"\n",
       "            src=\"http://127.0.0.1:8050/\"\n",
       "            frameborder=\"0\"\n",
       "            allowfullscreen\n",
       "            \n",
       "        ></iframe>\n",
       "        "
      ],
      "text/plain": [
       "<IPython.lib.display.IFrame at 0x2c35e53f850>"
      ]
     },
     "metadata": {},
     "output_type": "display_data"
    }
   ],
   "source": [
    "import pandas as pd\n",
    "import plotly.express as px\n",
    "import dash\n",
    "from dash import dcc, html, dash_table\n",
    "from dash.dependencies import Input, Output\n",
    "\n",
    "# Load dataset\n",
    "file_path = r\"C:\\Users\\sreev\\Data Visualization\\Olympics 2024\\olympics_dataset_1896-2024.csv\"\n",
    "df = pd.read_csv(file_path)\n",
    "\n",
    "# Host city to country mapping\n",
    "host_city_country_mapping = {\n",
    "    'Barcelona': 'Spain',\n",
    "    'London': 'United Kingdom',\n",
    "    'Antwerpen': 'Belgium',\n",
    "    'Paris': 'France',\n",
    "    'Los Angeles': 'United States',\n",
    "    'Helsinki': 'Finland',\n",
    "    'Sydney': 'Australia',\n",
    "    'Atlanta': 'United States',\n",
    "    'Stockholm': 'Sweden',\n",
    "    'Beijing': 'China',\n",
    "    'Rio de Janeiro': 'Brazil',\n",
    "    'Athina': 'Greece',\n",
    "    'Mexico City': 'Mexico',\n",
    "    'Munich': 'Germany',\n",
    "    'Seoul': 'South Korea',\n",
    "    'Berlin': 'Germany',\n",
    "    'Melbourne': 'Australia',\n",
    "    'Roma': 'Italy',\n",
    "    'Amsterdam': 'Netherlands',\n",
    "    'Montreal': 'Canada',\n",
    "    'Moskva': 'Russia',\n",
    "    'Tokyo': 'Japan',\n",
    "    'St. Louis': 'United States'\n",
    "}\n",
    "\n",
    "# Add host country column\n",
    "df['Host_Country'] = df['City'].map(host_city_country_mapping)\n",
    "\n",
    "# Filter rows where the country is the host\n",
    "host_performance = df[df['Host_Country'] == df['Team']]\n",
    "\n",
    "# Aggregate medal counts for each host country\n",
    "host_analysis = host_performance.groupby(['Host_Country', 'Year']).agg(\n",
    "    Gold_Medals=('Medal', lambda x: (x == 'Gold').sum()),\n",
    "    Silver_Medals=('Medal', lambda x: (x == 'Silver').sum()),\n",
    "    Bronze_Medals=('Medal', lambda x: (x == 'Bronze').sum()),\n",
    "    Total_Medals=('Medal', 'count')\n",
    ").reset_index()\n",
    "\n",
    "# Initialize Dash app\n",
    "app = dash.Dash(__name__)\n",
    "\n",
    "# Layout\n",
    "app.layout = html.Div([\n",
    "    html.H1(\"Host Country Medal Performance\", style={'textAlign': 'center'}),\n",
    "    dcc.Dropdown(\n",
    "        id='host-country-dropdown',\n",
    "        options=[{'label': country, 'value': country} for country in host_analysis['Host_Country'].unique()],\n",
    "        placeholder=\"Select Host Country\",\n",
    "        style={'width': '50%', 'margin': 'auto'}\n",
    "    ),\n",
    "    html.Div(id='host-country-table')\n",
    "])\n",
    "\n",
    "# Callback to update table based on selected host country\n",
    "@app.callback(\n",
    "    Output('host-country-table', 'children'),\n",
    "    [Input('host-country-dropdown', 'value')]\n",
    ")\n",
    "def update_table(selected_country):\n",
    "    if selected_country:\n",
    "        filtered_data = host_analysis[host_analysis['Host_Country'] == selected_country]\n",
    "        table = dash_table.DataTable(\n",
    "            id='host-country-performance-table',\n",
    "            columns=[\n",
    "                {\"name\": \"Year\", \"id\": \"Year\"},\n",
    "                {\"name\": \"Gold Medals\", \"id\": \"Gold_Medals\"},\n",
    "                {\"name\": \"Silver Medals\", \"id\": \"Silver_Medals\"},\n",
    "                {\"name\": \"Bronze Medals\", \"id\": \"Bronze_Medals\"},\n",
    "                {\"name\": \"Total Medals\", \"id\": \"Total_Medals\"}\n",
    "            ],\n",
    "            data=filtered_data.to_dict('records'),\n",
    "            style_table={'overflowX': 'auto'},\n",
    "            style_cell={'textAlign': 'left', 'padding': '5px'},\n",
    "            style_header={'backgroundColor': 'rgb(230, 230, 230)', 'fontWeight': 'bold'},\n",
    "            page_size=10,\n",
    "            filter_action=\"native\",\n",
    "            sort_action=\"native\"\n",
    "        )\n",
    "        return table\n",
    "    return html.Div(\"Select a host country to see the data.\", style={'textAlign': 'center', 'marginTop': '20px'})\n",
    "\n",
    "# Run the app\n",
    "if __name__ == '__main__':\n",
    "    app.run_server(debug=True, port=8050)\n"
   ]
  },
  {
   "cell_type": "code",
   "execution_count": 75,
   "metadata": {},
   "outputs": [
    {
     "data": {
      "text/html": [
       "\n",
       "        <iframe\n",
       "            width=\"100%\"\n",
       "            height=\"650\"\n",
       "            src=\"http://127.0.0.1:8050/\"\n",
       "            frameborder=\"0\"\n",
       "            allowfullscreen\n",
       "            \n",
       "        ></iframe>\n",
       "        "
      ],
      "text/plain": [
       "<IPython.lib.display.IFrame at 0x2c358944490>"
      ]
     },
     "metadata": {},
     "output_type": "display_data"
    }
   ],
   "source": [
    "import pandas as pd\n",
    "import plotly.express as px\n",
    "import dash\n",
    "from dash import dcc, html\n",
    "from dash.dependencies import Input, Output\n",
    "\n",
    "# Load the dataset\n",
    "file_path = r\"C:\\Users\\sreev\\Data Visualization\\Olympics 2024\\olympics_dataset_1896-2024.csv\"\n",
    "df = pd.read_csv(file_path)\n",
    "\n",
    "# Map cities to host countries\n",
    "host_country_map = {\n",
    "    \"Barcelona\": \"Spain\", \"London\": \"United Kingdom\", \"Antwerpen\": \"Belgium\",\n",
    "    \"Paris\": \"France\", \"Los Angeles\": \"United States\", \"Helsinki\": \"Finland\",\n",
    "    \"Sydney\": \"Australia\", \"Atlanta\": \"United States\", \"Stockholm\": \"Sweden\",\n",
    "    \"Beijing\": \"China\", \"Rio de Janeiro\": \"Brazil\", \"Athina\": \"Greece\",\n",
    "    \"Mexico City\": \"Mexico\", \"Munich\": \"Germany\", \"Seoul\": \"South Korea\",\n",
    "    \"Berlin\": \"Germany\", \"Melbourne\": \"Australia\", \"Roma\": \"Italy\",\n",
    "    \"Amsterdam\": \"Netherlands\", \"Montreal\": \"Canada\", \"Moskva\": \"Russia\",\n",
    "    \"Tokyo\": \"Japan\", \"St. Louis\": \"United States\"\n",
    "}\n",
    "\n",
    "# Add host country column\n",
    "df['Host_Country'] = df['City'].map(host_country_map)\n",
    "\n",
    "# Filter for host country medals\n",
    "host_analysis = df[df['Team'] == df['Host_Country']].groupby(['Year', 'Host_Country']).agg(\n",
    "    Total_Medals=('Medal', 'count'),\n",
    "    Gold_Medals=('Medal', lambda x: (x == 'Gold').sum()),\n",
    "    Silver_Medals=('Medal', lambda x: (x == 'Silver').sum()),\n",
    "    Bronze_Medals=('Medal', lambda x: (x == 'Bronze').sum())\n",
    ").reset_index()\n",
    "\n",
    "# Initialize Dash app\n",
    "app = dash.Dash(__name__)\n",
    "\n",
    "app.layout = html.Div([\n",
    "    html.H1(\"Host Country Performance Analysis\", style={'textAlign': 'center'}),\n",
    "    \n",
    "    dcc.Graph(id='host-performance-chart'),\n",
    "    \n",
    "    dcc.Dropdown(\n",
    "        id='host-country-dropdown',\n",
    "        options=[{\"label\": country, \"value\": country} for country in host_analysis['Host_Country'].unique()],\n",
    "        placeholder=\"Select a Host Country\",\n",
    "        style={'width': '50%', 'margin': 'auto'}\n",
    "    )\n",
    "])\n",
    "\n",
    "@app.callback(\n",
    "    Output('host-performance-chart', 'figure'),\n",
    "    [Input('host-country-dropdown', 'value')]\n",
    ")\n",
    "def update_chart(selected_country):\n",
    "    if selected_country:\n",
    "        filtered_data = host_analysis[host_analysis['Host_Country'] == selected_country]\n",
    "        fig = px.bar(\n",
    "            filtered_data,\n",
    "            x='Year',\n",
    "            y=['Gold_Medals', 'Silver_Medals', 'Bronze_Medals', 'Total_Medals'],\n",
    "            title=f\"Medal Performance for {selected_country} as Host\",\n",
    "            labels={'value': 'Number of Medals', 'variable': 'Medal Type'},\n",
    "            barmode='group',\n",
    "            text_auto=True\n",
    "        )\n",
    "        fig.update_layout(\n",
    "            xaxis_title=\"Year\",\n",
    "            yaxis_title=\"Number of Medals\",\n",
    "            legend_title=\"Medal Type\"\n",
    "        )\n",
    "        return fig\n",
    "    return px.bar(title=\"Select a host country to see its performance.\")\n",
    "\n",
    "if __name__ == '__main__':\n",
    "    app.run_server(debug=True)\n"
   ]
  },
  {
   "cell_type": "code",
   "execution_count": 76,
   "metadata": {},
   "outputs": [
    {
     "data": {
      "text/html": [
       "\n",
       "        <iframe\n",
       "            width=\"100%\"\n",
       "            height=\"650\"\n",
       "            src=\"http://127.0.0.1:8050/\"\n",
       "            frameborder=\"0\"\n",
       "            allowfullscreen\n",
       "            \n",
       "        ></iframe>\n",
       "        "
      ],
      "text/plain": [
       "<IPython.lib.display.IFrame at 0x2c35d79e450>"
      ]
     },
     "metadata": {},
     "output_type": "display_data"
    }
   ],
   "source": [
    "import pandas as pd\n",
    "import plotly.express as px\n",
    "import dash\n",
    "from dash import dcc, html\n",
    "from dash.dependencies import Input, Output\n",
    "\n",
    "# Load the dataset\n",
    "file_path = r\"C:\\Users\\sreev\\Data Visualization\\Olympics 2024\\olympics_dataset_1896-2024.csv\"\n",
    "df = pd.read_csv(file_path)\n",
    "\n",
    "# Map cities to host countries\n",
    "host_country_map = {\n",
    "    \"Barcelona\": \"Spain\", \"London\": \"United Kingdom\", \"Antwerpen\": \"Belgium\",\n",
    "    \"Paris\": \"France\", \"Los Angeles\": \"United States\", \"Helsinki\": \"Finland\",\n",
    "    \"Sydney\": \"Australia\", \"Atlanta\": \"United States\", \"Stockholm\": \"Sweden\",\n",
    "    \"Beijing\": \"China\", \"Rio de Janeiro\": \"Brazil\", \"Athina\": \"Greece\",\n",
    "    \"Mexico City\": \"Mexico\", \"Munich\": \"Germany\", \"Seoul\": \"South Korea\",\n",
    "    \"Berlin\": \"Germany\", \"Melbourne\": \"Australia\", \"Roma\": \"Italy\",\n",
    "    \"Amsterdam\": \"Netherlands\", \"Montreal\": \"Canada\", \"Moskva\": \"Russia\",\n",
    "    \"Tokyo\": \"Japan\", \"St. Louis\": \"United States\"\n",
    "}\n",
    "\n",
    "# Add host country column\n",
    "df['Host_Country'] = df['City'].map(host_country_map)\n",
    "\n",
    "# Aggregate medal counts by year and country\n",
    "country_year_medals = df.groupby(['Year', 'Team']).agg(\n",
    "    Total_Medals=('Medal', 'count'),\n",
    "    Gold_Medals=('Medal', lambda x: (x == 'Gold').sum()),\n",
    "    Silver_Medals=('Medal', lambda x: (x == 'Silver').sum()),\n",
    "    Bronze_Medals=('Medal', lambda x: (x == 'Bronze').sum())\n",
    ").reset_index()\n",
    "\n",
    "# Get best-performing country for each year\n",
    "best_countries = country_year_medals.loc[\n",
    "    country_year_medals.groupby('Year')['Total_Medals'].idxmax()\n",
    "].rename(columns={\n",
    "    'Team': 'Best_Country',\n",
    "    'Total_Medals': 'Best_Country_Medals'\n",
    "})[['Year', 'Best_Country', 'Best_Country_Medals']]\n",
    "\n",
    "# Merge host country data with best-performing country data\n",
    "host_comparison = df[df['Team'] == df['Host_Country']].groupby(['Year', 'Host_Country']).agg(\n",
    "    Host_Total_Medals=('Medal', 'count')\n",
    ").reset_index()\n",
    "\n",
    "host_vs_best = pd.merge(\n",
    "    host_comparison, best_countries, on='Year', how='inner'\n",
    ")\n",
    "\n",
    "# Initialize Dash app\n",
    "app = dash.Dash(__name__)\n",
    "\n",
    "app.layout = html.Div([\n",
    "    html.H1(\"Host Country vs Best-Performing Country Analysis\", style={'textAlign': 'center'}),\n",
    "    \n",
    "    dcc.Graph(id='host-vs-best-chart'),\n",
    "    \n",
    "    dcc.Dropdown(\n",
    "        id='year-dropdown',\n",
    "        options=[{\"label\": year, \"value\": year} for year in host_vs_best['Year'].unique()],\n",
    "        placeholder=\"Select a Year\",\n",
    "        style={'width': '50%', 'margin': 'auto'}\n",
    "    )\n",
    "])\n",
    "\n",
    "@app.callback(\n",
    "    Output('host-vs-best-chart', 'figure'),\n",
    "    [Input('year-dropdown', 'value')]\n",
    ")\n",
    "def update_chart(selected_year):\n",
    "    if selected_year:\n",
    "        filtered_data = host_vs_best[host_vs_best['Year'] == selected_year]\n",
    "        fig = px.bar(\n",
    "            filtered_data.melt(\n",
    "                id_vars=['Year', 'Host_Country', 'Best_Country'],\n",
    "                value_vars=['Host_Total_Medals', 'Best_Country_Medals'],\n",
    "                var_name='Category', value_name='Medals'\n",
    "            ),\n",
    "            x='Category',\n",
    "            y='Medals',\n",
    "            color='Category',\n",
    "            text='Medals',\n",
    "            title=f\"Comparison of Host ({filtered_data.iloc[0]['Host_Country']}) vs Best-Performing Country ({filtered_data.iloc[0]['Best_Country']}) in {selected_year}\",\n",
    "            labels={'Category': 'Country Role', 'Medals': 'Number of Medals'}\n",
    "        )\n",
    "        fig.update_layout(\n",
    "            xaxis_title=\"Country Role\",\n",
    "            yaxis_title=\"Number of Medals\",\n",
    "            legend_title=\"Role\",\n",
    "            showlegend=False\n",
    "        )\n",
    "        return fig\n",
    "    return px.bar(title=\"Select a year to see comparison.\")\n",
    "\n",
    "if __name__ == '__main__':\n",
    "    app.run_server(debug=True)\n"
   ]
  },
  {
   "cell_type": "code",
   "execution_count": 78,
   "metadata": {},
   "outputs": [
    {
     "data": {
      "text/html": [
       "\n",
       "        <iframe\n",
       "            width=\"100%\"\n",
       "            height=\"650\"\n",
       "            src=\"http://127.0.0.1:8050/\"\n",
       "            frameborder=\"0\"\n",
       "            allowfullscreen\n",
       "            \n",
       "        ></iframe>\n",
       "        "
      ],
      "text/plain": [
       "<IPython.lib.display.IFrame at 0x2c32ee81ad0>"
      ]
     },
     "metadata": {},
     "output_type": "display_data"
    }
   ],
   "source": [
    "import pandas as pd\n",
    "import plotly.express as px\n",
    "import dash\n",
    "from dash import dcc, html\n",
    "from dash.dependencies import Input, Output\n",
    "\n",
    "# Load the dataset\n",
    "file_path = r\"C:\\Users\\sreev\\Data Visualization\\Olympics 2024\\olympics_dataset_1896-2024.csv\"\n",
    "df = pd.read_csv(file_path)\n",
    "\n",
    "# Map cities to host countries\n",
    "host_country_map = {\n",
    "    \"Barcelona\": \"Spain\", \"London\": \"United Kingdom\", \"Antwerpen\": \"Belgium\",\n",
    "    \"Paris\": \"France\", \"Los Angeles\": \"United States\", \"Helsinki\": \"Finland\",\n",
    "    \"Sydney\": \"Australia\", \"Atlanta\": \"United States\", \"Stockholm\": \"Sweden\",\n",
    "    \"Beijing\": \"China\", \"Rio de Janeiro\": \"Brazil\", \"Athina\": \"Greece\",\n",
    "    \"Mexico City\": \"Mexico\", \"Munich\": \"Germany\", \"Seoul\": \"South Korea\",\n",
    "    \"Berlin\": \"Germany\", \"Melbourne\": \"Australia\", \"Roma\": \"Italy\",\n",
    "    \"Amsterdam\": \"Netherlands\", \"Montreal\": \"Canada\", \"Moskva\": \"Russia\",\n",
    "    \"Tokyo\": \"Japan\", \"St. Louis\": \"United States\"\n",
    "}\n",
    "\n",
    "# Add host country column\n",
    "df['Host_Country'] = df['City'].map(host_country_map)\n",
    "\n",
    "# Filter out rows without medals\n",
    "df_medals = df[df['Medal'].notna()]\n",
    "\n",
    "# Aggregate medal counts by year and team\n",
    "year_country_medals = df_medals.groupby(['Year', 'Team']).agg(\n",
    "    Total_Medals=('Medal', 'count'),\n",
    "    Gold_Medals=('Medal', lambda x: (x == 'Gold').sum()),\n",
    "    Silver_Medals=('Medal', lambda x: (x == 'Silver').sum()),\n",
    "    Bronze_Medals=('Medal', lambda x: (x == 'Bronze').sum())\n",
    ").reset_index()\n",
    "\n",
    "# Extract the host country performance for each year\n",
    "host_performance = df_medals.groupby(['Year', 'Host_Country']).agg(\n",
    "    Host_Total_Medals=('Medal', 'count')\n",
    ").reset_index().rename(columns={'Host_Country': 'Country'})\n",
    "\n",
    "# Identify the best-performing country for each year\n",
    "best_performance = year_country_medals.loc[\n",
    "    year_country_medals.groupby('Year')['Total_Medals'].idxmax()\n",
    "][['Year', 'Team', 'Total_Medals']].rename(columns={'Team': 'Best_Country', 'Total_Medals': 'Best_Country_Medals'})\n",
    "\n",
    "# Merge the host and best-performing country data\n",
    "comparison_df = pd.merge(host_performance, best_performance, on='Year', how='inner')\n",
    "\n",
    "# Initialize Dash app\n",
    "app = dash.Dash(__name__)\n",
    "\n",
    "app.layout = html.Div([\n",
    "    html.H1(\"Host Country vs Best-Performing Country in Specific Olympic Years\", style={'textAlign': 'center'}),\n",
    "    \n",
    "    dcc.Graph(id='host-vs-best-chart'),\n",
    "    \n",
    "    dcc.Dropdown(\n",
    "        id='year-dropdown',\n",
    "        options=[{\"label\": year, \"value\": year} for year in comparison_df['Year'].unique()],\n",
    "        placeholder=\"Select an Olympic Year\",\n",
    "        style={'width': '50%', 'margin': 'auto'}\n",
    "    )\n",
    "])\n",
    "\n",
    "@app.callback(\n",
    "    Output('host-vs-best-chart', 'figure'),\n",
    "    [Input('year-dropdown', 'value')]\n",
    ")\n",
    "def update_chart(selected_year):\n",
    "    if selected_year:\n",
    "        filtered_data = comparison_df[comparison_df['Year'] == selected_year]\n",
    "        melted_data = filtered_data.melt(\n",
    "            id_vars=['Year', 'Country', 'Best_Country'],\n",
    "            value_vars=['Host_Total_Medals', 'Best_Country_Medals'],\n",
    "            var_name='Role', value_name='Total_Medals'\n",
    "        )\n",
    "        fig = px.bar(\n",
    "            melted_data,\n",
    "            x='Role',\n",
    "            y='Total_Medals',\n",
    "            color='Role',\n",
    "            text='Total_Medals',\n",
    "            title=f\"Host ({filtered_data.iloc[0]['Country']}) vs Best-Performing Country ({filtered_data.iloc[0]['Best_Country']}) in {selected_year}\",\n",
    "            labels={'Role': 'Country Role', 'Total_Medals': 'Number of Medals'}\n",
    "        )\n",
    "        fig.update_layout(\n",
    "            xaxis_title=\"Country Role\",\n",
    "            yaxis_title=\"Number of Medals\",\n",
    "            legend_title=\"Role\",\n",
    "            showlegend=False\n",
    "        )\n",
    "        return fig\n",
    "    return px.bar(title=\"Select a year to see comparison.\")\n",
    "\n",
    "if __name__ == '__main__':\n",
    "    app.run_server(debug=True)\n"
   ]
  },
  {
   "cell_type": "code",
   "execution_count": null,
   "metadata": {},
   "outputs": [],
   "source": []
  }
 ],
 "metadata": {
  "kernelspec": {
   "display_name": "Python 3 (ipykernel)",
   "language": "python",
   "name": "python3"
  },
  "language_info": {
   "codemirror_mode": {
    "name": "ipython",
    "version": 3
   },
   "file_extension": ".py",
   "mimetype": "text/x-python",
   "name": "python",
   "nbconvert_exporter": "python",
   "pygments_lexer": "ipython3",
   "version": "3.11.5"
  }
 },
 "nbformat": 4,
 "nbformat_minor": 2
}
